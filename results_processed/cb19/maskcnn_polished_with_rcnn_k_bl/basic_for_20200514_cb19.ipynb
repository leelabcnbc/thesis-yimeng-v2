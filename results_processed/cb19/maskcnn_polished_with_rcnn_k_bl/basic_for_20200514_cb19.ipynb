{
 "cells": [
  {
   "cell_type": "markdown",
   "metadata": {},
   "source": [
    "overall, using K's architecture instead of local PCN, we can achieve same type qualitative conclusions: more cycles -> better performance."
   ]
  },
  {
   "cell_type": "code",
   "execution_count": 1,
   "metadata": {},
   "outputs": [],
   "source": [
    "from sys import path\n",
    "from os.path import relpath, realpath, abspath, join, exists\n",
    "from itertools import product, chain\n",
    "\n",
    "%matplotlib inline\n",
    "import matplotlib.pyplot as plt\n",
    "import numpy as np\n",
    "import pandas as pd\n",
    "import h5py\n",
    "\n",
    "pd.set_option('display.max_rows', 999)"
   ]
  },
  {
   "cell_type": "code",
   "execution_count": 2,
   "metadata": {},
   "outputs": [],
   "source": [
    "from torchnetjson.builder import build_net"
   ]
  },
  {
   "cell_type": "code",
   "execution_count": 3,
   "metadata": {},
   "outputs": [],
   "source": [
    "from thesis_v2 import dir_dict\n",
    "from thesis_v2.data import load_data_helper\n",
    "from thesis_v2.training.training_aux import load_training_results\n",
    "# I forgot how this count_params handles BN buffer parameters (running mean and std) looks like it's ignored.\n",
    "from thesis_v2.training_extra.misc import count_params\n",
    "from thesis_v2.models.maskcnn_polished_with_rcnn_k_bl.builder import load_modules\n",
    "\n",
    "load_modules()"
   ]
  },
  {
   "cell_type": "code",
   "execution_count": 4,
   "metadata": {},
   "outputs": [],
   "source": [
    "from thesis_v2.configs.model.maskcnn_polished_with_rcnn_k_bl import (\n",
    "    explored_models_20200514_cb19 as param_iterator_obj,\n",
    "    keygen\n",
    ")"
   ]
  },
  {
   "cell_type": "code",
   "execution_count": 5,
   "metadata": {},
   "outputs": [],
   "source": [
    "# compute ccmax\n",
    "from strflab.stats import cc_max\n",
    "from thesis_v2.data.prepared.cadena_plos_cb19 import get_neural_data_per_trial\n",
    "\n",
    "cc_max_all_neurons = cc_max(get_neural_data_per_trial(fill_value='zero'))\n",
    "assert cc_max_all_neurons.shape == (115,)"
   ]
  },
  {
   "cell_type": "code",
   "execution_count": 6,
   "metadata": {},
   "outputs": [],
   "source": [
    "def load_everything():\n",
    "    _df_collect = []\n",
    "    for idx, param in enumerate(\n",
    "        chain(\n",
    "            param_iterator_obj().generate(),\n",
    "        )\n",
    "    ):\n",
    "        if idx % 100 == 0:\n",
    "            print(idx)\n",
    "            \n",
    "#         if idx >= 100:\n",
    "#             break\n",
    "            \n",
    "#         print(len(param))\n",
    "#         print(len(param))\n",
    "\n",
    "        if param['kernel_size_l23'] != 3:\n",
    "            continue\n",
    "\n",
    "#         if len(param) == 22:\n",
    "#             param['train_keep'] = None\n",
    "        assert len(param) == 25\n",
    "        \n",
    "        assert param['kernel_size_l1'] == 9\n",
    "        assert param['ff_1st_block']\n",
    "        \n",
    "        \n",
    "        \n",
    "        assert param['split_seed'] == 0\n",
    "        assert param['pooling_ksize'] == 3\n",
    "        assert param['pooling_type'] == 'avg'\n",
    "        assert not param['bn_after_fc']\n",
    "        assert param['rcnn_bl_psize'] == 1\n",
    "        assert param['rcnn_bl_ptype'] is None\n",
    "        assert param['input_size'] == 50\n",
    "        assert param['px_kept'] == 100\n",
    "        \n",
    "        # 12 to go\n",
    "        # remove smoothness_name and scale_name, 10 to go\n",
    "        \n",
    "#         assert param['model_seed'] == 0\n",
    "        \n",
    "        key = keygen(**{k: v for k, v in param.items() if k not in {'scale', 'smoothness'}})\n",
    "        # 10 to go.\n",
    "        result = load_training_results(key, return_model=False)\n",
    "        # load twice, first time to get the model.\n",
    "        result = load_training_results(key, return_model=True, model=build_net(result['config_extra']['model']))\n",
    "        num_epochs = [len(x) for x in result['stats_all']]\n",
    "        \n",
    "        cc_raw = np.asarray(result['stats_best']['stats']['test']['corr'])\n",
    "        assert cc_raw.shape == (115,)\n",
    "        \n",
    "#         if param['train_keep'] is None:\n",
    "#             param['train_keep'] = 5120\n",
    "        \n",
    "        _df_collect.append(\n",
    "            {\n",
    "                'train_keep': param['train_keep'],\n",
    "                'act_fn': param['act_fn'],\n",
    "                'loss_type': param['loss_type'],\n",
    "                'scale': float(param['scale']),\n",
    "                'smoothness': float(param['smoothness']),\n",
    "                'num_layer': param['num_layer'],\n",
    "                'out_channel': param['out_channel'],\n",
    "                # 4 to go.\n",
    "                '1st_bn_before_act': param['ff_1st_bn_before_act'],\n",
    "                'rcnn_bl_cls': param['rcnn_bl_cls'],\n",
    "                'rcnn_acc_type': param['rcnn_acc_type'],\n",
    "\n",
    "                'model_seed': param['model_seed'],\n",
    "                # done,\n",
    "                'corr_test': ((cc_raw/cc_max_all_neurons)**2).mean(),\n",
    "                'max_epoch': max(num_epochs),\n",
    "                'num_param': count_params(result['model']),\n",
    "            }\n",
    "        )\n",
    "    _df =  pd.DataFrame(_df_collect, columns=[\n",
    "#             'split_seed',\n",
    "        'train_keep',\n",
    "        'act_fn',\n",
    "        'loss_type', 'scale', 'smoothness', 'num_layer',\n",
    "        'out_channel', '1st_bn_before_act',\n",
    "\n",
    "        'rcnn_bl_cls',\n",
    "#         'rcnn_acc_type',\n",
    "        'model_seed',\n",
    "\n",
    "        'corr_test',\n",
    "        'num_param',\n",
    "        'max_epoch',\n",
    "    ])\n",
    "#     print(_df)\n",
    "    _df = _df.set_index([\n",
    "        'train_keep',\n",
    "        'act_fn',\n",
    "        'loss_type', 'scale', 'smoothness', 'num_layer',\n",
    "        'out_channel', '1st_bn_before_act',\n",
    "        'rcnn_bl_cls',\n",
    "#         'rcnn_acc_type',\n",
    "        'model_seed',\n",
    "    ], verify_integrity=True)\n",
    "    return _df"
   ]
  },
  {
   "cell_type": "code",
   "execution_count": 7,
   "metadata": {
    "scrolled": false
   },
   "outputs": [
    {
     "name": "stdout",
     "output_type": "stream",
     "text": [
      "0\n",
      "100\n",
      "200\n",
      "300\n",
      "400\n",
      "500\n",
      "600\n",
      "700\n"
     ]
    }
   ],
   "source": [
    "df = load_everything()"
   ]
  },
  {
   "cell_type": "code",
   "execution_count": 8,
   "metadata": {},
   "outputs": [],
   "source": [
    "corr_mean = df['corr_test'].unstack('model_seed').mean(axis=1)\n",
    "\n",
    "# mean, max, min, all the same. for num_param\n",
    "num_param = df['num_param'].unstack('model_seed').mean(axis=1)"
   ]
  },
  {
   "cell_type": "code",
   "execution_count": 9,
   "metadata": {},
   "outputs": [],
   "source": [
    "# let's try to quickly eliminate bad configs, just like before, by plotting scatter plots.\n",
    "def scatter(x, y, xlabel, ylabel, title):\n",
    "    plt.close('all')\n",
    "    plt.figure(figsize=(6, 5))\n",
    "    plt.scatter(x, y, s=1)\n",
    "    plt.xlabel(xlabel)\n",
    "    plt.ylabel(ylabel)\n",
    "    plt.axis('equal')\n",
    "    plt.xlim(0,1)\n",
    "    plt.ylim(0,1)\n",
    "    plt.plot([0,1],[0,1],linestyle='--')\n",
    "    plt.title(title)\n",
    "    plt.show()\n",
    "    print('y-x mean', (y-x).mean(), 'y-x>0 mean', ((y-x)>0).mean())\n",
    "    print('y top', y.max(), 'x top', x.max())"
   ]
  },
  {
   "cell_type": "code",
   "execution_count": 10,
   "metadata": {},
   "outputs": [],
   "source": [
    "# here, I need to check the effective ness of act_fn, bn_before_act, bn_after_fc, loss_type\n",
    "def check_compare_one_case(series_in, label_to_unstack, values_to_check=None):\n",
    "    df_unstacked = series_in.unstack(label_to_unstack)\n",
    "#     assert df_unstacked.shape[1] == 2\n",
    "    if values_to_check is None:\n",
    "        values_to_check = df_unstacked.columns.values[:2].tolist()\n",
    "    else:\n",
    "        pass\n",
    "    \n",
    "    assert len(values_to_check) == 2\n",
    "    label_x = values_to_check[0]\n",
    "    label_y = values_to_check[1]\n",
    "        \n",
    "    data_x = df_unstacked.loc[:,label_x].values\n",
    "    data_y = df_unstacked.loc[:,label_y].values\n",
    "    \n",
    "    \n",
    "    \n",
    "    scatter(data_x, data_y, str(label_x), str(label_y), f'{label_to_unstack}: {label_y} vs {label_x}')"
   ]
  },
  {
   "cell_type": "code",
   "execution_count": 11,
   "metadata": {},
   "outputs": [
    {
     "name": "stdout",
     "output_type": "stream",
     "text": [
      "(32, 4)\n",
      "[1, 2, 3, 4]\n",
      "n 32\n",
      "2 - 1 mean 0.008485953689653079 sem 0.001496661078697102\n",
      "3 - 2 mean 0.0014908415872980658 sem 0.0013027520520296862\n",
      "4 - 3 mean -0.00042967639163265896 sem 0.0013000685830711438\n",
      "4 - 2 mean 0.0010611651956654068 sem 0.0013867894412876373\n"
     ]
    },
    {
     "data": {
      "image/png": "[encoded data removed]",
      "text/plain": [
       "<Figure size 576x216 with 1 Axes>"
      ]
     },
     "metadata": {
      "needs_background": "light"
     },
     "output_type": "display_data"
    },
    {
     "name": "stdout",
     "output_type": "stream",
     "text": [
      "[0.5348025771583651, 0.5432885308480181, 0.5447793724353163, 0.5443496960436836] [ 1.5867451   0.27441065 -0.07887163]\n"
     ]
    },
    {
     "data": {
      "text/html": [
       "<div>\n",
       "<style scoped>\n",
       "    .dataframe tbody tr th:only-of-type {\n",
       "        vertical-align: middle;\n",
       "    }\n",
       "\n",
       "    .dataframe tbody tr th {\n",
       "        vertical-align: top;\n",
       "    }\n",
       "\n",
       "    .dataframe thead th {\n",
       "        text-align: right;\n",
       "    }\n",
       "</style>\n",
       "<table border=\"1\" class=\"dataframe\">\n",
       "  <thead>\n",
       "    <tr style=\"text-align: right;\">\n",
       "      <th></th>\n",
       "      <th>num_of_cycles</th>\n",
       "      <th>performance</th>\n",
       "      <th>gain %</th>\n",
       "    </tr>\n",
       "  </thead>\n",
       "  <tbody>\n",
       "    <tr>\n",
       "      <th>0</th>\n",
       "      <td>1</td>\n",
       "      <td>0.534803</td>\n",
       "      <td>NaN</td>\n",
       "    </tr>\n",
       "    <tr>\n",
       "      <th>1</th>\n",
       "      <td>2</td>\n",
       "      <td>0.543289</td>\n",
       "      <td>1.586745</td>\n",
       "    </tr>\n",
       "    <tr>\n",
       "      <th>2</th>\n",
       "      <td>3</td>\n",
       "      <td>0.544779</td>\n",
       "      <td>0.274411</td>\n",
       "    </tr>\n",
       "    <tr>\n",
       "      <th>3</th>\n",
       "      <td>4</td>\n",
       "      <td>0.544350</td>\n",
       "      <td>-0.078872</td>\n",
       "    </tr>\n",
       "  </tbody>\n",
       "</table>\n",
       "</div>"
      ],
      "text/plain": [
       "   num_of_cycles  performance    gain %\n",
       "0              1     0.534803       NaN\n",
       "1              2     0.543289  1.586745\n",
       "2              3     0.544779  0.274411\n",
       "3              4     0.544350 -0.078872"
      ]
     },
     "execution_count": 11,
     "metadata": {},
     "output_type": "execute_result"
    }
   ],
   "source": [
    "def plot_step_increase(df_this, pairs_to_check, ylim):\n",
    "    # remove those no innner act ones.\n",
    "    df_unstacked = df_this.unstack('rcnn_bl_cls')\n",
    "#     df_unstacked = corr_mean.unstack('pcn_cls')\n",
    "    print(df_unstacked.shape)\n",
    "    \n",
    "#     selector = df_unstacked.values[:,0] >= 0.50\n",
    "    selector = ()\n",
    "#     print(selector.mean())\n",
    "    \n",
    "    cls_values = df_unstacked.columns.values.tolist()\n",
    "    print(cls_values)\n",
    "    assert cls_values == list(range(1,len(cls_values)+1))\n",
    "    \n",
    "    n = df_unstacked.shape[0]\n",
    "    \n",
    "#     n = selector.sum()\n",
    "    print('n', n)\n",
    "    \n",
    "    \n",
    "    for p1, p2 in pairs_to_check:\n",
    "        val0 = df_unstacked.values[:,p1-1][selector]\n",
    "        val1 = df_unstacked.values[:,p2-1][selector]\n",
    "\n",
    "        # selection\n",
    "        print(\n",
    "            f'{p2} - {p1}',\n",
    "            'mean', (val1-val0).mean(),\n",
    "            'sem', (val1-val0).std()/np.sqrt(n)\n",
    "        )\n",
    "        \n",
    "    # time to plot.\n",
    "    # show results for cls_values[0] through cls_values[-1]\n",
    "    # for the first one, just show mean,\n",
    "    # for others show mean and s.e.m. of increase.\n",
    "    \n",
    "    mean_performance = []\n",
    "    sem_increase = []\n",
    "    labels = []\n",
    "    \n",
    "    for idx, cls_name in enumerate(cls_values):\n",
    "        assert idx == cls_name - 1\n",
    "        mean_performance.append(df_unstacked.values[:,idx][selector].mean())\n",
    "        if idx == 0:\n",
    "            sem_increase.append(0.0)\n",
    "        else:\n",
    "            sem_increase.append((df_unstacked.values[:,idx][selector]-df_unstacked.values[:,idx-1][selector]).std()/np.sqrt(n))\n",
    "        labels.append(str(cls_name))\n",
    "        \n",
    "    \n",
    "    plt.close('all')\n",
    "    fig = plt.figure(figsize=(8,3))\n",
    "    plt.bar(np.arange(len(cls_values)), mean_performance, 0.5, yerr=sem_increase)\n",
    "#     plt.ylabel('neural prediction performance')\n",
    "    plt.ylim(*ylim)\n",
    "    plt.xlabel('number of iterations in the BL block')\n",
    "    plt.xticks(np.arange(len(cls_values)), labels)\n",
    "    \n",
    "    \n",
    "    plt.text(0.1, 0.8, f'{n} variants', verticalalignment='center', horizontalalignment='left', transform=plt.gca().transAxes)\n",
    "    fig.subplots_adjust(bottom=0.2)\n",
    "\n",
    "    plt.show()\n",
    "    \n",
    "    print(mean_performance, np.diff(mean_performance)/mean_performance[:-1]*100)\n",
    "    \n",
    "    return pd.DataFrame(\n",
    "        data = {\n",
    "            'num_of_cycles': cls_values,\n",
    "            'performance': mean_performance,\n",
    "            'gain %': np.concatenate([np.asarray([np.nan]),  np.diff(mean_performance)/mean_performance[:-1]*100])\n",
    "        },\n",
    "        columns = ['num_of_cycles', 'performance', 'gain %']\n",
    "    )\n",
    "    \n",
    "    \n",
    "    \n",
    "# trend for 0-1-2 is good. then bad.\n",
    "plot_step_increase(corr_mean.xs(4640, level='train_keep'), [(1,2),(2,3),(3,4),(2,4)], (0.54, 0.56))"
   ]
  },
  {
   "cell_type": "code",
   "execution_count": 12,
   "metadata": {},
   "outputs": [
    {
     "name": "stdout",
     "output_type": "stream",
     "text": [
      "(32, 4)\n",
      "[1, 2, 3, 4]\n",
      "n 32\n",
      "2 - 1 mean 0.014133142780968753 sem 0.005347561726736157\n",
      "3 - 2 mean 0.012608077049399573 sem 0.004706040429730896\n",
      "4 - 3 mean -0.003237634669563165 sem 0.003828571741512003\n",
      "4 - 2 mean 0.009370442379836409 sem 0.00513806827830541\n"
     ]
    },
    {
     "data": {
      "image/png": "[encoded data removed]",
      "text/plain": [
       "<Figure size 576x216 with 1 Axes>"
      ]
     },
     "metadata": {
      "needs_background": "light"
     },
     "output_type": "display_data"
    },
    {
     "name": "stdout",
     "output_type": "stream",
     "text": [
      "[0.421686420966369, 0.43581956374733777, 0.44842764079673725, 0.44519000612717413] [ 3.35157645  2.89295803 -0.72199712]\n"
     ]
    },
    {
     "data": {
      "text/html": [
       "<div>\n",
       "<style scoped>\n",
       "    .dataframe tbody tr th:only-of-type {\n",
       "        vertical-align: middle;\n",
       "    }\n",
       "\n",
       "    .dataframe tbody tr th {\n",
       "        vertical-align: top;\n",
       "    }\n",
       "\n",
       "    .dataframe thead th {\n",
       "        text-align: right;\n",
       "    }\n",
       "</style>\n",
       "<table border=\"1\" class=\"dataframe\">\n",
       "  <thead>\n",
       "    <tr style=\"text-align: right;\">\n",
       "      <th></th>\n",
       "      <th>num_of_cycles</th>\n",
       "      <th>performance</th>\n",
       "      <th>gain %</th>\n",
       "    </tr>\n",
       "  </thead>\n",
       "  <tbody>\n",
       "    <tr>\n",
       "      <th>0</th>\n",
       "      <td>1</td>\n",
       "      <td>0.421686</td>\n",
       "      <td>NaN</td>\n",
       "    </tr>\n",
       "    <tr>\n",
       "      <th>1</th>\n",
       "      <td>2</td>\n",
       "      <td>0.435820</td>\n",
       "      <td>3.351576</td>\n",
       "    </tr>\n",
       "    <tr>\n",
       "      <th>2</th>\n",
       "      <td>3</td>\n",
       "      <td>0.448428</td>\n",
       "      <td>2.892958</td>\n",
       "    </tr>\n",
       "    <tr>\n",
       "      <th>3</th>\n",
       "      <td>4</td>\n",
       "      <td>0.445190</td>\n",
       "      <td>-0.721997</td>\n",
       "    </tr>\n",
       "  </tbody>\n",
       "</table>\n",
       "</div>"
      ],
      "text/plain": [
       "   num_of_cycles  performance    gain %\n",
       "0              1     0.421686       NaN\n",
       "1              2     0.435820  3.351576\n",
       "2              3     0.448428  2.892958\n",
       "3              4     0.445190 -0.721997"
      ]
     },
     "execution_count": 12,
     "metadata": {},
     "output_type": "execute_result"
    }
   ],
   "source": [
    "plot_step_increase(corr_mean.xs(2320, level='train_keep'), [(1,2),(2,3),(3,4),(2,4)], (0.47, 0.495))"
   ]
  },
  {
   "cell_type": "code",
   "execution_count": 13,
   "metadata": {
    "scrolled": false
   },
   "outputs": [
    {
     "name": "stdout",
     "output_type": "stream",
     "text": [
      "(32, 4)\n",
      "[1, 2, 3, 4]\n",
      "n 32\n",
      "2 - 1 mean 0.01978411853791389 sem 0.00563185524343737\n",
      "3 - 2 mean 0.003668844172653508 sem 0.003062406203627432\n",
      "4 - 3 mean 0.004137204345040297 sem 0.002609451011486797\n",
      "4 - 2 mean 0.007806048517693805 sem 0.004363479739414428\n"
     ]
    },
    {
     "data": {
      "image/png": "[encoded data removed]",
      "text/plain": [
       "<Figure size 576x216 with 1 Axes>"
      ]
     },
     "metadata": {
      "needs_background": "light"
     },
     "output_type": "display_data"
    },
    {
     "name": "stdout",
     "output_type": "stream",
     "text": [
      "[0.2463877992514045, 0.2661719177893184, 0.26984076196197193, 0.2739779663070122] [8.02966648 1.37837387 1.53320214]\n"
     ]
    },
    {
     "data": {
      "text/html": [
       "<div>\n",
       "<style scoped>\n",
       "    .dataframe tbody tr th:only-of-type {\n",
       "        vertical-align: middle;\n",
       "    }\n",
       "\n",
       "    .dataframe tbody tr th {\n",
       "        vertical-align: top;\n",
       "    }\n",
       "\n",
       "    .dataframe thead th {\n",
       "        text-align: right;\n",
       "    }\n",
       "</style>\n",
       "<table border=\"1\" class=\"dataframe\">\n",
       "  <thead>\n",
       "    <tr style=\"text-align: right;\">\n",
       "      <th></th>\n",
       "      <th>num_of_cycles</th>\n",
       "      <th>performance</th>\n",
       "      <th>gain %</th>\n",
       "    </tr>\n",
       "  </thead>\n",
       "  <tbody>\n",
       "    <tr>\n",
       "      <th>0</th>\n",
       "      <td>1</td>\n",
       "      <td>0.246388</td>\n",
       "      <td>NaN</td>\n",
       "    </tr>\n",
       "    <tr>\n",
       "      <th>1</th>\n",
       "      <td>2</td>\n",
       "      <td>0.266172</td>\n",
       "      <td>8.029666</td>\n",
       "    </tr>\n",
       "    <tr>\n",
       "      <th>2</th>\n",
       "      <td>3</td>\n",
       "      <td>0.269841</td>\n",
       "      <td>1.378374</td>\n",
       "    </tr>\n",
       "    <tr>\n",
       "      <th>3</th>\n",
       "      <td>4</td>\n",
       "      <td>0.273978</td>\n",
       "      <td>1.533202</td>\n",
       "    </tr>\n",
       "  </tbody>\n",
       "</table>\n",
       "</div>"
      ],
      "text/plain": [
       "   num_of_cycles  performance    gain %\n",
       "0              1     0.246388       NaN\n",
       "1              2     0.266172  8.029666\n",
       "2              3     0.269841  1.378374\n",
       "3              4     0.273978  1.533202"
      ]
     },
     "execution_count": 13,
     "metadata": {},
     "output_type": "execute_result"
    }
   ],
   "source": [
    "plot_step_increase(corr_mean.xs(2320//2, level='train_keep'), [(1,2),(2,3),(3,4),(2,4)], (0.3, 0.35))"
   ]
  },
  {
   "cell_type": "code",
   "execution_count": 14,
   "metadata": {},
   "outputs": [],
   "source": [
    "# check relationship between num_param and performance, colored for different num_of_cycles."
   ]
  },
  {
   "cell_type": "code",
   "execution_count": 15,
   "metadata": {
    "scrolled": false
   },
   "outputs": [
    {
     "name": "stdout",
     "output_type": "stream",
     "text": [
      "training size 1160\n"
     ]
    },
    {
     "data": {
      "image/png": "[encoded data removed]",
      "text/plain": [
       "<Figure size 1152x720 with 1 Axes>"
      ]
     },
     "metadata": {
      "needs_background": "light"
     },
     "output_type": "display_data"
    },
    {
     "name": "stdout",
     "output_type": "stream",
     "text": [
      "training size 2320\n"
     ]
    },
    {
     "data": {
      "image/png": "[encoded data removed]",
      "text/plain": [
       "<Figure size 1152x720 with 1 Axes>"
      ]
     },
     "metadata": {
      "needs_background": "light"
     },
     "output_type": "display_data"
    },
    {
     "name": "stdout",
     "output_type": "stream",
     "text": [
      "training size 4640\n"
     ]
    },
    {
     "data": {
      "image/png": "[encoded data removed]",
      "text/plain": [
       "<Figure size 1152x720 with 1 Axes>"
      ]
     },
     "metadata": {
      "needs_background": "light"
     },
     "output_type": "display_data"
    }
   ],
   "source": [
    "def check_relationship_between_num_param_and_perf_given_different_cycle():\n",
    "    assert corr_mean.shape == num_param.shape\n",
    "    assert corr_mean.index.equals(num_param.index)\n",
    "    corr_mean_local = corr_mean.rename('corr_mean')\n",
    "    num_param_local = num_param.rename('num_param')\n",
    "    \n",
    "    # combine them.\n",
    "    df_to_check = pd.concat([corr_mean_local, num_param_local], axis=1)\n",
    "    \n",
    "    training_sizes = df_to_check.index.get_level_values('train_keep').unique()\n",
    "    \n",
    "    \n",
    "    for training_size_this in training_sizes:\n",
    "        print('training size', training_size_this)\n",
    "        check_relationship_between_num_param_and_perf_given_different_cycle_inner(\n",
    "            df_to_check.xs(training_size_this, level='train_keep'),\n",
    "            title=f'training size {training_size_this}'\n",
    "        )\n",
    "\n",
    "def rand_jitter(arr, seed=0):\n",
    "    rng_state = np.random.RandomState(seed=seed)\n",
    "    stdev = .005*(max(arr)-min(arr))\n",
    "    return arr + rng_state.randn(*arr.shape) * stdev\n",
    "        \n",
    "def check_relationship_between_num_param_and_perf_given_different_cycle_inner(df_to_check, title):\n",
    "    cycle_list = df_to_check.index.get_level_values('rcnn_bl_cls').unique()\n",
    "    \n",
    "    plt.close('all')\n",
    "    plt.figure(figsize=(16, 10))\n",
    "    \n",
    "    for c in cycle_list:\n",
    "        data_this = df_to_check.xs(c, level='rcnn_bl_cls')\n",
    "        plt.scatter(\n",
    "            rand_jitter(data_this['num_param'].values),\n",
    "            data_this['corr_mean'].values,\n",
    "            s=5,\n",
    "            label=f'cls={c}',\n",
    "        )\n",
    "    \n",
    "    plt.legend(loc='best')\n",
    "#     plt.xlim(0,1)\n",
    "#     plt.ylim(0,1)\n",
    "#     plt.plot([0,1],[0,1],linestyle='--')\n",
    "    plt.title(title)\n",
    "    plt.xlabel('num_param')\n",
    "    plt.ylabel('performance')\n",
    "    \n",
    "    \n",
    "    plt.show()\n",
    "\n",
    "check_relationship_between_num_param_and_perf_given_different_cycle()\n",
    "# with similar number of parameters, I think definitely more cycles can lead to better results."
   ]
  },
  {
   "cell_type": "code",
   "execution_count": null,
   "metadata": {},
   "outputs": [],
   "source": []
  },
  {
   "cell_type": "code",
   "execution_count": null,
   "metadata": {},
   "outputs": [],
   "source": []
  }
 ],
 "metadata": {
  "kernelspec": {
   "display_name": "Python 3",
   "language": "python",
   "name": "python3"
  },
  "language_info": {
   "codemirror_mode": {
    "name": "ipython",
    "version": 3
   },
   "file_extension": ".py",
   "mimetype": "text/x-python",
   "name": "python",
   "nbconvert_exporter": "python",
   "pygments_lexer": "ipython3",
   "version": "3.7.6"
  }
 },
 "nbformat": 4,
 "nbformat_minor": 2
}

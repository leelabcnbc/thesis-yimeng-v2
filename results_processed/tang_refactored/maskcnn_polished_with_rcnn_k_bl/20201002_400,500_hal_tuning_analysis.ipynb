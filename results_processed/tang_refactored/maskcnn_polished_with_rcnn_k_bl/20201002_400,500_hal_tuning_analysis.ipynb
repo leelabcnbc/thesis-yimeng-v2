{
 "cells": [
  {
   "cell_type": "code",
   "execution_count": 1,
   "metadata": {},
   "outputs": [],
   "source": [
    "from os.path import join, dirname, exists\n",
    "from os import makedirs\n",
    "from itertools import chain, islice\n",
    "\n",
    "from thesis_v2 import dir_dict\n",
    "from thesis_v2.configs.model.maskcnn_polished_with_rcnn_k_bl import (\n",
    "    explored_models_20201002_tang_generator,\n",
    ")\n",
    "from thesis_v2.analysis.io import collect_rcnn_k_bl_hal_analysis"
   ]
  },
  {
   "cell_type": "code",
   "execution_count": 2,
   "metadata": {},
   "outputs": [],
   "source": [
    "import pandas as pd"
   ]
  },
  {
   "cell_type": "code",
   "execution_count": 3,
   "metadata": {
    "scrolled": true
   },
   "outputs": [
    {
     "name": "stderr",
     "output_type": "stream",
     "text": [
      "[Parallel(n_jobs=-1)]: Using backend LokyBackend with 24 concurrent workers.\n",
      "[Parallel(n_jobs=-1)]: Done  24 tasks      | elapsed:   14.2s\n",
      "/opt/conda/envs/leelab/lib/python3.7/site-packages/joblib/externals/loky/process_executor.py:706: UserWarning: A worker stopped while some jobs were given to the executor. This can be caused by a too short worker timeout or by a memory leak.\n",
      "  \"timeout or by a memory leak.\", UserWarning\n",
      "[Parallel(n_jobs=-1)]: Done 114 tasks      | elapsed:  1.3min\n",
      "[Parallel(n_jobs=-1)]: Done 240 tasks      | elapsed:  3.0min\n",
      "[Parallel(n_jobs=-1)]: Done 402 tasks      | elapsed:  5.2min\n",
      "[Parallel(n_jobs=-1)]: Done 600 tasks      | elapsed:  7.7min\n",
      "[Parallel(n_jobs=-1)]: Done 834 tasks      | elapsed: 10.7min\n",
      "[Parallel(n_jobs=-1)]: Done 1104 tasks      | elapsed: 14.4min\n",
      "[Parallel(n_jobs=-1)]: Done 1410 tasks      | elapsed: 18.4min\n",
      "[Parallel(n_jobs=-1)]: Done 1752 tasks      | elapsed: 23.0min\n",
      "[Parallel(n_jobs=-1)]: Done 2130 tasks      | elapsed: 27.8min\n",
      "[Parallel(n_jobs=-1)]: Done 2544 tasks      | elapsed: 32.9min\n",
      "[Parallel(n_jobs=-1)]: Done 2994 tasks      | elapsed: 38.9min\n",
      "[Parallel(n_jobs=-1)]: Done 3480 tasks      | elapsed: 44.9min\n",
      "[Parallel(n_jobs=-1)]: Done 4002 tasks      | elapsed: 51.7min\n",
      "[Parallel(n_jobs=-1)]: Done 4752 out of 4752 | elapsed: 52.6min finished\n"
     ]
    }
   ],
   "source": [
    "f_main_result = join(dir_dict['analyses'], 'tang_refactored', '20201002_400,500', 'hal_tuning_complete_ignore_seed_in_baseline.pkl')\n",
    "if not exists(f_main_result):\n",
    "    makedirs(dirname(f_main_result), exist_ok=True)\n",
    "    df_main_result = collect_rcnn_k_bl_hal_analysis(\n",
    "        fixed_keys = {\n",
    "        'kernel_size_l23': 3,\n",
    "        'kernel_size_l1': 9,\n",
    "        'ff_1st_block': True,\n",
    "        'pooling_ksize': 3,\n",
    "        'pooling_type': 'avg',\n",
    "        'bn_after_fc': False,\n",
    "        'rcnn_bl_psize': 1,\n",
    "        'rcnn_bl_ptype': None,\n",
    "        'input_size': 37,\n",
    "        'split_seed': 'legacy',\n",
    "        'dataset_prefix': 'tang',\n",
    "        'model_prefix': 'maskcnn_polished_with_rcnn_k_bl',\n",
    "        'scale_name': '0.01',\n",
    "        'scale': '0.01',\n",
    "        'smoothness_name': '0.000005',\n",
    "        'smoothness': '0.000005',\n",
    "        'additional_key': '400,500',\n",
    "    },\n",
    "        generator=chain(\n",
    "            explored_models_20201002_tang_generator(with_source=True, additional_keys=('400,500',)),\n",
    "        ),\n",
    "        total_num_param=27,\n",
    "        train_size_mapping=dict(),\n",
    "        ignore_seed_in_baseline=True,\n",
    "    )\n",
    "    df_main_result.to_pickle(f_main_result)\n",
    "    del df_main_result\n",
    "df_main_result = pd.read_pickle(f_main_result)"
   ]
  }
 ],
 "metadata": {
  "kernelspec": {
   "display_name": "Python 3",
   "language": "python",
   "name": "python3"
  },
  "language_info": {
   "codemirror_mode": {
    "name": "ipython",
    "version": 3
   },
   "file_extension": ".py",
   "mimetype": "text/x-python",
   "name": "python",
   "nbconvert_exporter": "python",
   "pygments_lexer": "ipython3",
   "version": "3.7.6"
  }
 },
 "nbformat": 4,
 "nbformat_minor": 4
}

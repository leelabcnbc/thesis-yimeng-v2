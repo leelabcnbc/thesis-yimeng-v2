{
 "cells": [
  {
   "cell_type": "code",
   "execution_count": 1,
   "metadata": {},
   "outputs": [],
   "source": [
    "from os.path import join, dirname, exists\n",
    "from os import makedirs\n",
    "from itertools import chain, islice\n",
    "\n",
    "from thesis_v2 import dir_dict\n",
    "from thesis_v2.configs.model.maskcnn_polished_with_rcnn_k_bl import (\n",
    "    explored_models_20201118_generator,\n",
    "    explored_models_20201114_generator,\n",
    ")\n",
    "from thesis_v2.analysis.io import collect_rcnn_k_bl_source_analysis"
   ]
  },
  {
   "cell_type": "code",
   "execution_count": 2,
   "metadata": {},
   "outputs": [],
   "source": [
    "import pandas as pd"
   ]
  },
  {
   "cell_type": "code",
   "execution_count": 3,
   "metadata": {
    "scrolled": false
   },
   "outputs": [
    {
     "name": "stdout",
     "output_type": "stream",
     "text": [
      "0\n",
      "100\n",
      "200\n",
      "300\n",
      "400\n",
      "500\n",
      "600\n",
      "700\n",
      "800\n",
      "900\n",
      "1000\n",
      "1100\n",
      "1200\n",
      "1300\n",
      "1400\n",
      "1500\n",
      "1600\n",
      "1700\n",
      "1800\n",
      "1900\n",
      "2000\n",
      "2100\n",
      "2200\n",
      "2300\n",
      "2400\n",
      "2500\n",
      "2600\n",
      "2700\n",
      "2800\n",
      "2900\n",
      "3000\n",
      "3100\n",
      "3200\n",
      "3300\n",
      "3400\n",
      "3500\n",
      "yuanyuan_8k_a_3day/maskcnn_polished_with_rcnn_k_bl.multipath/s_selegacy/in_sz50/out_ch32/num_l2/k_l19/k_p3/ptavg/bn_a_fcFalse/actrelu/r_c5/r_psize1/r_ptypeNone/r_acccummean/ff1st_True/ff1stbba_False/train_keep_1280/rp_none/mp_True/mpb_True/sc0.01/sm0.000005/lmse/m_se0\n",
      "{'conv_map': {'R1': 0.40901413559913635, 'B1': 0.43856143951416016, 'I': 1.0}, 'scale_map': {'s1,1': 3.6329593658447266, 's1,2': 3.4014315605163574, 's1,3': 3.051802158355713, 's1,4': 2.731759548187256, 's1,5': 2.54010009765625, 's1,1,1': 2.4510178565979004, 's1,2,1': 5.373272895812988, 's1,2,2': 2.457148551940918, 's1,3,1': 5.063743591308594, 's1,1,2': 2.4825439453125, 's1,2,3': 3.5999960899353027, 's1,3,2': 3.6840670108795166, 's1,3,3': 2.4523990154266357, 's1,4,1': 4.432818412780762, 's1,2,4': 2.4890642166137695, 's1,3,4': 3.661921501159668, 's1,4,2': 3.123103380203247, 's1,1,3': 2.4766249656677246, 's1,2,5': 3.645230770111084, 's1,3,5': 2.501739740371704, 's1,4,3': 2.8055570125579834, 's1,4,4': 2.4423580169677734, 's1,5,1': 3.9025721549987793, 's1,3,6': 2.476083278656006, 's1,4,5': 3.6469316482543945, 's1,5,2': 2.6075546741485596, 's1,2,6': 2.478048324584961, 's1,3,7': 3.6418776512145996, 's1,4,6': 2.5055084228515625, 's1,5,3': 2.318009853363037, 's1,1,4': 2.4699487686157227, 's1,2,7': 3.6701626777648926, 's1,3,8': 2.4215378761291504, 's1,4,7': 2.3101234436035156, 's1,5,4': 2.1717658042907715}}\n",
      "[{'conv': ('I', 'B1'), 'scale': (1.0, 's1,1', 1.0, 0.2)}, {'conv': ('I', 'B1'), 'scale': (1.0, 's1,1', 0.5, 0.2)}, {'conv': ('I', 'B1'), 'scale': (1.0, 's1,2', 0.5, 0.2)}, {'conv': ('I', 'B1', 'R1'), 'scale': (1.0, 's1,1,1', 's1,2,1', 0.5, 0.2)}, {'conv': ('I', 'B1'), 'scale': (1.0, 's1,1', 0.3333333333333333, 0.2)}, {'conv': ('I', 'B1'), 'scale': (1.0, 's1,2', 0.3333333333333333, 0.2)}, {'conv': ('I', 'B1', 'R1'), 'scale': (1.0, 's1,1,1', 's1,2,1', 0.3333333333333333, 0.2)}, {'conv': ('I', 'B1'), 'scale': (1.0, 's1,3', 0.3333333333333333, 0.2)}, {'conv': ('I', 'B1', 'R1'), 'scale': (1.0, 's1,2,2', 's1,3,1', 0.3333333333333333, 0.2)}, {'conv': ('I', 'B1', 'R1', 'R1'), 'scale': (1.0, 's1,1,2', 's1,2,3', 's1,3,2', 0.3333333333333333, 0.2)}, {'conv': ('I', 'B1'), 'scale': (1.0, 's1,1', 0.25, 0.2)}, {'conv': ('I', 'B1'), 'scale': (1.0, 's1,2', 0.25, 0.2)}, {'conv': ('I', 'B1', 'R1'), 'scale': (1.0, 's1,1,1', 's1,2,1', 0.25, 0.2)}, {'conv': ('I', 'B1'), 'scale': (1.0, 's1,3', 0.25, 0.2)}, {'conv': ('I', 'B1', 'R1'), 'scale': (1.0, 's1,2,2', 's1,3,1', 0.25, 0.2)}, {'conv': ('I', 'B1', 'R1', 'R1'), 'scale': (1.0, 's1,1,2', 's1,2,3', 's1,3,2', 0.25, 0.2)}, {'conv': ('I', 'B1'), 'scale': (1.0, 's1,4', 0.25, 0.2)}, {'conv': ('I', 'B1', 'R1'), 'scale': (1.0, 's1,3,3', 's1,4,1', 0.25, 0.2)}, {'conv': ('I', 'B1', 'R1', 'R1'), 'scale': (1.0, 's1,2,4', 's1,3,4', 's1,4,2', 0.25, 0.2)}, {'conv': ('I', 'B1', 'R1', 'R1', 'R1'), 'scale': (1.0, 's1,1,3', 's1,2,5', 's1,3,5', 's1,4,3', 0.25, 0.2)}, {'conv': ('I', 'B1'), 'scale': (1.0, 's1,1', 0.2, 0.2)}, {'conv': ('I', 'B1'), 'scale': (1.0, 's1,2', 0.2, 0.2)}, {'conv': ('I', 'B1', 'R1'), 'scale': (1.0, 's1,1,1', 's1,2,1', 0.2, 0.2)}, {'conv': ('I', 'B1'), 'scale': (1.0, 's1,3', 0.2, 0.2)}, {'conv': ('I', 'B1', 'R1'), 'scale': (1.0, 's1,2,2', 's1,3,1', 0.2, 0.2)}, {'conv': ('I', 'B1', 'R1', 'R1'), 'scale': (1.0, 's1,1,2', 's1,2,3', 's1,3,2', 0.2, 0.2)}, {'conv': ('I', 'B1'), 'scale': (1.0, 's1,4', 0.2, 0.2)}, {'conv': ('I', 'B1', 'R1'), 'scale': (1.0, 's1,3,3', 's1,4,1', 0.2, 0.2)}, {'conv': ('I', 'B1', 'R1', 'R1'), 'scale': (1.0, 's1,2,4', 's1,3,4', 's1,4,2', 0.2, 0.2)}, {'conv': ('I', 'B1', 'R1', 'R1', 'R1'), 'scale': (1.0, 's1,1,3', 's1,2,5', 's1,3,5', 's1,4,3', 0.2, 0.2)}, {'conv': ('I', 'B1'), 'scale': (1.0, 's1,5', 0.2, 0.2)}, {'conv': ('I', 'B1', 'R1'), 'scale': (1.0, 's1,4,4', 's1,5,1', 0.2, 0.2)}, {'conv': ('I', 'B1', 'R1', 'R1'), 'scale': (1.0, 's1,3,6', 's1,4,5', 's1,5,2', 0.2, 0.2)}, {'conv': ('I', 'B1', 'R1', 'R1', 'R1'), 'scale': (1.0, 's1,2,6', 's1,3,7', 's1,4,6', 's1,5,3', 0.2, 0.2)}, {'conv': ('I', 'B1', 'R1', 'R1', 'R1', 'R1'), 'scale': (1.0, 's1,1,4', 's1,2,7', 's1,3,8', 's1,4,7', 's1,5,4', 0.2, 0.2)}]\n",
      "3600\n",
      "3700\n",
      "3800\n",
      "3900\n",
      "4000\n",
      "4100\n",
      "4200\n",
      "4300\n",
      "yuanyuan_8k_a_3day/maskcnn_polished_with_rcnn_k_bl.multipath/s_selegacy/in_sz50/out_ch32/num_l2/k_l19/k_p3/ptavg/bn_a_fcFalse/actrelu/r_c5/r_psize1/r_ptypeNone/r_acccummean/ff1st_True/ff1stbba_False/train_keep_2560/rp_none/mp_True/mpb_True/sc0.01/sm0.000005/lmse/m_se0\n",
      "{'conv_map': {'R1': 0.5950276255607605, 'B1': 0.6374558210372925, 'I': 1.0}, 'scale_map': {'s1,1': 3.2701337337493896, 's1,2': 2.5560779571533203, 's1,3': 2.0163021087646484, 's1,4': 1.780432939529419, 's1,5': 1.707674503326416, 's1,1,1': 1.7021316289901733, 's1,2,1': 5.421708106994629, 's1,2,2': 1.6981532573699951, 's1,3,1': 4.280185699462891, 's1,1,2': 1.713201880455017, 's1,2,3': 2.7534732818603516, 's1,3,2': 3.5834922790527344, 's1,3,3': 1.6901042461395264, 's1,4,1': 3.3464293479919434, 's1,2,4': 1.6954123973846436, 's1,3,4': 2.86380672454834, 's1,4,2': 2.5196080207824707, 's1,1,3': 1.6853704452514648, 's1,2,5': 2.7505383491516113, 's1,3,5': 2.0573997497558594, 's1,4,3': 2.2641243934631348, 's1,4,4': 1.6818439960479736, 's1,5,1': 2.897958278656006, 's1,3,6': 1.6834198236465454, 's1,4,5': 2.873788833618164, 's1,5,2': 1.9608592987060547, 's1,2,6': 1.6730742454528809, 's1,3,7': 2.7944867610931396, 's1,4,6': 1.9763736724853516, 's1,5,3': 1.6309053897857666, 's1,1,4': 1.6791894435882568, 's1,2,7': 2.674104690551758, 's1,3,8': 2.0492711067199707, 's1,4,7': 1.7393206357955933, 's1,5,4': 1.633424997329712}}\n",
      "[{'conv': ('I', 'B1'), 'scale': (1.0, 's1,1', 1.0, 0.2)}, {'conv': ('I', 'B1'), 'scale': (1.0, 's1,1', 0.5, 0.2)}, {'conv': ('I', 'B1'), 'scale': (1.0, 's1,2', 0.5, 0.2)}, {'conv': ('I', 'B1', 'R1'), 'scale': (1.0, 's1,1,1', 's1,2,1', 0.5, 0.2)}, {'conv': ('I', 'B1'), 'scale': (1.0, 's1,1', 0.3333333333333333, 0.2)}, {'conv': ('I', 'B1'), 'scale': (1.0, 's1,2', 0.3333333333333333, 0.2)}, {'conv': ('I', 'B1', 'R1'), 'scale': (1.0, 's1,1,1', 's1,2,1', 0.3333333333333333, 0.2)}, {'conv': ('I', 'B1'), 'scale': (1.0, 's1,3', 0.3333333333333333, 0.2)}, {'conv': ('I', 'B1', 'R1'), 'scale': (1.0, 's1,2,2', 's1,3,1', 0.3333333333333333, 0.2)}, {'conv': ('I', 'B1', 'R1', 'R1'), 'scale': (1.0, 's1,1,2', 's1,2,3', 's1,3,2', 0.3333333333333333, 0.2)}, {'conv': ('I', 'B1'), 'scale': (1.0, 's1,1', 0.25, 0.2)}, {'conv': ('I', 'B1'), 'scale': (1.0, 's1,2', 0.25, 0.2)}, {'conv': ('I', 'B1', 'R1'), 'scale': (1.0, 's1,1,1', 's1,2,1', 0.25, 0.2)}, {'conv': ('I', 'B1'), 'scale': (1.0, 's1,3', 0.25, 0.2)}, {'conv': ('I', 'B1', 'R1'), 'scale': (1.0, 's1,2,2', 's1,3,1', 0.25, 0.2)}, {'conv': ('I', 'B1', 'R1', 'R1'), 'scale': (1.0, 's1,1,2', 's1,2,3', 's1,3,2', 0.25, 0.2)}, {'conv': ('I', 'B1'), 'scale': (1.0, 's1,4', 0.25, 0.2)}, {'conv': ('I', 'B1', 'R1'), 'scale': (1.0, 's1,3,3', 's1,4,1', 0.25, 0.2)}, {'conv': ('I', 'B1', 'R1', 'R1'), 'scale': (1.0, 's1,2,4', 's1,3,4', 's1,4,2', 0.25, 0.2)}, {'conv': ('I', 'B1', 'R1', 'R1', 'R1'), 'scale': (1.0, 's1,1,3', 's1,2,5', 's1,3,5', 's1,4,3', 0.25, 0.2)}, {'conv': ('I', 'B1'), 'scale': (1.0, 's1,1', 0.2, 0.2)}, {'conv': ('I', 'B1'), 'scale': (1.0, 's1,2', 0.2, 0.2)}, {'conv': ('I', 'B1', 'R1'), 'scale': (1.0, 's1,1,1', 's1,2,1', 0.2, 0.2)}, {'conv': ('I', 'B1'), 'scale': (1.0, 's1,3', 0.2, 0.2)}, {'conv': ('I', 'B1', 'R1'), 'scale': (1.0, 's1,2,2', 's1,3,1', 0.2, 0.2)}, {'conv': ('I', 'B1', 'R1', 'R1'), 'scale': (1.0, 's1,1,2', 's1,2,3', 's1,3,2', 0.2, 0.2)}, {'conv': ('I', 'B1'), 'scale': (1.0, 's1,4', 0.2, 0.2)}, {'conv': ('I', 'B1', 'R1'), 'scale': (1.0, 's1,3,3', 's1,4,1', 0.2, 0.2)}, {'conv': ('I', 'B1', 'R1', 'R1'), 'scale': (1.0, 's1,2,4', 's1,3,4', 's1,4,2', 0.2, 0.2)}, {'conv': ('I', 'B1', 'R1', 'R1', 'R1'), 'scale': (1.0, 's1,1,3', 's1,2,5', 's1,3,5', 's1,4,3', 0.2, 0.2)}, {'conv': ('I', 'B1'), 'scale': (1.0, 's1,5', 0.2, 0.2)}, {'conv': ('I', 'B1', 'R1'), 'scale': (1.0, 's1,4,4', 's1,5,1', 0.2, 0.2)}, {'conv': ('I', 'B1', 'R1', 'R1'), 'scale': (1.0, 's1,3,6', 's1,4,5', 's1,5,2', 0.2, 0.2)}, {'conv': ('I', 'B1', 'R1', 'R1', 'R1'), 'scale': (1.0, 's1,2,6', 's1,3,7', 's1,4,6', 's1,5,3', 0.2, 0.2)}, {'conv': ('I', 'B1', 'R1', 'R1', 'R1', 'R1'), 'scale': (1.0, 's1,1,4', 's1,2,7', 's1,3,8', 's1,4,7', 's1,5,4', 0.2, 0.2)}]\n",
      "4400\n",
      "4500\n",
      "4600\n",
      "4700\n",
      "4800\n",
      "4900\n",
      "5000\n",
      "5100\n",
      "5200\n",
      "yuanyuan_8k_a_3day/maskcnn_polished_with_rcnn_k_bl.multipath/s_selegacy/in_sz50/out_ch32/num_l2/k_l19/k_p3/ptavg/bn_a_fcFalse/actrelu/r_c5/r_psize1/r_ptypeNone/r_acccummean/ff1st_True/ff1stbba_False/rp_none/mp_True/mpb_True/sc0.01/sm0.000005/lmse/m_se0\n",
      "{'conv_map': {'R1': 0.7934901714324951, 'B1': 0.8787000179290771, 'I': 1.0}, 'scale_map': {'s1,1': 2.6020238399505615, 's1,2': 1.666960597038269, 's1,3': 1.239246129989624, 's1,4': 1.144353985786438, 's1,5': 1.1561100482940674, 's1,1,1': 1.1060194969177246, 's1,2,1': 4.557588577270508, 's1,2,2': 1.1318130493164062, 's1,3,1': 2.9009687900543213, 's1,1,2': 1.1356650590896606, 's1,2,3': 1.8730157613754272, 's1,3,2': 3.698106527328491, 's1,3,3': 1.12621009349823, 's1,4,1': 2.0973150730133057, 's1,2,4': 1.1348936557769775, 's1,3,4': 1.9810384511947632, 's1,4,2': 2.265079975128174, 's1,1,3': 1.1299006938934326, 's1,2,5': 1.884613037109375, 's1,3,5': 1.7836748361587524, 's1,4,3': 1.9720289707183838, 's1,4,4': 1.1279226541519165, 's1,5,1': 1.8757339715957642, 's1,3,6': 1.1286550760269165, 's1,4,5': 2.043022632598877, 's1,5,2': 1.6422373056411743, 's1,2,6': 1.1256647109985352, 's1,3,7': 1.9277052879333496, 's1,4,6': 1.7453961372375488, 's1,5,3': 1.3467493057250977, 's1,1,4': 1.1225125789642334, 's1,2,7': 1.849303126335144, 's1,3,8': 1.61952805519104, 's1,4,7': 1.3614141941070557, 's1,5,4': 1.3269519805908203}}\n",
      "[{'conv': ('I', 'B1'), 'scale': (1.0, 's1,1', 1.0, 0.2)}, {'conv': ('I', 'B1'), 'scale': (1.0, 's1,1', 0.5, 0.2)}, {'conv': ('I', 'B1'), 'scale': (1.0, 's1,2', 0.5, 0.2)}, {'conv': ('I', 'B1', 'R1'), 'scale': (1.0, 's1,1,1', 's1,2,1', 0.5, 0.2)}, {'conv': ('I', 'B1'), 'scale': (1.0, 's1,1', 0.3333333333333333, 0.2)}, {'conv': ('I', 'B1'), 'scale': (1.0, 's1,2', 0.3333333333333333, 0.2)}, {'conv': ('I', 'B1', 'R1'), 'scale': (1.0, 's1,1,1', 's1,2,1', 0.3333333333333333, 0.2)}, {'conv': ('I', 'B1'), 'scale': (1.0, 's1,3', 0.3333333333333333, 0.2)}, {'conv': ('I', 'B1', 'R1'), 'scale': (1.0, 's1,2,2', 's1,3,1', 0.3333333333333333, 0.2)}, {'conv': ('I', 'B1', 'R1', 'R1'), 'scale': (1.0, 's1,1,2', 's1,2,3', 's1,3,2', 0.3333333333333333, 0.2)}, {'conv': ('I', 'B1'), 'scale': (1.0, 's1,1', 0.25, 0.2)}, {'conv': ('I', 'B1'), 'scale': (1.0, 's1,2', 0.25, 0.2)}, {'conv': ('I', 'B1', 'R1'), 'scale': (1.0, 's1,1,1', 's1,2,1', 0.25, 0.2)}, {'conv': ('I', 'B1'), 'scale': (1.0, 's1,3', 0.25, 0.2)}, {'conv': ('I', 'B1', 'R1'), 'scale': (1.0, 's1,2,2', 's1,3,1', 0.25, 0.2)}, {'conv': ('I', 'B1', 'R1', 'R1'), 'scale': (1.0, 's1,1,2', 's1,2,3', 's1,3,2', 0.25, 0.2)}, {'conv': ('I', 'B1'), 'scale': (1.0, 's1,4', 0.25, 0.2)}, {'conv': ('I', 'B1', 'R1'), 'scale': (1.0, 's1,3,3', 's1,4,1', 0.25, 0.2)}, {'conv': ('I', 'B1', 'R1', 'R1'), 'scale': (1.0, 's1,2,4', 's1,3,4', 's1,4,2', 0.25, 0.2)}, {'conv': ('I', 'B1', 'R1', 'R1', 'R1'), 'scale': (1.0, 's1,1,3', 's1,2,5', 's1,3,5', 's1,4,3', 0.25, 0.2)}, {'conv': ('I', 'B1'), 'scale': (1.0, 's1,1', 0.2, 0.2)}, {'conv': ('I', 'B1'), 'scale': (1.0, 's1,2', 0.2, 0.2)}, {'conv': ('I', 'B1', 'R1'), 'scale': (1.0, 's1,1,1', 's1,2,1', 0.2, 0.2)}, {'conv': ('I', 'B1'), 'scale': (1.0, 's1,3', 0.2, 0.2)}, {'conv': ('I', 'B1', 'R1'), 'scale': (1.0, 's1,2,2', 's1,3,1', 0.2, 0.2)}, {'conv': ('I', 'B1', 'R1', 'R1'), 'scale': (1.0, 's1,1,2', 's1,2,3', 's1,3,2', 0.2, 0.2)}, {'conv': ('I', 'B1'), 'scale': (1.0, 's1,4', 0.2, 0.2)}, {'conv': ('I', 'B1', 'R1'), 'scale': (1.0, 's1,3,3', 's1,4,1', 0.2, 0.2)}, {'conv': ('I', 'B1', 'R1', 'R1'), 'scale': (1.0, 's1,2,4', 's1,3,4', 's1,4,2', 0.2, 0.2)}, {'conv': ('I', 'B1', 'R1', 'R1', 'R1'), 'scale': (1.0, 's1,1,3', 's1,2,5', 's1,3,5', 's1,4,3', 0.2, 0.2)}, {'conv': ('I', 'B1'), 'scale': (1.0, 's1,5', 0.2, 0.2)}, {'conv': ('I', 'B1', 'R1'), 'scale': (1.0, 's1,4,4', 's1,5,1', 0.2, 0.2)}, {'conv': ('I', 'B1', 'R1', 'R1'), 'scale': (1.0, 's1,3,6', 's1,4,5', 's1,5,2', 0.2, 0.2)}, {'conv': ('I', 'B1', 'R1', 'R1', 'R1'), 'scale': (1.0, 's1,2,6', 's1,3,7', 's1,4,6', 's1,5,3', 0.2, 0.2)}, {'conv': ('I', 'B1', 'R1', 'R1', 'R1', 'R1'), 'scale': (1.0, 's1,1,4', 's1,2,7', 's1,3,8', 's1,4,7', 's1,5,4', 0.2, 0.2)}]\n",
      "5300\n",
      "5400\n",
      "5500\n",
      "5600\n",
      "5700\n",
      "5800\n",
      "5900\n",
      "6000\n",
      "6100\n",
      "6200\n",
      "6300\n",
      "6400\n",
      "6500\n",
      "6600\n",
      "6700\n",
      "6800\n",
      "6900\n",
      "7000\n",
      "7100\n",
      "7200\n",
      "7300\n",
      "7400\n",
      "7500\n",
      "7600\n",
      "7700\n"
     ]
    }
   ],
   "source": [
    "f_main_result = join(dir_dict['analyses'], 'yuanyuan_8k_a_3day_refactored', '20201114+20201118_separatebn', 'source_analysis.pkl.debug')\n",
    "if not exists(f_main_result):\n",
    "    makedirs(dirname(f_main_result), exist_ok=True)\n",
    "    df_main_result = collect_rcnn_k_bl_source_analysis(\n",
    "        fixed_keys = {\n",
    "        'kernel_size_l23': 3,\n",
    "        'kernel_size_l1': 9,\n",
    "        'ff_1st_block': True,\n",
    "        'pooling_ksize': 3,\n",
    "        'pooling_type': 'avg',\n",
    "        'bn_after_fc': False,\n",
    "        'rcnn_bl_psize': 1,\n",
    "        'rcnn_bl_ptype': None,\n",
    "        'input_size': 50,\n",
    "        'split_seed': 'legacy',\n",
    "        'dataset_prefix': 'yuanyuan_8k_a_3day',\n",
    "        'model_prefix': 'maskcnn_polished_with_rcnn_k_bl',\n",
    "        'scale_name': '0.01',\n",
    "        'scale': '0.01',\n",
    "        'smoothness_name': '0.000005',\n",
    "        'smoothness': '0.000005',\n",
    "                        'multi_path': True,\n",
    "            'multi_path_separate_bn': True,\n",
    "    },\n",
    "        generator=chain(\n",
    "            explored_models_20201114_generator(with_source=True, separate_bn_list=[True]),\n",
    "            explored_models_20201118_generator(with_source=True, separate_bn_list=[True]),\n",
    "        ),\n",
    "        total_num_param=28,\n",
    "        train_size_mapping={\n",
    "            None: 5120,\n",
    "        },\n",
    "        no_missing_data=False,\n",
    "        key_override={'model_prefix': 'maskcnn_polished_with_rcnn_k_bl.multipath'},\n",
    "        debug=True,\n",
    "    )\n",
    "    df_main_result.to_pickle(f_main_result)\n",
    "    del df_main_result\n",
    "df_main_result = pd.read_pickle(f_main_result)"
   ]
  },
  {
   "cell_type": "code",
   "execution_count": 4,
   "metadata": {},
   "outputs": [
    {
     "data": {
      "text/html": [
       "<div>\n",
       "<style scoped>\n",
       "    .dataframe tbody tr th:only-of-type {\n",
       "        vertical-align: middle;\n",
       "    }\n",
       "\n",
       "    .dataframe tbody tr th {\n",
       "        vertical-align: top;\n",
       "    }\n",
       "\n",
       "    .dataframe thead th {\n",
       "        text-align: right;\n",
       "    }\n",
       "</style>\n",
       "<table border=\"1\" class=\"dataframe\">\n",
       "  <thead>\n",
       "    <tr style=\"text-align: right;\">\n",
       "      <th></th>\n",
       "      <th></th>\n",
       "      <th></th>\n",
       "      <th></th>\n",
       "      <th></th>\n",
       "      <th></th>\n",
       "      <th></th>\n",
       "      <th></th>\n",
       "      <th></th>\n",
       "      <th>num_param</th>\n",
       "      <th>source_analysis</th>\n",
       "    </tr>\n",
       "    <tr>\n",
       "      <th>act_fn</th>\n",
       "      <th>ff_1st_bn_before_act</th>\n",
       "      <th>loss_type</th>\n",
       "      <th>model_seed</th>\n",
       "      <th>num_layer</th>\n",
       "      <th>out_channel</th>\n",
       "      <th>rcnn_bl_cls</th>\n",
       "      <th>readout_type</th>\n",
       "      <th>train_keep</th>\n",
       "      <th></th>\n",
       "      <th></th>\n",
       "    </tr>\n",
       "  </thead>\n",
       "  <tbody>\n",
       "    <tr>\n",
       "      <th rowspan=\"3\" valign=\"top\">relu</th>\n",
       "      <th rowspan=\"3\" valign=\"top\">False</th>\n",
       "      <th rowspan=\"3\" valign=\"top\">mse</th>\n",
       "      <th rowspan=\"3\" valign=\"top\">0</th>\n",
       "      <th rowspan=\"3\" valign=\"top\">2</th>\n",
       "      <th rowspan=\"3\" valign=\"top\">32</th>\n",
       "      <th rowspan=\"3\" valign=\"top\">5</th>\n",
       "      <th rowspan=\"3\" valign=\"top\">cm-avg</th>\n",
       "      <th>1280</th>\n",
       "      <td>41453</td>\n",
       "      <td>{('I', 'B1'): 1.4725417726048589, ('I', 'B1', ...</td>\n",
       "    </tr>\n",
       "    <tr>\n",
       "      <th>2560</th>\n",
       "      <td>41453</td>\n",
       "      <td>{('I', 'B1'): 1.7172131401390713, ('I', 'B1', ...</td>\n",
       "    </tr>\n",
       "    <tr>\n",
       "      <th>5120</th>\n",
       "      <td>41453</td>\n",
       "      <td>{('I', 'B1'): 1.721808814020412, ('I', 'B1', '...</td>\n",
       "    </tr>\n",
       "  </tbody>\n",
       "</table>\n",
       "</div>"
      ],
      "text/plain": [
       "                                                                                                            num_param  \\\n",
       "act_fn ff_1st_bn_before_act loss_type model_seed num_layer out_channel rcnn_bl_cls readout_type train_keep              \n",
       "relu   False                mse       0          2         32          5           cm-avg       1280            41453   \n",
       "                                                                                                2560            41453   \n",
       "                                                                                                5120            41453   \n",
       "\n",
       "                                                                                                                                              source_analysis  \n",
       "act_fn ff_1st_bn_before_act loss_type model_seed num_layer out_channel rcnn_bl_cls readout_type train_keep                                                     \n",
       "relu   False                mse       0          2         32          5           cm-avg       1280        {('I', 'B1'): 1.4725417726048589, ('I', 'B1', ...  \n",
       "                                                                                                2560        {('I', 'B1'): 1.7172131401390713, ('I', 'B1', ...  \n",
       "                                                                                                5120        {('I', 'B1'): 1.721808814020412, ('I', 'B1', '...  "
      ]
     },
     "execution_count": 4,
     "metadata": {},
     "output_type": "execute_result"
    }
   ],
   "source": [
    "df_main_result"
   ]
  },
  {
   "cell_type": "code",
   "execution_count": 5,
   "metadata": {},
   "outputs": [],
   "source": [
    "df_main_result = df_main_result.dropna()"
   ]
  },
  {
   "cell_type": "code",
   "execution_count": 6,
   "metadata": {},
   "outputs": [
    {
     "data": {
      "text/html": [
       "<div>\n",
       "<style scoped>\n",
       "    .dataframe tbody tr th:only-of-type {\n",
       "        vertical-align: middle;\n",
       "    }\n",
       "\n",
       "    .dataframe tbody tr th {\n",
       "        vertical-align: top;\n",
       "    }\n",
       "\n",
       "    .dataframe thead th {\n",
       "        text-align: right;\n",
       "    }\n",
       "</style>\n",
       "<table border=\"1\" class=\"dataframe\">\n",
       "  <thead>\n",
       "    <tr style=\"text-align: right;\">\n",
       "      <th></th>\n",
       "      <th></th>\n",
       "      <th></th>\n",
       "      <th></th>\n",
       "      <th></th>\n",
       "      <th></th>\n",
       "      <th></th>\n",
       "      <th></th>\n",
       "      <th></th>\n",
       "      <th>num_param</th>\n",
       "      <th>source_analysis</th>\n",
       "    </tr>\n",
       "    <tr>\n",
       "      <th>act_fn</th>\n",
       "      <th>ff_1st_bn_before_act</th>\n",
       "      <th>loss_type</th>\n",
       "      <th>model_seed</th>\n",
       "      <th>num_layer</th>\n",
       "      <th>out_channel</th>\n",
       "      <th>rcnn_bl_cls</th>\n",
       "      <th>readout_type</th>\n",
       "      <th>train_keep</th>\n",
       "      <th></th>\n",
       "      <th></th>\n",
       "    </tr>\n",
       "  </thead>\n",
       "  <tbody>\n",
       "    <tr>\n",
       "      <th rowspan=\"3\" valign=\"top\">relu</th>\n",
       "      <th rowspan=\"3\" valign=\"top\">False</th>\n",
       "      <th rowspan=\"3\" valign=\"top\">mse</th>\n",
       "      <th rowspan=\"3\" valign=\"top\">0</th>\n",
       "      <th rowspan=\"3\" valign=\"top\">2</th>\n",
       "      <th rowspan=\"3\" valign=\"top\">32</th>\n",
       "      <th rowspan=\"3\" valign=\"top\">5</th>\n",
       "      <th rowspan=\"3\" valign=\"top\">cm-avg</th>\n",
       "      <th>1280</th>\n",
       "      <td>41453</td>\n",
       "      <td>{('I', 'B1'): 1.4725417726048589, ('I', 'B1', ...</td>\n",
       "    </tr>\n",
       "    <tr>\n",
       "      <th>2560</th>\n",
       "      <td>41453</td>\n",
       "      <td>{('I', 'B1'): 1.7172131401390713, ('I', 'B1', ...</td>\n",
       "    </tr>\n",
       "    <tr>\n",
       "      <th>5120</th>\n",
       "      <td>41453</td>\n",
       "      <td>{('I', 'B1'): 1.721808814020412, ('I', 'B1', '...</td>\n",
       "    </tr>\n",
       "  </tbody>\n",
       "</table>\n",
       "</div>"
      ],
      "text/plain": [
       "                                                                                                            num_param  \\\n",
       "act_fn ff_1st_bn_before_act loss_type model_seed num_layer out_channel rcnn_bl_cls readout_type train_keep              \n",
       "relu   False                mse       0          2         32          5           cm-avg       1280            41453   \n",
       "                                                                                                2560            41453   \n",
       "                                                                                                5120            41453   \n",
       "\n",
       "                                                                                                                                              source_analysis  \n",
       "act_fn ff_1st_bn_before_act loss_type model_seed num_layer out_channel rcnn_bl_cls readout_type train_keep                                                     \n",
       "relu   False                mse       0          2         32          5           cm-avg       1280        {('I', 'B1'): 1.4725417726048589, ('I', 'B1', ...  \n",
       "                                                                                                2560        {('I', 'B1'): 1.7172131401390713, ('I', 'B1', ...  \n",
       "                                                                                                5120        {('I', 'B1'): 1.721808814020412, ('I', 'B1', '...  "
      ]
     },
     "execution_count": 6,
     "metadata": {},
     "output_type": "execute_result"
    }
   ],
   "source": [
    "df_main_result"
   ]
  },
  {
   "cell_type": "code",
   "execution_count": 7,
   "metadata": {},
   "outputs": [],
   "source": [
    "# compare with previous result.\n",
    "f_main_result_prev = join(dir_dict['analyses'], 'yuanyuan_8k_a_3day_refactored', '20200725+20200801+20200801_2', 'source_analysis.pkl')\n",
    "df_main_result_prev = pd.read_pickle(f_main_result_prev)"
   ]
  },
  {
   "cell_type": "code",
   "execution_count": 8,
   "metadata": {},
   "outputs": [],
   "source": [
    "def remove_high_cls(df_this):\n",
    "    df_this = df_this[df_this.index.get_level_values('rcnn_bl_cls') <= 7]\n",
    "    return df_this.sort_index()\n",
    "\n",
    "df_main_result = remove_high_cls(df_main_result)\n",
    "df_main_result_prev = remove_high_cls(df_main_result_prev)"
   ]
  },
  {
   "cell_type": "code",
   "execution_count": 9,
   "metadata": {},
   "outputs": [],
   "source": [
    "# check their corrsponding ones, and compute vector similarity"
   ]
  },
  {
   "cell_type": "code",
   "execution_count": 10,
   "metadata": {},
   "outputs": [],
   "source": [
    "import numpy as np"
   ]
  },
  {
   "cell_type": "code",
   "execution_count": 11,
   "metadata": {},
   "outputs": [],
   "source": [
    "def get_normalized_vec(x):\n",
    "#     keys = [('I',) + ('B1',) + ('R1',)*i for i in range(7)]\n",
    "#     assert x.keys() <= set(keys)\n",
    "    ret = np.zeros((8,))\n",
    "    for key, v in x.items():\n",
    "        assert len(key) >= 2 and len(key) <= 9\n",
    "        ret[len(key)-2] += v  # -2 because minimal length of key is 2 (I + one Conv)\n",
    "    ret = ret/ret.sum()\n",
    "    return ret\n",
    "\n",
    "df_main_result['source_analysis_vec'] = df_main_result['source_analysis'].map(lambda x: get_normalized_vec(x))\n",
    "# del df_main_result['source_analysis']"
   ]
  },
  {
   "cell_type": "code",
   "execution_count": 12,
   "metadata": {},
   "outputs": [],
   "source": [
    "def get_vec_2(x, y):\n",
    "    # key has order, actually.\n",
    "    assert x.keys() == y.keys()\n",
    "    print(x.keys())\n",
    "    # sort by length, basically\n",
    "    key_sum_x = sum(x.values())\n",
    "    key_sum_y = sum(y.values())\n",
    "    return (\n",
    "        [z[1]/key_sum_x for z in sorted(x.items(), key = lambda xx: xx[0])],\n",
    "        [z[1]/key_sum_y for z in sorted(y.items(), key = lambda xx: xx[0])]\n",
    "    )"
   ]
  },
  {
   "cell_type": "code",
   "execution_count": 13,
   "metadata": {},
   "outputs": [
    {
     "data": {
      "text/html": [
       "<div>\n",
       "<style scoped>\n",
       "    .dataframe tbody tr th:only-of-type {\n",
       "        vertical-align: middle;\n",
       "    }\n",
       "\n",
       "    .dataframe tbody tr th {\n",
       "        vertical-align: top;\n",
       "    }\n",
       "\n",
       "    .dataframe thead th {\n",
       "        text-align: right;\n",
       "    }\n",
       "</style>\n",
       "<table border=\"1\" class=\"dataframe\">\n",
       "  <thead>\n",
       "    <tr style=\"text-align: right;\">\n",
       "      <th></th>\n",
       "      <th></th>\n",
       "      <th></th>\n",
       "      <th></th>\n",
       "      <th></th>\n",
       "      <th></th>\n",
       "      <th></th>\n",
       "      <th></th>\n",
       "      <th></th>\n",
       "      <th>num_param</th>\n",
       "      <th>source_analysis</th>\n",
       "      <th>source_analysis_vec</th>\n",
       "    </tr>\n",
       "    <tr>\n",
       "      <th>act_fn</th>\n",
       "      <th>ff_1st_bn_before_act</th>\n",
       "      <th>loss_type</th>\n",
       "      <th>model_seed</th>\n",
       "      <th>num_layer</th>\n",
       "      <th>out_channel</th>\n",
       "      <th>rcnn_bl_cls</th>\n",
       "      <th>readout_type</th>\n",
       "      <th>train_keep</th>\n",
       "      <th></th>\n",
       "      <th></th>\n",
       "      <th></th>\n",
       "    </tr>\n",
       "  </thead>\n",
       "  <tbody>\n",
       "    <tr>\n",
       "      <th rowspan=\"3\" valign=\"top\">relu</th>\n",
       "      <th rowspan=\"3\" valign=\"top\">False</th>\n",
       "      <th rowspan=\"3\" valign=\"top\">mse</th>\n",
       "      <th rowspan=\"3\" valign=\"top\">0</th>\n",
       "      <th rowspan=\"3\" valign=\"top\">2</th>\n",
       "      <th rowspan=\"3\" valign=\"top\">32</th>\n",
       "      <th rowspan=\"3\" valign=\"top\">5</th>\n",
       "      <th rowspan=\"3\" valign=\"top\">cm-avg</th>\n",
       "      <th>1280</th>\n",
       "      <td>41453</td>\n",
       "      <td>{('I', 'B1'): 1.4725417726048589, ('I', 'B1', ...</td>\n",
       "      <td>[0.4094847848148513, 0.33366957584470325, 0.17...</td>\n",
       "    </tr>\n",
       "    <tr>\n",
       "      <th>2560</th>\n",
       "      <td>41453</td>\n",
       "      <td>{('I', 'B1'): 1.7172131401390713, ('I', 'B1', ...</td>\n",
       "      <td>[0.36755750255691705, 0.34190715752517287, 0.1...</td>\n",
       "    </tr>\n",
       "    <tr>\n",
       "      <th>5120</th>\n",
       "      <td>41453</td>\n",
       "      <td>{('I', 'B1'): 1.721808814020412, ('I', 'B1', '...</td>\n",
       "      <td>[0.36797829822434674, 0.31372883864094037, 0.2...</td>\n",
       "    </tr>\n",
       "  </tbody>\n",
       "</table>\n",
       "</div>"
      ],
      "text/plain": [
       "                                                                                                            num_param  \\\n",
       "act_fn ff_1st_bn_before_act loss_type model_seed num_layer out_channel rcnn_bl_cls readout_type train_keep              \n",
       "relu   False                mse       0          2         32          5           cm-avg       1280            41453   \n",
       "                                                                                                2560            41453   \n",
       "                                                                                                5120            41453   \n",
       "\n",
       "                                                                                                                                              source_analysis  \\\n",
       "act_fn ff_1st_bn_before_act loss_type model_seed num_layer out_channel rcnn_bl_cls readout_type train_keep                                                      \n",
       "relu   False                mse       0          2         32          5           cm-avg       1280        {('I', 'B1'): 1.4725417726048589, ('I', 'B1', ...   \n",
       "                                                                                                2560        {('I', 'B1'): 1.7172131401390713, ('I', 'B1', ...   \n",
       "                                                                                                5120        {('I', 'B1'): 1.721808814020412, ('I', 'B1', '...   \n",
       "\n",
       "                                                                                                                                          source_analysis_vec  \n",
       "act_fn ff_1st_bn_before_act loss_type model_seed num_layer out_channel rcnn_bl_cls readout_type train_keep                                                     \n",
       "relu   False                mse       0          2         32          5           cm-avg       1280        [0.4094847848148513, 0.33366957584470325, 0.17...  \n",
       "                                                                                                2560        [0.36755750255691705, 0.34190715752517287, 0.1...  \n",
       "                                                                                                5120        [0.36797829822434674, 0.31372883864094037, 0.2...  "
      ]
     },
     "execution_count": 13,
     "metadata": {},
     "output_type": "execute_result"
    }
   ],
   "source": [
    "df_main_result"
   ]
  },
  {
   "cell_type": "code",
   "execution_count": 14,
   "metadata": {},
   "outputs": [],
   "source": [
    "df_main_result_prev['source_analysis_vec'] = df_main_result_prev['source_analysis'].map(lambda x: get_normalized_vec(x))\n",
    "# del df_main_result_prev['source_analysis']"
   ]
  },
  {
   "cell_type": "code",
   "execution_count": 15,
   "metadata": {},
   "outputs": [],
   "source": [
    "df_main_result_merged = df_main_result.join(df_main_result_prev,how='inner',lsuffix='new',rsuffix='old')"
   ]
  },
  {
   "cell_type": "code",
   "execution_count": 16,
   "metadata": {},
   "outputs": [],
   "source": [
    "# ok. time to compute \n",
    "\n",
    "from scipy.spatial import distance"
   ]
  },
  {
   "cell_type": "code",
   "execution_count": 17,
   "metadata": {
    "scrolled": false
   },
   "outputs": [
    {
     "data": {
      "text/html": [
       "<div>\n",
       "<style scoped>\n",
       "    .dataframe tbody tr th:only-of-type {\n",
       "        vertical-align: middle;\n",
       "    }\n",
       "\n",
       "    .dataframe tbody tr th {\n",
       "        vertical-align: top;\n",
       "    }\n",
       "\n",
       "    .dataframe thead th {\n",
       "        text-align: right;\n",
       "    }\n",
       "</style>\n",
       "<table border=\"1\" class=\"dataframe\">\n",
       "  <thead>\n",
       "    <tr style=\"text-align: right;\">\n",
       "      <th></th>\n",
       "      <th></th>\n",
       "      <th></th>\n",
       "      <th></th>\n",
       "      <th></th>\n",
       "      <th></th>\n",
       "      <th></th>\n",
       "      <th></th>\n",
       "      <th></th>\n",
       "      <th>num_paramnew</th>\n",
       "      <th>source_analysisnew</th>\n",
       "      <th>source_analysis_vecnew</th>\n",
       "      <th>num_paramold</th>\n",
       "      <th>source_analysisold</th>\n",
       "      <th>source_analysis_vecold</th>\n",
       "    </tr>\n",
       "    <tr>\n",
       "      <th>act_fn</th>\n",
       "      <th>ff_1st_bn_before_act</th>\n",
       "      <th>loss_type</th>\n",
       "      <th>model_seed</th>\n",
       "      <th>num_layer</th>\n",
       "      <th>out_channel</th>\n",
       "      <th>rcnn_bl_cls</th>\n",
       "      <th>readout_type</th>\n",
       "      <th>train_keep</th>\n",
       "      <th></th>\n",
       "      <th></th>\n",
       "      <th></th>\n",
       "      <th></th>\n",
       "      <th></th>\n",
       "      <th></th>\n",
       "    </tr>\n",
       "  </thead>\n",
       "  <tbody>\n",
       "    <tr>\n",
       "      <th rowspan=\"3\" valign=\"top\">relu</th>\n",
       "      <th rowspan=\"3\" valign=\"top\">False</th>\n",
       "      <th rowspan=\"3\" valign=\"top\">mse</th>\n",
       "      <th rowspan=\"3\" valign=\"top\">0</th>\n",
       "      <th rowspan=\"3\" valign=\"top\">2</th>\n",
       "      <th rowspan=\"3\" valign=\"top\">32</th>\n",
       "      <th rowspan=\"3\" valign=\"top\">5</th>\n",
       "      <th rowspan=\"3\" valign=\"top\">cm-avg</th>\n",
       "      <th>1280</th>\n",
       "      <td>41453</td>\n",
       "      <td>{('I', 'B1'): 1.4725417726048589, ('I', 'B1', ...</td>\n",
       "      <td>[0.4094847848148513, 0.33366957584470325, 0.17...</td>\n",
       "      <td>39533</td>\n",
       "      <td>{('I', 'B1'): 1.8715723541753448, ('I', 'B1', ...</td>\n",
       "      <td>[0.47193501658918263, 0.32583839790422037, 0.1...</td>\n",
       "    </tr>\n",
       "    <tr>\n",
       "      <th>2560</th>\n",
       "      <td>41453</td>\n",
       "      <td>{('I', 'B1'): 1.7172131401390713, ('I', 'B1', ...</td>\n",
       "      <td>[0.36755750255691705, 0.34190715752517287, 0.1...</td>\n",
       "      <td>39533</td>\n",
       "      <td>{('I', 'B1'): 1.9617532466246288, ('I', 'B1', ...</td>\n",
       "      <td>[0.4642562959553918, 0.33323575947230455, 0.14...</td>\n",
       "    </tr>\n",
       "    <tr>\n",
       "      <th>5120</th>\n",
       "      <td>41453</td>\n",
       "      <td>{('I', 'B1'): 1.721808814020412, ('I', 'B1', '...</td>\n",
       "      <td>[0.36797829822434674, 0.31372883864094037, 0.2...</td>\n",
       "      <td>39533</td>\n",
       "      <td>{('I', 'B1'): 2.5941529866778734, ('I', 'B1', ...</td>\n",
       "      <td>[0.4060790357197729, 0.3445027177155755, 0.168...</td>\n",
       "    </tr>\n",
       "  </tbody>\n",
       "</table>\n",
       "</div>"
      ],
      "text/plain": [
       "                                                                                                            num_paramnew  \\\n",
       "act_fn ff_1st_bn_before_act loss_type model_seed num_layer out_channel rcnn_bl_cls readout_type train_keep                 \n",
       "relu   False                mse       0          2         32          5           cm-avg       1280               41453   \n",
       "                                                                                                2560               41453   \n",
       "                                                                                                5120               41453   \n",
       "\n",
       "                                                                                                                                           source_analysisnew  \\\n",
       "act_fn ff_1st_bn_before_act loss_type model_seed num_layer out_channel rcnn_bl_cls readout_type train_keep                                                      \n",
       "relu   False                mse       0          2         32          5           cm-avg       1280        {('I', 'B1'): 1.4725417726048589, ('I', 'B1', ...   \n",
       "                                                                                                2560        {('I', 'B1'): 1.7172131401390713, ('I', 'B1', ...   \n",
       "                                                                                                5120        {('I', 'B1'): 1.721808814020412, ('I', 'B1', '...   \n",
       "\n",
       "                                                                                                                                       source_analysis_vecnew  \\\n",
       "act_fn ff_1st_bn_before_act loss_type model_seed num_layer out_channel rcnn_bl_cls readout_type train_keep                                                      \n",
       "relu   False                mse       0          2         32          5           cm-avg       1280        [0.4094847848148513, 0.33366957584470325, 0.17...   \n",
       "                                                                                                2560        [0.36755750255691705, 0.34190715752517287, 0.1...   \n",
       "                                                                                                5120        [0.36797829822434674, 0.31372883864094037, 0.2...   \n",
       "\n",
       "                                                                                                            num_paramold  \\\n",
       "act_fn ff_1st_bn_before_act loss_type model_seed num_layer out_channel rcnn_bl_cls readout_type train_keep                 \n",
       "relu   False                mse       0          2         32          5           cm-avg       1280               39533   \n",
       "                                                                                                2560               39533   \n",
       "                                                                                                5120               39533   \n",
       "\n",
       "                                                                                                                                           source_analysisold  \\\n",
       "act_fn ff_1st_bn_before_act loss_type model_seed num_layer out_channel rcnn_bl_cls readout_type train_keep                                                      \n",
       "relu   False                mse       0          2         32          5           cm-avg       1280        {('I', 'B1'): 1.8715723541753448, ('I', 'B1', ...   \n",
       "                                                                                                2560        {('I', 'B1'): 1.9617532466246288, ('I', 'B1', ...   \n",
       "                                                                                                5120        {('I', 'B1'): 2.5941529866778734, ('I', 'B1', ...   \n",
       "\n",
       "                                                                                                                                       source_analysis_vecold  \n",
       "act_fn ff_1st_bn_before_act loss_type model_seed num_layer out_channel rcnn_bl_cls readout_type train_keep                                                     \n",
       "relu   False                mse       0          2         32          5           cm-avg       1280        [0.47193501658918263, 0.32583839790422037, 0.1...  \n",
       "                                                                                                2560        [0.4642562959553918, 0.33323575947230455, 0.14...  \n",
       "                                                                                                5120        [0.4060790357197729, 0.3445027177155755, 0.168...  "
      ]
     },
     "execution_count": 17,
     "metadata": {},
     "output_type": "execute_result"
    }
   ],
   "source": [
    "df_main_result_merged"
   ]
  },
  {
   "cell_type": "code",
   "execution_count": 18,
   "metadata": {},
   "outputs": [],
   "source": [
    "def get_normalized_vec_2(x, y):\n",
    "    assert x.keys() == y.keys()\n",
    "    x = get_normalized_vec(x)\n",
    "    y = get_normalized_vec(y)\n",
    "    return x, y "
   ]
  },
  {
   "cell_type": "code",
   "execution_count": 19,
   "metadata": {},
   "outputs": [],
   "source": [
    "%matplotlib inline\n",
    "import matplotlib.pyplot as plt\n",
    "def compare_depth_distribution(df_this):\n",
    "    for train_keep in df_this.index.get_level_values('train_keep').unique():\n",
    "        print(train_keep)\n",
    "        df_this_size = df_this.xs(train_keep, level='train_keep')\n",
    "        assert df_this_size.shape[0] == 1\n",
    "        plt.close('all')\n",
    "        fig, axes = plt.subplots(nrows=1, ncols=2, squeeze=True, sharey=True, sharex=True)\n",
    "        vecs = [\n",
    "            get_normalized_vec_2(x, y) for x, y in zip(\n",
    "            df_this_size['source_analysisold'].values,\n",
    "            df_this_size['source_analysisnew'].values\n",
    "        )]\n",
    "        assert len(vecs) == 1\n",
    "        axes[0].bar(np.arange(8), vecs[0][0])\n",
    "        axes[0].set_title('old')\n",
    "        axes[1].bar(np.arange(8), vecs[0][1])\n",
    "        axes[1].set_title('new')\n",
    "        plt.show()\n",
    "        \n",
    "        plt.close('all')\n",
    "        fig, axes = plt.subplots(nrows=1, ncols=2, squeeze=True, sharey=True, sharex=True)\n",
    "        vecs = [\n",
    "            get_vec_2(x, y) for x, y in zip(\n",
    "            df_this_size['source_analysisold'].values,\n",
    "            df_this_size['source_analysisnew'].values\n",
    "        )]\n",
    "        assert len(vecs) == 1\n",
    "        axes[0].bar(np.arange(len(vecs[0][0])), vecs[0][0])\n",
    "        axes[0].set_title('old')\n",
    "        axes[1].bar(np.arange(len(vecs[0][0])), vecs[0][1])\n",
    "        axes[1].set_title('new')\n",
    "        plt.show()"
   ]
  },
  {
   "cell_type": "code",
   "execution_count": 20,
   "metadata": {
    "scrolled": false
   },
   "outputs": [
    {
     "name": "stdout",
     "output_type": "stream",
     "text": [
      "1280\n"
     ]
    },
    {
     "data": {
      "image/png": "[encoded data removed]",
      "text/plain": [
       "<Figure size 432x288 with 2 Axes>"
      ]
     },
     "metadata": {
      "needs_background": "light"
     },
     "output_type": "display_data"
    },
    {
     "name": "stdout",
     "output_type": "stream",
     "text": [
      "dict_keys([('I', 'B1'), ('I', 'B1', 'R1'), ('I', 'B1', 'R1', 'R1'), ('I', 'B1', 'R1', 'R1', 'R1'), ('I', 'B1', 'R1', 'R1', 'R1', 'R1')])\n"
     ]
    },
    {
     "data": {
      "image/png": "[encoded data removed]",
      "text/plain": [
       "<Figure size 432x288 with 2 Axes>"
      ]
     },
     "metadata": {
      "needs_background": "light"
     },
     "output_type": "display_data"
    },
    {
     "name": "stdout",
     "output_type": "stream",
     "text": [
      "2560\n"
     ]
    },
    {
     "data": {
      "image/png": "[encoded data removed]",
      "text/plain": [
       "<Figure size 432x288 with 2 Axes>"
      ]
     },
     "metadata": {
      "needs_background": "light"
     },
     "output_type": "display_data"
    },
    {
     "name": "stdout",
     "output_type": "stream",
     "text": [
      "dict_keys([('I', 'B1'), ('I', 'B1', 'R1'), ('I', 'B1', 'R1', 'R1'), ('I', 'B1', 'R1', 'R1', 'R1'), ('I', 'B1', 'R1', 'R1', 'R1', 'R1')])\n"
     ]
    },
    {
     "data": {
      "image/png": "[encoded data removed]",
      "text/plain": [
       "<Figure size 432x288 with 2 Axes>"
      ]
     },
     "metadata": {
      "needs_background": "light"
     },
     "output_type": "display_data"
    },
    {
     "name": "stdout",
     "output_type": "stream",
     "text": [
      "5120\n"
     ]
    },
    {
     "data": {
      "image/png": "[encoded data removed]",
      "text/plain": [
       "<Figure size 432x288 with 2 Axes>"
      ]
     },
     "metadata": {
      "needs_background": "light"
     },
     "output_type": "display_data"
    },
    {
     "name": "stdout",
     "output_type": "stream",
     "text": [
      "dict_keys([('I', 'B1'), ('I', 'B1', 'R1'), ('I', 'B1', 'R1', 'R1'), ('I', 'B1', 'R1', 'R1', 'R1'), ('I', 'B1', 'R1', 'R1', 'R1', 'R1')])\n"
     ]
    },
    {
     "data": {
      "image/png": "[encoded data removed]",
      "text/plain": [
       "<Figure size 432x288 with 2 Axes>"
      ]
     },
     "metadata": {
      "needs_background": "light"
     },
     "output_type": "display_data"
    }
   ],
   "source": [
    "compare_depth_distribution(df_main_result_merged)\n",
    "# more difference with larger train keep.\n",
    "# which is understandable, because more training data leads to more distributed depth, and thus cosine distances will be more spread out."
   ]
  },
  {
   "cell_type": "code",
   "execution_count": 21,
   "metadata": {},
   "outputs": [],
   "source": [
    "%matplotlib inline\n",
    "import matplotlib.pyplot as plt\n",
    "def compare_depth_diff(df_this):\n",
    "    for train_keep in df_this.index.get_level_values('train_keep').unique():\n",
    "        print(train_keep)\n",
    "        df_this_size = df_this.xs(train_keep, level='train_keep')\n",
    "        plt.close('all')\n",
    "        fig, ax = plt.subplots(squeeze=True)\n",
    "        aaa = df_this_size['source_analysis_vecnew'].map(lambda x: x[0])\n",
    "        bbb = df_this_size['source_analysis_vecold'].map(lambda x: x[0])\n",
    "        ax.scatter(aaa.values, bbb.values)\n",
    "        ax.plot([0,1],[0,1],linestyle='--')\n",
    "        plt.show()"
   ]
  },
  {
   "cell_type": "code",
   "execution_count": 22,
   "metadata": {},
   "outputs": [
    {
     "name": "stdout",
     "output_type": "stream",
     "text": [
      "1280\n"
     ]
    },
    {
     "data": {
      "image/png": "[encoded data removed]",
      "text/plain": [
       "<Figure size 432x288 with 1 Axes>"
      ]
     },
     "metadata": {
      "needs_background": "light"
     },
     "output_type": "display_data"
    },
    {
     "name": "stdout",
     "output_type": "stream",
     "text": [
      "2560\n"
     ]
    },
    {
     "data": {
      "image/png": "[encoded data removed]",
      "text/plain": [
       "<Figure size 432x288 with 1 Axes>"
      ]
     },
     "metadata": {
      "needs_background": "light"
     },
     "output_type": "display_data"
    },
    {
     "name": "stdout",
     "output_type": "stream",
     "text": [
      "5120\n"
     ]
    },
    {
     "data": {
      "image/png": "[encoded data removed]",
      "text/plain": [
       "<Figure size 432x288 with 1 Axes>"
      ]
     },
     "metadata": {
      "needs_background": "light"
     },
     "output_type": "display_data"
    }
   ],
   "source": [
    "compare_depth_diff(df_main_result_merged)"
   ]
  },
  {
   "cell_type": "code",
   "execution_count": 23,
   "metadata": {},
   "outputs": [],
   "source": [
    "# raw source analysis list from this file and `20200725+20200801+20200801_2_source_analysis_debug` are the same\n",
    "def check_source_analysis_list():\n",
    "    a = [{'conv': ('I', 'B1'), 'scale': (1.0, 's1,1', 1.0, 0.2)}, {'conv': ('I', 'B1'), 'scale': (1.0, 's1,1', 0.5, 0.2)}, {'conv': ('I', 'B1'), 'scale': (1.0, 's1,2', 0.5, 0.2)}, {'conv': ('I', 'B1', 'R1'), 'scale': (1.0, 's1,1', 's1,2', 0.5, 0.2)}, {'conv': ('I', 'B1'), 'scale': (1.0, 's1,1', 0.3333333333333333, 0.2)}, {'conv': ('I', 'B1'), 'scale': (1.0, 's1,2', 0.3333333333333333, 0.2)}, {'conv': ('I', 'B1', 'R1'), 'scale': (1.0, 's1,1', 's1,2', 0.3333333333333333, 0.2)}, {'conv': ('I', 'B1'), 'scale': (1.0, 's1,3', 0.3333333333333333, 0.2)}, {'conv': ('I', 'B1', 'R1'), 'scale': (1.0, 's1,2', 's1,3', 0.3333333333333333, 0.2)}, {'conv': ('I', 'B1', 'R1', 'R1'), 'scale': (1.0, 's1,1', 's1,2', 's1,3', 0.3333333333333333, 0.2)}, {'conv': ('I', 'B1'), 'scale': (1.0, 's1,1', 0.25, 0.2)}, {'conv': ('I', 'B1'), 'scale': (1.0, 's1,2', 0.25, 0.2)}, {'conv': ('I', 'B1', 'R1'), 'scale': (1.0, 's1,1', 's1,2', 0.25, 0.2)}, {'conv': ('I', 'B1'), 'scale': (1.0, 's1,3', 0.25, 0.2)}, {'conv': ('I', 'B1', 'R1'), 'scale': (1.0, 's1,2', 's1,3', 0.25, 0.2)}, {'conv': ('I', 'B1', 'R1', 'R1'), 'scale': (1.0, 's1,1', 's1,2', 's1,3', 0.25, 0.2)}, {'conv': ('I', 'B1'), 'scale': (1.0, 's1,4', 0.25, 0.2)}, {'conv': ('I', 'B1', 'R1'), 'scale': (1.0, 's1,3', 's1,4', 0.25, 0.2)}, {'conv': ('I', 'B1', 'R1', 'R1'), 'scale': (1.0, 's1,2', 's1,3', 's1,4', 0.25, 0.2)}, {'conv': ('I', 'B1', 'R1', 'R1', 'R1'), 'scale': (1.0, 's1,1', 's1,2', 's1,3', 's1,4', 0.25, 0.2)}, {'conv': ('I', 'B1'), 'scale': (1.0, 's1,1', 0.2, 0.2)}, {'conv': ('I', 'B1'), 'scale': (1.0, 's1,2', 0.2, 0.2)}, {'conv': ('I', 'B1', 'R1'), 'scale': (1.0, 's1,1', 's1,2', 0.2, 0.2)}, {'conv': ('I', 'B1'), 'scale': (1.0, 's1,3', 0.2, 0.2)}, {'conv': ('I', 'B1', 'R1'), 'scale': (1.0, 's1,2', 's1,3', 0.2, 0.2)}, {'conv': ('I', 'B1', 'R1', 'R1'), 'scale': (1.0, 's1,1', 's1,2', 's1,3', 0.2, 0.2)}, {'conv': ('I', 'B1'), 'scale': (1.0, 's1,4', 0.2, 0.2)}, {'conv': ('I', 'B1', 'R1'), 'scale': (1.0, 's1,3', 's1,4', 0.2, 0.2)}, {'conv': ('I', 'B1', 'R1', 'R1'), 'scale': (1.0, 's1,2', 's1,3', 's1,4', 0.2, 0.2)}, {'conv': ('I', 'B1', 'R1', 'R1', 'R1'), 'scale': (1.0, 's1,1', 's1,2', 's1,3', 's1,4', 0.2, 0.2)}, {'conv': ('I', 'B1'), 'scale': (1.0, 's1,5', 0.2, 0.2)}, {'conv': ('I', 'B1', 'R1'), 'scale': (1.0, 's1,4', 's1,5', 0.2, 0.2)}, {'conv': ('I', 'B1', 'R1', 'R1'), 'scale': (1.0, 's1,3', 's1,4', 's1,5', 0.2, 0.2)}, {'conv': ('I', 'B1', 'R1', 'R1', 'R1'), 'scale': (1.0, 's1,2', 's1,3', 's1,4', 's1,5', 0.2, 0.2)}, {'conv': ('I', 'B1', 'R1', 'R1', 'R1', 'R1'), 'scale': (1.0, 's1,1', 's1,2', 's1,3', 's1,4', 's1,5', 0.2, 0.2)}]\n",
    "    b = [{'conv': ('I', 'B1'), 'scale': (1.0, 's1,1', 1.0, 0.2)}, {'conv': ('I', 'B1'), 'scale': (1.0, 's1,1', 0.5, 0.2)}, {'conv': ('I', 'B1'), 'scale': (1.0, 's1,2', 0.5, 0.2)}, {'conv': ('I', 'B1', 'R1'), 'scale': (1.0, 's1,1,1', 's1,2,1', 0.5, 0.2)}, {'conv': ('I', 'B1'), 'scale': (1.0, 's1,1', 0.3333333333333333, 0.2)}, {'conv': ('I', 'B1'), 'scale': (1.0, 's1,2', 0.3333333333333333, 0.2)}, {'conv': ('I', 'B1', 'R1'), 'scale': (1.0, 's1,1,1', 's1,2,1', 0.3333333333333333, 0.2)}, {'conv': ('I', 'B1'), 'scale': (1.0, 's1,3', 0.3333333333333333, 0.2)}, {'conv': ('I', 'B1', 'R1'), 'scale': (1.0, 's1,2,2', 's1,3,1', 0.3333333333333333, 0.2)}, {'conv': ('I', 'B1', 'R1', 'R1'), 'scale': (1.0, 's1,1,2', 's1,2,3', 's1,3,2', 0.3333333333333333, 0.2)}, {'conv': ('I', 'B1'), 'scale': (1.0, 's1,1', 0.25, 0.2)}, {'conv': ('I', 'B1'), 'scale': (1.0, 's1,2', 0.25, 0.2)}, {'conv': ('I', 'B1', 'R1'), 'scale': (1.0, 's1,1,1', 's1,2,1', 0.25, 0.2)}, {'conv': ('I', 'B1'), 'scale': (1.0, 's1,3', 0.25, 0.2)}, {'conv': ('I', 'B1', 'R1'), 'scale': (1.0, 's1,2,2', 's1,3,1', 0.25, 0.2)}, {'conv': ('I', 'B1', 'R1', 'R1'), 'scale': (1.0, 's1,1,2', 's1,2,3', 's1,3,2', 0.25, 0.2)}, {'conv': ('I', 'B1'), 'scale': (1.0, 's1,4', 0.25, 0.2)}, {'conv': ('I', 'B1', 'R1'), 'scale': (1.0, 's1,3,3', 's1,4,1', 0.25, 0.2)}, {'conv': ('I', 'B1', 'R1', 'R1'), 'scale': (1.0, 's1,2,4', 's1,3,4', 's1,4,2', 0.25, 0.2)}, {'conv': ('I', 'B1', 'R1', 'R1', 'R1'), 'scale': (1.0, 's1,1,3', 's1,2,5', 's1,3,5', 's1,4,3', 0.25, 0.2)}, {'conv': ('I', 'B1'), 'scale': (1.0, 's1,1', 0.2, 0.2)}, {'conv': ('I', 'B1'), 'scale': (1.0, 's1,2', 0.2, 0.2)}, {'conv': ('I', 'B1', 'R1'), 'scale': (1.0, 's1,1,1', 's1,2,1', 0.2, 0.2)}, {'conv': ('I', 'B1'), 'scale': (1.0, 's1,3', 0.2, 0.2)}, {'conv': ('I', 'B1', 'R1'), 'scale': (1.0, 's1,2,2', 's1,3,1', 0.2, 0.2)}, {'conv': ('I', 'B1', 'R1', 'R1'), 'scale': (1.0, 's1,1,2', 's1,2,3', 's1,3,2', 0.2, 0.2)}, {'conv': ('I', 'B1'), 'scale': (1.0, 's1,4', 0.2, 0.2)}, {'conv': ('I', 'B1', 'R1'), 'scale': (1.0, 's1,3,3', 's1,4,1', 0.2, 0.2)}, {'conv': ('I', 'B1', 'R1', 'R1'), 'scale': (1.0, 's1,2,4', 's1,3,4', 's1,4,2', 0.2, 0.2)}, {'conv': ('I', 'B1', 'R1', 'R1', 'R1'), 'scale': (1.0, 's1,1,3', 's1,2,5', 's1,3,5', 's1,4,3', 0.2, 0.2)}, {'conv': ('I', 'B1'), 'scale': (1.0, 's1,5', 0.2, 0.2)}, {'conv': ('I', 'B1', 'R1'), 'scale': (1.0, 's1,4,4', 's1,5,1', 0.2, 0.2)}, {'conv': ('I', 'B1', 'R1', 'R1'), 'scale': (1.0, 's1,3,6', 's1,4,5', 's1,5,2', 0.2, 0.2)}, {'conv': ('I', 'B1', 'R1', 'R1', 'R1'), 'scale': (1.0, 's1,2,6', 's1,3,7', 's1,4,6', 's1,5,3', 0.2, 0.2)}, {'conv': ('I', 'B1', 'R1', 'R1', 'R1', 'R1'), 'scale': (1.0, 's1,1,4', 's1,2,7', 's1,3,8', 's1,4,7', 's1,5,4', 0.2, 0.2)}]\n",
    "    assert len(a) == len(b)\n",
    "    for x, y in zip(a,b):\n",
    "        assert x.keys() == y.keys()\n",
    "        assert x['conv'] == y['conv']\n",
    "        scaley = tuple([z[:4] if type(z) is str else z for z in y['scale']])\n",
    "    #     print(scaley, x['scale'])\n",
    "        assert scaley == x['scale']\n",
    "        \n",
    "check_source_analysis_list()"
   ]
  },
  {
   "cell_type": "code",
   "execution_count": null,
   "metadata": {},
   "outputs": [],
   "source": []
  }
 ],
 "metadata": {
  "kernelspec": {
   "display_name": "Python 3",
   "language": "python",
   "name": "python3"
  },
  "language_info": {
   "codemirror_mode": {
    "name": "ipython",
    "version": 3
   },
   "file_extension": ".py",
   "mimetype": "text/x-python",
   "name": "python",
   "nbconvert_exporter": "python",
   "pygments_lexer": "ipython3",
   "version": "3.7.6"
  }
 },
 "nbformat": 4,
 "nbformat_minor": 4
}

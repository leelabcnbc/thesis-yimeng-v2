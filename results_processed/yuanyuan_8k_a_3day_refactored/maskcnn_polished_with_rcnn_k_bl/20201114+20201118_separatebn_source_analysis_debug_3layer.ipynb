{
 "cells": [
  {
   "cell_type": "code",
   "execution_count": 1,
   "metadata": {},
   "outputs": [],
   "source": [
    "from os.path import join, dirname, exists\n",
    "from os import makedirs\n",
    "from itertools import chain, islice\n",
    "\n",
    "from thesis_v2 import dir_dict\n",
    "from thesis_v2.configs.model.maskcnn_polished_with_rcnn_k_bl import (\n",
    "    explored_models_20201118_generator,\n",
    "    explored_models_20201114_generator,\n",
    ")\n",
    "from thesis_v2.analysis.io import collect_rcnn_k_bl_source_analysis"
   ]
  },
  {
   "cell_type": "code",
   "execution_count": 2,
   "metadata": {},
   "outputs": [],
   "source": [
    "import pandas as pd"
   ]
  },
  {
   "cell_type": "code",
   "execution_count": 3,
   "metadata": {
    "scrolled": false
   },
   "outputs": [
    {
     "name": "stdout",
     "output_type": "stream",
     "text": [
      "0\n",
      "100\n",
      "200\n",
      "300\n",
      "400\n",
      "500\n",
      "600\n",
      "700\n",
      "800\n",
      "900\n",
      "1000\n",
      "1100\n",
      "1200\n",
      "1300\n",
      "1400\n",
      "1500\n",
      "1600\n",
      "1700\n",
      "1800\n",
      "1900\n",
      "2000\n",
      "2100\n",
      "2200\n",
      "2300\n",
      "2400\n",
      "2500\n",
      "2600\n",
      "2700\n",
      "2800\n",
      "2900\n",
      "3000\n",
      "3100\n",
      "3200\n",
      "3300\n",
      "3400\n",
      "3500\n",
      "yuanyuan_8k_a_3day/maskcnn_polished_with_rcnn_k_bl.multipath/s_selegacy/in_sz50/out_ch32/num_l3/k_l19/k_p3/ptavg/bn_a_fcFalse/actrelu/r_c4/r_psize1/r_ptypeNone/r_acccummean/ff1st_True/ff1stbba_False/train_keep_1280/rp_none/mp_True/mpb_True/sc0.01/sm0.000005/lmse/m_se0\n",
      "{'conv_map': {'R1': 0.28937041759490967, 'B1': 0.2895389795303345, 'R2': 0.3001226782798767, 'B2': 0.3026030659675598, 'I': 1.0}, 'scale_map': {'s1,1': 4.373319625854492, 's1,2': 4.405406951904297, 's1,3': 4.411630630493164, 's1,4': 4.403587341308594, 's2,1': 4.083597183227539, 's2,2': 4.0505852699279785, 's2,3': 3.705155372619629, 's2,4': 3.4414539337158203, 's1,1,1': 4.380185127258301, 's1,2,1': 2.9293975830078125, 's2,2,1': 4.946907997131348, 's1,1,2': 4.382360458374023, 's2,1,1': 3.50168514251709, 's2,2,2': 3.439152717590332, 's1,2,2': 4.4143242835998535, 's1,3,1': 2.914072036743164, 's2,3,1': 4.542341232299805, 's1,1,3': 4.379550933837891, 's1,2,3': 2.9081203937530518, 's1,3,2': 3.7651538848876953, 's2,3,2': 3.7196452617645264, 's1,2,4': 4.403216361999512, 's2,2,3': 3.5056915283203125, 's2,3,3': 3.2711219787597656, 's1,1,4': 4.407041549682617, 's1,2,5': 2.9064455032348633, 's2,2,4': 4.164567947387695, 's2,3,4': 3.107945442199707, 's1,1,5': 4.400018692016602, 's2,1,2': 3.499584674835205, 's2,2,5': 3.040889263153076, 's2,3,5': 2.69480037689209, 's1,3,3': 4.406249523162842, 's1,4,1': 2.9048657417297363, 's2,4,1': 4.004540920257568, 's1,2,6': 4.408965587615967, 's1,3,4': 2.8983659744262695, 's1,4,2': 3.7429075241088867, 's2,4,2': 3.3441100120544434, 's1,1,6': 4.41275691986084, 's1,2,7': 2.9129128456115723, 's1,3,5': 3.7198328971862793, 's1,4,3': 3.585514545440674, 's2,4,3': 3.010672092437744, 's1,3,6': 4.409974098205566, 's2,3,6': 3.4459962844848633, 's2,4,4': 3.0265140533447266, 's1,2,8': 4.408759117126465, 's1,3,7': 2.8956427574157715, 's2,3,7': 4.131546974182129, 's2,4,5': 2.831759214401245, 's1,1,7': 4.421103477478027, 's1,2,9': 2.8985025882720947, 's1,3,8': 3.7580254077911377, 's2,3,8': 3.3999361991882324, 's2,4,6': 2.9038338661193848, 's1,2,10': 4.417854309082031, 's2,2,6': 3.446599245071411, 's2,3,9': 3.0888290405273438, 's2,4,7': 2.46895694732666, 's1,1,8': 4.413981914520264, 's1,2,11': 2.881817102432251, 's2,2,7': 4.12777042388916, 's2,3,10': 2.915064811706543, 's2,4,8': 2.3777198791503906, 's1,1,9': 4.422085285186768, 's2,1,3': 3.456173896789551, 's2,2,8': 3.0762386322021484, 's2,3,11': 2.524397373199463, 's2,4,9': 2.2712106704711914}}\n",
      "[{'conv': ('I', 'B1', 'B2'), 'scale': (1.0, 's1,1', 's2,1', 1.0, 0.25)}, {'conv': ('I', 'B1', 'B2'), 'scale': (1.0, 's1,1', 's2,1', 0.5, 0.25)}, {'conv': ('I', 'B1', 'B2'), 'scale': (1.0, 's1,2', 's2,2', 0.5, 0.25)}, {'conv': ('I', 'B1', 'R1', 'B2'), 'scale': (1.0, 's1,1,1', 's1,2,1', 's2,2,1', 0.5, 0.25)}, {'conv': ('I', 'B1', 'B2', 'R2'), 'scale': (1.0, 's1,1,2', 's2,1,1', 's2,2,2', 0.5, 0.25)}, {'conv': ('I', 'B1', 'B2'), 'scale': (1.0, 's1,1', 's2,1', 0.3333333333333333, 0.25)}, {'conv': ('I', 'B1', 'B2'), 'scale': (1.0, 's1,2', 's2,2', 0.3333333333333333, 0.25)}, {'conv': ('I', 'B1', 'R1', 'B2'), 'scale': (1.0, 's1,1,1', 's1,2,1', 's2,2,1', 0.3333333333333333, 0.25)}, {'conv': ('I', 'B1', 'B2', 'R2'), 'scale': (1.0, 's1,1,2', 's2,1,1', 's2,2,2', 0.3333333333333333, 0.25)}, {'conv': ('I', 'B1', 'B2'), 'scale': (1.0, 's1,3', 's2,3', 0.3333333333333333, 0.25)}, {'conv': ('I', 'B1', 'R1', 'B2'), 'scale': (1.0, 's1,2,2', 's1,3,1', 's2,3,1', 0.3333333333333333, 0.25)}, {'conv': ('I', 'B1', 'R1', 'R1', 'B2'), 'scale': (1.0, 's1,1,3', 's1,2,3', 's1,3,2', 's2,3,2', 0.3333333333333333, 0.25)}, {'conv': ('I', 'B1', 'B2', 'R2'), 'scale': (1.0, 's1,2,4', 's2,2,3', 's2,3,3', 0.3333333333333333, 0.25)}, {'conv': ('I', 'B1', 'R1', 'B2', 'R2'), 'scale': (1.0, 's1,1,4', 's1,2,5', 's2,2,4', 's2,3,4', 0.3333333333333333, 0.25)}, {'conv': ('I', 'B1', 'B2', 'R2', 'R2'), 'scale': (1.0, 's1,1,5', 's2,1,2', 's2,2,5', 's2,3,5', 0.3333333333333333, 0.25)}, {'conv': ('I', 'B1', 'B2'), 'scale': (1.0, 's1,1', 's2,1', 0.25, 0.25)}, {'conv': ('I', 'B1', 'B2'), 'scale': (1.0, 's1,2', 's2,2', 0.25, 0.25)}, {'conv': ('I', 'B1', 'R1', 'B2'), 'scale': (1.0, 's1,1,1', 's1,2,1', 's2,2,1', 0.25, 0.25)}, {'conv': ('I', 'B1', 'B2', 'R2'), 'scale': (1.0, 's1,1,2', 's2,1,1', 's2,2,2', 0.25, 0.25)}, {'conv': ('I', 'B1', 'B2'), 'scale': (1.0, 's1,3', 's2,3', 0.25, 0.25)}, {'conv': ('I', 'B1', 'R1', 'B2'), 'scale': (1.0, 's1,2,2', 's1,3,1', 's2,3,1', 0.25, 0.25)}, {'conv': ('I', 'B1', 'R1', 'R1', 'B2'), 'scale': (1.0, 's1,1,3', 's1,2,3', 's1,3,2', 's2,3,2', 0.25, 0.25)}, {'conv': ('I', 'B1', 'B2', 'R2'), 'scale': (1.0, 's1,2,4', 's2,2,3', 's2,3,3', 0.25, 0.25)}, {'conv': ('I', 'B1', 'R1', 'B2', 'R2'), 'scale': (1.0, 's1,1,4', 's1,2,5', 's2,2,4', 's2,3,4', 0.25, 0.25)}, {'conv': ('I', 'B1', 'B2', 'R2', 'R2'), 'scale': (1.0, 's1,1,5', 's2,1,2', 's2,2,5', 's2,3,5', 0.25, 0.25)}, {'conv': ('I', 'B1', 'B2'), 'scale': (1.0, 's1,4', 's2,4', 0.25, 0.25)}, {'conv': ('I', 'B1', 'R1', 'B2'), 'scale': (1.0, 's1,3,3', 's1,4,1', 's2,4,1', 0.25, 0.25)}, {'conv': ('I', 'B1', 'R1', 'R1', 'B2'), 'scale': (1.0, 's1,2,6', 's1,3,4', 's1,4,2', 's2,4,2', 0.25, 0.25)}, {'conv': ('I', 'B1', 'R1', 'R1', 'R1', 'B2'), 'scale': (1.0, 's1,1,6', 's1,2,7', 's1,3,5', 's1,4,3', 's2,4,3', 0.25, 0.25)}, {'conv': ('I', 'B1', 'B2', 'R2'), 'scale': (1.0, 's1,3,6', 's2,3,6', 's2,4,4', 0.25, 0.25)}, {'conv': ('I', 'B1', 'R1', 'B2', 'R2'), 'scale': (1.0, 's1,2,8', 's1,3,7', 's2,3,7', 's2,4,5', 0.25, 0.25)}, {'conv': ('I', 'B1', 'R1', 'R1', 'B2', 'R2'), 'scale': (1.0, 's1,1,7', 's1,2,9', 's1,3,8', 's2,3,8', 's2,4,6', 0.25, 0.25)}, {'conv': ('I', 'B1', 'B2', 'R2', 'R2'), 'scale': (1.0, 's1,2,10', 's2,2,6', 's2,3,9', 's2,4,7', 0.25, 0.25)}, {'conv': ('I', 'B1', 'R1', 'B2', 'R2', 'R2'), 'scale': (1.0, 's1,1,8', 's1,2,11', 's2,2,7', 's2,3,10', 's2,4,8', 0.25, 0.25)}, {'conv': ('I', 'B1', 'B2', 'R2', 'R2', 'R2'), 'scale': (1.0, 's1,1,9', 's2,1,3', 's2,2,8', 's2,3,11', 's2,4,9', 0.25, 0.25)}]\n",
      "3600\n",
      "3700\n",
      "3800\n",
      "3900\n",
      "4000\n",
      "4100\n",
      "4200\n",
      "4300\n",
      "4400\n",
      "yuanyuan_8k_a_3day/maskcnn_polished_with_rcnn_k_bl.multipath/s_selegacy/in_sz50/out_ch32/num_l3/k_l19/k_p3/ptavg/bn_a_fcFalse/actrelu/r_c4/r_psize1/r_ptypeNone/r_acccummean/ff1st_True/ff1stbba_False/train_keep_2560/rp_none/mp_True/mpb_True/sc0.01/sm0.000005/lmse/m_se0\n",
      "{'conv_map': {'R1': 0.4565534293651581, 'B1': 0.4642191231250763, 'R2': 0.4477218985557556, 'B2': 0.45991358160972595, 'I': 1.0}, 'scale_map': {'s1,1': 3.645524024963379, 's1,2': 3.6348955631256104, 's1,3': 3.6171000003814697, 's1,4': 3.5916898250579834, 's2,1': 4.4451494216918945, 's2,2': 3.753390312194824, 's2,3': 3.073535442352295, 's2,4': 2.8030505180358887, 's1,1,1': 3.620790481567383, 's1,2,1': 2.328015089035034, 's2,2,1': 5.2784833908081055, 's1,1,2': 3.6442666053771973, 's2,1,1': 2.889155149459839, 's2,2,2': 3.823261260986328, 's1,2,2': 3.6221251487731934, 's1,3,1': 2.2926812171936035, 's2,3,1': 4.103020191192627, 's1,1,3': 3.5914437770843506, 's1,2,3': 2.278687000274658, 's1,3,2': 2.9938836097717285, 's2,3,2': 3.2557077407836914, 's1,2,4': 3.643357276916504, 's2,2,3': 2.9129223823547363, 's2,3,3': 2.9866669178009033, 's1,1,4': 3.6156740188598633, 's1,2,5': 2.27810001373291, 's2,2,4': 3.7469067573547363, 's2,3,4': 2.976517915725708, 's1,1,5': 3.63374662399292, 's2,1,2': 2.9087281227111816, 's2,2,5': 2.788938522338867, 's2,3,5': 2.350855827331543, 's1,3,3': 3.624715805053711, 's1,4,1': 2.256319761276245, 's2,4,1': 3.48384428024292, 's1,2,6': 3.6020898818969727, 's1,3,4': 2.2585630416870117, 's1,4,2': 2.9411277770996094, 's2,4,2': 2.709874391555786, 's1,1,6': 3.5805857181549072, 's1,2,7': 2.2465298175811768, 's1,3,5': 3.0098841190338135, 's1,4,3': 2.6249704360961914, 's2,4,3': 2.378544330596924, 's1,3,6': 3.615551233291626, 's2,3,6': 2.912024974822998, 's2,4,4': 2.565505266189575, 's1,2,8': 3.6060585975646973, 's1,3,7': 2.2527973651885986, 's2,3,7': 3.7579431533813477, 's2,4,5': 2.402710437774658, 's1,1,7': 3.5886473655700684, 's1,2,9': 2.2778258323669434, 's1,3,8': 2.9645047187805176, 's2,3,8': 2.9035592079162598, 's2,4,6': 2.3794968128204346, 's1,2,10': 3.6327364444732666, 's2,2,6': 2.8836636543273926, 's2,3,9': 2.8062610626220703, 's2,4,7': 1.9039973020553589, 's1,1,8': 3.618645668029785, 's1,2,11': 2.2647440433502197, 's2,2,7': 3.6716952323913574, 's2,3,10': 2.599492311477661, 's2,4,8': 1.8790191411972046, 's1,1,9': 3.6243486404418945, 's2,1,3': 2.9071044921875, 's2,2,8': 2.807542562484741, 's2,3,11': 2.0936577320098877, 's2,4,9': 1.7740544080734253}}\n",
      "[{'conv': ('I', 'B1', 'B2'), 'scale': (1.0, 's1,1', 's2,1', 1.0, 0.25)}, {'conv': ('I', 'B1', 'B2'), 'scale': (1.0, 's1,1', 's2,1', 0.5, 0.25)}, {'conv': ('I', 'B1', 'B2'), 'scale': (1.0, 's1,2', 's2,2', 0.5, 0.25)}, {'conv': ('I', 'B1', 'R1', 'B2'), 'scale': (1.0, 's1,1,1', 's1,2,1', 's2,2,1', 0.5, 0.25)}, {'conv': ('I', 'B1', 'B2', 'R2'), 'scale': (1.0, 's1,1,2', 's2,1,1', 's2,2,2', 0.5, 0.25)}, {'conv': ('I', 'B1', 'B2'), 'scale': (1.0, 's1,1', 's2,1', 0.3333333333333333, 0.25)}, {'conv': ('I', 'B1', 'B2'), 'scale': (1.0, 's1,2', 's2,2', 0.3333333333333333, 0.25)}, {'conv': ('I', 'B1', 'R1', 'B2'), 'scale': (1.0, 's1,1,1', 's1,2,1', 's2,2,1', 0.3333333333333333, 0.25)}, {'conv': ('I', 'B1', 'B2', 'R2'), 'scale': (1.0, 's1,1,2', 's2,1,1', 's2,2,2', 0.3333333333333333, 0.25)}, {'conv': ('I', 'B1', 'B2'), 'scale': (1.0, 's1,3', 's2,3', 0.3333333333333333, 0.25)}, {'conv': ('I', 'B1', 'R1', 'B2'), 'scale': (1.0, 's1,2,2', 's1,3,1', 's2,3,1', 0.3333333333333333, 0.25)}, {'conv': ('I', 'B1', 'R1', 'R1', 'B2'), 'scale': (1.0, 's1,1,3', 's1,2,3', 's1,3,2', 's2,3,2', 0.3333333333333333, 0.25)}, {'conv': ('I', 'B1', 'B2', 'R2'), 'scale': (1.0, 's1,2,4', 's2,2,3', 's2,3,3', 0.3333333333333333, 0.25)}, {'conv': ('I', 'B1', 'R1', 'B2', 'R2'), 'scale': (1.0, 's1,1,4', 's1,2,5', 's2,2,4', 's2,3,4', 0.3333333333333333, 0.25)}, {'conv': ('I', 'B1', 'B2', 'R2', 'R2'), 'scale': (1.0, 's1,1,5', 's2,1,2', 's2,2,5', 's2,3,5', 0.3333333333333333, 0.25)}, {'conv': ('I', 'B1', 'B2'), 'scale': (1.0, 's1,1', 's2,1', 0.25, 0.25)}, {'conv': ('I', 'B1', 'B2'), 'scale': (1.0, 's1,2', 's2,2', 0.25, 0.25)}, {'conv': ('I', 'B1', 'R1', 'B2'), 'scale': (1.0, 's1,1,1', 's1,2,1', 's2,2,1', 0.25, 0.25)}, {'conv': ('I', 'B1', 'B2', 'R2'), 'scale': (1.0, 's1,1,2', 's2,1,1', 's2,2,2', 0.25, 0.25)}, {'conv': ('I', 'B1', 'B2'), 'scale': (1.0, 's1,3', 's2,3', 0.25, 0.25)}, {'conv': ('I', 'B1', 'R1', 'B2'), 'scale': (1.0, 's1,2,2', 's1,3,1', 's2,3,1', 0.25, 0.25)}, {'conv': ('I', 'B1', 'R1', 'R1', 'B2'), 'scale': (1.0, 's1,1,3', 's1,2,3', 's1,3,2', 's2,3,2', 0.25, 0.25)}, {'conv': ('I', 'B1', 'B2', 'R2'), 'scale': (1.0, 's1,2,4', 's2,2,3', 's2,3,3', 0.25, 0.25)}, {'conv': ('I', 'B1', 'R1', 'B2', 'R2'), 'scale': (1.0, 's1,1,4', 's1,2,5', 's2,2,4', 's2,3,4', 0.25, 0.25)}, {'conv': ('I', 'B1', 'B2', 'R2', 'R2'), 'scale': (1.0, 's1,1,5', 's2,1,2', 's2,2,5', 's2,3,5', 0.25, 0.25)}, {'conv': ('I', 'B1', 'B2'), 'scale': (1.0, 's1,4', 's2,4', 0.25, 0.25)}, {'conv': ('I', 'B1', 'R1', 'B2'), 'scale': (1.0, 's1,3,3', 's1,4,1', 's2,4,1', 0.25, 0.25)}, {'conv': ('I', 'B1', 'R1', 'R1', 'B2'), 'scale': (1.0, 's1,2,6', 's1,3,4', 's1,4,2', 's2,4,2', 0.25, 0.25)}, {'conv': ('I', 'B1', 'R1', 'R1', 'R1', 'B2'), 'scale': (1.0, 's1,1,6', 's1,2,7', 's1,3,5', 's1,4,3', 's2,4,3', 0.25, 0.25)}, {'conv': ('I', 'B1', 'B2', 'R2'), 'scale': (1.0, 's1,3,6', 's2,3,6', 's2,4,4', 0.25, 0.25)}, {'conv': ('I', 'B1', 'R1', 'B2', 'R2'), 'scale': (1.0, 's1,2,8', 's1,3,7', 's2,3,7', 's2,4,5', 0.25, 0.25)}, {'conv': ('I', 'B1', 'R1', 'R1', 'B2', 'R2'), 'scale': (1.0, 's1,1,7', 's1,2,9', 's1,3,8', 's2,3,8', 's2,4,6', 0.25, 0.25)}, {'conv': ('I', 'B1', 'B2', 'R2', 'R2'), 'scale': (1.0, 's1,2,10', 's2,2,6', 's2,3,9', 's2,4,7', 0.25, 0.25)}, {'conv': ('I', 'B1', 'R1', 'B2', 'R2', 'R2'), 'scale': (1.0, 's1,1,8', 's1,2,11', 's2,2,7', 's2,3,10', 's2,4,8', 0.25, 0.25)}, {'conv': ('I', 'B1', 'B2', 'R2', 'R2', 'R2'), 'scale': (1.0, 's1,1,9', 's2,1,3', 's2,2,8', 's2,3,11', 's2,4,9', 0.25, 0.25)}]\n",
      "4500\n",
      "4600\n",
      "4700\n",
      "4800\n",
      "4900\n",
      "5000\n",
      "5100\n",
      "5200\n"
     ]
    },
    {
     "name": "stdout",
     "output_type": "stream",
     "text": [
      "yuanyuan_8k_a_3day/maskcnn_polished_with_rcnn_k_bl.multipath/s_selegacy/in_sz50/out_ch32/num_l3/k_l19/k_p3/ptavg/bn_a_fcFalse/actrelu/r_c4/r_psize1/r_ptypeNone/r_acccummean/ff1st_True/ff1stbba_False/rp_none/mp_True/mpb_True/sc0.01/sm0.000005/lmse/m_se0\n",
      "{'conv_map': {'R1': 0.5816912651062012, 'B1': 0.5809937715530396, 'R2': 0.5699679255485535, 'B2': 0.5765153169631958, 'I': 1.0}, 'scale_map': {'s1,1': 2.899909019470215, 's1,2': 2.8844685554504395, 's1,3': 2.8663458824157715, 's1,4': 2.8710811138153076, 's2,1': 3.6563987731933594, 's2,2': 2.7040205001831055, 's2,3': 2.1790671348571777, 's2,4': 2.005774736404419, 's1,1,1': 2.8594887256622314, 's1,2,1': 1.786651849746704, 's2,2,1': 4.471888065338135, 's1,1,2': 2.8597116470336914, 's2,1,1': 2.0942137241363525, 's2,2,2': 2.7330732345581055, 's1,2,2': 2.8524203300476074, 's1,3,1': 1.7515039443969727, 's2,3,1': 3.222273826599121, 's1,1,3': 2.866205930709839, 's1,2,3': 1.6962153911590576, 's1,3,2': 2.27785062789917, 's2,3,2': 2.337432384490967, 's1,2,4': 2.8674120903015137, 's2,2,3': 2.114018440246582, 's2,3,3': 1.9945290088653564, 's1,1,4': 2.8828742504119873, 's1,2,5': 1.700627326965332, 's2,2,4': 3.095580816268921, 's2,3,4': 2.0784811973571777, 's1,1,5': 2.875253200531006, 's2,1,2': 2.0938334465026855, 's2,2,5': 1.8963028192520142, 's2,3,5': 1.6041615009307861, 's1,3,3': 2.8434200286865234, 's1,4,1': 1.7235040664672852, 's2,4,1': 2.6946418285369873, 's1,2,6': 2.867487907409668, 's1,3,4': 1.684410572052002, 's1,4,2': 2.2488605976104736, 's2,4,2': 1.8171225786209106, 's1,1,6': 2.8640241622924805, 's1,2,7': 1.6609749794006348, 's1,3,5': 2.214498996734619, 's1,4,3': 1.799579381942749, 's2,4,3': 1.7748053073883057, 's1,3,6': 2.8666930198669434, 's2,3,6': 2.132427215576172, 's2,4,4': 1.6487619876861572, 's1,2,8': 2.8693456649780273, 's1,3,7': 1.6975135803222656, 's2,3,7': 3.0491979122161865, 's2,4,5': 1.6079256534576416, 's1,1,7': 2.8572311401367188, 's1,2,9': 1.6812562942504883, 's1,3,8': 2.1969351768493652, 's2,3,8': 2.150409460067749, 's2,4,6': 1.5644397735595703, 's1,2,10': 2.880136013031006, 's2,2,6': 2.0993497371673584, 's2,3,9': 1.8806700706481934, 's2,4,7': 1.2492077350616455, 's1,1,8': 2.853412628173828, 's1,2,11': 1.6911107301712036, 's2,2,7': 3.0625576972961426, 's2,3,10': 1.829244613647461, 's2,4,8': 1.3357045650482178, 's1,1,9': 2.8862404823303223, 's2,1,3': 2.0809874534606934, 's2,2,8': 1.8816287517547607, 's2,3,11': 1.430872917175293, 's2,4,9': 1.2138001918792725}}\n",
      "[{'conv': ('I', 'B1', 'B2'), 'scale': (1.0, 's1,1', 's2,1', 1.0, 0.25)}, {'conv': ('I', 'B1', 'B2'), 'scale': (1.0, 's1,1', 's2,1', 0.5, 0.25)}, {'conv': ('I', 'B1', 'B2'), 'scale': (1.0, 's1,2', 's2,2', 0.5, 0.25)}, {'conv': ('I', 'B1', 'R1', 'B2'), 'scale': (1.0, 's1,1,1', 's1,2,1', 's2,2,1', 0.5, 0.25)}, {'conv': ('I', 'B1', 'B2', 'R2'), 'scale': (1.0, 's1,1,2', 's2,1,1', 's2,2,2', 0.5, 0.25)}, {'conv': ('I', 'B1', 'B2'), 'scale': (1.0, 's1,1', 's2,1', 0.3333333333333333, 0.25)}, {'conv': ('I', 'B1', 'B2'), 'scale': (1.0, 's1,2', 's2,2', 0.3333333333333333, 0.25)}, {'conv': ('I', 'B1', 'R1', 'B2'), 'scale': (1.0, 's1,1,1', 's1,2,1', 's2,2,1', 0.3333333333333333, 0.25)}, {'conv': ('I', 'B1', 'B2', 'R2'), 'scale': (1.0, 's1,1,2', 's2,1,1', 's2,2,2', 0.3333333333333333, 0.25)}, {'conv': ('I', 'B1', 'B2'), 'scale': (1.0, 's1,3', 's2,3', 0.3333333333333333, 0.25)}, {'conv': ('I', 'B1', 'R1', 'B2'), 'scale': (1.0, 's1,2,2', 's1,3,1', 's2,3,1', 0.3333333333333333, 0.25)}, {'conv': ('I', 'B1', 'R1', 'R1', 'B2'), 'scale': (1.0, 's1,1,3', 's1,2,3', 's1,3,2', 's2,3,2', 0.3333333333333333, 0.25)}, {'conv': ('I', 'B1', 'B2', 'R2'), 'scale': (1.0, 's1,2,4', 's2,2,3', 's2,3,3', 0.3333333333333333, 0.25)}, {'conv': ('I', 'B1', 'R1', 'B2', 'R2'), 'scale': (1.0, 's1,1,4', 's1,2,5', 's2,2,4', 's2,3,4', 0.3333333333333333, 0.25)}, {'conv': ('I', 'B1', 'B2', 'R2', 'R2'), 'scale': (1.0, 's1,1,5', 's2,1,2', 's2,2,5', 's2,3,5', 0.3333333333333333, 0.25)}, {'conv': ('I', 'B1', 'B2'), 'scale': (1.0, 's1,1', 's2,1', 0.25, 0.25)}, {'conv': ('I', 'B1', 'B2'), 'scale': (1.0, 's1,2', 's2,2', 0.25, 0.25)}, {'conv': ('I', 'B1', 'R1', 'B2'), 'scale': (1.0, 's1,1,1', 's1,2,1', 's2,2,1', 0.25, 0.25)}, {'conv': ('I', 'B1', 'B2', 'R2'), 'scale': (1.0, 's1,1,2', 's2,1,1', 's2,2,2', 0.25, 0.25)}, {'conv': ('I', 'B1', 'B2'), 'scale': (1.0, 's1,3', 's2,3', 0.25, 0.25)}, {'conv': ('I', 'B1', 'R1', 'B2'), 'scale': (1.0, 's1,2,2', 's1,3,1', 's2,3,1', 0.25, 0.25)}, {'conv': ('I', 'B1', 'R1', 'R1', 'B2'), 'scale': (1.0, 's1,1,3', 's1,2,3', 's1,3,2', 's2,3,2', 0.25, 0.25)}, {'conv': ('I', 'B1', 'B2', 'R2'), 'scale': (1.0, 's1,2,4', 's2,2,3', 's2,3,3', 0.25, 0.25)}, {'conv': ('I', 'B1', 'R1', 'B2', 'R2'), 'scale': (1.0, 's1,1,4', 's1,2,5', 's2,2,4', 's2,3,4', 0.25, 0.25)}, {'conv': ('I', 'B1', 'B2', 'R2', 'R2'), 'scale': (1.0, 's1,1,5', 's2,1,2', 's2,2,5', 's2,3,5', 0.25, 0.25)}, {'conv': ('I', 'B1', 'B2'), 'scale': (1.0, 's1,4', 's2,4', 0.25, 0.25)}, {'conv': ('I', 'B1', 'R1', 'B2'), 'scale': (1.0, 's1,3,3', 's1,4,1', 's2,4,1', 0.25, 0.25)}, {'conv': ('I', 'B1', 'R1', 'R1', 'B2'), 'scale': (1.0, 's1,2,6', 's1,3,4', 's1,4,2', 's2,4,2', 0.25, 0.25)}, {'conv': ('I', 'B1', 'R1', 'R1', 'R1', 'B2'), 'scale': (1.0, 's1,1,6', 's1,2,7', 's1,3,5', 's1,4,3', 's2,4,3', 0.25, 0.25)}, {'conv': ('I', 'B1', 'B2', 'R2'), 'scale': (1.0, 's1,3,6', 's2,3,6', 's2,4,4', 0.25, 0.25)}, {'conv': ('I', 'B1', 'R1', 'B2', 'R2'), 'scale': (1.0, 's1,2,8', 's1,3,7', 's2,3,7', 's2,4,5', 0.25, 0.25)}, {'conv': ('I', 'B1', 'R1', 'R1', 'B2', 'R2'), 'scale': (1.0, 's1,1,7', 's1,2,9', 's1,3,8', 's2,3,8', 's2,4,6', 0.25, 0.25)}, {'conv': ('I', 'B1', 'B2', 'R2', 'R2'), 'scale': (1.0, 's1,2,10', 's2,2,6', 's2,3,9', 's2,4,7', 0.25, 0.25)}, {'conv': ('I', 'B1', 'R1', 'B2', 'R2', 'R2'), 'scale': (1.0, 's1,1,8', 's1,2,11', 's2,2,7', 's2,3,10', 's2,4,8', 0.25, 0.25)}, {'conv': ('I', 'B1', 'B2', 'R2', 'R2', 'R2'), 'scale': (1.0, 's1,1,9', 's2,1,3', 's2,2,8', 's2,3,11', 's2,4,9', 0.25, 0.25)}]\n",
      "5300\n",
      "5400\n",
      "5500\n",
      "5600\n",
      "5700\n",
      "5800\n",
      "5900\n",
      "6000\n",
      "6100\n",
      "6200\n",
      "6300\n",
      "6400\n",
      "6500\n",
      "6600\n",
      "6700\n",
      "6800\n",
      "6900\n",
      "7000\n",
      "7100\n",
      "7200\n",
      "7300\n",
      "7400\n",
      "7500\n",
      "7600\n",
      "7700\n"
     ]
    }
   ],
   "source": [
    "f_main_result = join(dir_dict['analyses'], 'yuanyuan_8k_a_3day_refactored', '20201114+20201118_separatebn', 'source_analysis.pkl.debug3layer')\n",
    "if not exists(f_main_result):\n",
    "    makedirs(dirname(f_main_result), exist_ok=True)\n",
    "    df_main_result = collect_rcnn_k_bl_source_analysis(\n",
    "        fixed_keys = {\n",
    "        'kernel_size_l23': 3,\n",
    "        'kernel_size_l1': 9,\n",
    "        'ff_1st_block': True,\n",
    "        'pooling_ksize': 3,\n",
    "        'pooling_type': 'avg',\n",
    "        'bn_after_fc': False,\n",
    "        'rcnn_bl_psize': 1,\n",
    "        'rcnn_bl_ptype': None,\n",
    "        'input_size': 50,\n",
    "        'split_seed': 'legacy',\n",
    "        'dataset_prefix': 'yuanyuan_8k_a_3day',\n",
    "        'model_prefix': 'maskcnn_polished_with_rcnn_k_bl',\n",
    "        'scale_name': '0.01',\n",
    "        'scale': '0.01',\n",
    "        'smoothness_name': '0.000005',\n",
    "        'smoothness': '0.000005',\n",
    "                        'multi_path': True,\n",
    "            'multi_path_separate_bn': True,\n",
    "    },\n",
    "        generator=chain(\n",
    "            explored_models_20201114_generator(with_source=True, separate_bn_list=[True]),\n",
    "            explored_models_20201118_generator(with_source=True, separate_bn_list=[True]),\n",
    "        ),\n",
    "        total_num_param=28,\n",
    "        train_size_mapping={\n",
    "            None: 5120,\n",
    "        },\n",
    "        no_missing_data=False,\n",
    "        key_override={'model_prefix': 'maskcnn_polished_with_rcnn_k_bl.multipath'},\n",
    "        debug=True,\n",
    "        debug_3layer=True,\n",
    "    )\n",
    "    df_main_result.to_pickle(f_main_result)\n",
    "    del df_main_result\n",
    "df_main_result = pd.read_pickle(f_main_result)"
   ]
  },
  {
   "cell_type": "code",
   "execution_count": 4,
   "metadata": {},
   "outputs": [
    {
     "data": {
      "text/html": [
       "<div>\n",
       "<style scoped>\n",
       "    .dataframe tbody tr th:only-of-type {\n",
       "        vertical-align: middle;\n",
       "    }\n",
       "\n",
       "    .dataframe tbody tr th {\n",
       "        vertical-align: top;\n",
       "    }\n",
       "\n",
       "    .dataframe thead th {\n",
       "        text-align: right;\n",
       "    }\n",
       "</style>\n",
       "<table border=\"1\" class=\"dataframe\">\n",
       "  <thead>\n",
       "    <tr style=\"text-align: right;\">\n",
       "      <th></th>\n",
       "      <th></th>\n",
       "      <th></th>\n",
       "      <th></th>\n",
       "      <th></th>\n",
       "      <th></th>\n",
       "      <th></th>\n",
       "      <th></th>\n",
       "      <th></th>\n",
       "      <th>num_param</th>\n",
       "      <th>source_analysis</th>\n",
       "    </tr>\n",
       "    <tr>\n",
       "      <th>act_fn</th>\n",
       "      <th>ff_1st_bn_before_act</th>\n",
       "      <th>loss_type</th>\n",
       "      <th>model_seed</th>\n",
       "      <th>num_layer</th>\n",
       "      <th>out_channel</th>\n",
       "      <th>rcnn_bl_cls</th>\n",
       "      <th>readout_type</th>\n",
       "      <th>train_keep</th>\n",
       "      <th></th>\n",
       "      <th></th>\n",
       "    </tr>\n",
       "  </thead>\n",
       "  <tbody>\n",
       "    <tr>\n",
       "      <th rowspan=\"3\" valign=\"top\">relu</th>\n",
       "      <th rowspan=\"3\" valign=\"top\">False</th>\n",
       "      <th rowspan=\"3\" valign=\"top\">mse</th>\n",
       "      <th rowspan=\"3\" valign=\"top\">0</th>\n",
       "      <th rowspan=\"3\" valign=\"top\">3</th>\n",
       "      <th rowspan=\"3\" valign=\"top\">32</th>\n",
       "      <th rowspan=\"3\" valign=\"top\">4</th>\n",
       "      <th rowspan=\"3\" valign=\"top\">cm-avg</th>\n",
       "      <th>1280</th>\n",
       "      <td>62125</td>\n",
       "      <td>{('I', 'B1', 'B2'): 1.5302295947998734, ('I', ...</td>\n",
       "    </tr>\n",
       "    <tr>\n",
       "      <th>2560</th>\n",
       "      <td>62125</td>\n",
       "      <td>{('I', 'B1', 'B2'): 3.0713313639963173, ('I', ...</td>\n",
       "    </tr>\n",
       "    <tr>\n",
       "      <th>5120</th>\n",
       "      <td>62125</td>\n",
       "      <td>{('I', 'B1', 'B2'): 2.9829841477085197, ('I', ...</td>\n",
       "    </tr>\n",
       "  </tbody>\n",
       "</table>\n",
       "</div>"
      ],
      "text/plain": [
       "                                                                                                            num_param  \\\n",
       "act_fn ff_1st_bn_before_act loss_type model_seed num_layer out_channel rcnn_bl_cls readout_type train_keep              \n",
       "relu   False                mse       0          3         32          4           cm-avg       1280            62125   \n",
       "                                                                                                2560            62125   \n",
       "                                                                                                5120            62125   \n",
       "\n",
       "                                                                                                                                              source_analysis  \n",
       "act_fn ff_1st_bn_before_act loss_type model_seed num_layer out_channel rcnn_bl_cls readout_type train_keep                                                     \n",
       "relu   False                mse       0          3         32          4           cm-avg       1280        {('I', 'B1', 'B2'): 1.5302295947998734, ('I', ...  \n",
       "                                                                                                2560        {('I', 'B1', 'B2'): 3.0713313639963173, ('I', ...  \n",
       "                                                                                                5120        {('I', 'B1', 'B2'): 2.9829841477085197, ('I', ...  "
      ]
     },
     "execution_count": 4,
     "metadata": {},
     "output_type": "execute_result"
    }
   ],
   "source": [
    "df_main_result"
   ]
  },
  {
   "cell_type": "code",
   "execution_count": 5,
   "metadata": {},
   "outputs": [],
   "source": [
    "df_main_result = df_main_result.dropna()"
   ]
  },
  {
   "cell_type": "code",
   "execution_count": 6,
   "metadata": {},
   "outputs": [
    {
     "data": {
      "text/html": [
       "<div>\n",
       "<style scoped>\n",
       "    .dataframe tbody tr th:only-of-type {\n",
       "        vertical-align: middle;\n",
       "    }\n",
       "\n",
       "    .dataframe tbody tr th {\n",
       "        vertical-align: top;\n",
       "    }\n",
       "\n",
       "    .dataframe thead th {\n",
       "        text-align: right;\n",
       "    }\n",
       "</style>\n",
       "<table border=\"1\" class=\"dataframe\">\n",
       "  <thead>\n",
       "    <tr style=\"text-align: right;\">\n",
       "      <th></th>\n",
       "      <th></th>\n",
       "      <th></th>\n",
       "      <th></th>\n",
       "      <th></th>\n",
       "      <th></th>\n",
       "      <th></th>\n",
       "      <th></th>\n",
       "      <th></th>\n",
       "      <th>num_param</th>\n",
       "      <th>source_analysis</th>\n",
       "    </tr>\n",
       "    <tr>\n",
       "      <th>act_fn</th>\n",
       "      <th>ff_1st_bn_before_act</th>\n",
       "      <th>loss_type</th>\n",
       "      <th>model_seed</th>\n",
       "      <th>num_layer</th>\n",
       "      <th>out_channel</th>\n",
       "      <th>rcnn_bl_cls</th>\n",
       "      <th>readout_type</th>\n",
       "      <th>train_keep</th>\n",
       "      <th></th>\n",
       "      <th></th>\n",
       "    </tr>\n",
       "  </thead>\n",
       "  <tbody>\n",
       "    <tr>\n",
       "      <th rowspan=\"3\" valign=\"top\">relu</th>\n",
       "      <th rowspan=\"3\" valign=\"top\">False</th>\n",
       "      <th rowspan=\"3\" valign=\"top\">mse</th>\n",
       "      <th rowspan=\"3\" valign=\"top\">0</th>\n",
       "      <th rowspan=\"3\" valign=\"top\">3</th>\n",
       "      <th rowspan=\"3\" valign=\"top\">32</th>\n",
       "      <th rowspan=\"3\" valign=\"top\">4</th>\n",
       "      <th rowspan=\"3\" valign=\"top\">cm-avg</th>\n",
       "      <th>1280</th>\n",
       "      <td>62125</td>\n",
       "      <td>{('I', 'B1', 'B2'): 1.5302295947998734, ('I', ...</td>\n",
       "    </tr>\n",
       "    <tr>\n",
       "      <th>2560</th>\n",
       "      <td>62125</td>\n",
       "      <td>{('I', 'B1', 'B2'): 3.0713313639963173, ('I', ...</td>\n",
       "    </tr>\n",
       "    <tr>\n",
       "      <th>5120</th>\n",
       "      <td>62125</td>\n",
       "      <td>{('I', 'B1', 'B2'): 2.9829841477085197, ('I', ...</td>\n",
       "    </tr>\n",
       "  </tbody>\n",
       "</table>\n",
       "</div>"
      ],
      "text/plain": [
       "                                                                                                            num_param  \\\n",
       "act_fn ff_1st_bn_before_act loss_type model_seed num_layer out_channel rcnn_bl_cls readout_type train_keep              \n",
       "relu   False                mse       0          3         32          4           cm-avg       1280            62125   \n",
       "                                                                                                2560            62125   \n",
       "                                                                                                5120            62125   \n",
       "\n",
       "                                                                                                                                              source_analysis  \n",
       "act_fn ff_1st_bn_before_act loss_type model_seed num_layer out_channel rcnn_bl_cls readout_type train_keep                                                     \n",
       "relu   False                mse       0          3         32          4           cm-avg       1280        {('I', 'B1', 'B2'): 1.5302295947998734, ('I', ...  \n",
       "                                                                                                2560        {('I', 'B1', 'B2'): 3.0713313639963173, ('I', ...  \n",
       "                                                                                                5120        {('I', 'B1', 'B2'): 2.9829841477085197, ('I', ...  "
      ]
     },
     "execution_count": 6,
     "metadata": {},
     "output_type": "execute_result"
    }
   ],
   "source": [
    "df_main_result"
   ]
  },
  {
   "cell_type": "code",
   "execution_count": 7,
   "metadata": {},
   "outputs": [],
   "source": [
    "# compare with previous result.\n",
    "f_main_result_prev = join(dir_dict['analyses'], 'yuanyuan_8k_a_3day_refactored', '20200725+20200801+20200801_2', 'source_analysis.pkl')\n",
    "df_main_result_prev = pd.read_pickle(f_main_result_prev)"
   ]
  },
  {
   "cell_type": "code",
   "execution_count": 8,
   "metadata": {},
   "outputs": [],
   "source": [
    "def remove_high_cls(df_this):\n",
    "    df_this = df_this[df_this.index.get_level_values('rcnn_bl_cls') <= 7]\n",
    "    return df_this.sort_index()\n",
    "\n",
    "df_main_result = remove_high_cls(df_main_result)\n",
    "df_main_result_prev = remove_high_cls(df_main_result_prev)"
   ]
  },
  {
   "cell_type": "code",
   "execution_count": 9,
   "metadata": {},
   "outputs": [],
   "source": [
    "# check their corrsponding ones, and compute vector similarity"
   ]
  },
  {
   "cell_type": "code",
   "execution_count": 10,
   "metadata": {},
   "outputs": [],
   "source": [
    "import numpy as np"
   ]
  },
  {
   "cell_type": "code",
   "execution_count": 11,
   "metadata": {},
   "outputs": [],
   "source": [
    "def get_normalized_vec(x):\n",
    "#     keys = [('I',) + ('B1',) + ('R1',)*i for i in range(7)]\n",
    "#     assert x.keys() <= set(keys)\n",
    "    ret = np.zeros((8,))\n",
    "    for key, v in x.items():\n",
    "        assert len(key) >= 2 and len(key) <= 9\n",
    "        ret[len(key)-2] += v  # -2 because minimal length of key is 2 (I + one Conv)\n",
    "    ret = ret/ret.sum()\n",
    "    return ret\n",
    "\n",
    "df_main_result['source_analysis_vec'] = df_main_result['source_analysis'].map(lambda x: get_normalized_vec(x))\n",
    "# del df_main_result['source_analysis']"
   ]
  },
  {
   "cell_type": "code",
   "execution_count": 12,
   "metadata": {},
   "outputs": [],
   "source": [
    "def get_vec_2(x, y):\n",
    "    # key has order, actually.\n",
    "    assert x.keys() == y.keys()\n",
    "    print(x.keys())\n",
    "    # sort by length, basically\n",
    "    key_sum_x = sum(x.values())\n",
    "    key_sum_y = sum(y.values())\n",
    "    return (\n",
    "        [z[1]/key_sum_x for z in sorted(x.items(), key = lambda xx: xx[0])],\n",
    "        [z[1]/key_sum_y for z in sorted(y.items(), key = lambda xx: xx[0])]\n",
    "    )"
   ]
  },
  {
   "cell_type": "code",
   "execution_count": 13,
   "metadata": {},
   "outputs": [
    {
     "data": {
      "text/html": [
       "<div>\n",
       "<style scoped>\n",
       "    .dataframe tbody tr th:only-of-type {\n",
       "        vertical-align: middle;\n",
       "    }\n",
       "\n",
       "    .dataframe tbody tr th {\n",
       "        vertical-align: top;\n",
       "    }\n",
       "\n",
       "    .dataframe thead th {\n",
       "        text-align: right;\n",
       "    }\n",
       "</style>\n",
       "<table border=\"1\" class=\"dataframe\">\n",
       "  <thead>\n",
       "    <tr style=\"text-align: right;\">\n",
       "      <th></th>\n",
       "      <th></th>\n",
       "      <th></th>\n",
       "      <th></th>\n",
       "      <th></th>\n",
       "      <th></th>\n",
       "      <th></th>\n",
       "      <th></th>\n",
       "      <th></th>\n",
       "      <th>num_param</th>\n",
       "      <th>source_analysis</th>\n",
       "      <th>source_analysis_vec</th>\n",
       "    </tr>\n",
       "    <tr>\n",
       "      <th>act_fn</th>\n",
       "      <th>ff_1st_bn_before_act</th>\n",
       "      <th>loss_type</th>\n",
       "      <th>model_seed</th>\n",
       "      <th>num_layer</th>\n",
       "      <th>out_channel</th>\n",
       "      <th>rcnn_bl_cls</th>\n",
       "      <th>readout_type</th>\n",
       "      <th>train_keep</th>\n",
       "      <th></th>\n",
       "      <th></th>\n",
       "      <th></th>\n",
       "    </tr>\n",
       "  </thead>\n",
       "  <tbody>\n",
       "    <tr>\n",
       "      <th rowspan=\"3\" valign=\"top\">relu</th>\n",
       "      <th rowspan=\"3\" valign=\"top\">False</th>\n",
       "      <th rowspan=\"3\" valign=\"top\">mse</th>\n",
       "      <th rowspan=\"3\" valign=\"top\">0</th>\n",
       "      <th rowspan=\"3\" valign=\"top\">3</th>\n",
       "      <th rowspan=\"3\" valign=\"top\">32</th>\n",
       "      <th rowspan=\"3\" valign=\"top\">4</th>\n",
       "      <th rowspan=\"3\" valign=\"top\">cm-avg</th>\n",
       "      <th>1280</th>\n",
       "      <td>62125</td>\n",
       "      <td>{('I', 'B1', 'B2'): 1.5302295947998734, ('I', ...</td>\n",
       "      <td>[0.0, 0.39685839552858454, 0.35742690919751896...</td>\n",
       "    </tr>\n",
       "    <tr>\n",
       "      <th>2560</th>\n",
       "      <td>62125</td>\n",
       "      <td>{('I', 'B1', 'B2'): 3.0713313639963173, ('I', ...</td>\n",
       "      <td>[0.0, 0.32933887772528425, 0.3729353468997754,...</td>\n",
       "    </tr>\n",
       "    <tr>\n",
       "      <th>5120</th>\n",
       "      <td>62125</td>\n",
       "      <td>{('I', 'B1', 'B2'): 2.9829841477085197, ('I', ...</td>\n",
       "      <td>[0.0, 0.36190871323580964, 0.37938080035533633...</td>\n",
       "    </tr>\n",
       "  </tbody>\n",
       "</table>\n",
       "</div>"
      ],
      "text/plain": [
       "                                                                                                            num_param  \\\n",
       "act_fn ff_1st_bn_before_act loss_type model_seed num_layer out_channel rcnn_bl_cls readout_type train_keep              \n",
       "relu   False                mse       0          3         32          4           cm-avg       1280            62125   \n",
       "                                                                                                2560            62125   \n",
       "                                                                                                5120            62125   \n",
       "\n",
       "                                                                                                                                              source_analysis  \\\n",
       "act_fn ff_1st_bn_before_act loss_type model_seed num_layer out_channel rcnn_bl_cls readout_type train_keep                                                      \n",
       "relu   False                mse       0          3         32          4           cm-avg       1280        {('I', 'B1', 'B2'): 1.5302295947998734, ('I', ...   \n",
       "                                                                                                2560        {('I', 'B1', 'B2'): 3.0713313639963173, ('I', ...   \n",
       "                                                                                                5120        {('I', 'B1', 'B2'): 2.9829841477085197, ('I', ...   \n",
       "\n",
       "                                                                                                                                          source_analysis_vec  \n",
       "act_fn ff_1st_bn_before_act loss_type model_seed num_layer out_channel rcnn_bl_cls readout_type train_keep                                                     \n",
       "relu   False                mse       0          3         32          4           cm-avg       1280        [0.0, 0.39685839552858454, 0.35742690919751896...  \n",
       "                                                                                                2560        [0.0, 0.32933887772528425, 0.3729353468997754,...  \n",
       "                                                                                                5120        [0.0, 0.36190871323580964, 0.37938080035533633...  "
      ]
     },
     "execution_count": 13,
     "metadata": {},
     "output_type": "execute_result"
    }
   ],
   "source": [
    "df_main_result"
   ]
  },
  {
   "cell_type": "code",
   "execution_count": 14,
   "metadata": {},
   "outputs": [],
   "source": [
    "df_main_result_prev['source_analysis_vec'] = df_main_result_prev['source_analysis'].map(lambda x: get_normalized_vec(x))\n",
    "# del df_main_result_prev['source_analysis']"
   ]
  },
  {
   "cell_type": "code",
   "execution_count": 15,
   "metadata": {},
   "outputs": [],
   "source": [
    "df_main_result_merged = df_main_result.join(df_main_result_prev,how='inner',lsuffix='new',rsuffix='old')"
   ]
  },
  {
   "cell_type": "code",
   "execution_count": 16,
   "metadata": {},
   "outputs": [],
   "source": [
    "# ok. time to compute \n",
    "\n",
    "from scipy.spatial import distance"
   ]
  },
  {
   "cell_type": "code",
   "execution_count": 17,
   "metadata": {
    "scrolled": false
   },
   "outputs": [
    {
     "data": {
      "text/html": [
       "<div>\n",
       "<style scoped>\n",
       "    .dataframe tbody tr th:only-of-type {\n",
       "        vertical-align: middle;\n",
       "    }\n",
       "\n",
       "    .dataframe tbody tr th {\n",
       "        vertical-align: top;\n",
       "    }\n",
       "\n",
       "    .dataframe thead th {\n",
       "        text-align: right;\n",
       "    }\n",
       "</style>\n",
       "<table border=\"1\" class=\"dataframe\">\n",
       "  <thead>\n",
       "    <tr style=\"text-align: right;\">\n",
       "      <th></th>\n",
       "      <th></th>\n",
       "      <th></th>\n",
       "      <th></th>\n",
       "      <th></th>\n",
       "      <th></th>\n",
       "      <th></th>\n",
       "      <th></th>\n",
       "      <th></th>\n",
       "      <th>num_paramnew</th>\n",
       "      <th>source_analysisnew</th>\n",
       "      <th>source_analysis_vecnew</th>\n",
       "      <th>num_paramold</th>\n",
       "      <th>source_analysisold</th>\n",
       "      <th>source_analysis_vecold</th>\n",
       "    </tr>\n",
       "    <tr>\n",
       "      <th>act_fn</th>\n",
       "      <th>ff_1st_bn_before_act</th>\n",
       "      <th>loss_type</th>\n",
       "      <th>model_seed</th>\n",
       "      <th>num_layer</th>\n",
       "      <th>out_channel</th>\n",
       "      <th>rcnn_bl_cls</th>\n",
       "      <th>readout_type</th>\n",
       "      <th>train_keep</th>\n",
       "      <th></th>\n",
       "      <th></th>\n",
       "      <th></th>\n",
       "      <th></th>\n",
       "      <th></th>\n",
       "      <th></th>\n",
       "    </tr>\n",
       "  </thead>\n",
       "  <tbody>\n",
       "    <tr>\n",
       "      <th rowspan=\"3\" valign=\"top\">relu</th>\n",
       "      <th rowspan=\"3\" valign=\"top\">False</th>\n",
       "      <th rowspan=\"3\" valign=\"top\">mse</th>\n",
       "      <th rowspan=\"3\" valign=\"top\">0</th>\n",
       "      <th rowspan=\"3\" valign=\"top\">3</th>\n",
       "      <th rowspan=\"3\" valign=\"top\">32</th>\n",
       "      <th rowspan=\"3\" valign=\"top\">4</th>\n",
       "      <th rowspan=\"3\" valign=\"top\">cm-avg</th>\n",
       "      <th>1280</th>\n",
       "      <td>62125</td>\n",
       "      <td>{('I', 'B1', 'B2'): 1.5302295947998734, ('I', ...</td>\n",
       "      <td>[0.0, 0.39685839552858454, 0.35742690919751896...</td>\n",
       "      <td>58157</td>\n",
       "      <td>{('I', 'B1', 'B2'): 1.9939665461651146, ('I', ...</td>\n",
       "      <td>[0.0, 0.5187583242086539, 0.3173810219037696, ...</td>\n",
       "    </tr>\n",
       "    <tr>\n",
       "      <th>2560</th>\n",
       "      <td>62125</td>\n",
       "      <td>{('I', 'B1', 'B2'): 3.0713313639963173, ('I', ...</td>\n",
       "      <td>[0.0, 0.32933887772528425, 0.3729353468997754,...</td>\n",
       "      <td>58157</td>\n",
       "      <td>{('I', 'B1', 'B2'): 3.1880545887297687, ('I', ...</td>\n",
       "      <td>[0.0, 0.4692910892971871, 0.32749239412509007,...</td>\n",
       "    </tr>\n",
       "    <tr>\n",
       "      <th>5120</th>\n",
       "      <td>62125</td>\n",
       "      <td>{('I', 'B1', 'B2'): 2.9829841477085197, ('I', ...</td>\n",
       "      <td>[0.0, 0.36190871323580964, 0.37938080035533633...</td>\n",
       "      <td>58157</td>\n",
       "      <td>{('I', 'B1', 'B2'): 4.721616180001786, ('I', '...</td>\n",
       "      <td>[0.0, 0.4112311027515752, 0.3366991416901636, ...</td>\n",
       "    </tr>\n",
       "  </tbody>\n",
       "</table>\n",
       "</div>"
      ],
      "text/plain": [
       "                                                                                                            num_paramnew  \\\n",
       "act_fn ff_1st_bn_before_act loss_type model_seed num_layer out_channel rcnn_bl_cls readout_type train_keep                 \n",
       "relu   False                mse       0          3         32          4           cm-avg       1280               62125   \n",
       "                                                                                                2560               62125   \n",
       "                                                                                                5120               62125   \n",
       "\n",
       "                                                                                                                                           source_analysisnew  \\\n",
       "act_fn ff_1st_bn_before_act loss_type model_seed num_layer out_channel rcnn_bl_cls readout_type train_keep                                                      \n",
       "relu   False                mse       0          3         32          4           cm-avg       1280        {('I', 'B1', 'B2'): 1.5302295947998734, ('I', ...   \n",
       "                                                                                                2560        {('I', 'B1', 'B2'): 3.0713313639963173, ('I', ...   \n",
       "                                                                                                5120        {('I', 'B1', 'B2'): 2.9829841477085197, ('I', ...   \n",
       "\n",
       "                                                                                                                                       source_analysis_vecnew  \\\n",
       "act_fn ff_1st_bn_before_act loss_type model_seed num_layer out_channel rcnn_bl_cls readout_type train_keep                                                      \n",
       "relu   False                mse       0          3         32          4           cm-avg       1280        [0.0, 0.39685839552858454, 0.35742690919751896...   \n",
       "                                                                                                2560        [0.0, 0.32933887772528425, 0.3729353468997754,...   \n",
       "                                                                                                5120        [0.0, 0.36190871323580964, 0.37938080035533633...   \n",
       "\n",
       "                                                                                                            num_paramold  \\\n",
       "act_fn ff_1st_bn_before_act loss_type model_seed num_layer out_channel rcnn_bl_cls readout_type train_keep                 \n",
       "relu   False                mse       0          3         32          4           cm-avg       1280               58157   \n",
       "                                                                                                2560               58157   \n",
       "                                                                                                5120               58157   \n",
       "\n",
       "                                                                                                                                           source_analysisold  \\\n",
       "act_fn ff_1st_bn_before_act loss_type model_seed num_layer out_channel rcnn_bl_cls readout_type train_keep                                                      \n",
       "relu   False                mse       0          3         32          4           cm-avg       1280        {('I', 'B1', 'B2'): 1.9939665461651146, ('I', ...   \n",
       "                                                                                                2560        {('I', 'B1', 'B2'): 3.1880545887297687, ('I', ...   \n",
       "                                                                                                5120        {('I', 'B1', 'B2'): 4.721616180001786, ('I', '...   \n",
       "\n",
       "                                                                                                                                       source_analysis_vecold  \n",
       "act_fn ff_1st_bn_before_act loss_type model_seed num_layer out_channel rcnn_bl_cls readout_type train_keep                                                     \n",
       "relu   False                mse       0          3         32          4           cm-avg       1280        [0.0, 0.5187583242086539, 0.3173810219037696, ...  \n",
       "                                                                                                2560        [0.0, 0.4692910892971871, 0.32749239412509007,...  \n",
       "                                                                                                5120        [0.0, 0.4112311027515752, 0.3366991416901636, ...  "
      ]
     },
     "execution_count": 17,
     "metadata": {},
     "output_type": "execute_result"
    }
   ],
   "source": [
    "df_main_result_merged"
   ]
  },
  {
   "cell_type": "code",
   "execution_count": 18,
   "metadata": {},
   "outputs": [],
   "source": [
    "def get_normalized_vec_2(x, y):\n",
    "    assert x.keys() == y.keys()\n",
    "    x = get_normalized_vec(x)\n",
    "    y = get_normalized_vec(y)\n",
    "    return x, y "
   ]
  },
  {
   "cell_type": "code",
   "execution_count": 19,
   "metadata": {},
   "outputs": [],
   "source": [
    "%matplotlib inline\n",
    "import matplotlib.pyplot as plt\n",
    "def compare_depth_distribution(df_this):\n",
    "    for train_keep in df_this.index.get_level_values('train_keep').unique():\n",
    "        print(train_keep)\n",
    "        df_this_size = df_this.xs(train_keep, level='train_keep')\n",
    "        assert df_this_size.shape[0] == 1\n",
    "        plt.close('all')\n",
    "        fig, axes = plt.subplots(nrows=1, ncols=2, squeeze=True, sharey=True, sharex=True)\n",
    "        vecs = [\n",
    "            get_normalized_vec_2(x, y) for x, y in zip(\n",
    "            df_this_size['source_analysisold'].values,\n",
    "            df_this_size['source_analysisnew'].values\n",
    "        )]\n",
    "        assert len(vecs) == 1\n",
    "        axes[0].bar(np.arange(8), vecs[0][0])\n",
    "        axes[0].set_title('old')\n",
    "        axes[1].bar(np.arange(8), vecs[0][1])\n",
    "        axes[1].set_title('new')\n",
    "        plt.show()\n",
    "        \n",
    "        plt.close('all')\n",
    "        fig, axes = plt.subplots(nrows=1, ncols=2, squeeze=True, sharey=True, sharex=True)\n",
    "        vecs = [\n",
    "            get_vec_2(x, y) for x, y in zip(\n",
    "            df_this_size['source_analysisold'].values,\n",
    "            df_this_size['source_analysisnew'].values\n",
    "        )]\n",
    "        assert len(vecs) == 1\n",
    "        axes[0].bar(np.arange(len(vecs[0][0])), vecs[0][0])\n",
    "        axes[0].set_title('old')\n",
    "        axes[1].bar(np.arange(len(vecs[0][0])), vecs[0][1])\n",
    "        axes[1].set_title('new')\n",
    "        plt.show()"
   ]
  },
  {
   "cell_type": "code",
   "execution_count": 20,
   "metadata": {
    "scrolled": false
   },
   "outputs": [
    {
     "name": "stdout",
     "output_type": "stream",
     "text": [
      "1280\n"
     ]
    },
    {
     "data": {
      "image/png": "[encoded data removed]",
      "text/plain": [
       "<Figure size 432x288 with 2 Axes>"
      ]
     },
     "metadata": {
      "needs_background": "light"
     },
     "output_type": "display_data"
    },
    {
     "name": "stdout",
     "output_type": "stream",
     "text": [
      "dict_keys([('I', 'B1', 'B2'), ('I', 'B1', 'R1', 'B2'), ('I', 'B1', 'B2', 'R2'), ('I', 'B1', 'R1', 'R1', 'B2'), ('I', 'B1', 'R1', 'B2', 'R2'), ('I', 'B1', 'B2', 'R2', 'R2'), ('I', 'B1', 'R1', 'R1', 'R1', 'B2'), ('I', 'B1', 'R1', 'R1', 'B2', 'R2'), ('I', 'B1', 'R1', 'B2', 'R2', 'R2'), ('I', 'B1', 'B2', 'R2', 'R2', 'R2')])\n"
     ]
    },
    {
     "data": {
      "image/png": "[encoded data removed]",
      "text/plain": [
       "<Figure size 432x288 with 2 Axes>"
      ]
     },
     "metadata": {
      "needs_background": "light"
     },
     "output_type": "display_data"
    },
    {
     "name": "stdout",
     "output_type": "stream",
     "text": [
      "2560\n"
     ]
    },
    {
     "data": {
      "image/png": "[encoded data removed]",
      "text/plain": [
       "<Figure size 432x288 with 2 Axes>"
      ]
     },
     "metadata": {
      "needs_background": "light"
     },
     "output_type": "display_data"
    },
    {
     "name": "stdout",
     "output_type": "stream",
     "text": [
      "dict_keys([('I', 'B1', 'B2'), ('I', 'B1', 'R1', 'B2'), ('I', 'B1', 'B2', 'R2'), ('I', 'B1', 'R1', 'R1', 'B2'), ('I', 'B1', 'R1', 'B2', 'R2'), ('I', 'B1', 'B2', 'R2', 'R2'), ('I', 'B1', 'R1', 'R1', 'R1', 'B2'), ('I', 'B1', 'R1', 'R1', 'B2', 'R2'), ('I', 'B1', 'R1', 'B2', 'R2', 'R2'), ('I', 'B1', 'B2', 'R2', 'R2', 'R2')])\n"
     ]
    },
    {
     "data": {
      "image/png": "[encoded data removed]",
      "text/plain": [
       "<Figure size 432x288 with 2 Axes>"
      ]
     },
     "metadata": {
      "needs_background": "light"
     },
     "output_type": "display_data"
    },
    {
     "name": "stdout",
     "output_type": "stream",
     "text": [
      "5120\n"
     ]
    },
    {
     "data": {
      "image/png": "[encoded data removed]",
      "text/plain": [
       "<Figure size 432x288 with 2 Axes>"
      ]
     },
     "metadata": {
      "needs_background": "light"
     },
     "output_type": "display_data"
    },
    {
     "name": "stdout",
     "output_type": "stream",
     "text": [
      "dict_keys([('I', 'B1', 'B2'), ('I', 'B1', 'R1', 'B2'), ('I', 'B1', 'B2', 'R2'), ('I', 'B1', 'R1', 'R1', 'B2'), ('I', 'B1', 'R1', 'B2', 'R2'), ('I', 'B1', 'B2', 'R2', 'R2'), ('I', 'B1', 'R1', 'R1', 'R1', 'B2'), ('I', 'B1', 'R1', 'R1', 'B2', 'R2'), ('I', 'B1', 'R1', 'B2', 'R2', 'R2'), ('I', 'B1', 'B2', 'R2', 'R2', 'R2')])\n"
     ]
    },
    {
     "data": {
      "image/png": "[encoded data removed]",
      "text/plain": [
       "<Figure size 432x288 with 2 Axes>"
      ]
     },
     "metadata": {
      "needs_background": "light"
     },
     "output_type": "display_data"
    }
   ],
   "source": [
    "compare_depth_distribution(df_main_result_merged)\n",
    "# more difference with larger train keep.\n",
    "# which is understandable, because more training data leads to more distributed depth, and thus cosine distances will be more spread out."
   ]
  },
  {
   "cell_type": "code",
   "execution_count": 21,
   "metadata": {},
   "outputs": [],
   "source": [
    "%matplotlib inline\n",
    "import matplotlib.pyplot as plt\n",
    "def compare_depth_diff(df_this):\n",
    "    for train_keep in df_this.index.get_level_values('train_keep').unique():\n",
    "        print(train_keep)\n",
    "        df_this_size = df_this.xs(train_keep, level='train_keep')\n",
    "        plt.close('all')\n",
    "        fig, ax = plt.subplots(squeeze=True)\n",
    "        aaa = df_this_size['source_analysis_vecnew'].map(lambda x: x[1])\n",
    "        bbb = df_this_size['source_analysis_vecold'].map(lambda x: x[1])\n",
    "        ax.scatter(aaa.values, bbb.values)\n",
    "        ax.plot([0,1],[0,1],linestyle='--')\n",
    "        plt.show()"
   ]
  },
  {
   "cell_type": "code",
   "execution_count": 22,
   "metadata": {},
   "outputs": [
    {
     "name": "stdout",
     "output_type": "stream",
     "text": [
      "1280\n"
     ]
    },
    {
     "data": {
      "image/png": "[encoded data removed]",
      "text/plain": [
       "<Figure size 432x288 with 1 Axes>"
      ]
     },
     "metadata": {
      "needs_background": "light"
     },
     "output_type": "display_data"
    },
    {
     "name": "stdout",
     "output_type": "stream",
     "text": [
      "2560\n"
     ]
    },
    {
     "data": {
      "image/png": "[encoded data removed]",
      "text/plain": [
       "<Figure size 432x288 with 1 Axes>"
      ]
     },
     "metadata": {
      "needs_background": "light"
     },
     "output_type": "display_data"
    },
    {
     "name": "stdout",
     "output_type": "stream",
     "text": [
      "5120\n"
     ]
    },
    {
     "data": {
      "image/png": "[encoded data removed]",
      "text/plain": [
       "<Figure size 432x288 with 1 Axes>"
      ]
     },
     "metadata": {
      "needs_background": "light"
     },
     "output_type": "display_data"
    }
   ],
   "source": [
    "compare_depth_diff(df_main_result_merged)"
   ]
  },
  {
   "cell_type": "code",
   "execution_count": 23,
   "metadata": {},
   "outputs": [],
   "source": [
    "# raw source analysis list from this file and `20200725+20200801+20200801_2_source_analysis_debug_3layer` are the same\n",
    "def check_source_analysis_list():\n",
    "    a = [{'conv': ('I', 'B1', 'B2'), 'scale': (1.0, 's1,1', 's2,1', 1.0, 0.25)}, {'conv': ('I', 'B1', 'B2'), 'scale': (1.0, 's1,1', 's2,1', 0.5, 0.25)}, {'conv': ('I', 'B1', 'B2'), 'scale': (1.0, 's1,2', 's2,2', 0.5, 0.25)}, {'conv': ('I', 'B1', 'R1', 'B2'), 'scale': (1.0, 's1,1', 's1,2', 's2,2', 0.5, 0.25)}, {'conv': ('I', 'B1', 'B2', 'R2'), 'scale': (1.0, 's1,1', 's2,1', 's2,2', 0.5, 0.25)}, {'conv': ('I', 'B1', 'B2'), 'scale': (1.0, 's1,1', 's2,1', 0.3333333333333333, 0.25)}, {'conv': ('I', 'B1', 'B2'), 'scale': (1.0, 's1,2', 's2,2', 0.3333333333333333, 0.25)}, {'conv': ('I', 'B1', 'R1', 'B2'), 'scale': (1.0, 's1,1', 's1,2', 's2,2', 0.3333333333333333, 0.25)}, {'conv': ('I', 'B1', 'B2', 'R2'), 'scale': (1.0, 's1,1', 's2,1', 's2,2', 0.3333333333333333, 0.25)}, {'conv': ('I', 'B1', 'B2'), 'scale': (1.0, 's1,3', 's2,3', 0.3333333333333333, 0.25)}, {'conv': ('I', 'B1', 'R1', 'B2'), 'scale': (1.0, 's1,2', 's1,3', 's2,3', 0.3333333333333333, 0.25)}, {'conv': ('I', 'B1', 'R1', 'R1', 'B2'), 'scale': (1.0, 's1,1', 's1,2', 's1,3', 's2,3', 0.3333333333333333, 0.25)}, {'conv': ('I', 'B1', 'B2', 'R2'), 'scale': (1.0, 's1,2', 's2,2', 's2,3', 0.3333333333333333, 0.25)}, {'conv': ('I', 'B1', 'R1', 'B2', 'R2'), 'scale': (1.0, 's1,1', 's1,2', 's2,2', 's2,3', 0.3333333333333333, 0.25)}, {'conv': ('I', 'B1', 'B2', 'R2', 'R2'), 'scale': (1.0, 's1,1', 's2,1', 's2,2', 's2,3', 0.3333333333333333, 0.25)}, {'conv': ('I', 'B1', 'B2'), 'scale': (1.0, 's1,1', 's2,1', 0.25, 0.25)}, {'conv': ('I', 'B1', 'B2'), 'scale': (1.0, 's1,2', 's2,2', 0.25, 0.25)}, {'conv': ('I', 'B1', 'R1', 'B2'), 'scale': (1.0, 's1,1', 's1,2', 's2,2', 0.25, 0.25)}, {'conv': ('I', 'B1', 'B2', 'R2'), 'scale': (1.0, 's1,1', 's2,1', 's2,2', 0.25, 0.25)}, {'conv': ('I', 'B1', 'B2'), 'scale': (1.0, 's1,3', 's2,3', 0.25, 0.25)}, {'conv': ('I', 'B1', 'R1', 'B2'), 'scale': (1.0, 's1,2', 's1,3', 's2,3', 0.25, 0.25)}, {'conv': ('I', 'B1', 'R1', 'R1', 'B2'), 'scale': (1.0, 's1,1', 's1,2', 's1,3', 's2,3', 0.25, 0.25)}, {'conv': ('I', 'B1', 'B2', 'R2'), 'scale': (1.0, 's1,2', 's2,2', 's2,3', 0.25, 0.25)}, {'conv': ('I', 'B1', 'R1', 'B2', 'R2'), 'scale': (1.0, 's1,1', 's1,2', 's2,2', 's2,3', 0.25, 0.25)}, {'conv': ('I', 'B1', 'B2', 'R2', 'R2'), 'scale': (1.0, 's1,1', 's2,1', 's2,2', 's2,3', 0.25, 0.25)}, {'conv': ('I', 'B1', 'B2'), 'scale': (1.0, 's1,4', 's2,4', 0.25, 0.25)}, {'conv': ('I', 'B1', 'R1', 'B2'), 'scale': (1.0, 's1,3', 's1,4', 's2,4', 0.25, 0.25)}, {'conv': ('I', 'B1', 'R1', 'R1', 'B2'), 'scale': (1.0, 's1,2', 's1,3', 's1,4', 's2,4', 0.25, 0.25)}, {'conv': ('I', 'B1', 'R1', 'R1', 'R1', 'B2'), 'scale': (1.0, 's1,1', 's1,2', 's1,3', 's1,4', 's2,4', 0.25, 0.25)}, {'conv': ('I', 'B1', 'B2', 'R2'), 'scale': (1.0, 's1,3', 's2,3', 's2,4', 0.25, 0.25)}, {'conv': ('I', 'B1', 'R1', 'B2', 'R2'), 'scale': (1.0, 's1,2', 's1,3', 's2,3', 's2,4', 0.25, 0.25)}, {'conv': ('I', 'B1', 'R1', 'R1', 'B2', 'R2'), 'scale': (1.0, 's1,1', 's1,2', 's1,3', 's2,3', 's2,4', 0.25, 0.25)}, {'conv': ('I', 'B1', 'B2', 'R2', 'R2'), 'scale': (1.0, 's1,2', 's2,2', 's2,3', 's2,4', 0.25, 0.25)}, {'conv': ('I', 'B1', 'R1', 'B2', 'R2', 'R2'), 'scale': (1.0, 's1,1', 's1,2', 's2,2', 's2,3', 's2,4', 0.25, 0.25)}, {'conv': ('I', 'B1', 'B2', 'R2', 'R2', 'R2'), 'scale': (1.0, 's1,1', 's2,1', 's2,2', 's2,3', 's2,4', 0.25, 0.25)}]\n",
    "    b = [{'conv': ('I', 'B1', 'B2'), 'scale': (1.0, 's1,1', 's2,1', 1.0, 0.25)}, {'conv': ('I', 'B1', 'B2'), 'scale': (1.0, 's1,1', 's2,1', 0.5, 0.25)}, {'conv': ('I', 'B1', 'B2'), 'scale': (1.0, 's1,2', 's2,2', 0.5, 0.25)}, {'conv': ('I', 'B1', 'R1', 'B2'), 'scale': (1.0, 's1,1,1', 's1,2,1', 's2,2,1', 0.5, 0.25)}, {'conv': ('I', 'B1', 'B2', 'R2'), 'scale': (1.0, 's1,1,2', 's2,1,1', 's2,2,2', 0.5, 0.25)}, {'conv': ('I', 'B1', 'B2'), 'scale': (1.0, 's1,1', 's2,1', 0.3333333333333333, 0.25)}, {'conv': ('I', 'B1', 'B2'), 'scale': (1.0, 's1,2', 's2,2', 0.3333333333333333, 0.25)}, {'conv': ('I', 'B1', 'R1', 'B2'), 'scale': (1.0, 's1,1,1', 's1,2,1', 's2,2,1', 0.3333333333333333, 0.25)}, {'conv': ('I', 'B1', 'B2', 'R2'), 'scale': (1.0, 's1,1,2', 's2,1,1', 's2,2,2', 0.3333333333333333, 0.25)}, {'conv': ('I', 'B1', 'B2'), 'scale': (1.0, 's1,3', 's2,3', 0.3333333333333333, 0.25)}, {'conv': ('I', 'B1', 'R1', 'B2'), 'scale': (1.0, 's1,2,2', 's1,3,1', 's2,3,1', 0.3333333333333333, 0.25)}, {'conv': ('I', 'B1', 'R1', 'R1', 'B2'), 'scale': (1.0, 's1,1,3', 's1,2,3', 's1,3,2', 's2,3,2', 0.3333333333333333, 0.25)}, {'conv': ('I', 'B1', 'B2', 'R2'), 'scale': (1.0, 's1,2,4', 's2,2,3', 's2,3,3', 0.3333333333333333, 0.25)}, {'conv': ('I', 'B1', 'R1', 'B2', 'R2'), 'scale': (1.0, 's1,1,4', 's1,2,5', 's2,2,4', 's2,3,4', 0.3333333333333333, 0.25)}, {'conv': ('I', 'B1', 'B2', 'R2', 'R2'), 'scale': (1.0, 's1,1,5', 's2,1,2', 's2,2,5', 's2,3,5', 0.3333333333333333, 0.25)}, {'conv': ('I', 'B1', 'B2'), 'scale': (1.0, 's1,1', 's2,1', 0.25, 0.25)}, {'conv': ('I', 'B1', 'B2'), 'scale': (1.0, 's1,2', 's2,2', 0.25, 0.25)}, {'conv': ('I', 'B1', 'R1', 'B2'), 'scale': (1.0, 's1,1,1', 's1,2,1', 's2,2,1', 0.25, 0.25)}, {'conv': ('I', 'B1', 'B2', 'R2'), 'scale': (1.0, 's1,1,2', 's2,1,1', 's2,2,2', 0.25, 0.25)}, {'conv': ('I', 'B1', 'B2'), 'scale': (1.0, 's1,3', 's2,3', 0.25, 0.25)}, {'conv': ('I', 'B1', 'R1', 'B2'), 'scale': (1.0, 's1,2,2', 's1,3,1', 's2,3,1', 0.25, 0.25)}, {'conv': ('I', 'B1', 'R1', 'R1', 'B2'), 'scale': (1.0, 's1,1,3', 's1,2,3', 's1,3,2', 's2,3,2', 0.25, 0.25)}, {'conv': ('I', 'B1', 'B2', 'R2'), 'scale': (1.0, 's1,2,4', 's2,2,3', 's2,3,3', 0.25, 0.25)}, {'conv': ('I', 'B1', 'R1', 'B2', 'R2'), 'scale': (1.0, 's1,1,4', 's1,2,5', 's2,2,4', 's2,3,4', 0.25, 0.25)}, {'conv': ('I', 'B1', 'B2', 'R2', 'R2'), 'scale': (1.0, 's1,1,5', 's2,1,2', 's2,2,5', 's2,3,5', 0.25, 0.25)}, {'conv': ('I', 'B1', 'B2'), 'scale': (1.0, 's1,4', 's2,4', 0.25, 0.25)}, {'conv': ('I', 'B1', 'R1', 'B2'), 'scale': (1.0, 's1,3,3', 's1,4,1', 's2,4,1', 0.25, 0.25)}, {'conv': ('I', 'B1', 'R1', 'R1', 'B2'), 'scale': (1.0, 's1,2,6', 's1,3,4', 's1,4,2', 's2,4,2', 0.25, 0.25)}, {'conv': ('I', 'B1', 'R1', 'R1', 'R1', 'B2'), 'scale': (1.0, 's1,1,6', 's1,2,7', 's1,3,5', 's1,4,3', 's2,4,3', 0.25, 0.25)}, {'conv': ('I', 'B1', 'B2', 'R2'), 'scale': (1.0, 's1,3,6', 's2,3,6', 's2,4,4', 0.25, 0.25)}, {'conv': ('I', 'B1', 'R1', 'B2', 'R2'), 'scale': (1.0, 's1,2,8', 's1,3,7', 's2,3,7', 's2,4,5', 0.25, 0.25)}, {'conv': ('I', 'B1', 'R1', 'R1', 'B2', 'R2'), 'scale': (1.0, 's1,1,7', 's1,2,9', 's1,3,8', 's2,3,8', 's2,4,6', 0.25, 0.25)}, {'conv': ('I', 'B1', 'B2', 'R2', 'R2'), 'scale': (1.0, 's1,2,10', 's2,2,6', 's2,3,9', 's2,4,7', 0.25, 0.25)}, {'conv': ('I', 'B1', 'R1', 'B2', 'R2', 'R2'), 'scale': (1.0, 's1,1,8', 's1,2,11', 's2,2,7', 's2,3,10', 's2,4,8', 0.25, 0.25)}, {'conv': ('I', 'B1', 'B2', 'R2', 'R2', 'R2'), 'scale': (1.0, 's1,1,9', 's2,1,3', 's2,2,8', 's2,3,11', 's2,4,9', 0.25, 0.25)}]\n",
    "    assert len(a) == len(b)\n",
    "    for x, y in zip(a,b):\n",
    "        assert x.keys() == y.keys()\n",
    "        assert x['conv'] == y['conv']\n",
    "        scaley = tuple([z[:4] if type(z) is str else z for z in y['scale']])\n",
    "    #     print(scaley, x['scale'])\n",
    "        assert scaley == x['scale']\n",
    "        \n",
    "check_source_analysis_list()"
   ]
  }
 ],
 "metadata": {
  "kernelspec": {
   "display_name": "Python 3",
   "language": "python",
   "name": "python3"
  },
  "language_info": {
   "codemirror_mode": {
    "name": "ipython",
    "version": 3
   },
   "file_extension": ".py",
   "mimetype": "text/x-python",
   "name": "python",
   "nbconvert_exporter": "python",
   "pygments_lexer": "ipython3",
   "version": "3.7.6"
  }
 },
 "nbformat": 4,
 "nbformat_minor": 4
}

{
 "cells": [
  {
   "cell_type": "code",
   "execution_count": 1,
   "metadata": {},
   "outputs": [],
   "source": [
    "from os.path import join, dirname, exists\n",
    "from os import makedirs\n",
    "from itertools import chain, islice\n",
    "\n",
    "from thesis_v2 import dir_dict\n",
    "from thesis_v2.configs.model.maskcnn_polished_with_rcnn_k_bl import (\n",
    "    explored_models_20201118_generator,\n",
    "    explored_models_20201114_generator,\n",
    ")\n",
    "from thesis_v2.analysis.io import collect_rcnn_k_bl_source_analysis"
   ]
  },
  {
   "cell_type": "code",
   "execution_count": 2,
   "metadata": {},
   "outputs": [],
   "source": [
    "import pandas as pd"
   ]
  },
  {
   "cell_type": "code",
   "execution_count": 3,
   "metadata": {
    "scrolled": false
   },
   "outputs": [],
   "source": [
    "f_main_result = join(dir_dict['analyses'], 'yuanyuan_8k_a_3day_refactored', '20201114+20201118_separatebn', 'source_analysis.pkl.debug3layer')\n",
    "if not exists(f_main_result):\n",
    "    makedirs(dirname(f_main_result), exist_ok=True)\n",
    "    df_main_result = collect_rcnn_k_bl_source_analysis(\n",
    "        fixed_keys = {\n",
    "        'kernel_size_l23': 3,\n",
    "        'kernel_size_l1': 9,\n",
    "        'ff_1st_block': True,\n",
    "        'pooling_ksize': 3,\n",
    "        'pooling_type': 'avg',\n",
    "        'bn_after_fc': False,\n",
    "        'rcnn_bl_psize': 1,\n",
    "        'rcnn_bl_ptype': None,\n",
    "        'input_size': 50,\n",
    "        'split_seed': 'legacy',\n",
    "        'dataset_prefix': 'yuanyuan_8k_a_3day',\n",
    "        'model_prefix': 'maskcnn_polished_with_rcnn_k_bl',\n",
    "        'scale_name': '0.01',\n",
    "        'scale': '0.01',\n",
    "        'smoothness_name': '0.000005',\n",
    "        'smoothness': '0.000005',\n",
    "                        'multi_path': True,\n",
    "            'multi_path_separate_bn': True,\n",
    "    },\n",
    "        generator=chain(\n",
    "            explored_models_20201114_generator(with_source=True, separate_bn_list=[True]),\n",
    "            explored_models_20201118_generator(with_source=True, separate_bn_list=[True]),\n",
    "        ),\n",
    "        total_num_param=28,\n",
    "        train_size_mapping={\n",
    "            None: 5120,\n",
    "        },\n",
    "        no_missing_data=False,\n",
    "        key_override={'model_prefix': 'maskcnn_polished_with_rcnn_k_bl.multipath'},\n",
    "        debug=True,\n",
    "        debug_3layer=True,\n",
    "    )\n",
    "    df_main_result.to_pickle(f_main_result)\n",
    "    del df_main_result\n",
    "df_main_result = pd.read_pickle(f_main_result)"
   ]
  },
  {
   "cell_type": "code",
   "execution_count": 4,
   "metadata": {},
   "outputs": [
    {
     "data": {
      "text/html": [
       "<div>\n",
       "<style scoped>\n",
       "    .dataframe tbody tr th:only-of-type {\n",
       "        vertical-align: middle;\n",
       "    }\n",
       "\n",
       "    .dataframe tbody tr th {\n",
       "        vertical-align: top;\n",
       "    }\n",
       "\n",
       "    .dataframe thead th {\n",
       "        text-align: right;\n",
       "    }\n",
       "</style>\n",
       "<table border=\"1\" class=\"dataframe\">\n",
       "  <thead>\n",
       "    <tr style=\"text-align: right;\">\n",
       "      <th></th>\n",
       "      <th></th>\n",
       "      <th></th>\n",
       "      <th></th>\n",
       "      <th></th>\n",
       "      <th></th>\n",
       "      <th></th>\n",
       "      <th></th>\n",
       "      <th></th>\n",
       "      <th>num_param</th>\n",
       "      <th>source_analysis</th>\n",
       "    </tr>\n",
       "    <tr>\n",
       "      <th>act_fn</th>\n",
       "      <th>ff_1st_bn_before_act</th>\n",
       "      <th>loss_type</th>\n",
       "      <th>model_seed</th>\n",
       "      <th>num_layer</th>\n",
       "      <th>out_channel</th>\n",
       "      <th>rcnn_bl_cls</th>\n",
       "      <th>readout_type</th>\n",
       "      <th>train_keep</th>\n",
       "      <th></th>\n",
       "      <th></th>\n",
       "    </tr>\n",
       "  </thead>\n",
       "  <tbody>\n",
       "    <tr>\n",
       "      <th rowspan=\"3\" valign=\"top\">relu</th>\n",
       "      <th rowspan=\"3\" valign=\"top\">False</th>\n",
       "      <th rowspan=\"3\" valign=\"top\">mse</th>\n",
       "      <th rowspan=\"3\" valign=\"top\">0</th>\n",
       "      <th rowspan=\"3\" valign=\"top\">3</th>\n",
       "      <th rowspan=\"3\" valign=\"top\">8</th>\n",
       "      <th rowspan=\"3\" valign=\"top\">4</th>\n",
       "      <th rowspan=\"3\" valign=\"top\">cm-avg</th>\n",
       "      <th>1280</th>\n",
       "      <td>20293</td>\n",
       "      <td>{('I', 'B1', 'B2'): 0.0869439822872567, ('I', ...</td>\n",
       "    </tr>\n",
       "    <tr>\n",
       "      <th>2560</th>\n",
       "      <td>20293</td>\n",
       "      <td>{('I', 'B1', 'B2'): 0.25330447921559, ('I', 'B...</td>\n",
       "    </tr>\n",
       "    <tr>\n",
       "      <th>5120</th>\n",
       "      <td>20293</td>\n",
       "      <td>{('I', 'B1', 'B2'): 0.3883832368857787, ('I', ...</td>\n",
       "    </tr>\n",
       "  </tbody>\n",
       "</table>\n",
       "</div>"
      ],
      "text/plain": [
       "                                                                                                            num_param  \\\n",
       "act_fn ff_1st_bn_before_act loss_type model_seed num_layer out_channel rcnn_bl_cls readout_type train_keep              \n",
       "relu   False                mse       0          3         8           4           cm-avg       1280            20293   \n",
       "                                                                                                2560            20293   \n",
       "                                                                                                5120            20293   \n",
       "\n",
       "                                                                                                                                              source_analysis  \n",
       "act_fn ff_1st_bn_before_act loss_type model_seed num_layer out_channel rcnn_bl_cls readout_type train_keep                                                     \n",
       "relu   False                mse       0          3         8           4           cm-avg       1280        {('I', 'B1', 'B2'): 0.0869439822872567, ('I', ...  \n",
       "                                                                                                2560        {('I', 'B1', 'B2'): 0.25330447921559, ('I', 'B...  \n",
       "                                                                                                5120        {('I', 'B1', 'B2'): 0.3883832368857787, ('I', ...  "
      ]
     },
     "execution_count": 4,
     "metadata": {},
     "output_type": "execute_result"
    }
   ],
   "source": [
    "df_main_result"
   ]
  },
  {
   "cell_type": "code",
   "execution_count": 5,
   "metadata": {},
   "outputs": [],
   "source": [
    "df_main_result = df_main_result.dropna()"
   ]
  },
  {
   "cell_type": "code",
   "execution_count": 6,
   "metadata": {},
   "outputs": [
    {
     "data": {
      "text/html": [
       "<div>\n",
       "<style scoped>\n",
       "    .dataframe tbody tr th:only-of-type {\n",
       "        vertical-align: middle;\n",
       "    }\n",
       "\n",
       "    .dataframe tbody tr th {\n",
       "        vertical-align: top;\n",
       "    }\n",
       "\n",
       "    .dataframe thead th {\n",
       "        text-align: right;\n",
       "    }\n",
       "</style>\n",
       "<table border=\"1\" class=\"dataframe\">\n",
       "  <thead>\n",
       "    <tr style=\"text-align: right;\">\n",
       "      <th></th>\n",
       "      <th></th>\n",
       "      <th></th>\n",
       "      <th></th>\n",
       "      <th></th>\n",
       "      <th></th>\n",
       "      <th></th>\n",
       "      <th></th>\n",
       "      <th></th>\n",
       "      <th>num_param</th>\n",
       "      <th>source_analysis</th>\n",
       "    </tr>\n",
       "    <tr>\n",
       "      <th>act_fn</th>\n",
       "      <th>ff_1st_bn_before_act</th>\n",
       "      <th>loss_type</th>\n",
       "      <th>model_seed</th>\n",
       "      <th>num_layer</th>\n",
       "      <th>out_channel</th>\n",
       "      <th>rcnn_bl_cls</th>\n",
       "      <th>readout_type</th>\n",
       "      <th>train_keep</th>\n",
       "      <th></th>\n",
       "      <th></th>\n",
       "    </tr>\n",
       "  </thead>\n",
       "  <tbody>\n",
       "    <tr>\n",
       "      <th rowspan=\"3\" valign=\"top\">relu</th>\n",
       "      <th rowspan=\"3\" valign=\"top\">False</th>\n",
       "      <th rowspan=\"3\" valign=\"top\">mse</th>\n",
       "      <th rowspan=\"3\" valign=\"top\">0</th>\n",
       "      <th rowspan=\"3\" valign=\"top\">3</th>\n",
       "      <th rowspan=\"3\" valign=\"top\">8</th>\n",
       "      <th rowspan=\"3\" valign=\"top\">4</th>\n",
       "      <th rowspan=\"3\" valign=\"top\">cm-avg</th>\n",
       "      <th>1280</th>\n",
       "      <td>20293</td>\n",
       "      <td>{('I', 'B1', 'B2'): 0.0869439822872567, ('I', ...</td>\n",
       "    </tr>\n",
       "    <tr>\n",
       "      <th>2560</th>\n",
       "      <td>20293</td>\n",
       "      <td>{('I', 'B1', 'B2'): 0.25330447921559, ('I', 'B...</td>\n",
       "    </tr>\n",
       "    <tr>\n",
       "      <th>5120</th>\n",
       "      <td>20293</td>\n",
       "      <td>{('I', 'B1', 'B2'): 0.3883832368857787, ('I', ...</td>\n",
       "    </tr>\n",
       "  </tbody>\n",
       "</table>\n",
       "</div>"
      ],
      "text/plain": [
       "                                                                                                            num_param  \\\n",
       "act_fn ff_1st_bn_before_act loss_type model_seed num_layer out_channel rcnn_bl_cls readout_type train_keep              \n",
       "relu   False                mse       0          3         8           4           cm-avg       1280            20293   \n",
       "                                                                                                2560            20293   \n",
       "                                                                                                5120            20293   \n",
       "\n",
       "                                                                                                                                              source_analysis  \n",
       "act_fn ff_1st_bn_before_act loss_type model_seed num_layer out_channel rcnn_bl_cls readout_type train_keep                                                     \n",
       "relu   False                mse       0          3         8           4           cm-avg       1280        {('I', 'B1', 'B2'): 0.0869439822872567, ('I', ...  \n",
       "                                                                                                2560        {('I', 'B1', 'B2'): 0.25330447921559, ('I', 'B...  \n",
       "                                                                                                5120        {('I', 'B1', 'B2'): 0.3883832368857787, ('I', ...  "
      ]
     },
     "execution_count": 6,
     "metadata": {},
     "output_type": "execute_result"
    }
   ],
   "source": [
    "df_main_result"
   ]
  },
  {
   "cell_type": "code",
   "execution_count": 7,
   "metadata": {},
   "outputs": [],
   "source": [
    "# compare with previous result.\n",
    "f_main_result_prev = join(dir_dict['analyses'], 'yuanyuan_8k_a_3day_refactored', '20200725+20200801+20200801_2', 'source_analysis.pkl')\n",
    "df_main_result_prev = pd.read_pickle(f_main_result_prev)"
   ]
  },
  {
   "cell_type": "code",
   "execution_count": 8,
   "metadata": {},
   "outputs": [],
   "source": [
    "def remove_high_cls(df_this):\n",
    "    df_this = df_this[df_this.index.get_level_values('rcnn_bl_cls') <= 7]\n",
    "    return df_this.sort_index()\n",
    "\n",
    "df_main_result = remove_high_cls(df_main_result)\n",
    "df_main_result_prev = remove_high_cls(df_main_result_prev)"
   ]
  },
  {
   "cell_type": "code",
   "execution_count": 9,
   "metadata": {},
   "outputs": [],
   "source": [
    "# check their corrsponding ones, and compute vector similarity"
   ]
  },
  {
   "cell_type": "code",
   "execution_count": 10,
   "metadata": {},
   "outputs": [],
   "source": [
    "import numpy as np"
   ]
  },
  {
   "cell_type": "code",
   "execution_count": 11,
   "metadata": {},
   "outputs": [],
   "source": [
    "def get_normalized_vec(x):\n",
    "#     keys = [('I',) + ('B1',) + ('R1',)*i for i in range(7)]\n",
    "#     assert x.keys() <= set(keys)\n",
    "    ret = np.zeros((8,))\n",
    "    for key, v in x.items():\n",
    "        assert len(key) >= 2 and len(key) <= 9\n",
    "        ret[len(key)-2] += v  # -2 because minimal length of key is 2 (I + one Conv)\n",
    "    ret = ret/ret.sum()\n",
    "    return ret\n",
    "\n",
    "df_main_result['source_analysis_vec'] = df_main_result['source_analysis'].map(lambda x: get_normalized_vec(x))\n",
    "# del df_main_result['source_analysis']"
   ]
  },
  {
   "cell_type": "code",
   "execution_count": 12,
   "metadata": {},
   "outputs": [],
   "source": [
    "def get_vec_2(x, y):\n",
    "    # key has order, actually.\n",
    "    assert x.keys() == y.keys()\n",
    "    print(x.keys())\n",
    "    # sort by length, basically\n",
    "    key_sum_x = sum(x.values())\n",
    "    key_sum_y = sum(y.values())\n",
    "    return (\n",
    "        [z[1]/key_sum_x for z in sorted(x.items(), key = lambda xx: xx[0])],\n",
    "        [z[1]/key_sum_y for z in sorted(y.items(), key = lambda xx: xx[0])]\n",
    "    )"
   ]
  },
  {
   "cell_type": "code",
   "execution_count": 13,
   "metadata": {},
   "outputs": [
    {
     "data": {
      "text/html": [
       "<div>\n",
       "<style scoped>\n",
       "    .dataframe tbody tr th:only-of-type {\n",
       "        vertical-align: middle;\n",
       "    }\n",
       "\n",
       "    .dataframe tbody tr th {\n",
       "        vertical-align: top;\n",
       "    }\n",
       "\n",
       "    .dataframe thead th {\n",
       "        text-align: right;\n",
       "    }\n",
       "</style>\n",
       "<table border=\"1\" class=\"dataframe\">\n",
       "  <thead>\n",
       "    <tr style=\"text-align: right;\">\n",
       "      <th></th>\n",
       "      <th></th>\n",
       "      <th></th>\n",
       "      <th></th>\n",
       "      <th></th>\n",
       "      <th></th>\n",
       "      <th></th>\n",
       "      <th></th>\n",
       "      <th></th>\n",
       "      <th>num_param</th>\n",
       "      <th>source_analysis</th>\n",
       "      <th>source_analysis_vec</th>\n",
       "    </tr>\n",
       "    <tr>\n",
       "      <th>act_fn</th>\n",
       "      <th>ff_1st_bn_before_act</th>\n",
       "      <th>loss_type</th>\n",
       "      <th>model_seed</th>\n",
       "      <th>num_layer</th>\n",
       "      <th>out_channel</th>\n",
       "      <th>rcnn_bl_cls</th>\n",
       "      <th>readout_type</th>\n",
       "      <th>train_keep</th>\n",
       "      <th></th>\n",
       "      <th></th>\n",
       "      <th></th>\n",
       "    </tr>\n",
       "  </thead>\n",
       "  <tbody>\n",
       "    <tr>\n",
       "      <th rowspan=\"3\" valign=\"top\">relu</th>\n",
       "      <th rowspan=\"3\" valign=\"top\">False</th>\n",
       "      <th rowspan=\"3\" valign=\"top\">mse</th>\n",
       "      <th rowspan=\"3\" valign=\"top\">0</th>\n",
       "      <th rowspan=\"3\" valign=\"top\">3</th>\n",
       "      <th rowspan=\"3\" valign=\"top\">8</th>\n",
       "      <th rowspan=\"3\" valign=\"top\">4</th>\n",
       "      <th rowspan=\"3\" valign=\"top\">cm-avg</th>\n",
       "      <th>1280</th>\n",
       "      <td>20293</td>\n",
       "      <td>{('I', 'B1', 'B2'): 0.0869439822872567, ('I', ...</td>\n",
       "      <td>[0.0, 0.8121615314553551, 0.16504708625203782,...</td>\n",
       "    </tr>\n",
       "    <tr>\n",
       "      <th>2560</th>\n",
       "      <td>20293</td>\n",
       "      <td>{('I', 'B1', 'B2'): 0.25330447921559, ('I', 'B...</td>\n",
       "      <td>[0.0, 0.7592639331155123, 0.20497157160385238,...</td>\n",
       "    </tr>\n",
       "    <tr>\n",
       "      <th>5120</th>\n",
       "      <td>20293</td>\n",
       "      <td>{('I', 'B1', 'B2'): 0.3883832368857787, ('I', ...</td>\n",
       "      <td>[0.0, 0.7662109536699132, 0.19599178735575468,...</td>\n",
       "    </tr>\n",
       "  </tbody>\n",
       "</table>\n",
       "</div>"
      ],
      "text/plain": [
       "                                                                                                            num_param  \\\n",
       "act_fn ff_1st_bn_before_act loss_type model_seed num_layer out_channel rcnn_bl_cls readout_type train_keep              \n",
       "relu   False                mse       0          3         8           4           cm-avg       1280            20293   \n",
       "                                                                                                2560            20293   \n",
       "                                                                                                5120            20293   \n",
       "\n",
       "                                                                                                                                              source_analysis  \\\n",
       "act_fn ff_1st_bn_before_act loss_type model_seed num_layer out_channel rcnn_bl_cls readout_type train_keep                                                      \n",
       "relu   False                mse       0          3         8           4           cm-avg       1280        {('I', 'B1', 'B2'): 0.0869439822872567, ('I', ...   \n",
       "                                                                                                2560        {('I', 'B1', 'B2'): 0.25330447921559, ('I', 'B...   \n",
       "                                                                                                5120        {('I', 'B1', 'B2'): 0.3883832368857787, ('I', ...   \n",
       "\n",
       "                                                                                                                                          source_analysis_vec  \n",
       "act_fn ff_1st_bn_before_act loss_type model_seed num_layer out_channel rcnn_bl_cls readout_type train_keep                                                     \n",
       "relu   False                mse       0          3         8           4           cm-avg       1280        [0.0, 0.8121615314553551, 0.16504708625203782,...  \n",
       "                                                                                                2560        [0.0, 0.7592639331155123, 0.20497157160385238,...  \n",
       "                                                                                                5120        [0.0, 0.7662109536699132, 0.19599178735575468,...  "
      ]
     },
     "execution_count": 13,
     "metadata": {},
     "output_type": "execute_result"
    }
   ],
   "source": [
    "df_main_result"
   ]
  },
  {
   "cell_type": "code",
   "execution_count": 14,
   "metadata": {},
   "outputs": [],
   "source": [
    "df_main_result_prev['source_analysis_vec'] = df_main_result_prev['source_analysis'].map(lambda x: get_normalized_vec(x))\n",
    "# del df_main_result_prev['source_analysis']"
   ]
  },
  {
   "cell_type": "code",
   "execution_count": 15,
   "metadata": {},
   "outputs": [],
   "source": [
    "df_main_result_merged = df_main_result.join(df_main_result_prev,how='inner',lsuffix='new',rsuffix='old')"
   ]
  },
  {
   "cell_type": "code",
   "execution_count": 16,
   "metadata": {},
   "outputs": [],
   "source": [
    "# ok. time to compute \n",
    "\n",
    "from scipy.spatial import distance"
   ]
  },
  {
   "cell_type": "code",
   "execution_count": 17,
   "metadata": {
    "scrolled": false
   },
   "outputs": [
    {
     "data": {
      "text/html": [
       "<div>\n",
       "<style scoped>\n",
       "    .dataframe tbody tr th:only-of-type {\n",
       "        vertical-align: middle;\n",
       "    }\n",
       "\n",
       "    .dataframe tbody tr th {\n",
       "        vertical-align: top;\n",
       "    }\n",
       "\n",
       "    .dataframe thead th {\n",
       "        text-align: right;\n",
       "    }\n",
       "</style>\n",
       "<table border=\"1\" class=\"dataframe\">\n",
       "  <thead>\n",
       "    <tr style=\"text-align: right;\">\n",
       "      <th></th>\n",
       "      <th></th>\n",
       "      <th></th>\n",
       "      <th></th>\n",
       "      <th></th>\n",
       "      <th></th>\n",
       "      <th></th>\n",
       "      <th></th>\n",
       "      <th></th>\n",
       "      <th>num_paramnew</th>\n",
       "      <th>source_analysisnew</th>\n",
       "      <th>source_analysis_vecnew</th>\n",
       "      <th>num_paramold</th>\n",
       "      <th>source_analysisold</th>\n",
       "      <th>source_analysis_vecold</th>\n",
       "    </tr>\n",
       "    <tr>\n",
       "      <th>act_fn</th>\n",
       "      <th>ff_1st_bn_before_act</th>\n",
       "      <th>loss_type</th>\n",
       "      <th>model_seed</th>\n",
       "      <th>num_layer</th>\n",
       "      <th>out_channel</th>\n",
       "      <th>rcnn_bl_cls</th>\n",
       "      <th>readout_type</th>\n",
       "      <th>train_keep</th>\n",
       "      <th></th>\n",
       "      <th></th>\n",
       "      <th></th>\n",
       "      <th></th>\n",
       "      <th></th>\n",
       "      <th></th>\n",
       "    </tr>\n",
       "  </thead>\n",
       "  <tbody>\n",
       "    <tr>\n",
       "      <th rowspan=\"3\" valign=\"top\">relu</th>\n",
       "      <th rowspan=\"3\" valign=\"top\">False</th>\n",
       "      <th rowspan=\"3\" valign=\"top\">mse</th>\n",
       "      <th rowspan=\"3\" valign=\"top\">0</th>\n",
       "      <th rowspan=\"3\" valign=\"top\">3</th>\n",
       "      <th rowspan=\"3\" valign=\"top\">8</th>\n",
       "      <th rowspan=\"3\" valign=\"top\">4</th>\n",
       "      <th rowspan=\"3\" valign=\"top\">cm-avg</th>\n",
       "      <th>1280</th>\n",
       "      <td>20293</td>\n",
       "      <td>{('I', 'B1', 'B2'): 0.0869439822872567, ('I', ...</td>\n",
       "      <td>[0.0, 0.8121615314553551, 0.16504708625203782,...</td>\n",
       "      <td>19301</td>\n",
       "      <td>{('I', 'B1', 'B2'): 0.08743595287114717, ('I',...</td>\n",
       "      <td>[0.0, 0.7116399838899711, 0.22986841818898485,...</td>\n",
       "    </tr>\n",
       "    <tr>\n",
       "      <th>2560</th>\n",
       "      <td>20293</td>\n",
       "      <td>{('I', 'B1', 'B2'): 0.25330447921559, ('I', 'B...</td>\n",
       "      <td>[0.0, 0.7592639331155123, 0.20497157160385238,...</td>\n",
       "      <td>19301</td>\n",
       "      <td>{('I', 'B1', 'B2'): 0.25912147044753053, ('I',...</td>\n",
       "      <td>[0.0, 0.5759073725820102, 0.29578485427585405,...</td>\n",
       "    </tr>\n",
       "    <tr>\n",
       "      <th>5120</th>\n",
       "      <td>20293</td>\n",
       "      <td>{('I', 'B1', 'B2'): 0.3883832368857787, ('I', ...</td>\n",
       "      <td>[0.0, 0.7662109536699132, 0.19599178735575468,...</td>\n",
       "      <td>19301</td>\n",
       "      <td>{('I', 'B1', 'B2'): 0.39050942247186815, ('I',...</td>\n",
       "      <td>[0.0, 0.49580689914632725, 0.3228098090293366,...</td>\n",
       "    </tr>\n",
       "  </tbody>\n",
       "</table>\n",
       "</div>"
      ],
      "text/plain": [
       "                                                                                                            num_paramnew  \\\n",
       "act_fn ff_1st_bn_before_act loss_type model_seed num_layer out_channel rcnn_bl_cls readout_type train_keep                 \n",
       "relu   False                mse       0          3         8           4           cm-avg       1280               20293   \n",
       "                                                                                                2560               20293   \n",
       "                                                                                                5120               20293   \n",
       "\n",
       "                                                                                                                                           source_analysisnew  \\\n",
       "act_fn ff_1st_bn_before_act loss_type model_seed num_layer out_channel rcnn_bl_cls readout_type train_keep                                                      \n",
       "relu   False                mse       0          3         8           4           cm-avg       1280        {('I', 'B1', 'B2'): 0.0869439822872567, ('I', ...   \n",
       "                                                                                                2560        {('I', 'B1', 'B2'): 0.25330447921559, ('I', 'B...   \n",
       "                                                                                                5120        {('I', 'B1', 'B2'): 0.3883832368857787, ('I', ...   \n",
       "\n",
       "                                                                                                                                       source_analysis_vecnew  \\\n",
       "act_fn ff_1st_bn_before_act loss_type model_seed num_layer out_channel rcnn_bl_cls readout_type train_keep                                                      \n",
       "relu   False                mse       0          3         8           4           cm-avg       1280        [0.0, 0.8121615314553551, 0.16504708625203782,...   \n",
       "                                                                                                2560        [0.0, 0.7592639331155123, 0.20497157160385238,...   \n",
       "                                                                                                5120        [0.0, 0.7662109536699132, 0.19599178735575468,...   \n",
       "\n",
       "                                                                                                            num_paramold  \\\n",
       "act_fn ff_1st_bn_before_act loss_type model_seed num_layer out_channel rcnn_bl_cls readout_type train_keep                 \n",
       "relu   False                mse       0          3         8           4           cm-avg       1280               19301   \n",
       "                                                                                                2560               19301   \n",
       "                                                                                                5120               19301   \n",
       "\n",
       "                                                                                                                                           source_analysisold  \\\n",
       "act_fn ff_1st_bn_before_act loss_type model_seed num_layer out_channel rcnn_bl_cls readout_type train_keep                                                      \n",
       "relu   False                mse       0          3         8           4           cm-avg       1280        {('I', 'B1', 'B2'): 0.08743595287114717, ('I',...   \n",
       "                                                                                                2560        {('I', 'B1', 'B2'): 0.25912147044753053, ('I',...   \n",
       "                                                                                                5120        {('I', 'B1', 'B2'): 0.39050942247186815, ('I',...   \n",
       "\n",
       "                                                                                                                                       source_analysis_vecold  \n",
       "act_fn ff_1st_bn_before_act loss_type model_seed num_layer out_channel rcnn_bl_cls readout_type train_keep                                                     \n",
       "relu   False                mse       0          3         8           4           cm-avg       1280        [0.0, 0.7116399838899711, 0.22986841818898485,...  \n",
       "                                                                                                2560        [0.0, 0.5759073725820102, 0.29578485427585405,...  \n",
       "                                                                                                5120        [0.0, 0.49580689914632725, 0.3228098090293366,...  "
      ]
     },
     "execution_count": 17,
     "metadata": {},
     "output_type": "execute_result"
    }
   ],
   "source": [
    "df_main_result_merged"
   ]
  },
  {
   "cell_type": "code",
   "execution_count": 18,
   "metadata": {},
   "outputs": [],
   "source": [
    "def get_normalized_vec_2(x, y):\n",
    "    assert x.keys() == y.keys()\n",
    "    x = get_normalized_vec(x)\n",
    "    y = get_normalized_vec(y)\n",
    "    return x, y "
   ]
  },
  {
   "cell_type": "code",
   "execution_count": 19,
   "metadata": {},
   "outputs": [],
   "source": [
    "%matplotlib inline\n",
    "import matplotlib.pyplot as plt\n",
    "def compare_depth_distribution(df_this):\n",
    "    for train_keep in df_this.index.get_level_values('train_keep').unique():\n",
    "        print(train_keep)\n",
    "        df_this_size = df_this.xs(train_keep, level='train_keep')\n",
    "        assert df_this_size.shape[0] == 1\n",
    "        plt.close('all')\n",
    "        fig, axes = plt.subplots(nrows=1, ncols=2, squeeze=True)\n",
    "        vecs = [\n",
    "            get_normalized_vec_2(x, y) for x, y in zip(\n",
    "            df_this_size['source_analysisold'].values,\n",
    "            df_this_size['source_analysisnew'].values\n",
    "        )]\n",
    "        assert len(vecs) == 1\n",
    "        axes[0].bar(np.arange(8), vecs[0][0])\n",
    "        axes[0].set_title('old')\n",
    "        axes[1].bar(np.arange(8), vecs[0][1])\n",
    "        axes[1].set_title('new')\n",
    "        plt.show()\n",
    "        \n",
    "        plt.close('all')\n",
    "        fig, axes = plt.subplots(nrows=1, ncols=2, squeeze=True)\n",
    "        vecs = [\n",
    "            get_vec_2(x, y) for x, y in zip(\n",
    "            df_this_size['source_analysisold'].values,\n",
    "            df_this_size['source_analysisnew'].values\n",
    "        )]\n",
    "        assert len(vecs) == 1\n",
    "        axes[0].bar(np.arange(len(vecs[0][0])), vecs[0][0])\n",
    "        axes[0].set_title('old')\n",
    "        axes[1].bar(np.arange(len(vecs[0][0])), vecs[0][1])\n",
    "        axes[1].set_title('new')\n",
    "        plt.show()"
   ]
  },
  {
   "cell_type": "code",
   "execution_count": 20,
   "metadata": {
    "scrolled": false
   },
   "outputs": [
    {
     "name": "stdout",
     "output_type": "stream",
     "text": [
      "1280\n"
     ]
    },
    {
     "data": {
      "image/png": "[encoded data removed]",
      "text/plain": [
       "<Figure size 432x288 with 2 Axes>"
      ]
     },
     "metadata": {
      "needs_background": "light"
     },
     "output_type": "display_data"
    },
    {
     "name": "stdout",
     "output_type": "stream",
     "text": [
      "dict_keys([('I', 'B1', 'B2'), ('I', 'B1', 'R1', 'B2'), ('I', 'B1', 'B2', 'R2'), ('I', 'B1', 'R1', 'R1', 'B2'), ('I', 'B1', 'R1', 'B2', 'R2'), ('I', 'B1', 'B2', 'R2', 'R2'), ('I', 'B1', 'R1', 'R1', 'R1', 'B2'), ('I', 'B1', 'R1', 'R1', 'B2', 'R2'), ('I', 'B1', 'R1', 'B2', 'R2', 'R2'), ('I', 'B1', 'B2', 'R2', 'R2', 'R2')])\n"
     ]
    },
    {
     "data": {
      "image/png": "[encoded data removed]",
      "text/plain": [
       "<Figure size 432x288 with 2 Axes>"
      ]
     },
     "metadata": {
      "needs_background": "light"
     },
     "output_type": "display_data"
    },
    {
     "name": "stdout",
     "output_type": "stream",
     "text": [
      "2560\n"
     ]
    },
    {
     "data": {
      "image/png": "[encoded data removed]",
      "text/plain": [
       "<Figure size 432x288 with 2 Axes>"
      ]
     },
     "metadata": {
      "needs_background": "light"
     },
     "output_type": "display_data"
    },
    {
     "name": "stdout",
     "output_type": "stream",
     "text": [
      "dict_keys([('I', 'B1', 'B2'), ('I', 'B1', 'R1', 'B2'), ('I', 'B1', 'B2', 'R2'), ('I', 'B1', 'R1', 'R1', 'B2'), ('I', 'B1', 'R1', 'B2', 'R2'), ('I', 'B1', 'B2', 'R2', 'R2'), ('I', 'B1', 'R1', 'R1', 'R1', 'B2'), ('I', 'B1', 'R1', 'R1', 'B2', 'R2'), ('I', 'B1', 'R1', 'B2', 'R2', 'R2'), ('I', 'B1', 'B2', 'R2', 'R2', 'R2')])\n"
     ]
    },
    {
     "data": {
      "image/png": "[encoded data removed]",
      "text/plain": [
       "<Figure size 432x288 with 2 Axes>"
      ]
     },
     "metadata": {
      "needs_background": "light"
     },
     "output_type": "display_data"
    },
    {
     "name": "stdout",
     "output_type": "stream",
     "text": [
      "5120\n"
     ]
    },
    {
     "data": {
      "image/png": "[encoded data removed]",
      "text/plain": [
       "<Figure size 432x288 with 2 Axes>"
      ]
     },
     "metadata": {
      "needs_background": "light"
     },
     "output_type": "display_data"
    },
    {
     "name": "stdout",
     "output_type": "stream",
     "text": [
      "dict_keys([('I', 'B1', 'B2'), ('I', 'B1', 'R1', 'B2'), ('I', 'B1', 'B2', 'R2'), ('I', 'B1', 'R1', 'R1', 'B2'), ('I', 'B1', 'R1', 'B2', 'R2'), ('I', 'B1', 'B2', 'R2', 'R2'), ('I', 'B1', 'R1', 'R1', 'R1', 'B2'), ('I', 'B1', 'R1', 'R1', 'B2', 'R2'), ('I', 'B1', 'R1', 'B2', 'R2', 'R2'), ('I', 'B1', 'B2', 'R2', 'R2', 'R2')])\n"
     ]
    },
    {
     "data": {
      "image/png": "[encoded data removed]",
      "text/plain": [
       "<Figure size 432x288 with 2 Axes>"
      ]
     },
     "metadata": {
      "needs_background": "light"
     },
     "output_type": "display_data"
    }
   ],
   "source": [
    "compare_depth_distribution(df_main_result_merged)\n",
    "# more difference with larger train keep.\n",
    "# which is understandable, because more training data leads to more distributed depth, and thus cosine distances will be more spread out."
   ]
  },
  {
   "cell_type": "code",
   "execution_count": 21,
   "metadata": {},
   "outputs": [],
   "source": [
    "%matplotlib inline\n",
    "import matplotlib.pyplot as plt\n",
    "def compare_depth_diff(df_this):\n",
    "    for train_keep in df_this.index.get_level_values('train_keep').unique():\n",
    "        print(train_keep)\n",
    "        df_this_size = df_this.xs(train_keep, level='train_keep')\n",
    "        plt.close('all')\n",
    "        fig, ax = plt.subplots(squeeze=True)\n",
    "        aaa = df_this_size['source_analysis_vecnew'].map(lambda x: x[1])\n",
    "        bbb = df_this_size['source_analysis_vecold'].map(lambda x: x[1])\n",
    "        ax.scatter(aaa.values, bbb.values)\n",
    "        ax.plot([0,1],[0,1],linestyle='--')\n",
    "        plt.show()"
   ]
  },
  {
   "cell_type": "code",
   "execution_count": 22,
   "metadata": {},
   "outputs": [
    {
     "name": "stdout",
     "output_type": "stream",
     "text": [
      "1280\n"
     ]
    },
    {
     "data": {
      "image/png": "[encoded data removed]",
      "text/plain": [
       "<Figure size 432x288 with 1 Axes>"
      ]
     },
     "metadata": {
      "needs_background": "light"
     },
     "output_type": "display_data"
    },
    {
     "name": "stdout",
     "output_type": "stream",
     "text": [
      "2560\n"
     ]
    },
    {
     "data": {
      "image/png": "[encoded data removed]",
      "text/plain": [
       "<Figure size 432x288 with 1 Axes>"
      ]
     },
     "metadata": {
      "needs_background": "light"
     },
     "output_type": "display_data"
    },
    {
     "name": "stdout",
     "output_type": "stream",
     "text": [
      "5120\n"
     ]
    },
    {
     "data": {
      "image/png": "[encoded data removed]",
      "text/plain": [
       "<Figure size 432x288 with 1 Axes>"
      ]
     },
     "metadata": {
      "needs_background": "light"
     },
     "output_type": "display_data"
    }
   ],
   "source": [
    "compare_depth_diff(df_main_result_merged)"
   ]
  },
  {
   "cell_type": "code",
   "execution_count": 23,
   "metadata": {},
   "outputs": [],
   "source": [
    "# raw source analysis list from this file and `20200725+20200801+20200801_2_source_analysis_debug_3layer` are the same\n",
    "def check_source_analysis_list():\n",
    "    a = [{'conv': ('I', 'B1', 'B2'), 'scale': (1.0, 's1,1', 's2,1', 1.0, 0.25)}, {'conv': ('I', 'B1', 'B2'), 'scale': (1.0, 's1,1', 's2,1', 0.5, 0.25)}, {'conv': ('I', 'B1', 'B2'), 'scale': (1.0, 's1,2', 's2,2', 0.5, 0.25)}, {'conv': ('I', 'B1', 'R1', 'B2'), 'scale': (1.0, 's1,1', 's1,2', 's2,2', 0.5, 0.25)}, {'conv': ('I', 'B1', 'B2', 'R2'), 'scale': (1.0, 's1,1', 's2,1', 's2,2', 0.5, 0.25)}, {'conv': ('I', 'B1', 'B2'), 'scale': (1.0, 's1,1', 's2,1', 0.3333333333333333, 0.25)}, {'conv': ('I', 'B1', 'B2'), 'scale': (1.0, 's1,2', 's2,2', 0.3333333333333333, 0.25)}, {'conv': ('I', 'B1', 'R1', 'B2'), 'scale': (1.0, 's1,1', 's1,2', 's2,2', 0.3333333333333333, 0.25)}, {'conv': ('I', 'B1', 'B2', 'R2'), 'scale': (1.0, 's1,1', 's2,1', 's2,2', 0.3333333333333333, 0.25)}, {'conv': ('I', 'B1', 'B2'), 'scale': (1.0, 's1,3', 's2,3', 0.3333333333333333, 0.25)}, {'conv': ('I', 'B1', 'R1', 'B2'), 'scale': (1.0, 's1,2', 's1,3', 's2,3', 0.3333333333333333, 0.25)}, {'conv': ('I', 'B1', 'R1', 'R1', 'B2'), 'scale': (1.0, 's1,1', 's1,2', 's1,3', 's2,3', 0.3333333333333333, 0.25)}, {'conv': ('I', 'B1', 'B2', 'R2'), 'scale': (1.0, 's1,2', 's2,2', 's2,3', 0.3333333333333333, 0.25)}, {'conv': ('I', 'B1', 'R1', 'B2', 'R2'), 'scale': (1.0, 's1,1', 's1,2', 's2,2', 's2,3', 0.3333333333333333, 0.25)}, {'conv': ('I', 'B1', 'B2', 'R2', 'R2'), 'scale': (1.0, 's1,1', 's2,1', 's2,2', 's2,3', 0.3333333333333333, 0.25)}, {'conv': ('I', 'B1', 'B2'), 'scale': (1.0, 's1,1', 's2,1', 0.25, 0.25)}, {'conv': ('I', 'B1', 'B2'), 'scale': (1.0, 's1,2', 's2,2', 0.25, 0.25)}, {'conv': ('I', 'B1', 'R1', 'B2'), 'scale': (1.0, 's1,1', 's1,2', 's2,2', 0.25, 0.25)}, {'conv': ('I', 'B1', 'B2', 'R2'), 'scale': (1.0, 's1,1', 's2,1', 's2,2', 0.25, 0.25)}, {'conv': ('I', 'B1', 'B2'), 'scale': (1.0, 's1,3', 's2,3', 0.25, 0.25)}, {'conv': ('I', 'B1', 'R1', 'B2'), 'scale': (1.0, 's1,2', 's1,3', 's2,3', 0.25, 0.25)}, {'conv': ('I', 'B1', 'R1', 'R1', 'B2'), 'scale': (1.0, 's1,1', 's1,2', 's1,3', 's2,3', 0.25, 0.25)}, {'conv': ('I', 'B1', 'B2', 'R2'), 'scale': (1.0, 's1,2', 's2,2', 's2,3', 0.25, 0.25)}, {'conv': ('I', 'B1', 'R1', 'B2', 'R2'), 'scale': (1.0, 's1,1', 's1,2', 's2,2', 's2,3', 0.25, 0.25)}, {'conv': ('I', 'B1', 'B2', 'R2', 'R2'), 'scale': (1.0, 's1,1', 's2,1', 's2,2', 's2,3', 0.25, 0.25)}, {'conv': ('I', 'B1', 'B2'), 'scale': (1.0, 's1,4', 's2,4', 0.25, 0.25)}, {'conv': ('I', 'B1', 'R1', 'B2'), 'scale': (1.0, 's1,3', 's1,4', 's2,4', 0.25, 0.25)}, {'conv': ('I', 'B1', 'R1', 'R1', 'B2'), 'scale': (1.0, 's1,2', 's1,3', 's1,4', 's2,4', 0.25, 0.25)}, {'conv': ('I', 'B1', 'R1', 'R1', 'R1', 'B2'), 'scale': (1.0, 's1,1', 's1,2', 's1,3', 's1,4', 's2,4', 0.25, 0.25)}, {'conv': ('I', 'B1', 'B2', 'R2'), 'scale': (1.0, 's1,3', 's2,3', 's2,4', 0.25, 0.25)}, {'conv': ('I', 'B1', 'R1', 'B2', 'R2'), 'scale': (1.0, 's1,2', 's1,3', 's2,3', 's2,4', 0.25, 0.25)}, {'conv': ('I', 'B1', 'R1', 'R1', 'B2', 'R2'), 'scale': (1.0, 's1,1', 's1,2', 's1,3', 's2,3', 's2,4', 0.25, 0.25)}, {'conv': ('I', 'B1', 'B2', 'R2', 'R2'), 'scale': (1.0, 's1,2', 's2,2', 's2,3', 's2,4', 0.25, 0.25)}, {'conv': ('I', 'B1', 'R1', 'B2', 'R2', 'R2'), 'scale': (1.0, 's1,1', 's1,2', 's2,2', 's2,3', 's2,4', 0.25, 0.25)}, {'conv': ('I', 'B1', 'B2', 'R2', 'R2', 'R2'), 'scale': (1.0, 's1,1', 's2,1', 's2,2', 's2,3', 's2,4', 0.25, 0.25)}]\n",
    "    b = [{'conv': ('I', 'B1', 'B2'), 'scale': (1.0, 's1,1', 's2,1', 1.0, 0.25)}, {'conv': ('I', 'B1', 'B2'), 'scale': (1.0, 's1,1', 's2,1', 0.5, 0.25)}, {'conv': ('I', 'B1', 'B2'), 'scale': (1.0, 's1,2', 's2,2', 0.5, 0.25)}, {'conv': ('I', 'B1', 'R1', 'B2'), 'scale': (1.0, 's1,1,1', 's1,2,1', 's2,2,1', 0.5, 0.25)}, {'conv': ('I', 'B1', 'B2', 'R2'), 'scale': (1.0, 's1,1,2', 's2,1,1', 's2,2,2', 0.5, 0.25)}, {'conv': ('I', 'B1', 'B2'), 'scale': (1.0, 's1,1', 's2,1', 0.3333333333333333, 0.25)}, {'conv': ('I', 'B1', 'B2'), 'scale': (1.0, 's1,2', 's2,2', 0.3333333333333333, 0.25)}, {'conv': ('I', 'B1', 'R1', 'B2'), 'scale': (1.0, 's1,1,1', 's1,2,1', 's2,2,1', 0.3333333333333333, 0.25)}, {'conv': ('I', 'B1', 'B2', 'R2'), 'scale': (1.0, 's1,1,2', 's2,1,1', 's2,2,2', 0.3333333333333333, 0.25)}, {'conv': ('I', 'B1', 'B2'), 'scale': (1.0, 's1,3', 's2,3', 0.3333333333333333, 0.25)}, {'conv': ('I', 'B1', 'R1', 'B2'), 'scale': (1.0, 's1,2,2', 's1,3,1', 's2,3,1', 0.3333333333333333, 0.25)}, {'conv': ('I', 'B1', 'R1', 'R1', 'B2'), 'scale': (1.0, 's1,1,3', 's1,2,3', 's1,3,2', 's2,3,2', 0.3333333333333333, 0.25)}, {'conv': ('I', 'B1', 'B2', 'R2'), 'scale': (1.0, 's1,2,4', 's2,2,3', 's2,3,3', 0.3333333333333333, 0.25)}, {'conv': ('I', 'B1', 'R1', 'B2', 'R2'), 'scale': (1.0, 's1,1,4', 's1,2,5', 's2,2,4', 's2,3,4', 0.3333333333333333, 0.25)}, {'conv': ('I', 'B1', 'B2', 'R2', 'R2'), 'scale': (1.0, 's1,1,5', 's2,1,2', 's2,2,5', 's2,3,5', 0.3333333333333333, 0.25)}, {'conv': ('I', 'B1', 'B2'), 'scale': (1.0, 's1,1', 's2,1', 0.25, 0.25)}, {'conv': ('I', 'B1', 'B2'), 'scale': (1.0, 's1,2', 's2,2', 0.25, 0.25)}, {'conv': ('I', 'B1', 'R1', 'B2'), 'scale': (1.0, 's1,1,1', 's1,2,1', 's2,2,1', 0.25, 0.25)}, {'conv': ('I', 'B1', 'B2', 'R2'), 'scale': (1.0, 's1,1,2', 's2,1,1', 's2,2,2', 0.25, 0.25)}, {'conv': ('I', 'B1', 'B2'), 'scale': (1.0, 's1,3', 's2,3', 0.25, 0.25)}, {'conv': ('I', 'B1', 'R1', 'B2'), 'scale': (1.0, 's1,2,2', 's1,3,1', 's2,3,1', 0.25, 0.25)}, {'conv': ('I', 'B1', 'R1', 'R1', 'B2'), 'scale': (1.0, 's1,1,3', 's1,2,3', 's1,3,2', 's2,3,2', 0.25, 0.25)}, {'conv': ('I', 'B1', 'B2', 'R2'), 'scale': (1.0, 's1,2,4', 's2,2,3', 's2,3,3', 0.25, 0.25)}, {'conv': ('I', 'B1', 'R1', 'B2', 'R2'), 'scale': (1.0, 's1,1,4', 's1,2,5', 's2,2,4', 's2,3,4', 0.25, 0.25)}, {'conv': ('I', 'B1', 'B2', 'R2', 'R2'), 'scale': (1.0, 's1,1,5', 's2,1,2', 's2,2,5', 's2,3,5', 0.25, 0.25)}, {'conv': ('I', 'B1', 'B2'), 'scale': (1.0, 's1,4', 's2,4', 0.25, 0.25)}, {'conv': ('I', 'B1', 'R1', 'B2'), 'scale': (1.0, 's1,3,3', 's1,4,1', 's2,4,1', 0.25, 0.25)}, {'conv': ('I', 'B1', 'R1', 'R1', 'B2'), 'scale': (1.0, 's1,2,6', 's1,3,4', 's1,4,2', 's2,4,2', 0.25, 0.25)}, {'conv': ('I', 'B1', 'R1', 'R1', 'R1', 'B2'), 'scale': (1.0, 's1,1,6', 's1,2,7', 's1,3,5', 's1,4,3', 's2,4,3', 0.25, 0.25)}, {'conv': ('I', 'B1', 'B2', 'R2'), 'scale': (1.0, 's1,3,6', 's2,3,6', 's2,4,4', 0.25, 0.25)}, {'conv': ('I', 'B1', 'R1', 'B2', 'R2'), 'scale': (1.0, 's1,2,8', 's1,3,7', 's2,3,7', 's2,4,5', 0.25, 0.25)}, {'conv': ('I', 'B1', 'R1', 'R1', 'B2', 'R2'), 'scale': (1.0, 's1,1,7', 's1,2,9', 's1,3,8', 's2,3,8', 's2,4,6', 0.25, 0.25)}, {'conv': ('I', 'B1', 'B2', 'R2', 'R2'), 'scale': (1.0, 's1,2,10', 's2,2,6', 's2,3,9', 's2,4,7', 0.25, 0.25)}, {'conv': ('I', 'B1', 'R1', 'B2', 'R2', 'R2'), 'scale': (1.0, 's1,1,8', 's1,2,11', 's2,2,7', 's2,3,10', 's2,4,8', 0.25, 0.25)}, {'conv': ('I', 'B1', 'B2', 'R2', 'R2', 'R2'), 'scale': (1.0, 's1,1,9', 's2,1,3', 's2,2,8', 's2,3,11', 's2,4,9', 0.25, 0.25)}]\n",
    "    assert len(a) == len(b)\n",
    "    for x, y in zip(a,b):\n",
    "        assert x.keys() == y.keys()\n",
    "        assert x['conv'] == y['conv']\n",
    "        scaley = tuple([z[:4] if type(z) is str else z for z in y['scale']])\n",
    "    #     print(scaley, x['scale'])\n",
    "        assert scaley == x['scale']\n",
    "        \n",
    "check_source_analysis_list()"
   ]
  }
 ],
 "metadata": {
  "kernelspec": {
   "display_name": "Python 3",
   "language": "python",
   "name": "python3"
  },
  "language_info": {
   "codemirror_mode": {
    "name": "ipython",
    "version": 3
   },
   "file_extension": ".py",
   "mimetype": "text/x-python",
   "name": "python",
   "nbconvert_exporter": "python",
   "pygments_lexer": "ipython3",
   "version": "3.7.6"
  }
 },
 "nbformat": 4,
 "nbformat_minor": 4
}

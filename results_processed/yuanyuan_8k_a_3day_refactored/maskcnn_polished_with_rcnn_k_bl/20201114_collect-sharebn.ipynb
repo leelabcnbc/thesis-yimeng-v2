{
 "cells": [
  {
   "cell_type": "code",
   "execution_count": 1,
   "metadata": {},
   "outputs": [],
   "source": [
    "# this file collects all results for 8k, under 4 read out modes, up to cls=7 or 10."
   ]
  },
  {
   "cell_type": "code",
   "execution_count": 2,
   "metadata": {},
   "outputs": [],
   "source": [
    "from os.path import join, dirname, exists\n",
    "from os import makedirs\n",
    "from itertools import chain\n",
    "\n",
    "from thesis_v2 import dir_dict\n",
    "from thesis_v2.configs.model.maskcnn_polished_with_rcnn_k_bl import (\n",
    "#     explored_models_20200725_generator,\n",
    "    explored_models_20201114_generator,\n",
    ")\n",
    "from thesis_v2.analysis.io import collect_rcnn_k_bl_main_result"
   ]
  },
  {
   "cell_type": "code",
   "execution_count": 3,
   "metadata": {},
   "outputs": [],
   "source": [
    "import pandas as pd"
   ]
  },
  {
   "cell_type": "code",
   "execution_count": 4,
   "metadata": {},
   "outputs": [],
   "source": [
    "# get cc_max\n",
    "from strflab.stats import cc_max\n",
    "from thesis_v2.data.prepared.yuanyuan_8k import get_neural_data_per_trial\n",
    "\n",
    "cc_max_all_neurons = cc_max(get_neural_data_per_trial(('042318', '043018','051018',)))\n",
    "assert cc_max_all_neurons.shape == (79,)"
   ]
  },
  {
   "cell_type": "code",
   "execution_count": 5,
   "metadata": {
    "scrolled": false
   },
   "outputs": [
    {
     "name": "stdout",
     "output_type": "stream",
     "text": [
      "0\n",
      "100\n",
      "200\n",
      "300\n",
      "400\n",
      "500\n",
      "600\n",
      "700\n",
      "800\n",
      "900\n",
      "1000\n",
      "1100\n",
      "1200\n",
      "1300\n",
      "1400\n",
      "1500\n",
      "1600\n",
      "1700\n",
      "1800\n",
      "1900\n",
      "2000\n",
      "2100\n",
      "2200\n",
      "2300\n",
      "2400\n",
      "2500\n",
      "2600\n",
      "2700\n",
      "2800\n",
      "2900\n",
      "3000\n",
      "3100\n",
      "3200\n",
      "3300\n",
      "3400\n"
     ]
    }
   ],
   "source": [
    "f_main_result = join(dir_dict['analyses'], 'yuanyuan_8k_a_3day_refactored', '20201114', 'main_result_sharebn.pkl')\n",
    "makedirs(dirname(f_main_result), exist_ok=True)\n",
    "# if not exists(f_main_result):\n",
    "if True:\n",
    "    df_main_result = collect_rcnn_k_bl_main_result(\n",
    "        fixed_keys = {\n",
    "        'kernel_size_l23': 3,\n",
    "        'kernel_size_l1': 9,\n",
    "        'ff_1st_block': True,\n",
    "        'pooling_ksize': 3,\n",
    "        'pooling_type': 'avg',\n",
    "        'bn_after_fc': False,\n",
    "        'rcnn_bl_psize': 1,\n",
    "        'rcnn_bl_ptype': None,\n",
    "        'input_size': 50,\n",
    "        'split_seed': 'legacy',\n",
    "        'dataset_prefix': 'yuanyuan_8k_a_3day',\n",
    "        'model_prefix': 'maskcnn_polished_with_rcnn_k_bl',\n",
    "        'scale_name': '0.01',\n",
    "        'scale': '0.01',\n",
    "        'smoothness_name': '0.000005',\n",
    "        'smoothness': '0.000005',\n",
    "            'multi_path': True,\n",
    "            'multi_path_separate_bn': False,\n",
    "    },\n",
    "        generator=chain(\n",
    "            explored_models_20201114_generator(with_source=True, separate_bn_list=[False]),\n",
    "            # more iterations cause OOM\n",
    "    #             explored_models_20200801_generator(with_source=True),\n",
    "    #             explored_models_20200725_generator(with_source=True),\n",
    "        ),\n",
    "        total_num_param=28,\n",
    "        train_size_mapping={\n",
    "            None: 5120,\n",
    "        },\n",
    "        cc_max_all_neurons=cc_max_all_neurons,\n",
    "        num_neuron=79,\n",
    "        skip_eval_json=True,\n",
    "        no_missing_data=False,\n",
    "        key_override={\n",
    "            'model_prefix': 'maskcnn_polished_with_rcnn_k_bl.20201114_with_OOM',\n",
    "        }\n",
    "    )\n",
    "    df_main_result.to_pickle(f_main_result)\n",
    "    del df_main_result\n",
    "df_main_result = pd.read_pickle(f_main_result)"
   ]
  },
  {
   "cell_type": "code",
   "execution_count": 6,
   "metadata": {},
   "outputs": [
    {
     "data": {
      "text/html": [
       "<div>\n",
       "<style scoped>\n",
       "    .dataframe tbody tr th:only-of-type {\n",
       "        vertical-align: middle;\n",
       "    }\n",
       "\n",
       "    .dataframe tbody tr th {\n",
       "        vertical-align: top;\n",
       "    }\n",
       "\n",
       "    .dataframe thead th {\n",
       "        text-align: right;\n",
       "    }\n",
       "</style>\n",
       "<table border=\"1\" class=\"dataframe\">\n",
       "  <thead>\n",
       "    <tr style=\"text-align: right;\">\n",
       "      <th></th>\n",
       "      <th></th>\n",
       "      <th></th>\n",
       "      <th></th>\n",
       "      <th></th>\n",
       "      <th></th>\n",
       "      <th></th>\n",
       "      <th></th>\n",
       "      <th></th>\n",
       "      <th>cc2_normed_avg</th>\n",
       "      <th>cc2_raw_avg</th>\n",
       "      <th>cc_raw_avg</th>\n",
       "      <th>num_param</th>\n",
       "    </tr>\n",
       "    <tr>\n",
       "      <th>act_fn</th>\n",
       "      <th>ff_1st_bn_before_act</th>\n",
       "      <th>loss_type</th>\n",
       "      <th>model_seed</th>\n",
       "      <th>num_layer</th>\n",
       "      <th>out_channel</th>\n",
       "      <th>rcnn_bl_cls</th>\n",
       "      <th>readout_type</th>\n",
       "      <th>train_keep</th>\n",
       "      <th></th>\n",
       "      <th></th>\n",
       "      <th></th>\n",
       "      <th></th>\n",
       "    </tr>\n",
       "  </thead>\n",
       "  <tbody>\n",
       "    <tr>\n",
       "      <th rowspan=\"5\" valign=\"top\">relu</th>\n",
       "      <th rowspan=\"5\" valign=\"top\">False</th>\n",
       "      <th rowspan=\"5\" valign=\"top\">mse</th>\n",
       "      <th rowspan=\"5\" valign=\"top\">0</th>\n",
       "      <th rowspan=\"5\" valign=\"top\">2</th>\n",
       "      <th rowspan=\"5\" valign=\"top\">8</th>\n",
       "      <th rowspan=\"5\" valign=\"top\">2</th>\n",
       "      <th rowspan=\"3\" valign=\"top\">inst-avg</th>\n",
       "      <th>1280</th>\n",
       "      <td>0.353379</td>\n",
       "      <td>0.170092</td>\n",
       "      <td>0.377097</td>\n",
       "      <td>18053</td>\n",
       "    </tr>\n",
       "    <tr>\n",
       "      <th>2560</th>\n",
       "      <td>0.543214</td>\n",
       "      <td>0.253211</td>\n",
       "      <td>0.480402</td>\n",
       "      <td>18053</td>\n",
       "    </tr>\n",
       "    <tr>\n",
       "      <th>5120</th>\n",
       "      <td>0.570733</td>\n",
       "      <td>0.263753</td>\n",
       "      <td>0.494925</td>\n",
       "      <td>18053</td>\n",
       "    </tr>\n",
       "    <tr>\n",
       "      <th rowspan=\"2\" valign=\"top\">inst-last</th>\n",
       "      <th>1280</th>\n",
       "      <td>0.314321</td>\n",
       "      <td>0.149561</td>\n",
       "      <td>0.352191</td>\n",
       "      <td>18053</td>\n",
       "    </tr>\n",
       "    <tr>\n",
       "      <th>2560</th>\n",
       "      <td>0.526389</td>\n",
       "      <td>0.244728</td>\n",
       "      <td>0.473246</td>\n",
       "      <td>18053</td>\n",
       "    </tr>\n",
       "    <tr>\n",
       "      <th>...</th>\n",
       "      <th>...</th>\n",
       "      <th>...</th>\n",
       "      <th>...</th>\n",
       "      <th>...</th>\n",
       "      <th>...</th>\n",
       "      <th>...</th>\n",
       "      <th>...</th>\n",
       "      <th>...</th>\n",
       "      <td>...</td>\n",
       "      <td>...</td>\n",
       "      <td>...</td>\n",
       "      <td>...</td>\n",
       "    </tr>\n",
       "    <tr>\n",
       "      <th rowspan=\"5\" valign=\"top\">softplus</th>\n",
       "      <th rowspan=\"5\" valign=\"top\">True</th>\n",
       "      <th rowspan=\"5\" valign=\"top\">poisson</th>\n",
       "      <th rowspan=\"5\" valign=\"top\">1</th>\n",
       "      <th rowspan=\"5\" valign=\"top\">3</th>\n",
       "      <th rowspan=\"5\" valign=\"top\">32</th>\n",
       "      <th rowspan=\"5\" valign=\"top\">3</th>\n",
       "      <th rowspan=\"2\" valign=\"top\">inst-avg</th>\n",
       "      <th>2560</th>\n",
       "      <td>0.318142</td>\n",
       "      <td>0.147596</td>\n",
       "      <td>0.359624</td>\n",
       "      <td>57997</td>\n",
       "    </tr>\n",
       "    <tr>\n",
       "      <th>5120</th>\n",
       "      <td>0.287170</td>\n",
       "      <td>0.132624</td>\n",
       "      <td>0.341436</td>\n",
       "      <td>57997</td>\n",
       "    </tr>\n",
       "    <tr>\n",
       "      <th rowspan=\"3\" valign=\"top\">inst-last</th>\n",
       "      <th>1280</th>\n",
       "      <td>0.258619</td>\n",
       "      <td>0.120376</td>\n",
       "      <td>0.321092</td>\n",
       "      <td>57997</td>\n",
       "    </tr>\n",
       "    <tr>\n",
       "      <th>2560</th>\n",
       "      <td>0.331750</td>\n",
       "      <td>0.154625</td>\n",
       "      <td>0.368585</td>\n",
       "      <td>57997</td>\n",
       "    </tr>\n",
       "    <tr>\n",
       "      <th>5120</th>\n",
       "      <td>0.315511</td>\n",
       "      <td>0.146049</td>\n",
       "      <td>0.359074</td>\n",
       "      <td>57997</td>\n",
       "    </tr>\n",
       "  </tbody>\n",
       "</table>\n",
       "<p>2666 rows × 4 columns</p>\n",
       "</div>"
      ],
      "text/plain": [
       "                                                                                                              cc2_normed_avg  \\\n",
       "act_fn   ff_1st_bn_before_act loss_type model_seed num_layer out_channel rcnn_bl_cls readout_type train_keep                   \n",
       "relu     False                mse       0          2         8           2           inst-avg     1280              0.353379   \n",
       "                                                                                                  2560              0.543214   \n",
       "                                                                                                  5120              0.570733   \n",
       "                                                                                     inst-last    1280              0.314321   \n",
       "                                                                                                  2560              0.526389   \n",
       "...                                                                                                                      ...   \n",
       "softplus True                 poisson   1          3         32          3           inst-avg     2560              0.318142   \n",
       "                                                                                                  5120              0.287170   \n",
       "                                                                                     inst-last    1280              0.258619   \n",
       "                                                                                                  2560              0.331750   \n",
       "                                                                                                  5120              0.315511   \n",
       "\n",
       "                                                                                                              cc2_raw_avg  \\\n",
       "act_fn   ff_1st_bn_before_act loss_type model_seed num_layer out_channel rcnn_bl_cls readout_type train_keep                \n",
       "relu     False                mse       0          2         8           2           inst-avg     1280           0.170092   \n",
       "                                                                                                  2560           0.253211   \n",
       "                                                                                                  5120           0.263753   \n",
       "                                                                                     inst-last    1280           0.149561   \n",
       "                                                                                                  2560           0.244728   \n",
       "...                                                                                                                   ...   \n",
       "softplus True                 poisson   1          3         32          3           inst-avg     2560           0.147596   \n",
       "                                                                                                  5120           0.132624   \n",
       "                                                                                     inst-last    1280           0.120376   \n",
       "                                                                                                  2560           0.154625   \n",
       "                                                                                                  5120           0.146049   \n",
       "\n",
       "                                                                                                              cc_raw_avg  \\\n",
       "act_fn   ff_1st_bn_before_act loss_type model_seed num_layer out_channel rcnn_bl_cls readout_type train_keep               \n",
       "relu     False                mse       0          2         8           2           inst-avg     1280          0.377097   \n",
       "                                                                                                  2560          0.480402   \n",
       "                                                                                                  5120          0.494925   \n",
       "                                                                                     inst-last    1280          0.352191   \n",
       "                                                                                                  2560          0.473246   \n",
       "...                                                                                                                  ...   \n",
       "softplus True                 poisson   1          3         32          3           inst-avg     2560          0.359624   \n",
       "                                                                                                  5120          0.341436   \n",
       "                                                                                     inst-last    1280          0.321092   \n",
       "                                                                                                  2560          0.368585   \n",
       "                                                                                                  5120          0.359074   \n",
       "\n",
       "                                                                                                              num_param  \n",
       "act_fn   ff_1st_bn_before_act loss_type model_seed num_layer out_channel rcnn_bl_cls readout_type train_keep             \n",
       "relu     False                mse       0          2         8           2           inst-avg     1280            18053  \n",
       "                                                                                                  2560            18053  \n",
       "                                                                                                  5120            18053  \n",
       "                                                                                     inst-last    1280            18053  \n",
       "                                                                                                  2560            18053  \n",
       "...                                                                                                                 ...  \n",
       "softplus True                 poisson   1          3         32          3           inst-avg     2560            57997  \n",
       "                                                                                                  5120            57997  \n",
       "                                                                                     inst-last    1280            57997  \n",
       "                                                                                                  2560            57997  \n",
       "                                                                                                  5120            57997  \n",
       "\n",
       "[2666 rows x 4 columns]"
      ]
     },
     "execution_count": 6,
     "metadata": {},
     "output_type": "execute_result"
    }
   ],
   "source": [
    "df_main_result.dropna()"
   ]
  },
  {
   "cell_type": "code",
   "execution_count": 7,
   "metadata": {},
   "outputs": [],
   "source": [
    "# take main results and compare\n",
    "f_ref_result = join(dir_dict['analyses'], 'yuanyuan_8k_a_3day_refactored', '20200725+20200801+20200801_2', 'main_result.pkl')\n",
    "df_main_result_ref = pd.read_pickle(f_ref_result)"
   ]
  },
  {
   "cell_type": "code",
   "execution_count": 8,
   "metadata": {},
   "outputs": [],
   "source": [
    "aaaa = df_main_result_ref.join(df_main_result.dropna(), how='inner', lsuffix='_ref', rsuffix='_new')"
   ]
  },
  {
   "cell_type": "code",
   "execution_count": null,
   "metadata": {},
   "outputs": [],
   "source": []
  },
  {
   "cell_type": "code",
   "execution_count": 9,
   "metadata": {},
   "outputs": [],
   "source": [
    "%matplotlib inline\n",
    "import matplotlib.pyplot as plt\n",
    "from thesis_v2.plots.basic import scatter"
   ]
  },
  {
   "cell_type": "code",
   "execution_count": 10,
   "metadata": {},
   "outputs": [],
   "source": [
    "from scipy.stats import pearsonr"
   ]
  },
  {
   "cell_type": "code",
   "execution_count": 16,
   "metadata": {},
   "outputs": [
    {
     "name": "stdout",
     "output_type": "stream",
     "text": [
      "1280\n",
      "2560\n",
      "5120\n"
     ]
    },
    {
     "data": {
      "image/png": "[encoded data removed]",
      "text/plain": [
       "<Figure size 432x288 with 1 Axes>"
      ]
     },
     "metadata": {
      "needs_background": "light"
     },
     "output_type": "display_data"
    }
   ],
   "source": [
    "def plot_scatter():\n",
    "    fig, ax = plt.subplots(squeeze=True);\n",
    "    for train_keep in aaaa.index.get_level_values('train_keep').unique():\n",
    "        b = aaaa.xs(train_keep, level='train_keep')\n",
    "        n = b.shape[0]\n",
    "        r = pearsonr(b['cc2_normed_avg_ref'].values, b['cc2_normed_avg_new'].values)[0]\n",
    "        ax.scatter(b['cc2_normed_avg_ref'].values, b['cc2_normed_avg_new'].values, s=1,\n",
    "                   label='training data {}, n={}, r={:.2f}'.format(\n",
    "                       train_keep, n, r\n",
    "                   )\n",
    "                  )\n",
    "        \n",
    "        # compute pearson\n",
    "        print(train_keep)\n",
    "        \n",
    "        \n",
    "    ax.set_xlabel('ref')\n",
    "    ax.set_ylabel('new')\n",
    "    ax.plot([0,1],[0,1],linestyle='--',color='k')\n",
    "    ax.legend()\n",
    "    plt.show()\n",
    "    \n",
    "plot_scatter()"
   ]
  },
  {
   "cell_type": "code",
   "execution_count": 12,
   "metadata": {
    "scrolled": true
   },
   "outputs": [
    {
     "data": {
      "text/plain": [
       "(0.5488060251810931, 1.3717776258987282e-209)"
      ]
     },
     "execution_count": 12,
     "metadata": {},
     "output_type": "execute_result"
    }
   ],
   "source": [
    "pearsonr(aaaa['cc2_normed_avg_ref'].values, aaaa['cc2_normed_avg_new'].values)"
   ]
  },
  {
   "cell_type": "code",
   "execution_count": 13,
   "metadata": {},
   "outputs": [
    {
     "data": {
      "text/plain": [
       "7    365\n",
       "6    233\n",
       "5    144\n",
       "4     48\n",
       "Name: rcnn_bl_cls, dtype: int64"
      ]
     },
     "execution_count": 13,
     "metadata": {},
     "output_type": "execute_result"
    }
   ],
   "source": [
    "df_main_result[df_main_result.isnull().any(axis=1)].index.get_level_values('rcnn_bl_cls').value_counts()\n",
    "# high count models have OOM."
   ]
  }
 ],
 "metadata": {
  "kernelspec": {
   "display_name": "Python 3",
   "language": "python",
   "name": "python3"
  },
  "language_info": {
   "codemirror_mode": {
    "name": "ipython",
    "version": 3
   },
   "file_extension": ".py",
   "mimetype": "text/x-python",
   "name": "python",
   "nbconvert_exporter": "python",
   "pygments_lexer": "ipython3",
   "version": "3.7.6"
  }
 },
 "nbformat": 4,
 "nbformat_minor": 4
}

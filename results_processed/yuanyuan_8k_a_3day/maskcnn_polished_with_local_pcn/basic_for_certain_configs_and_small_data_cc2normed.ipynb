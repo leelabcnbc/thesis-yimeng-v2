{
 "cells": [
  {
   "cell_type": "code",
   "execution_count": 1,
   "metadata": {},
   "outputs": [],
   "source": [
    "from sys import path\n",
    "from os.path import relpath, realpath, abspath, join, exists\n",
    "from itertools import product, chain\n",
    "\n",
    "%matplotlib inline\n",
    "import matplotlib.pyplot as plt\n",
    "import numpy as np\n",
    "import pandas as pd\n",
    "import h5py\n",
    "\n",
    "pd.set_option('display.max_rows', 999)"
   ]
  },
  {
   "cell_type": "code",
   "execution_count": 2,
   "metadata": {},
   "outputs": [],
   "source": [
    "from torchnetjson.builder import build_net"
   ]
  },
  {
   "cell_type": "code",
   "execution_count": 3,
   "metadata": {},
   "outputs": [],
   "source": [
    "from thesis_v2 import dir_dict\n",
    "from thesis_v2.data import load_data_helper\n",
    "from thesis_v2.training.training_aux import load_training_results\n",
    "from thesis_v2.training_extra.misc import count_params\n",
    "from thesis_v2.models.maskcnn_polished_with_local_pcn.builder import load_modules\n",
    "\n",
    "load_modules()"
   ]
  },
  {
   "cell_type": "code",
   "execution_count": 4,
   "metadata": {},
   "outputs": [],
   "source": [
    "# folder_to_check = 'scripts/training/yuanyuan_8k_a_3day/maskcnn_polished_with_local_pcn'\n",
    "# path.insert(0, join(dir_dict['root'], folder_to_check))\n",
    "from thesis_v2.configs.model.maskcnn_polished_with_local_pcn import (\n",
    "    explored_models_summer_2019_certain as param_iterator_obj,\n",
    "    explored_models_summer_2019_certain_20200501 as param_iterator_obj_0501,\n",
    "    keygen\n",
    ")"
   ]
  },
  {
   "cell_type": "code",
   "execution_count": 5,
   "metadata": {},
   "outputs": [],
   "source": [
    "# compute ccmax\n",
    "from strflab.stats import cc_max\n",
    "from thesis_v2.data.prepared.yuanyuan_8k import get_neural_data_per_trial\n",
    "\n",
    "cc_max_all_neurons = cc_max(get_neural_data_per_trial(\n",
    "    ('042318', '043018','051018',))\n",
    "                           )\n",
    "assert cc_max_all_neurons.shape == (79,)"
   ]
  },
  {
   "cell_type": "code",
   "execution_count": 6,
   "metadata": {},
   "outputs": [],
   "source": [
    "def load_everything():\n",
    "    _df_collect = []\n",
    "    for idx, param in enumerate(chain(param_iterator_obj().generate(), param_iterator_obj_0501().generate())):\n",
    "        if idx % 50 == 0:\n",
    "            print(idx)\n",
    "            \n",
    "#         print(len(param))\n",
    "        if param['input_size'] == 100:\n",
    "            continue\n",
    "        if len(param) == 23:\n",
    "            param['train_keep'] = None\n",
    "        \n",
    "        assert len(param) == 24\n",
    "        assert param['split_seed'] == 'legacy'\n",
    "        assert param['out_channel'] == 16\n",
    "        assert param['num_layer'] == 2\n",
    "        assert param['kernel_size_l1'] == 9\n",
    "        assert param['pooling_ksize'] == 3\n",
    "        assert param['pooling_type'] == 'avg'\n",
    "        \n",
    "#         assert param['model_seed'] == 0\n",
    "        \n",
    "        key = keygen(**{k: v for k, v in param.items() if k not in {'scale', 'smoothness'}})\n",
    "        # 10 to go.\n",
    "        result = load_training_results(key, return_model=False)\n",
    "        # load twice, first time to get the model.\n",
    "        result = load_training_results(key, return_model=True, model=build_net(result['config_extra']['model']))\n",
    "        num_epochs = [len(x) for x in result['stats_all']]\n",
    "        \n",
    "        cc_raw = np.asarray(result['stats_best']['stats']['test']['corr'])\n",
    "        assert cc_raw.shape == (79,)\n",
    "        \n",
    "        if param['train_keep'] is None:\n",
    "            param['train_keep'] = 5120\n",
    "            \n",
    "        \n",
    "        _df_collect.append(\n",
    "            {\n",
    "#                 'split_seed': str(param['split_seed']),\n",
    "                \n",
    "                'train_keep': param['train_keep'],\n",
    "                'act_fn': param['act_fn'],\n",
    "                'bn_before_act': param['bn_before_act'],\n",
    "                'bn_after_fc': param['bn_after_fc'],\n",
    "                'input_size': param['input_size'],\n",
    "                'loss_type': param['loss_type'],\n",
    "                \n",
    "                # 12 to go\n",
    "                \n",
    "                'scale': float(param['scale']),\n",
    "                # \n",
    "                'smoothness': float(param['smoothness']),\n",
    "                # \n",
    "                \n",
    "                # 8 to go\n",
    "                'pcn_bn': param['pcn_bn'],\n",
    "                'pcn_bn_post': param['pcn_bn_post'],\n",
    "                'pcn_bypass': param['pcn_bypass'],\n",
    "                'pcn_final_act': param['pcn_final_act'],\n",
    "                'pcn_no_act': param['pcn_no_act'],\n",
    "                'pcn_bias': param['pcn_bias'],\n",
    "                \n",
    "                'pcn_cls': param['pcn_cls'],\n",
    "                \n",
    "                'model_seed': param['model_seed'],\n",
    "                \n",
    "#                 'corr_test': result['stats_best']['stats']['test']['corr_mean'],\n",
    "                'corr_test': ((cc_raw/cc_max_all_neurons)**2).mean(),\n",
    "                'max_epoch': max(num_epochs),\n",
    "                'num_param': count_params(result['model']),\n",
    "            }\n",
    "        )\n",
    "    _df =  pd.DataFrame(_df_collect, columns=[\n",
    "#             'split_seed',\n",
    "        'train_keep',\n",
    "        'act_fn', 'bn_before_act', 'bn_after_fc',\n",
    "        'input_size', 'loss_type', 'scale',\n",
    "        'smoothness',\n",
    "\n",
    "        'pcn_bn', 'pcn_bn_post', 'pcn_bypass', 'pcn_final_act', 'pcn_no_act', 'pcn_bias', 'pcn_cls',\n",
    "        'model_seed',\n",
    "\n",
    "        'corr_test', 'num_param',\n",
    "        'max_epoch',\n",
    "\n",
    "                                             ])\n",
    "    _df = _df.set_index([\n",
    "        'train_keep',\n",
    "        'act_fn', 'bn_before_act', 'bn_after_fc',\n",
    "        'input_size', 'loss_type', 'scale',\n",
    "        'smoothness',\n",
    "        'pcn_bn', 'pcn_bn_post', 'pcn_bypass', 'pcn_final_act', 'pcn_no_act', 'pcn_bias', 'pcn_cls',\n",
    "        'model_seed',\n",
    "    ],verify_integrity=True)\n",
    "    return _df"
   ]
  },
  {
   "cell_type": "code",
   "execution_count": 7,
   "metadata": {
    "scrolled": false
   },
   "outputs": [
    {
     "name": "stdout",
     "output_type": "stream",
     "text": [
      "0\n",
      "50\n",
      "100\n",
      "150\n",
      "200\n",
      "250\n",
      "300\n",
      "350\n",
      "400\n",
      "450\n",
      "500\n",
      "550\n",
      "600\n",
      "650\n",
      "700\n",
      "750\n",
      "800\n",
      "850\n",
      "900\n",
      "950\n",
      "1000\n",
      "1050\n",
      "1100\n",
      "1150\n",
      "1200\n",
      "1250\n",
      "1300\n",
      "1350\n",
      "1400\n",
      "1450\n",
      "1500\n",
      "1550\n",
      "1600\n",
      "1650\n",
      "1700\n",
      "1750\n",
      "1800\n",
      "1850\n",
      "1900\n",
      "1950\n",
      "2000\n",
      "2050\n",
      "2100\n",
      "2150\n",
      "2200\n",
      "2250\n",
      "2300\n",
      "2350\n",
      "2400\n",
      "2450\n",
      "2500\n",
      "2550\n",
      "2600\n",
      "2650\n",
      "2700\n",
      "2750\n",
      "2800\n",
      "2850\n",
      "2900\n",
      "2950\n",
      "3000\n",
      "3050\n"
     ]
    }
   ],
   "source": [
    "df = load_everything()"
   ]
  },
  {
   "cell_type": "code",
   "execution_count": 8,
   "metadata": {},
   "outputs": [],
   "source": [
    "# mean and std here skip NAs.\n",
    "corr_mean = df['corr_test'].unstack('model_seed').mean(axis=1)\n",
    "num_param = df['num_param'].unstack('model_seed').mean(axis=1)\n",
    "# corr_std = df['corr_test'].unstack('model_seed').std(axis=1)"
   ]
  },
  {
   "cell_type": "code",
   "execution_count": 9,
   "metadata": {},
   "outputs": [
    {
     "data": {
      "text/plain": [
       "((384,), (384,), (384,))"
      ]
     },
     "execution_count": 9,
     "metadata": {},
     "output_type": "execute_result"
    }
   ],
   "source": [
    "corr_mean.xs(5120, level='train_keep').shape, corr_mean.xs(2560, level='train_keep').shape, corr_mean.xs(1280, level='train_keep').shape"
   ]
  },
  {
   "cell_type": "code",
   "execution_count": 10,
   "metadata": {},
   "outputs": [],
   "source": [
    "%matplotlib inline\n",
    "import matplotlib.pyplot as plt\n",
    "\n",
    "def scatter(x, y, xlabel, ylabel, title):\n",
    "    \n",
    "    # only check high performing cases.\n",
    "    selector = np.logical_and(x>=0.5, y>=0.5)\n",
    "    x=x[selector]\n",
    "    y=y[selector]\n",
    "    \n",
    "    plt.close('all')\n",
    "    plt.figure(figsize=(6, 5))\n",
    "    plt.scatter(x, y, s=1)\n",
    "    plt.xlabel(xlabel)\n",
    "    plt.ylabel(ylabel)\n",
    "    plt.axis('equal')\n",
    "    plt.xlim(0.4,0.8)\n",
    "    plt.ylim(0.4,0.8)\n",
    "    plt.plot([0,1],[0,1],linestyle='--')\n",
    "    plt.title(title)\n",
    "    plt.show()\n",
    "    print('y-x mean', (y-x).mean(), 'y-x>0 mean', ((y-x)>0).mean())\n",
    "    print('y top', y.max(), 'x top', x.max())"
   ]
  },
  {
   "cell_type": "code",
   "execution_count": 11,
   "metadata": {
    "scrolled": false
   },
   "outputs": [
    {
     "name": "stdout",
     "output_type": "stream",
     "text": [
      "(64, 6)\n",
      "[0, 1, 2, 3, 4, 5]\n",
      "1 - 0 mean 0.012732316451585773 sem 0.0031207625646854126\n",
      "2 - 1 mean 0.002657213157902524 sem 0.0013891223601803196\n",
      "3 - 2 mean 0.0022718426002932253 sem 0.001212607538141555\n",
      "5 - 3 mean 0.0036053809357507313 sem 0.0012400787039248443\n",
      "5 - 2 mean 0.005877223536043957 sem 0.001361524197182088\n"
     ]
    },
    {
     "data": {
      "image/png": "[encoded data removed]",
      "text/plain": [
       "<Figure size 576x216 with 1 Axes>"
      ]
     },
     "metadata": {
      "needs_background": "light"
     },
     "output_type": "display_data"
    },
    {
     "name": "stdout",
     "output_type": "stream",
     "text": [
      "[0.5829852199092582, 0.595717536360844, 0.5983747495187465, 0.6006465921190398, 0.6013577318082836, 0.6042519730547904] [2.18398615 0.44605253 0.37966886 0.11839569 0.48128445]\n"
     ]
    },
    {
     "data": {
      "text/html": [
       "<div>\n",
       "<style scoped>\n",
       "    .dataframe tbody tr th:only-of-type {\n",
       "        vertical-align: middle;\n",
       "    }\n",
       "\n",
       "    .dataframe tbody tr th {\n",
       "        vertical-align: top;\n",
       "    }\n",
       "\n",
       "    .dataframe thead th {\n",
       "        text-align: right;\n",
       "    }\n",
       "</style>\n",
       "<table border=\"1\" class=\"dataframe\">\n",
       "  <thead>\n",
       "    <tr style=\"text-align: right;\">\n",
       "      <th></th>\n",
       "      <th>num_of_cycles</th>\n",
       "      <th>performance</th>\n",
       "      <th>gain %</th>\n",
       "    </tr>\n",
       "  </thead>\n",
       "  <tbody>\n",
       "    <tr>\n",
       "      <th>0</th>\n",
       "      <td>0</td>\n",
       "      <td>0.582985</td>\n",
       "      <td>NaN</td>\n",
       "    </tr>\n",
       "    <tr>\n",
       "      <th>1</th>\n",
       "      <td>1</td>\n",
       "      <td>0.595718</td>\n",
       "      <td>2.183986</td>\n",
       "    </tr>\n",
       "    <tr>\n",
       "      <th>2</th>\n",
       "      <td>2</td>\n",
       "      <td>0.598375</td>\n",
       "      <td>0.446053</td>\n",
       "    </tr>\n",
       "    <tr>\n",
       "      <th>3</th>\n",
       "      <td>3</td>\n",
       "      <td>0.600647</td>\n",
       "      <td>0.379669</td>\n",
       "    </tr>\n",
       "    <tr>\n",
       "      <th>4</th>\n",
       "      <td>4</td>\n",
       "      <td>0.601358</td>\n",
       "      <td>0.118396</td>\n",
       "    </tr>\n",
       "    <tr>\n",
       "      <th>5</th>\n",
       "      <td>5</td>\n",
       "      <td>0.604252</td>\n",
       "      <td>0.481284</td>\n",
       "    </tr>\n",
       "  </tbody>\n",
       "</table>\n",
       "</div>"
      ],
      "text/plain": [
       "   num_of_cycles  performance    gain %\n",
       "0              0     0.582985       NaN\n",
       "1              1     0.595718  2.183986\n",
       "2              2     0.598375  0.446053\n",
       "3              3     0.600647  0.379669\n",
       "4              4     0.601358  0.118396\n",
       "5              5     0.604252  0.481284"
      ]
     },
     "execution_count": 11,
     "metadata": {},
     "output_type": "execute_result"
    }
   ],
   "source": [
    "def plot_step_increase(data_this, pairs_to_check, ylim):\n",
    "    # remove those no innner act ones.\n",
    "    df_unstacked = data_this.unstack('pcn_cls')\n",
    "#     df_unstacked = corr_mean.unstack('pcn_cls')\n",
    "    print(df_unstacked.shape)\n",
    "    \n",
    "#     selector = df_unstacked.values[:,0] >= 0.50\n",
    "    selector = ()\n",
    "#     print(selector.mean())\n",
    "    \n",
    "    cls_values = df_unstacked.columns.values.tolist()\n",
    "    print(cls_values)\n",
    "    assert cls_values == list(range(len(cls_values)))\n",
    "    \n",
    "#     n = selector.sum()\n",
    "#     print('n', n)\n",
    "    n = df_unstacked.shape[0]\n",
    "    \n",
    "    for p1, p2 in pairs_to_check:\n",
    "        val0 = df_unstacked.values[:,p1][selector]\n",
    "        val1 = df_unstacked.values[:,p2][selector]\n",
    "\n",
    "        # selection\n",
    "        \n",
    "        print(\n",
    "            f'{p2} - {p1}',\n",
    "            'mean', (val1-val0).mean(),\n",
    "            'sem', (val1-val0).std()/np.sqrt(n)\n",
    "        )\n",
    "        \n",
    "    # time to plot.\n",
    "    # show results for cls_values[0] through cls_values[-1]\n",
    "    # for the first one, just show mean,\n",
    "    # for others show mean and s.e.m. of increase.\n",
    "    \n",
    "    mean_performance = []\n",
    "    sem_increase = []\n",
    "    labels = []\n",
    "    \n",
    "    for idx, cls_name in enumerate(cls_values):\n",
    "        assert idx == cls_name\n",
    "        mean_performance.append(df_unstacked.values[:,idx][selector].mean())\n",
    "        if idx == 0:\n",
    "            sem_increase.append(0.0)\n",
    "        else:\n",
    "            sem_increase.append((df_unstacked.values[:,idx][selector]-df_unstacked.values[:,idx-1][selector]).std()/np.sqrt(n))\n",
    "        labels.append(str(cls_name))\n",
    "        \n",
    "    \n",
    "    plt.close('all')\n",
    "    fig = plt.figure(figsize=(8,3))\n",
    "    plt.bar(np.arange(len(cls_values)), mean_performance, 0.5, yerr=sem_increase)\n",
    "    plt.ylabel('neural prediction performance')\n",
    "    plt.ylim(*ylim)\n",
    "    plt.xlabel('number of iterations in the local PCN block')\n",
    "    plt.xticks(np.arange(len(cls_values)), labels)\n",
    "    \n",
    "    \n",
    "    plt.text(0.1, 0.8,\n",
    "             f'n={n} out of {df_unstacked.shape[0]} variants', verticalalignment='center', horizontalalignment='left',\n",
    "             transform=plt.gca().transAxes\n",
    "            )\n",
    "    fig.subplots_adjust(bottom=0.2)\n",
    "#     savefig(fig, 'yuanyuan_8k_a_3day/maskcnn_polished_with_local_pcn/basic_for_certain_configs/main_cc2normed.pdf')\n",
    "    \n",
    "    plt.show()\n",
    "    \n",
    "    print(mean_performance, np.diff(mean_performance)/mean_performance[:-1]*100)\n",
    "    \n",
    "    \n",
    "    return pd.DataFrame(\n",
    "        data = {\n",
    "            'num_of_cycles': cls_values,\n",
    "            'performance': mean_performance,\n",
    "            'gain %': np.concatenate([np.asarray([np.nan]),  np.diff(mean_performance)/mean_performance[:-1]*100])\n",
    "        },\n",
    "        columns = ['num_of_cycles', 'performance', 'gain %']\n",
    "    )\n",
    "    \n",
    "    \n",
    "# trend for 0-1-2 is good. then bad.\n",
    "plot_step_increase(corr_mean.xs(5120, level='train_keep'), [(0,1),(1,2),(2,3),(3,5),(2,5)],\n",
    "                  ylim=(0.5,0.63)\n",
    "                  )"
   ]
  },
  {
   "cell_type": "code",
   "execution_count": 12,
   "metadata": {},
   "outputs": [
    {
     "name": "stdout",
     "output_type": "stream",
     "text": [
      "(64, 6)\n",
      "[0, 1, 2, 3, 4, 5]\n",
      "1 - 0 mean 0.009083748816861362 sem 0.006819167275076978\n",
      "2 - 1 mean -0.0008815428860356011 sem 0.005694806339536148\n",
      "3 - 2 mean 0.006004370344117026 sem 0.0036453864119145346\n",
      "5 - 3 mean 0.0015152149191381631 sem 0.004747903948621806\n",
      "5 - 2 mean 0.007519585263255189 sem 0.00572332330607749\n"
     ]
    },
    {
     "data": {
      "image/png": "[encoded data removed]",
      "text/plain": [
       "<Figure size 576x216 with 1 Axes>"
      ]
     },
     "metadata": {
      "needs_background": "light"
     },
     "output_type": "display_data"
    },
    {
     "name": "stdout",
     "output_type": "stream",
     "text": [
      "[0.49222980142785283, 0.5013135502447142, 0.5004320073586785, 0.5064363777027956, 0.5079121900551158, 0.5079515926219338] [ 1.84542845 -0.17584661  1.19983739  0.29141121  0.00775775]\n"
     ]
    },
    {
     "data": {
      "text/html": [
       "<div>\n",
       "<style scoped>\n",
       "    .dataframe tbody tr th:only-of-type {\n",
       "        vertical-align: middle;\n",
       "    }\n",
       "\n",
       "    .dataframe tbody tr th {\n",
       "        vertical-align: top;\n",
       "    }\n",
       "\n",
       "    .dataframe thead th {\n",
       "        text-align: right;\n",
       "    }\n",
       "</style>\n",
       "<table border=\"1\" class=\"dataframe\">\n",
       "  <thead>\n",
       "    <tr style=\"text-align: right;\">\n",
       "      <th></th>\n",
       "      <th>num_of_cycles</th>\n",
       "      <th>performance</th>\n",
       "      <th>gain %</th>\n",
       "    </tr>\n",
       "  </thead>\n",
       "  <tbody>\n",
       "    <tr>\n",
       "      <th>0</th>\n",
       "      <td>0</td>\n",
       "      <td>0.492230</td>\n",
       "      <td>NaN</td>\n",
       "    </tr>\n",
       "    <tr>\n",
       "      <th>1</th>\n",
       "      <td>1</td>\n",
       "      <td>0.501314</td>\n",
       "      <td>1.845428</td>\n",
       "    </tr>\n",
       "    <tr>\n",
       "      <th>2</th>\n",
       "      <td>2</td>\n",
       "      <td>0.500432</td>\n",
       "      <td>-0.175847</td>\n",
       "    </tr>\n",
       "    <tr>\n",
       "      <th>3</th>\n",
       "      <td>3</td>\n",
       "      <td>0.506436</td>\n",
       "      <td>1.199837</td>\n",
       "    </tr>\n",
       "    <tr>\n",
       "      <th>4</th>\n",
       "      <td>4</td>\n",
       "      <td>0.507912</td>\n",
       "      <td>0.291411</td>\n",
       "    </tr>\n",
       "    <tr>\n",
       "      <th>5</th>\n",
       "      <td>5</td>\n",
       "      <td>0.507952</td>\n",
       "      <td>0.007758</td>\n",
       "    </tr>\n",
       "  </tbody>\n",
       "</table>\n",
       "</div>"
      ],
      "text/plain": [
       "   num_of_cycles  performance    gain %\n",
       "0              0     0.492230       NaN\n",
       "1              1     0.501314  1.845428\n",
       "2              2     0.500432 -0.175847\n",
       "3              3     0.506436  1.199837\n",
       "4              4     0.507912  0.291411\n",
       "5              5     0.507952  0.007758"
      ]
     },
     "execution_count": 12,
     "metadata": {},
     "output_type": "execute_result"
    }
   ],
   "source": [
    "plot_step_increase(corr_mean.xs(2560, level='train_keep'), [(0,1),(1,2),(2,3),(3,5),(2,5)],\n",
    "                  ylim=(0.4,0.52)\n",
    "                  )"
   ]
  },
  {
   "cell_type": "code",
   "execution_count": 13,
   "metadata": {},
   "outputs": [
    {
     "name": "stdout",
     "output_type": "stream",
     "text": [
      "(64, 6)\n",
      "[0, 1, 2, 3, 4, 5]\n",
      "1 - 0 mean 0.001612453786505822 sem 0.004925526618087092\n",
      "2 - 1 mean 0.004904744680249838 sem 0.0027057062668152184\n",
      "3 - 2 mean 0.00040219262083026155 sem 0.0018775553752708345\n",
      "5 - 3 mean 0.0007811726026797344 sem 0.0020153101742649243\n",
      "5 - 2 mean 0.0011833652235099957 sem 0.0022577078306945868\n"
     ]
    },
    {
     "data": {
      "image/png": "[encoded data removed]",
      "text/plain": [
       "<Figure size 576x216 with 1 Axes>"
      ]
     },
     "metadata": {
      "needs_background": "light"
     },
     "output_type": "display_data"
    },
    {
     "name": "stdout",
     "output_type": "stream",
     "text": [
      "[0.36504608253885773, 0.3666585363253636, 0.3715632810056134, 0.37196547362644367, 0.3697482448691072, 0.3727466462291234] [ 0.44171239  1.3376873   0.10824337 -0.59608456  0.81093052]\n"
     ]
    },
    {
     "data": {
      "text/html": [
       "<div>\n",
       "<style scoped>\n",
       "    .dataframe tbody tr th:only-of-type {\n",
       "        vertical-align: middle;\n",
       "    }\n",
       "\n",
       "    .dataframe tbody tr th {\n",
       "        vertical-align: top;\n",
       "    }\n",
       "\n",
       "    .dataframe thead th {\n",
       "        text-align: right;\n",
       "    }\n",
       "</style>\n",
       "<table border=\"1\" class=\"dataframe\">\n",
       "  <thead>\n",
       "    <tr style=\"text-align: right;\">\n",
       "      <th></th>\n",
       "      <th>num_of_cycles</th>\n",
       "      <th>performance</th>\n",
       "      <th>gain %</th>\n",
       "    </tr>\n",
       "  </thead>\n",
       "  <tbody>\n",
       "    <tr>\n",
       "      <th>0</th>\n",
       "      <td>0</td>\n",
       "      <td>0.365046</td>\n",
       "      <td>NaN</td>\n",
       "    </tr>\n",
       "    <tr>\n",
       "      <th>1</th>\n",
       "      <td>1</td>\n",
       "      <td>0.366659</td>\n",
       "      <td>0.441712</td>\n",
       "    </tr>\n",
       "    <tr>\n",
       "      <th>2</th>\n",
       "      <td>2</td>\n",
       "      <td>0.371563</td>\n",
       "      <td>1.337687</td>\n",
       "    </tr>\n",
       "    <tr>\n",
       "      <th>3</th>\n",
       "      <td>3</td>\n",
       "      <td>0.371965</td>\n",
       "      <td>0.108243</td>\n",
       "    </tr>\n",
       "    <tr>\n",
       "      <th>4</th>\n",
       "      <td>4</td>\n",
       "      <td>0.369748</td>\n",
       "      <td>-0.596085</td>\n",
       "    </tr>\n",
       "    <tr>\n",
       "      <th>5</th>\n",
       "      <td>5</td>\n",
       "      <td>0.372747</td>\n",
       "      <td>0.810931</td>\n",
       "    </tr>\n",
       "  </tbody>\n",
       "</table>\n",
       "</div>"
      ],
      "text/plain": [
       "   num_of_cycles  performance    gain %\n",
       "0              0     0.365046       NaN\n",
       "1              1     0.366659  0.441712\n",
       "2              2     0.371563  1.337687\n",
       "3              3     0.371965  0.108243\n",
       "4              4     0.369748 -0.596085\n",
       "5              5     0.372747  0.810931"
      ]
     },
     "execution_count": 13,
     "metadata": {},
     "output_type": "execute_result"
    }
   ],
   "source": [
    "plot_step_increase(corr_mean.xs(1280, level='train_keep'), [(0,1),(1,2),(2,3),(3,5),(2,5)],\n",
    "                  ylim=(0.35,0.38)\n",
    "                  )"
   ]
  },
  {
   "cell_type": "code",
   "execution_count": 14,
   "metadata": {
    "scrolled": false
   },
   "outputs": [
    {
     "name": "stdout",
     "output_type": "stream",
     "text": [
      "training size 1280\n"
     ]
    },
    {
     "data": {
      "image/png": "[encoded data removed]",
      "text/plain": [
       "<Figure size 1152x720 with 1 Axes>"
      ]
     },
     "metadata": {
      "needs_background": "light"
     },
     "output_type": "display_data"
    },
    {
     "name": "stdout",
     "output_type": "stream",
     "text": [
      "training size 2560\n"
     ]
    },
    {
     "data": {
      "image/png": "[encoded data removed]",
      "text/plain": [
       "<Figure size 1152x720 with 1 Axes>"
      ]
     },
     "metadata": {
      "needs_background": "light"
     },
     "output_type": "display_data"
    },
    {
     "name": "stdout",
     "output_type": "stream",
     "text": [
      "training size 5120\n"
     ]
    },
    {
     "data": {
      "image/png": "[encoded data removed]",
      "text/plain": [
       "<Figure size 1152x720 with 1 Axes>"
      ]
     },
     "metadata": {
      "needs_background": "light"
     },
     "output_type": "display_data"
    }
   ],
   "source": [
    "def check_relationship_between_num_param_and_perf_given_different_cycle():\n",
    "    assert corr_mean.shape == num_param.shape\n",
    "    assert corr_mean.index.equals(num_param.index)\n",
    "    corr_mean_local = corr_mean.rename('corr_mean')\n",
    "    num_param_local = num_param.rename('num_param')\n",
    "    \n",
    "    # combine them.\n",
    "    df_to_check = pd.concat([corr_mean_local, num_param_local], axis=1)\n",
    "    \n",
    "    training_sizes = df_to_check.index.get_level_values('train_keep').unique()\n",
    "    \n",
    "    \n",
    "    for training_size_this in training_sizes:\n",
    "        print('training size', training_size_this)\n",
    "        check_relationship_between_num_param_and_perf_given_different_cycle_inner(\n",
    "            df_to_check.xs(training_size_this, level='train_keep'),\n",
    "            title=f'training size {training_size_this}'\n",
    "        )\n",
    "\n",
    "def rand_jitter(arr):\n",
    "    stdev = .01*(max(arr)-min(arr))\n",
    "    return arr + np.random.randn(*arr.shape) * stdev\n",
    "        \n",
    "def check_relationship_between_num_param_and_perf_given_different_cycle_inner(df_to_check, title):\n",
    "    cycle_list = df_to_check.index.get_level_values('pcn_cls').unique()\n",
    "    \n",
    "    plt.close('all')\n",
    "    plt.figure(figsize=(16, 10))\n",
    "    \n",
    "    for c in cycle_list:\n",
    "        data_this = df_to_check.xs(c, level='pcn_cls')\n",
    "        plt.scatter(\n",
    "            rand_jitter(data_this['num_param'].values),\n",
    "            rand_jitter(data_this['corr_mean'].values),\n",
    "            s=5,\n",
    "            label=f'cls={c}',\n",
    "        )\n",
    "    \n",
    "    plt.legend(loc='best')\n",
    "#     plt.xlim(0,1)\n",
    "#     plt.ylim(0,1)\n",
    "#     plt.plot([0,1],[0,1],linestyle='--')\n",
    "    plt.title(title)\n",
    "    plt.xlabel('num_param')\n",
    "    plt.ylabel('performance')\n",
    "    \n",
    "    \n",
    "    plt.show()\n",
    "\n",
    "check_relationship_between_num_param_and_perf_given_different_cycle()\n",
    "\n",
    "\n",
    "# while I do not have a fairer comparison for cls=0 vs others with similar `num_param`,\n",
    "# I think here the benefit of more cls is very limited or mixed, compared to\n",
    "# https://github.com/leelabcnbc/thesis-yimeng-v2/blob/b37e51e3fda18c349f7bf34d715b7d90a7f31d2a/results_processed/yuanyuan_8k_a_3day/maskcnn_polished_with_rcnn_k_bl/basic_for_20200218ksize3%2B20200430_cc2normed.ipynb"
   ]
  }
 ],
 "metadata": {
  "kernelspec": {
   "display_name": "Python 3",
   "language": "python",
   "name": "python3"
  },
  "language_info": {
   "codemirror_mode": {
    "name": "ipython",
    "version": 3
   },
   "file_extension": ".py",
   "mimetype": "text/x-python",
   "name": "python",
   "nbconvert_exporter": "python",
   "pygments_lexer": "ipython3",
   "version": "3.7.6"
  }
 },
 "nbformat": 4,
 "nbformat_minor": 2
}

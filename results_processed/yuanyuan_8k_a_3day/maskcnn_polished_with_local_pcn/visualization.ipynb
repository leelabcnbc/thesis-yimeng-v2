{
 "cells": [
  {
   "cell_type": "markdown",
   "metadata": {},
   "source": [
    "this notebook tries to visualize some models examined in `basic_for_certain_configs_cc2normed.ipynb`. I will check those with biggest ccnorm2 difference between unroll=1 and unroll=5. I will ignore the middle ones, and see hope to see some visible differences.\n",
    "\n",
    "the models are exported using `scripts/model_export/yuanyuan_8k_a_3day/maskcnn_polished_with_local_pcn/export_certain_configs.py` and verified with `scripts/model_export/yuanyuan_8k_a_3day/maskcnn_polished_with_local_pcn/export_certain_configs_check_keras.py`.\n",
    "\n",
    "the visualization follows `https://github.com/leelabcnbc/tang_jcompneuro_revision/blob/master/results_ipynb/plots/main/demo_neuron_vis.ipynb`"
   ]
  },
  {
   "cell_type": "code",
   "execution_count": 1,
   "metadata": {},
   "outputs": [],
   "source": [
    "from sys import path\n",
    "from copy import deepcopy\n",
    "from collections import defaultdict\n",
    "from os.path import join, exists\n",
    "from thesis_v2 import dir_dict\n",
    "import numpy as np\n",
    "folder_to_check = 'scripts/training/yuanyuan_8k_a_3day/maskcnn_polished_with_local_pcn'\n",
    "path.insert(0, join(dir_dict['root'], folder_to_check))\n",
    "from submit_certain_configs import param_iterator_obj\n",
    "from key_utils import keygen, script_keygen"
   ]
  },
  {
   "cell_type": "code",
   "execution_count": 2,
   "metadata": {},
   "outputs": [],
   "source": [
    "# compute ccmax\n",
    "from strflab.stats import cc_max\n",
    "from thesis_v2.data.prepared.yuanyuan_8k import get_neural_data_per_trial\n",
    "\n",
    "\n",
    "cc_max_all_neurons = cc_max(get_neural_data_per_trial(\n",
    "    ('042318', '043018','051018',))\n",
    "                           )\n",
    "assert cc_max_all_neurons.shape == (79,)"
   ]
  },
  {
   "cell_type": "code",
   "execution_count": 3,
   "metadata": {},
   "outputs": [],
   "source": [
    "# then let's check the avg(ccnorm2 at unroll=5) - avg(ccnorm2 at unroll=1) for all cases."
   ]
  },
  {
   "cell_type": "code",
   "execution_count": 4,
   "metadata": {},
   "outputs": [],
   "source": [
    "from thesis_v2.training.training_aux import load_training_results\n",
    "\n",
    "constant_params = {\n",
    "    'out_channel': 16,\n",
    "    'num_layer': 2,\n",
    "    'kernel_size_l1': 9,\n",
    "    'pooling_ksize': 3,\n",
    "    'pooling_type': 'avg',\n",
    "    'split_seed': 'legacy',\n",
    "    'smoothness_name': '0.000005',\n",
    "    'scale_name': '0.01',\n",
    "    'pcn_no_act': False,\n",
    "    'pcn_bias': True,\n",
    "    'pcn_bypass': False,\n",
    "    'bn_after_fc': False,\n",
    "}\n",
    "\n",
    "def do_one_case(param, dict_ret):\n",
    "    for k1, v1 in constant_params.items():\n",
    "        assert param[k1] == v1\n",
    "    \n",
    "\n",
    "    # assert param['model_seed'] == 0\n",
    "\n",
    "    key = keygen(**{k: v for k, v in param.items() if k not in {'scale', 'smoothness'}})\n",
    "    \n",
    "    params_variable = {\n",
    "        k: v for k, v in param.items() if k not in (constant_params.keys() | {'scale', 'smoothness'})\n",
    "    }\n",
    "    # 128 (configs; 7**2) * 3 (seeds) * 6 (number of cycles from 0-5)\n",
    "    assert len(params_variable) == 9\n",
    "#     print(params_variable)\n",
    "    \n",
    "    key_for_result_dict = frozenset({(k,v) for k, v in params_variable.items() if k not in {'model_seed', 'pcn_cls'}})\n",
    "    assert len(key_for_result_dict) == 7\n",
    "    \n",
    "    # load the performance.\n",
    "    result = load_training_results(key, return_model=False)\n",
    "    \n",
    "    if key_for_result_dict not in dict_ret:\n",
    "        dict_ret[key_for_result_dict] = defaultdict(list)\n",
    "        \n",
    "    # calculate ccnorm^2.\n",
    "    cc_raw = np.asarray(result['stats_best']['stats']['test']['corr'])\n",
    "    assert cc_raw.shape == (79,)\n",
    "    ccnorm2 = ((cc_raw/cc_max_all_neurons)**2).mean()\n",
    "    assert(np.isfinite(ccnorm2))\n",
    "    \n",
    "    dict_ret[key_for_result_dict][params_variable['pcn_cls']].append(ccnorm2)"
   ]
  },
  {
   "cell_type": "code",
   "execution_count": 5,
   "metadata": {},
   "outputs": [],
   "source": [
    "def collect_data():\n",
    "    dict_ret = dict()\n",
    "    model_count = len(list(param_iterator_obj.generate()))\n",
    "    # this should be 2304, which is 128 (configs) * 3 (seeds) * 6 (number of cycles from 0-5)\n",
    "    assert model_count == 2304\n",
    "    for idx, param_dict in enumerate(param_iterator_obj.generate()):\n",
    "        if idx % 100 == 0:\n",
    "            print(f'model {idx}/{model_count}')\n",
    "        do_one_case(param_dict, dict_ret)\n",
    "    return dict_ret"
   ]
  },
  {
   "cell_type": "code",
   "execution_count": 6,
   "metadata": {
    "scrolled": false
   },
   "outputs": [
    {
     "name": "stdout",
     "output_type": "stream",
     "text": [
      "model 0/2304\n",
      "model 100/2304\n",
      "model 200/2304\n",
      "model 300/2304\n",
      "model 400/2304\n",
      "model 500/2304\n",
      "model 600/2304\n",
      "model 700/2304\n",
      "model 800/2304\n",
      "model 900/2304\n",
      "model 1000/2304\n",
      "model 1100/2304\n",
      "model 1200/2304\n",
      "model 1300/2304\n",
      "model 1400/2304\n",
      "model 1500/2304\n",
      "model 1600/2304\n",
      "model 1700/2304\n",
      "model 1800/2304\n",
      "model 1900/2304\n",
      "model 2000/2304\n",
      "model 2100/2304\n",
      "model 2200/2304\n",
      "model 2300/2304\n"
     ]
    }
   ],
   "source": [
    "dict_all_ccnorm2 = collect_data()"
   ]
  },
  {
   "cell_type": "code",
   "execution_count": 7,
   "metadata": {
    "scrolled": false
   },
   "outputs": [
    {
     "name": "stdout",
     "output_type": "stream",
     "text": [
      "(('act_fn', 'relu'), ('input_size', 100), ('loss_type', 'mse'), ('pcn_final_act', True), ('bn_before_act', True), ('pcn_bn', False), ('pcn_bn_post', False)) 0.027412399616660088 -0.016090200536684918 0.3849583976488696 0.4010485981855545\n",
      "(('act_fn', 'relu'), ('input_size', 100), ('loss_type', 'mse'), ('bn_before_act', True), ('pcn_final_act', False), ('pcn_bn', False), ('pcn_bn_post', False)) 0.03168640151885299 -0.028440148572544954 0.37292742773691545 0.4013675763094604\n",
      "(('act_fn', 'relu'), ('pcn_final_act', True), ('bn_before_act', True), ('loss_type', 'poisson'), ('pcn_bn', False), ('pcn_bn_post', False), ('input_size', 50)) 0.062192652728396414 0.03907294184369914 0.5513841263769397 0.5123111845332405\n",
      "(('act_fn', 'relu'), ('loss_type', 'poisson'), ('pcn_bn', True), ('pcn_final_act', False), ('bn_before_act', False), ('pcn_bn_post', False), ('input_size', 50)) 0.023366283075041405 0.013141693432625612 0.6190519431220595 0.6059102496894339\n",
      "(('act_fn', 'relu'), ('loss_type', 'poisson'), ('pcn_final_act', False), ('bn_before_act', False), ('pcn_bn', False), ('pcn_bn_post', False), ('input_size', 50)) 0.02751519921601342 -0.0018065940701179617 0.540001533317885 0.541808127388003\n",
      "(('pcn_bn_post', True), ('act_fn', 'relu'), ('loss_type', 'poisson'), ('pcn_final_act', False), ('bn_before_act', False), ('pcn_bn', False), ('input_size', 50)) 0.02586006443097466 0.02206861588178277 0.6269967293921486 0.6049281135103658\n",
      "(('pcn_bn_post', True), ('bn_before_act', True), ('act_fn', 'relu'), ('input_size', 100), ('pcn_final_act', True), ('pcn_bn', True), ('loss_type', 'poisson')) 0.030577755513012006 0.013250394950412359 0.6591950462316404 0.645944651281228\n",
      "(('pcn_bn_post', True), ('bn_before_act', True), ('act_fn', 'relu'), ('input_size', 100), ('loss_type', 'poisson'), ('pcn_bn', True), ('pcn_final_act', False)) 0.02623869160818848 0.002145080599009863 0.6353901083723891 0.6332450277733792\n",
      "(('pcn_bn_post', True), ('act_fn', 'relu'), ('input_size', 100), ('pcn_final_act', True), ('loss_type', 'poisson'), ('bn_before_act', False), ('pcn_bn', False)) 0.0235214433555766 0.02348433742817979 0.6582376882213078 0.634753350793128\n",
      "(('loss_type', 'mse'), ('act_fn', 'softplus'), ('bn_before_act', True), ('pcn_final_act', False), ('pcn_bn', False), ('pcn_bn_post', False), ('input_size', 50)) 0.0629323663988261 0.016065903548365235 0.5353156029314999 0.5192496993831347\n",
      "(('bn_before_act', True), ('input_size', 100), ('loss_type', 'mse'), ('pcn_final_act', True), ('act_fn', 'softplus'), ('pcn_bn', True), ('pcn_bn_post', False)) 0.026049968253966993 0.021218421150327238 0.6296754737486959 0.6084570525983687\n",
      "(('input_size', 100), ('loss_type', 'mse'), ('act_fn', 'softplus'), ('bn_before_act', True), ('pcn_final_act', False), ('pcn_bn', False), ('pcn_bn_post', False)) 0.06453553255334879 -0.07181331938491747 0.26773968425362 0.33955300363853747\n",
      "(('pcn_bn_post', True), ('input_size', 100), ('loss_type', 'mse'), ('pcn_final_act', True), ('act_fn', 'softplus'), ('bn_before_act', True), ('pcn_bn', False)) 0.0263158804981789 0.03399666596470863 0.6230541249790954 0.5890574590143868\n",
      "(('pcn_final_act', True), ('act_fn', 'softplus'), ('bn_before_act', True), ('loss_type', 'poisson'), ('pcn_bn', False), ('pcn_bn_post', False), ('input_size', 50)) 0.020506661151470595 0.05621208521123844 0.5676956926151727 0.5114836074039343\n",
      "(('loss_type', 'poisson'), ('act_fn', 'softplus'), ('bn_before_act', True), ('pcn_final_act', False), ('pcn_bn', False), ('pcn_bn_post', False), ('input_size', 50)) 0.04289359964839312 0.017826213557316284 0.581971909255969 0.5641456956986527\n",
      "(('pcn_bn_post', True), ('input_size', 100), ('pcn_final_act', True), ('act_fn', 'softplus'), ('bn_before_act', True), ('loss_type', 'poisson'), ('pcn_bn', False)) 0.026568696278369885 0.034808706083833796 0.6656576629735268 0.630848956889693\n"
     ]
    }
   ],
   "source": [
    "def show_diff_every_key(dict_ret):\n",
    "    for key, value in dict_ret.items():\n",
    "        if np.mean(value[5])-np.mean(value[1]) >= 0.02:\n",
    "            print(tuple(key), np.mean(value[5])-np.mean(value[1]), np.mean(value[5])-np.mean(value[0]),\n",
    "                 np.mean(value[5]), np.mean(value[0]))\n",
    "show_diff_every_key(dict_all_ccnorm2)"
   ]
  },
  {
   "cell_type": "code",
   "execution_count": 8,
   "metadata": {},
   "outputs": [],
   "source": [
    "# in these cases, the differences look big enough.\n",
    "candidates_to_visualize = {\n",
    "    # 0.062192652728396414 0.03907294184369914 0.5513841263769397 0.5123111845332405\n",
    "    (('loss_type', 'poisson'), ('input_size', 50), ('pcn_bn', False), ('pcn_final_act', True), ('pcn_bn_post', False), ('act_fn', 'relu'), ('bn_before_act', True)),\n",
    "    # 0.0629323663988261 0.016065903548365235 0.5353156029314999 0.5192496993831347\n",
    "    (('pcn_final_act', False), ('input_size', 50), ('pcn_bn', False), ('loss_type', 'mse'), ('pcn_bn_post', False), ('bn_before_act', True), ('act_fn', 'softplus')),\n",
    "    # 0.04289359964839312 0.017826213557316284 0.581971909255969 0.5641456956986527\n",
    "    (('loss_type', 'poisson'), ('pcn_final_act', False), ('input_size', 50), ('pcn_bn', False), ('pcn_bn_post', False), ('bn_before_act', True), ('act_fn', 'softplus')),\n",
    "    # 0.026568696278369885 0.034808706083833796 0.6656576629735268 0.630848956889693\n",
    "    (('loss_type', 'poisson'), ('pcn_bn', False), ('pcn_final_act', True), ('input_size', 100), ('bn_before_act', True), ('pcn_bn_post', True), ('act_fn', 'softplus')),\n",
    "}\n",
    "\n"
   ]
  },
  {
   "cell_type": "code",
   "execution_count": 14,
   "metadata": {
    "scrolled": false
   },
   "outputs": [
    {
     "name": "stdout",
     "output_type": "stream",
     "text": [
      "(('pcn_final_act', False), ('pcn_bn', False), ('pcn_bn_post', False), ('loss_type', 'poisson'), ('act_fn', 'softplus'), ('bn_before_act', True), ('input_size', 50))\n",
      "cls 0, seed 0\n",
      "cls 0, seed 1\n",
      "cls 0, seed 2\n",
      "cls 1, seed 0\n",
      "cls 1, seed 1\n",
      "cls 1, seed 2\n",
      "cls 5, seed 0\n",
      "cls 5, seed 1\n",
      "cls 5, seed 2\n",
      "(('act_fn', 'relu'), ('pcn_final_act', True), ('pcn_bn', False), ('pcn_bn_post', False), ('loss_type', 'poisson'), ('bn_before_act', True), ('input_size', 50))\n",
      "cls 0, seed 0\n",
      "cls 0, seed 1\n",
      "cls 0, seed 2\n",
      "cls 1, seed 0\n",
      "cls 1, seed 1\n",
      "cls 1, seed 2\n",
      "cls 5, seed 0\n",
      "cls 5, seed 1\n",
      "cls 5, seed 2\n",
      "(('pcn_final_act', False), ('pcn_bn', False), ('pcn_bn_post', False), ('loss_type', 'mse'), ('act_fn', 'softplus'), ('bn_before_act', True), ('input_size', 50))\n",
      "cls 0, seed 0\n",
      "cls 0, seed 1\n",
      "cls 0, seed 2\n",
      "cls 1, seed 0\n",
      "cls 1, seed 1\n",
      "cls 1, seed 2\n",
      "cls 5, seed 0\n",
      "cls 5, seed 1\n",
      "cls 5, seed 2\n",
      "(('pcn_final_act', True), ('pcn_bn', False), ('pcn_bn_post', True), ('input_size', 100), ('loss_type', 'poisson'), ('act_fn', 'softplus'), ('bn_before_act', True))\n",
      "cls 0, seed 0\n",
      "cls 0, seed 1\n",
      "cls 0, seed 2\n",
      "cls 1, seed 0\n",
      "cls 1, seed 1\n",
      "cls 1, seed 2\n",
      "cls 5, seed 0\n",
      "cls 5, seed 1\n",
      "cls 5, seed 2\n"
     ]
    }
   ],
   "source": [
    "def visualize_one_case(key_for_result_dict):\n",
    "    # show cls=0, 1, 5\n",
    "    print(tuple(key_for_result_dict))\n",
    "    for cls_to_check in (0, 1, 5):\n",
    "        # for each one, show model_seed=0,1,2\n",
    "        for model_seed in range(3):\n",
    "            param_dict = {\n",
    "                **constant_params, **{k: v for (k, v) in key_for_result_dict},\n",
    "                **{'pcn_cls': cls_to_check, 'model_seed': model_seed}\n",
    "            }\n",
    "            print(f'cls {cls_to_check}, seed {model_seed}')\n",
    "            \n",
    "            # do the visualization.\n",
    "            \n",
    "\n",
    "def visualize_all_cases():\n",
    "    for cand in candidates_to_visualize:\n",
    "        visualize_one_case(frozenset(cand))\n",
    "        \n",
    "visualize_all_cases()"
   ]
  }
 ],
 "metadata": {
  "kernelspec": {
   "display_name": "Python 3",
   "language": "python",
   "name": "python3"
  },
  "language_info": {
   "codemirror_mode": {
    "name": "ipython",
    "version": 3
   },
   "file_extension": ".py",
   "mimetype": "text/x-python",
   "name": "python",
   "nbconvert_exporter": "python",
   "pygments_lexer": "ipython3",
   "version": "3.7.6"
  }
 },
 "nbformat": 4,
 "nbformat_minor": 4
}

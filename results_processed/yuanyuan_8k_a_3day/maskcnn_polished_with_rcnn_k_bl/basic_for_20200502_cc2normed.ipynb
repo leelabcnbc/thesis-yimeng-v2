{
 "cells": [
  {
   "cell_type": "markdown",
   "metadata": {},
   "source": [
    "overall, using K's architecture instead of local PCN, we can achieve same type qualitative conclusions: more cycles -> better performance."
   ]
  },
  {
   "cell_type": "code",
   "execution_count": 1,
   "metadata": {},
   "outputs": [],
   "source": [
    "from sys import path\n",
    "from os.path import relpath, realpath, abspath, join, exists\n",
    "from itertools import product, chain\n",
    "\n",
    "%matplotlib inline\n",
    "import matplotlib.pyplot as plt\n",
    "import numpy as np\n",
    "import pandas as pd\n",
    "import h5py\n",
    "\n",
    "pd.set_option('display.max_rows', 999)"
   ]
  },
  {
   "cell_type": "code",
   "execution_count": 2,
   "metadata": {},
   "outputs": [],
   "source": [
    "from torchnetjson.builder import build_net"
   ]
  },
  {
   "cell_type": "code",
   "execution_count": 3,
   "metadata": {},
   "outputs": [],
   "source": [
    "from thesis_v2 import dir_dict\n",
    "from thesis_v2.data import load_data_helper\n",
    "from thesis_v2.training.training_aux import load_training_results\n",
    "from thesis_v2.training_extra.misc import count_params\n",
    "from thesis_v2.models.maskcnn_polished_with_rcnn_k_bl.builder import load_modules\n",
    "\n",
    "load_modules()"
   ]
  },
  {
   "cell_type": "code",
   "execution_count": 4,
   "metadata": {},
   "outputs": [],
   "source": [
    "from thesis_v2.configs.model.maskcnn_polished_with_rcnn_k_bl import (\n",
    "    explored_models_20200502 as param_iterator_obj,\n",
    "    keygen\n",
    ")"
   ]
  },
  {
   "cell_type": "code",
   "execution_count": 5,
   "metadata": {},
   "outputs": [],
   "source": [
    "# compute ccmax\n",
    "from strflab.stats import cc_max\n",
    "from thesis_v2.data.prepared.yuanyuan_8k import get_neural_data_per_trial\n",
    "\n",
    "cc_max_all_neurons = cc_max(get_neural_data_per_trial(\n",
    "    ('042318', '043018','051018',))\n",
    "                           )\n",
    "assert cc_max_all_neurons.shape == (79,)"
   ]
  },
  {
   "cell_type": "code",
   "execution_count": 6,
   "metadata": {},
   "outputs": [],
   "source": [
    "def load_everything():\n",
    "    _df_collect = []\n",
    "    for idx, param in enumerate(\n",
    "        param_iterator_obj().generate(),\n",
    "    ):\n",
    "        if idx % 100 == 0:\n",
    "            print(idx)\n",
    "            \n",
    "#         if idx >= 100:\n",
    "#             break\n",
    "            \n",
    "#         print(len(param))\n",
    "#         print(len(param))\n",
    "\n",
    "        assert param['kernel_size_l23'] == 3\n",
    "#             continue\n",
    "\n",
    "#         if len(param) == 22:\n",
    "#             param['train_keep'] = None\n",
    "#         print(len(param))\n",
    "        assert len(param) == 24\n",
    "        \n",
    "        assert param['kernel_size_l1'] == 9\n",
    "        assert param['ff_1st_block']\n",
    "        \n",
    "        \n",
    "        \n",
    "        assert param['split_seed'] == 'legacy'\n",
    "        assert param['pooling_ksize'] == 3\n",
    "        assert param['pooling_type'] == 'avg'\n",
    "        assert not param['bn_after_fc']\n",
    "        assert param['rcnn_bl_psize'] == 1\n",
    "        assert param['rcnn_bl_ptype'] is None\n",
    "        assert param['input_size'] == 50\n",
    "        \n",
    "        # 12 to go\n",
    "        # remove smoothness_name and scale_name, 10 to go\n",
    "        \n",
    "#         assert param['model_seed'] == 0\n",
    "        \n",
    "        key = keygen(**{k: v for k, v in param.items() if k not in {'scale', 'smoothness'}})\n",
    "        # 10 to go.\n",
    "        result = load_training_results(key, return_model=False)\n",
    "        # load twice, first time to get the model.\n",
    "#         result = load_training_results(key, return_model=True, model=build_net(result['config_extra']['model']))\n",
    "        num_epochs = [len(x) for x in result['stats_all']]\n",
    "        \n",
    "        cc_raw = np.asarray(result['stats_best']['stats']['test']['corr'])\n",
    "        assert cc_raw.shape == (79,)\n",
    "        \n",
    "#         if param['train_keep'] is None:\n",
    "#             param['train_keep'] = 5120\n",
    "        \n",
    "        _df_collect.append(\n",
    "            {\n",
    "                'seq_length': param['seq_length'],\n",
    "                'act_fn': param['act_fn'],\n",
    "                'loss_type': param['loss_type'],\n",
    "                'scale': float(param['scale']),\n",
    "                'smoothness': float(param['smoothness']),\n",
    "                'num_layer': param['num_layer'],\n",
    "                'out_channel': param['out_channel'],\n",
    "                # 4 to go.\n",
    "                '1st_bn_before_act': param['ff_1st_bn_before_act'],\n",
    "                'rcnn_bl_cls': param['rcnn_bl_cls'],\n",
    "                'rcnn_acc_type': param['rcnn_acc_type'],\n",
    "\n",
    "                'model_seed': param['model_seed'],\n",
    "                # done,\n",
    "                'corr_test': ((cc_raw/cc_max_all_neurons)**2).mean(),\n",
    "                'max_epoch': max(num_epochs),\n",
    "#                 'num_param': count_params(result['model']),\n",
    "            }\n",
    "        )\n",
    "    _df =  pd.DataFrame(_df_collect, columns=[\n",
    "#             'split_seed',\n",
    "        'seq_length',\n",
    "        'act_fn',\n",
    "        'loss_type', 'scale', 'smoothness', 'num_layer',\n",
    "        'out_channel', '1st_bn_before_act',\n",
    "\n",
    "        'rcnn_bl_cls',\n",
    "#         'rcnn_acc_type',\n",
    "        'model_seed',\n",
    "\n",
    "        'corr_test',\n",
    "#         'num_param',\n",
    "        'max_epoch',\n",
    "    ])\n",
    "#     print(_df)\n",
    "    _df = _df.set_index([\n",
    "        'seq_length',\n",
    "        'act_fn',\n",
    "        'loss_type', 'scale', 'smoothness', 'num_layer',\n",
    "        'out_channel', '1st_bn_before_act',\n",
    "        'rcnn_bl_cls',\n",
    "#         'rcnn_acc_type',\n",
    "        'model_seed',\n",
    "    ], verify_integrity=True)\n",
    "    return _df"
   ]
  },
  {
   "cell_type": "code",
   "execution_count": 7,
   "metadata": {
    "scrolled": false
   },
   "outputs": [
    {
     "name": "stdout",
     "output_type": "stream",
     "text": [
      "0\n",
      "100\n"
     ]
    }
   ],
   "source": [
    "df = load_everything()"
   ]
  },
  {
   "cell_type": "code",
   "execution_count": 8,
   "metadata": {},
   "outputs": [],
   "source": [
    "corr_mean = df['corr_test'].unstack('model_seed').mean(axis=1)\n",
    "# corr_std = df['corr_test'].unstack('model_seed').std(axis=1)"
   ]
  },
  {
   "cell_type": "code",
   "execution_count": 9,
   "metadata": {},
   "outputs": [],
   "source": [
    "# let's try to quickly eliminate bad configs, just like before, by plotting scatter plots.\n",
    "def scatter(x, y, xlabel, ylabel, title):\n",
    "    plt.close('all')\n",
    "    plt.figure(figsize=(6, 5))\n",
    "    plt.scatter(x, y, s=1)\n",
    "    plt.xlabel(xlabel)\n",
    "    plt.ylabel(ylabel)\n",
    "    plt.axis('equal')\n",
    "    plt.xlim(0,1)\n",
    "    plt.ylim(0,1)\n",
    "    plt.plot([0,1],[0,1],linestyle='--')\n",
    "    plt.title(title)\n",
    "    plt.show()\n",
    "    print('y-x mean', (y-x).mean(), 'y-x>0 mean', ((y-x)>0).mean())\n",
    "    print('y top', y.max(), 'x top', x.max())"
   ]
  },
  {
   "cell_type": "code",
   "execution_count": 10,
   "metadata": {},
   "outputs": [],
   "source": [
    "# here, I need to check the effective ness of act_fn, bn_before_act, bn_after_fc, loss_type\n",
    "def check_compare_one_case(series_in, label_to_unstack, values_to_check=None):\n",
    "    df_unstacked = series_in.unstack(label_to_unstack)\n",
    "#     assert df_unstacked.shape[1] == 2\n",
    "    if values_to_check is None:\n",
    "        values_to_check = df_unstacked.columns.values[:2].tolist()\n",
    "    else:\n",
    "        pass\n",
    "    \n",
    "    assert len(values_to_check) == 2\n",
    "    label_x = values_to_check[0]\n",
    "    label_y = values_to_check[1]\n",
    "        \n",
    "    data_x = df_unstacked.loc[:,label_x].values\n",
    "    data_y = df_unstacked.loc[:,label_y].values\n",
    "    \n",
    "    \n",
    "    \n",
    "    scatter(data_x, data_y, str(label_x), str(label_y), f'{label_to_unstack}: {label_y} vs {label_x}')"
   ]
  },
  {
   "cell_type": "code",
   "execution_count": 14,
   "metadata": {},
   "outputs": [
    {
     "data": {
      "image/png": "[encoded data removed]",
      "text/plain": [
       "<Figure size 432x360 with 1 Axes>"
      ]
     },
     "metadata": {
      "needs_background": "light"
     },
     "output_type": "display_data"
    },
    {
     "name": "stdout",
     "output_type": "stream",
     "text": [
      "y-x mean 0.003140095508678737 y-x>0 mean 0.90625\n",
      "y top 0.19126424539966003 x top 0.18677198595851832\n"
     ]
    }
   ],
   "source": [
    "check_compare_one_case(corr_mean, 'seq_length', values_to_check=(1,2))"
   ]
  },
  {
   "cell_type": "code",
   "execution_count": 16,
   "metadata": {},
   "outputs": [
    {
     "data": {
      "image/png": "[encoded data removed]",
      "text/plain": [
       "<Figure size 432x360 with 1 Axes>"
      ]
     },
     "metadata": {
      "needs_background": "light"
     },
     "output_type": "display_data"
    },
    {
     "name": "stdout",
     "output_type": "stream",
     "text": [
      "y-x mean 0.0007222529982917176 y-x>0 mean 0.671875\n",
      "y top 0.19143517720256245 x top 0.19126424539966003\n"
     ]
    }
   ],
   "source": [
    "check_compare_one_case(corr_mean, 'seq_length', values_to_check=(2,3))"
   ]
  },
  {
   "cell_type": "code",
   "execution_count": 11,
   "metadata": {},
   "outputs": [
    {
     "name": "stdout",
     "output_type": "stream",
     "text": [
      "(16, 4)\n",
      "[1, 2, 3, 4]\n",
      "n 16\n",
      "2 - 1 mean 0.007751954064344311 sem 0.000779301286554591\n",
      "3 - 2 mean 0.0022251879666311987 sem 0.000516196193881413\n",
      "4 - 3 mean 0.0008010359868049644 sem 0.0004910980513048555\n",
      "4 - 2 mean 0.003026223953436163 sem 0.0007207176705278741\n"
     ]
    },
    {
     "data": {
      "image/png": "[encoded data removed]",
      "text/plain": [
       "<Figure size 576x216 with 1 Axes>"
      ]
     },
     "metadata": {
      "needs_background": "light"
     },
     "output_type": "display_data"
    },
    {
     "name": "stdout",
     "output_type": "stream",
     "text": [
      "[0.17032406351431714, 0.17807601757866148, 0.18030120554529266, 0.18110224153209764] [4.55129704 1.24957195 0.44427656]\n"
     ]
    }
   ],
   "source": [
    "def plot_step_increase(df_this, pairs_to_check, ylim):\n",
    "    # remove those no innner act ones.\n",
    "    df_unstacked = df_this.unstack('rcnn_bl_cls')\n",
    "#     df_unstacked = corr_mean.unstack('pcn_cls')\n",
    "    print(df_unstacked.shape)\n",
    "    \n",
    "#     selector = df_unstacked.values[:,0] >= 0.50\n",
    "    selector = ()\n",
    "#     print(selector.mean())\n",
    "    \n",
    "    cls_values = df_unstacked.columns.values.tolist()\n",
    "    print(cls_values)\n",
    "    assert cls_values == list(range(1,len(cls_values)+1))\n",
    "    \n",
    "    n = df_unstacked.shape[0]\n",
    "    \n",
    "#     n = selector.sum()\n",
    "    print('n', n)\n",
    "    \n",
    "    \n",
    "    for p1, p2 in pairs_to_check:\n",
    "        val0 = df_unstacked.values[:,p1-1][selector]\n",
    "        val1 = df_unstacked.values[:,p2-1][selector]\n",
    "\n",
    "        # selection\n",
    "        print(\n",
    "            f'{p2} - {p1}',\n",
    "            'mean', (val1-val0).mean(),\n",
    "            'sem', (val1-val0).std()/np.sqrt(n)\n",
    "        )\n",
    "        \n",
    "    # time to plot.\n",
    "    # show results for cls_values[0] through cls_values[-1]\n",
    "    # for the first one, just show mean,\n",
    "    # for others show mean and s.e.m. of increase.\n",
    "    \n",
    "    mean_performance = []\n",
    "    sem_increase = []\n",
    "    labels = []\n",
    "    \n",
    "    for idx, cls_name in enumerate(cls_values):\n",
    "        assert idx == cls_name - 1\n",
    "        mean_performance.append(df_unstacked.values[:,idx][selector].mean())\n",
    "        if idx == 0:\n",
    "            sem_increase.append(0.0)\n",
    "        else:\n",
    "            sem_increase.append((df_unstacked.values[:,idx][selector]-df_unstacked.values[:,idx-1][selector]).std()/np.sqrt(n))\n",
    "        labels.append(str(cls_name))\n",
    "        \n",
    "    \n",
    "    plt.close('all')\n",
    "    fig = plt.figure(figsize=(8,3))\n",
    "    plt.bar(np.arange(len(cls_values)), mean_performance, 0.5, yerr=sem_increase)\n",
    "#     plt.ylabel('neural prediction performance')\n",
    "    plt.ylim(*ylim)\n",
    "    plt.xlabel('number of iterations in the BL block')\n",
    "    plt.xticks(np.arange(len(cls_values)), labels)\n",
    "    \n",
    "    \n",
    "    plt.text(0.1, 0.8, f'{n} variants', verticalalignment='center', horizontalalignment='left', transform=plt.gca().transAxes)\n",
    "    fig.subplots_adjust(bottom=0.2)\n",
    "\n",
    "    plt.show()\n",
    "    \n",
    "    print(mean_performance, np.diff(mean_performance)/mean_performance[:-1]*100)\n",
    "    \n",
    "    \n",
    "    \n",
    "# trend for 0-1-2 is good. then bad.\n",
    "plot_step_increase(corr_mean.xs(1, level='seq_length'), [(1,2),(2,3),(3,4),(2,4)], (0.17, 0.182))"
   ]
  },
  {
   "cell_type": "code",
   "execution_count": 12,
   "metadata": {},
   "outputs": [
    {
     "name": "stdout",
     "output_type": "stream",
     "text": [
      "(16, 4)\n",
      "[1, 2, 3, 4]\n",
      "n 16\n",
      "2 - 1 mean 0.0077967122472483805 sem 0.0008260384373524103\n",
      "3 - 2 mean 0.0029029392857065402 sem 0.0006457387623980062\n",
      "4 - 3 mean 0.0007210769359751613 sem 0.0006611720627838221\n",
      "4 - 2 mean 0.0036240162216817015 sem 0.0006987296554201622\n"
     ]
    },
    {
     "data": {
      "image/png": "[encoded data removed]",
      "text/plain": [
       "<Figure size 576x216 with 1 Axes>"
      ]
     },
     "metadata": {
      "needs_background": "light"
     },
     "output_type": "display_data"
    },
    {
     "name": "stdout",
     "output_type": "stream",
     "text": [
      "[0.1731117044889876, 0.18090841673623598, 0.18381135602194254, 0.1845324329579177] [4.50386198 1.60464579 0.39229183]\n"
     ]
    }
   ],
   "source": [
    "plot_step_increase(corr_mean.xs(2, level='seq_length'), [(1,2),(2,3),(3,4),(2,4)], (0.172, 0.186))"
   ]
  },
  {
   "cell_type": "code",
   "execution_count": 13,
   "metadata": {
    "scrolled": false
   },
   "outputs": [
    {
     "name": "stdout",
     "output_type": "stream",
     "text": [
      "(16, 4)\n",
      "[1, 2, 3, 4]\n",
      "n 16\n",
      "2 - 1 mean 0.00862446708226745 sem 0.0009376917104559164\n",
      "3 - 2 mean 0.001616290733849132 sem 0.0007183986219383936\n",
      "4 - 3 mean 0.00048265467260612434 sem 0.0007759502399880494\n",
      "4 - 2 mean 0.0020989454064552562 sem 0.0006786482413510324\n"
     ]
    },
    {
     "data": {
      "image/png": "[encoded data removed]",
      "text/plain": [
       "<Figure size 576x216 with 1 Axes>"
      ]
     },
     "metadata": {
      "needs_background": "light"
     },
     "output_type": "display_data"
    },
    {
     "name": "stdout",
     "output_type": "stream",
     "text": [
      "[0.173916071202786, 0.18254053828505346, 0.18415682901890257, 0.18463948369150873] [4.95898224 0.88544208 0.26208894]\n"
     ]
    }
   ],
   "source": [
    "plot_step_increase(corr_mean.xs(3, level='seq_length'), [(1,2),(2,3),(3,4),(2,4)], (0.172, 0.186))"
   ]
  }
 ],
 "metadata": {
  "kernelspec": {
   "display_name": "Python 3",
   "language": "python",
   "name": "python3"
  },
  "language_info": {
   "codemirror_mode": {
    "name": "ipython",
    "version": 3
   },
   "file_extension": ".py",
   "mimetype": "text/x-python",
   "name": "python",
   "nbconvert_exporter": "python",
   "pygments_lexer": "ipython3",
   "version": "3.7.6"
  }
 },
 "nbformat": 4,
 "nbformat_minor": 2
}

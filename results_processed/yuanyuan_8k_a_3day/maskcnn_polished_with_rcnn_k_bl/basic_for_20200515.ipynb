{
 "cells": [
  {
   "cell_type": "markdown",
   "metadata": {},
   "source": [
    "overall, using K's architecture instead of local PCN, we can achieve same type qualitative conclusions: more cycles -> better performance."
   ]
  },
  {
   "cell_type": "code",
   "execution_count": 1,
   "metadata": {},
   "outputs": [],
   "source": [
    "from sys import path\n",
    "from os.path import relpath, realpath, abspath, join, exists\n",
    "from itertools import product, chain\n",
    "from functools import partial\n",
    "\n",
    "%matplotlib inline\n",
    "import matplotlib.pyplot as plt\n",
    "import numpy as np\n",
    "import pandas as pd\n",
    "import h5py\n",
    "from IPython.display import display\n",
    "\n",
    "pd.set_option('display.max_rows', 999)"
   ]
  },
  {
   "cell_type": "code",
   "execution_count": 2,
   "metadata": {},
   "outputs": [],
   "source": [
    "from torchnetjson.builder import build_net"
   ]
  },
  {
   "cell_type": "code",
   "execution_count": 3,
   "metadata": {},
   "outputs": [],
   "source": [
    "from thesis_v2 import dir_dict\n",
    "from thesis_v2.data import load_data_helper\n",
    "from thesis_v2.training.training_aux import load_training_results\n",
    "# I forgot how this count_params handles BN buffer parameters (running mean and std) looks like it's ignored.\n",
    "from thesis_v2.training_extra.misc import count_params\n",
    "from thesis_v2.models.maskcnn_polished_with_rcnn_k_bl.builder import load_modules\n",
    "\n",
    "load_modules()"
   ]
  },
  {
   "cell_type": "code",
   "execution_count": 4,
   "metadata": {},
   "outputs": [],
   "source": [
    "from thesis_v2.configs.model.maskcnn_polished_with_rcnn_k_bl import (\n",
    "    explored_models_20200515 as param_iterator_obj,\n",
    "    keygen,\n",
    "    encode_transfer_learning_cb19_params, decode_transfer_learning_cb19_params\n",
    ")\n",
    "\n",
    "from thesis_v2.training_extra.data import generate_datasets"
   ]
  },
  {
   "cell_type": "code",
   "execution_count": 5,
   "metadata": {},
   "outputs": [],
   "source": [
    "# compute ccmax\n",
    "from strflab.stats import cc_max\n",
    "\n",
    "def get_cc_max_8k():\n",
    "    from thesis_v2.data.prepared.yuanyuan_8k import get_neural_data_per_trial\n",
    "\n",
    "    cc_max_all_neurons = cc_max(get_neural_data_per_trial(\n",
    "        ('042318', '043018','051018',))\n",
    "                               )\n",
    "    assert cc_max_all_neurons.shape == (79,)\n",
    "    \n",
    "    return cc_max_all_neurons\n",
    "\n",
    "def get_cc_max_cb19():\n",
    "    from thesis_v2.data.prepared.cadena_plos_cb19 import get_neural_data_per_trial\n",
    "\n",
    "    cc_max_all_neurons = cc_max(get_neural_data_per_trial(fill_value='zero'))\n",
    "    assert cc_max_all_neurons.shape == (115,)\n",
    "    \n",
    "    return cc_max_all_neurons"
   ]
  },
  {
   "cell_type": "code",
   "execution_count": 6,
   "metadata": {},
   "outputs": [],
   "source": [
    "from torch.backends import cudnn\n",
    "from torch import nn\n",
    "import torch\n",
    "cudnn.enabled = True\n",
    "cudnn.deterministic = True\n",
    "cudnn.benchmark = False\n",
    "\n",
    "_data_cache = dict()\n",
    "_data_cache_cb19 = dict()\n",
    "def get_data_cached(input_size, seed):\n",
    "    from thesis_v2.data.prepared.yuanyuan_8k import get_data\n",
    "    if (input_size, seed) not in _data_cache:\n",
    "        _data_cache[input_size, seed] = get_data('a', 200, input_size,\n",
    "                                                 ('042318', '043018', '051018'),\n",
    "                                                 scale=0.5,\n",
    "                                                 seed=seed)\n",
    "    return _data_cache[input_size, seed]\n",
    "\n",
    "\n",
    "\n",
    "def get_data_cached_cb19(px_kept, input_size, seed):\n",
    "    from thesis_v2.data.prepared.cadena_plos_cb19 import get_data\n",
    "    if (px_kept, input_size, seed) not in _data_cache_cb19:\n",
    "        _data_cache_cb19[px_kept, input_size, seed] = get_data(px_kept=px_kept, final_size=input_size, seed=seed, scale=0.5, force_resize=True)\n",
    "    return _data_cache_cb19[px_kept, input_size, seed]\n"
   ]
  },
  {
   "cell_type": "code",
   "execution_count": 7,
   "metadata": {},
   "outputs": [],
   "source": [
    "def get_data_wrapper_8k(param):\n",
    "    datasets = get_data_cached(param['input_size'], param['split_seed'])\n",
    "    datasets = {\n",
    "        'X_train': datasets[0].astype(np.float32),\n",
    "        'y_train': datasets[1],\n",
    "        'X_val': datasets[2].astype(np.float32),\n",
    "        'y_val': datasets[3],\n",
    "        'X_test': datasets[4].astype(np.float32),\n",
    "        'y_test': datasets[5],\n",
    "    }\n",
    "    \n",
    "    datasets_all = generate_datasets(\n",
    "        **datasets,\n",
    "        per_epoch_train=False,\n",
    "        shuffle_train=False,\n",
    "    )\n",
    "    \n",
    "    return datasets_all['test']\n",
    "\n",
    "\n",
    "def get_data_wrapper_cb19(param):\n",
    "    \n",
    "    datasets = get_data_cached_cb19(param['cb19_px_kept'], param['input_size'], param['cb19_split_seed'])\n",
    "    datasets = {\n",
    "        'X_train': datasets[0].astype(np.float32),\n",
    "        'y_train': datasets[1],\n",
    "        'X_val': datasets[2].astype(np.float32),\n",
    "        'y_val': datasets[3],\n",
    "        'X_test': datasets[4].astype(np.float32),\n",
    "        'y_test': datasets[5],\n",
    "    }\n",
    "    \n",
    "    datasets_all = generate_datasets(\n",
    "        **datasets,\n",
    "        per_epoch_train=False,\n",
    "        shuffle_train=False,\n",
    "    )\n",
    "    \n",
    "    return datasets_all['test']\n",
    "\n",
    "from thesis_v2.training_extra.evaluation import eval_fn_wrapper as eval_fn_wrapper_neural\n",
    "from thesis_v2.training.training import eval_wrapper"
   ]
  },
  {
   "cell_type": "code",
   "execution_count": 8,
   "metadata": {},
   "outputs": [],
   "source": [
    "class SlicedModel(nn.Module):\n",
    "    def __init__(self, model, slice_this):\n",
    "        super().__init__()\n",
    "        self.model = model\n",
    "        self.slice = slice_this\n",
    "#         print(self.slice)\n",
    "    \n",
    "    def forward(self, *inputs):\n",
    "        output = self.model(*inputs)\n",
    "        assert (len(output) == 1)\n",
    "        return (output[0][:, :, self.slice],)\n",
    "    \n",
    "def load_everything():\n",
    "    \n",
    "    cc_max_all_8k = get_cc_max_8k()\n",
    "    cc_max_all_cb19 = get_cc_max_cb19()\n",
    "    \n",
    "    _df_collect = []\n",
    "    for idx, param in enumerate(\n",
    "        chain(\n",
    "            param_iterator_obj().generate(),\n",
    "        )\n",
    "    ):\n",
    "        if idx % 100 == 0:\n",
    "            print(idx)\n",
    "            \n",
    "#         if idx >= 100:\n",
    "#             break\n",
    "            \n",
    "#         print(len(param))\n",
    "#         print(len(param))\n",
    "\n",
    "        if param['kernel_size_l23'] != 3:\n",
    "            continue\n",
    "\n",
    "#         if len(param) == 22:\n",
    "#             param['train_keep'] = None\n",
    "        assert len(param) == 26\n",
    "        \n",
    "        assert param['kernel_size_l1'] == 9\n",
    "        assert param['ff_1st_block']\n",
    "        \n",
    "        \n",
    "        \n",
    "        assert param['split_seed'] == 'legacy'\n",
    "        assert param['pooling_ksize'] == 3\n",
    "        assert param['pooling_type'] == 'avg'\n",
    "        assert not param['bn_after_fc']\n",
    "        assert param['rcnn_bl_psize'] == 1\n",
    "        assert param['rcnn_bl_ptype'] is None\n",
    "        assert param['input_size'] == 50\n",
    "        \n",
    "        # 12 to go\n",
    "        # remove smoothness_name and scale_name, 10 to go\n",
    "        \n",
    "#         assert param['model_seed'] == 0\n",
    "        \n",
    "        \n",
    "        params_encoded = encode_transfer_learning_cb19_params(param)\n",
    "        key = keygen(**{k: v for k, v in params_encoded.items() if k not in {'scale', 'smoothness'}})\n",
    "        # 10 to go.\n",
    "        result = load_training_results(key, return_model=False)\n",
    "        # load twice, first time to get the model.\n",
    "        result = load_training_results(key, return_model=True, model=build_net(result['config_extra']['model']))\n",
    "        num_epochs = [len(x) for x in result['stats_all']]\n",
    "        \n",
    "        cc_raw = np.asarray(result['stats_best']['stats']['test']['corr'])\n",
    "        assert cc_raw.shape == (79 + 115,)\n",
    "        cc_raw_8k = cc_raw[:79]\n",
    "        cc_raw_cb19 = cc_raw[79:]\n",
    "        \n",
    "#         if param['train_keep'] is None:\n",
    "#             param['train_keep'] = 5120\n",
    "\n",
    "        # double check \n",
    "        datasets_8k_test = get_data_wrapper_8k(param)\n",
    "        \n",
    "        result_on_the_go_8k = eval_wrapper(SlicedModel(result['model'].cuda(), slice(79)),\n",
    "                                            datasets_8k_test,\n",
    "                                            'cuda',\n",
    "                                            1,\n",
    "                                            partial(eval_fn_wrapper_neural, loss_type=param['loss_type'], yhat_reduce_axis=1),\n",
    "                                            (lambda dummy1,dummy2,dummy3: torch.tensor(0.0)),\n",
    "                                            return_responses=True\n",
    "                                           )\n",
    "        \n",
    "        \n",
    "        assert abs(result_on_the_go_8k['corr_mean'] - cc_raw_8k.mean()) < 1e-5\n",
    "        \n",
    "        datasets_cb19_test = get_data_wrapper_cb19(param)\n",
    "        \n",
    "        result_on_the_go_cb19 = eval_wrapper(SlicedModel(result['model'].cuda(), slice(79,None)),\n",
    "                                            datasets_cb19_test,\n",
    "                                            'cuda',\n",
    "                                            1,\n",
    "                                            partial(eval_fn_wrapper_neural, loss_type=param['loss_type'], yhat_reduce_axis=1),\n",
    "                                            (lambda dummy1,dummy2,dummy3: torch.tensor(0.0)),\n",
    "                                            return_responses=True\n",
    "                                           )\n",
    "        \n",
    "        assert abs(result_on_the_go_cb19['corr_mean'] - cc_raw_cb19.mean()) < 1e-5\n",
    "        \n",
    "        \n",
    "#         print('aaaa')\n",
    "#         raise RuntimeError\n",
    "        \n",
    "        _df_collect.append(\n",
    "            {\n",
    "                'train_keep': param['train_keep'],\n",
    "                'act_fn': param['act_fn'],\n",
    "                'loss_type': param['loss_type'],\n",
    "                'scale': float(param['scale']),\n",
    "                'smoothness': float(param['smoothness']),\n",
    "                'num_layer': param['num_layer'],\n",
    "                'out_channel': param['out_channel'],\n",
    "                # 4 to go.\n",
    "                '1st_bn_before_act': param['ff_1st_bn_before_act'],\n",
    "                'rcnn_bl_cls': param['rcnn_bl_cls'],\n",
    "                'rcnn_acc_type': param['rcnn_acc_type'],\n",
    "\n",
    "                'model_seed': param['model_seed'],\n",
    "                'cb19_px_kept': param['cb19_px_kept'],\n",
    "                # done,\n",
    "                'corr_test_8k': ((cc_raw_8k/cc_max_all_8k)**2).mean(),\n",
    "                'corr_test_cb19': ((cc_raw_cb19/cc_max_all_cb19)**2).mean(),\n",
    "                'max_epoch': max(num_epochs),\n",
    "                'num_param': count_params(result['model']),\n",
    "            }\n",
    "        )\n",
    "    _df =  pd.DataFrame(_df_collect, columns=[\n",
    "#             'split_seed',\n",
    "        'train_keep',\n",
    "        'act_fn',\n",
    "        'loss_type', 'scale', 'smoothness', 'num_layer',\n",
    "        'out_channel', '1st_bn_before_act',\n",
    "\n",
    "        'rcnn_bl_cls',\n",
    "#         'rcnn_acc_type',\n",
    "        'model_seed',\n",
    "        'cb19_px_kept',\n",
    "\n",
    "        'corr_test_8k',\n",
    "        'corr_test_cb19',\n",
    "        'num_param',\n",
    "        'max_epoch',\n",
    "    ])\n",
    "#     print(_df)\n",
    "    _df = _df.set_index([\n",
    "        'train_keep',\n",
    "        'act_fn',\n",
    "        'loss_type', 'scale', 'smoothness', 'num_layer',\n",
    "        'out_channel', '1st_bn_before_act',\n",
    "        'rcnn_bl_cls',\n",
    "#         'rcnn_acc_type',\n",
    "        'model_seed',\n",
    "        'cb19_px_kept',\n",
    "    ], verify_integrity=True)\n",
    "    return _df"
   ]
  },
  {
   "cell_type": "code",
   "execution_count": 9,
   "metadata": {
    "scrolled": false
   },
   "outputs": [
    {
     "name": "stdout",
     "output_type": "stream",
     "text": [
      "0\n",
      "use resize; not optimal for image quality\n",
      "100\n",
      "200\n",
      "300\n",
      "400\n",
      "500\n",
      "600\n",
      "700\n",
      "800\n",
      "900\n",
      "1000\n",
      "1100\n",
      "1200\n",
      "1300\n",
      "1400\n",
      "1500\n",
      "1600\n",
      "1700\n",
      "1800\n",
      "1900\n",
      "2000\n",
      "2100\n",
      "2200\n",
      "2300\n"
     ]
    }
   ],
   "source": [
    "df = load_everything()"
   ]
  },
  {
   "cell_type": "code",
   "execution_count": 10,
   "metadata": {},
   "outputs": [],
   "source": [
    "corr_mean_8k = df['corr_test_8k'].unstack('model_seed').mean(axis=1)\n",
    "corr_mean_cb19 = df['corr_test_cb19'].unstack('model_seed').mean(axis=1)\n",
    "\n",
    "# mean, max, min, all the same. for num_param\n",
    "num_param = df['num_param'].unstack('model_seed').mean(axis=1)"
   ]
  },
  {
   "cell_type": "code",
   "execution_count": 11,
   "metadata": {},
   "outputs": [],
   "source": [
    "# let's try to quickly eliminate bad configs, just like before, by plotting scatter plots.\n",
    "def scatter(x, y, xlabel, ylabel, title):\n",
    "    plt.close('all')\n",
    "    plt.figure(figsize=(6, 5))\n",
    "    plt.scatter(x, y, s=1)\n",
    "    plt.xlabel(xlabel)\n",
    "    plt.ylabel(ylabel)\n",
    "    plt.axis('equal')\n",
    "    plt.xlim(0,1)\n",
    "    plt.ylim(0,1)\n",
    "    plt.plot([0,1],[0,1],linestyle='--')\n",
    "    plt.title(title)\n",
    "    plt.show()\n",
    "    print('y-x mean', (y-x).mean(), 'y-x>0 mean', ((y-x)>0).mean())\n",
    "    print('y top', y.max(), 'x top', x.max())"
   ]
  },
  {
   "cell_type": "code",
   "execution_count": 12,
   "metadata": {},
   "outputs": [],
   "source": [
    "# here, I need to check the effective ness of act_fn, bn_before_act, bn_after_fc, loss_type\n",
    "def check_compare_one_case(series_in, label_to_unstack, values_to_check=None):\n",
    "    df_unstacked = series_in.unstack(label_to_unstack)\n",
    "#     assert df_unstacked.shape[1] == 2\n",
    "    if values_to_check is None:\n",
    "        values_to_check = df_unstacked.columns.values[:2].tolist()\n",
    "    else:\n",
    "        pass\n",
    "    \n",
    "    assert len(values_to_check) == 2\n",
    "    label_x = values_to_check[0]\n",
    "    label_y = values_to_check[1]\n",
    "        \n",
    "    data_x = df_unstacked.loc[:,label_x].values\n",
    "    data_y = df_unstacked.loc[:,label_y].values\n",
    "    \n",
    "    \n",
    "    \n",
    "    scatter(data_x, data_y, str(label_x), str(label_y), f'{label_to_unstack}: {label_y} vs {label_x}')"
   ]
  },
  {
   "cell_type": "code",
   "execution_count": 13,
   "metadata": {},
   "outputs": [
    {
     "name": "stdout",
     "output_type": "stream",
     "text": [
      "(96, 4)\n",
      "[1, 2, 3, 4]\n",
      "n 96\n",
      "2 - 1 mean 0.011159605206617509 sem 0.0015442483131700943\n",
      "3 - 2 mean 0.002342484175372026 sem 0.0012951229601380822\n",
      "4 - 3 mean -0.001671836844116791 sem 0.0011760791341362228\n",
      "4 - 2 mean 0.000670647331255235 sem 0.0014030290803968498\n"
     ]
    },
    {
     "data": {
      "image/png": "[encoded data removed]",
      "text/plain": [
       "<Figure size 576x216 with 1 Axes>"
      ]
     },
     "metadata": {
      "needs_background": "light"
     },
     "output_type": "display_data"
    },
    {
     "name": "stdout",
     "output_type": "stream",
     "text": [
      "[0.526146104125608, 0.5373057093322254, 0.5396481935075975, 0.5379763566634806] [ 2.12100881  0.4359686  -0.30980125]\n"
     ]
    },
    {
     "data": {
      "text/html": [
       "<div>\n",
       "<style scoped>\n",
       "    .dataframe tbody tr th:only-of-type {\n",
       "        vertical-align: middle;\n",
       "    }\n",
       "\n",
       "    .dataframe tbody tr th {\n",
       "        vertical-align: top;\n",
       "    }\n",
       "\n",
       "    .dataframe thead th {\n",
       "        text-align: right;\n",
       "    }\n",
       "</style>\n",
       "<table border=\"1\" class=\"dataframe\">\n",
       "  <thead>\n",
       "    <tr style=\"text-align: right;\">\n",
       "      <th></th>\n",
       "      <th>num_of_cycles</th>\n",
       "      <th>performance</th>\n",
       "      <th>gain %</th>\n",
       "    </tr>\n",
       "  </thead>\n",
       "  <tbody>\n",
       "    <tr>\n",
       "      <th>0</th>\n",
       "      <td>1</td>\n",
       "      <td>0.526146</td>\n",
       "      <td>NaN</td>\n",
       "    </tr>\n",
       "    <tr>\n",
       "      <th>1</th>\n",
       "      <td>2</td>\n",
       "      <td>0.537306</td>\n",
       "      <td>2.121009</td>\n",
       "    </tr>\n",
       "    <tr>\n",
       "      <th>2</th>\n",
       "      <td>3</td>\n",
       "      <td>0.539648</td>\n",
       "      <td>0.435969</td>\n",
       "    </tr>\n",
       "    <tr>\n",
       "      <th>3</th>\n",
       "      <td>4</td>\n",
       "      <td>0.537976</td>\n",
       "      <td>-0.309801</td>\n",
       "    </tr>\n",
       "  </tbody>\n",
       "</table>\n",
       "</div>"
      ],
      "text/plain": [
       "   num_of_cycles  performance    gain %\n",
       "0              1     0.526146       NaN\n",
       "1              2     0.537306  2.121009\n",
       "2              3     0.539648  0.435969\n",
       "3              4     0.537976 -0.309801"
      ]
     },
     "metadata": {},
     "output_type": "display_data"
    },
    {
     "name": "stdout",
     "output_type": "stream",
     "text": [
      "(48, 4)\n",
      "[1, 2, 3, 4]\n",
      "n 48\n",
      "2 - 1 mean 0.011312527213785875 sem 0.002341331364744319\n",
      "3 - 2 mean 0.004418857360990882 sem 0.0018448347043038883\n",
      "4 - 3 mean -0.0033646733612288948 sem 0.001398234259704976\n",
      "4 - 2 mean 0.0010541839997619876 sem 0.0016144584211261216\n"
     ]
    },
    {
     "data": {
      "image/png": "[encoded data removed]",
      "text/plain": [
       "<Figure size 576x216 with 1 Axes>"
      ]
     },
     "metadata": {
      "needs_background": "light"
     },
     "output_type": "display_data"
    },
    {
     "name": "stdout",
     "output_type": "stream",
     "text": [
      "[0.5312371573319564, 0.5425496845457424, 0.5469685419067333, 0.5436038685455044] [ 2.12946837  0.81446133 -0.61514934]\n"
     ]
    },
    {
     "data": {
      "text/html": [
       "<div>\n",
       "<style scoped>\n",
       "    .dataframe tbody tr th:only-of-type {\n",
       "        vertical-align: middle;\n",
       "    }\n",
       "\n",
       "    .dataframe tbody tr th {\n",
       "        vertical-align: top;\n",
       "    }\n",
       "\n",
       "    .dataframe thead th {\n",
       "        text-align: right;\n",
       "    }\n",
       "</style>\n",
       "<table border=\"1\" class=\"dataframe\">\n",
       "  <thead>\n",
       "    <tr style=\"text-align: right;\">\n",
       "      <th></th>\n",
       "      <th>num_of_cycles</th>\n",
       "      <th>performance</th>\n",
       "      <th>gain %</th>\n",
       "    </tr>\n",
       "  </thead>\n",
       "  <tbody>\n",
       "    <tr>\n",
       "      <th>0</th>\n",
       "      <td>1</td>\n",
       "      <td>0.531237</td>\n",
       "      <td>NaN</td>\n",
       "    </tr>\n",
       "    <tr>\n",
       "      <th>1</th>\n",
       "      <td>2</td>\n",
       "      <td>0.542550</td>\n",
       "      <td>2.129468</td>\n",
       "    </tr>\n",
       "    <tr>\n",
       "      <th>2</th>\n",
       "      <td>3</td>\n",
       "      <td>0.546969</td>\n",
       "      <td>0.814461</td>\n",
       "    </tr>\n",
       "    <tr>\n",
       "      <th>3</th>\n",
       "      <td>4</td>\n",
       "      <td>0.543604</td>\n",
       "      <td>-0.615149</td>\n",
       "    </tr>\n",
       "  </tbody>\n",
       "</table>\n",
       "</div>"
      ],
      "text/plain": [
       "   num_of_cycles  performance    gain %\n",
       "0              1     0.531237       NaN\n",
       "1              2     0.542550  2.129468\n",
       "2              3     0.546969  0.814461\n",
       "3              4     0.543604 -0.615149"
      ]
     },
     "metadata": {},
     "output_type": "display_data"
    },
    {
     "name": "stdout",
     "output_type": "stream",
     "text": [
      "(48, 4)\n",
      "[1, 2, 3, 4]\n",
      "n 48\n",
      "2 - 1 mean 0.011006683199449141 sem 0.0020139524499189106\n",
      "3 - 2 mean 0.0002661109897531694 sem 0.0017681403435215273\n",
      "4 - 3 mean 2.0999672995312968e-05 sem 0.0018596197180929751\n",
      "4 - 2 mean 0.0002871106627484824 sem 0.0022937648584531976\n"
     ]
    },
    {
     "data": {
      "image/png": "[encoded data removed]",
      "text/plain": [
       "<Figure size 576x216 with 1 Axes>"
      ]
     },
     "metadata": {
      "needs_background": "light"
     },
     "output_type": "display_data"
    },
    {
     "name": "stdout",
     "output_type": "stream",
     "text": [
      "[0.5210550509192595, 0.5320617341187086, 0.5323278451084618, 0.5323488447814572] [2.11238394 0.05001506 0.00394488]\n"
     ]
    },
    {
     "data": {
      "text/html": [
       "<div>\n",
       "<style scoped>\n",
       "    .dataframe tbody tr th:only-of-type {\n",
       "        vertical-align: middle;\n",
       "    }\n",
       "\n",
       "    .dataframe tbody tr th {\n",
       "        vertical-align: top;\n",
       "    }\n",
       "\n",
       "    .dataframe thead th {\n",
       "        text-align: right;\n",
       "    }\n",
       "</style>\n",
       "<table border=\"1\" class=\"dataframe\">\n",
       "  <thead>\n",
       "    <tr style=\"text-align: right;\">\n",
       "      <th></th>\n",
       "      <th>num_of_cycles</th>\n",
       "      <th>performance</th>\n",
       "      <th>gain %</th>\n",
       "    </tr>\n",
       "  </thead>\n",
       "  <tbody>\n",
       "    <tr>\n",
       "      <th>0</th>\n",
       "      <td>1</td>\n",
       "      <td>0.521055</td>\n",
       "      <td>NaN</td>\n",
       "    </tr>\n",
       "    <tr>\n",
       "      <th>1</th>\n",
       "      <td>2</td>\n",
       "      <td>0.532062</td>\n",
       "      <td>2.112384</td>\n",
       "    </tr>\n",
       "    <tr>\n",
       "      <th>2</th>\n",
       "      <td>3</td>\n",
       "      <td>0.532328</td>\n",
       "      <td>0.050015</td>\n",
       "    </tr>\n",
       "    <tr>\n",
       "      <th>3</th>\n",
       "      <td>4</td>\n",
       "      <td>0.532349</td>\n",
       "      <td>0.003945</td>\n",
       "    </tr>\n",
       "  </tbody>\n",
       "</table>\n",
       "</div>"
      ],
      "text/plain": [
       "   num_of_cycles  performance    gain %\n",
       "0              1     0.521055       NaN\n",
       "1              2     0.532062  2.112384\n",
       "2              3     0.532328  0.050015\n",
       "3              4     0.532349  0.003945"
      ]
     },
     "metadata": {},
     "output_type": "display_data"
    }
   ],
   "source": [
    "def plot_step_increase(df_this, pairs_to_check, ylim):\n",
    "    # remove those no innner act ones.\n",
    "    df_unstacked = df_this.unstack('rcnn_bl_cls')\n",
    "#     df_unstacked = corr_mean.unstack('pcn_cls')\n",
    "    print(df_unstacked.shape)\n",
    "    \n",
    "#     selector = df_unstacked.values[:,0] >= 0.50\n",
    "    selector = ()\n",
    "#     print(selector.mean())\n",
    "    \n",
    "    cls_values = df_unstacked.columns.values.tolist()\n",
    "    print(cls_values)\n",
    "    assert cls_values == list(range(1,len(cls_values)+1))\n",
    "    \n",
    "    n = df_unstacked.shape[0]\n",
    "    \n",
    "#     n = selector.sum()\n",
    "    print('n', n)\n",
    "    \n",
    "    \n",
    "    for p1, p2 in pairs_to_check:\n",
    "        val0 = df_unstacked.values[:,p1-1][selector]\n",
    "        val1 = df_unstacked.values[:,p2-1][selector]\n",
    "\n",
    "        # selection\n",
    "        print(\n",
    "            f'{p2} - {p1}',\n",
    "            'mean', (val1-val0).mean(),\n",
    "            'sem', (val1-val0).std()/np.sqrt(n)\n",
    "        )\n",
    "        \n",
    "    # time to plot.\n",
    "    # show results for cls_values[0] through cls_values[-1]\n",
    "    # for the first one, just show mean,\n",
    "    # for others show mean and s.e.m. of increase.\n",
    "    \n",
    "    mean_performance = []\n",
    "    sem_increase = []\n",
    "    labels = []\n",
    "    \n",
    "    for idx, cls_name in enumerate(cls_values):\n",
    "        assert idx == cls_name - 1\n",
    "        mean_performance.append(df_unstacked.values[:,idx][selector].mean())\n",
    "        if idx == 0:\n",
    "            sem_increase.append(0.0)\n",
    "        else:\n",
    "            sem_increase.append((df_unstacked.values[:,idx][selector]-df_unstacked.values[:,idx-1][selector]).std()/np.sqrt(n))\n",
    "        labels.append(str(cls_name))\n",
    "        \n",
    "    \n",
    "    plt.close('all')\n",
    "    fig = plt.figure(figsize=(8,3))\n",
    "    plt.bar(np.arange(len(cls_values)), mean_performance, 0.5, yerr=sem_increase)\n",
    "#     plt.ylabel('neural prediction performance')\n",
    "    plt.ylim(*ylim)\n",
    "    plt.xlabel('number of iterations in the BL block')\n",
    "    plt.xticks(np.arange(len(cls_values)), labels)\n",
    "    \n",
    "    \n",
    "    plt.text(0.1, 0.8, f'{n} variants', verticalalignment='center', horizontalalignment='left', transform=plt.gca().transAxes)\n",
    "    fig.subplots_adjust(bottom=0.2)\n",
    "\n",
    "    plt.show()\n",
    "    \n",
    "    print(mean_performance, np.diff(mean_performance)/mean_performance[:-1]*100)\n",
    "    \n",
    "    display(pd.DataFrame(\n",
    "        data = {\n",
    "            'num_of_cycles': cls_values,\n",
    "            'performance': mean_performance,\n",
    "            'gain %': np.concatenate([np.asarray([np.nan]),  np.diff(mean_performance)/mean_performance[:-1]*100])\n",
    "        },\n",
    "        columns = ['num_of_cycles', 'performance', 'gain %']\n",
    "    ))\n",
    "    \n",
    "    \n",
    "    \n",
    "# trend for 0-1-2 is good. then bad.\n",
    "plot_step_increase(corr_mean_8k.xs('full', level='train_keep'), [(1,2),(2,3),(3,4),(2,4)], (0.595, 0.64))\n",
    "plot_step_increase(corr_mean_8k.xs('full', level='train_keep').xs(100, level='cb19_px_kept'), [(1,2),(2,3),(3,4),(2,4)], (0.595, 0.64))\n",
    "plot_step_increase(corr_mean_8k.xs('full', level='train_keep').xs(80, level='cb19_px_kept'), [(1,2),(2,3),(3,4),(2,4)], (0.595, 0.64))"
   ]
  },
  {
   "cell_type": "code",
   "execution_count": 14,
   "metadata": {},
   "outputs": [
    {
     "name": "stdout",
     "output_type": "stream",
     "text": [
      "(96, 4)\n",
      "[1, 2, 3, 4]\n",
      "n 96\n",
      "2 - 1 mean 0.015237479690818822 sem 0.002032507309467084\n",
      "3 - 2 mean 0.00088491870007567 sem 0.0012280503344735052\n",
      "4 - 3 mean -0.00037368228407220865 sem 0.0013953300564499\n",
      "4 - 2 mean 0.0005112364160034614 sem 0.0014948974539313925\n"
     ]
    },
    {
     "data": {
      "image/png": "[encoded data removed]",
      "text/plain": [
       "<Figure size 576x216 with 1 Axes>"
      ]
     },
     "metadata": {
      "needs_background": "light"
     },
     "output_type": "display_data"
    },
    {
     "name": "stdout",
     "output_type": "stream",
     "text": [
      "[0.44439647330364035, 0.45963395299445925, 0.4605188716945349, 0.4601451894104627] [ 3.42880302  0.19252683 -0.08114375]\n"
     ]
    },
    {
     "data": {
      "text/html": [
       "<div>\n",
       "<style scoped>\n",
       "    .dataframe tbody tr th:only-of-type {\n",
       "        vertical-align: middle;\n",
       "    }\n",
       "\n",
       "    .dataframe tbody tr th {\n",
       "        vertical-align: top;\n",
       "    }\n",
       "\n",
       "    .dataframe thead th {\n",
       "        text-align: right;\n",
       "    }\n",
       "</style>\n",
       "<table border=\"1\" class=\"dataframe\">\n",
       "  <thead>\n",
       "    <tr style=\"text-align: right;\">\n",
       "      <th></th>\n",
       "      <th>num_of_cycles</th>\n",
       "      <th>performance</th>\n",
       "      <th>gain %</th>\n",
       "    </tr>\n",
       "  </thead>\n",
       "  <tbody>\n",
       "    <tr>\n",
       "      <th>0</th>\n",
       "      <td>1</td>\n",
       "      <td>0.444396</td>\n",
       "      <td>NaN</td>\n",
       "    </tr>\n",
       "    <tr>\n",
       "      <th>1</th>\n",
       "      <td>2</td>\n",
       "      <td>0.459634</td>\n",
       "      <td>3.428803</td>\n",
       "    </tr>\n",
       "    <tr>\n",
       "      <th>2</th>\n",
       "      <td>3</td>\n",
       "      <td>0.460519</td>\n",
       "      <td>0.192527</td>\n",
       "    </tr>\n",
       "    <tr>\n",
       "      <th>3</th>\n",
       "      <td>4</td>\n",
       "      <td>0.460145</td>\n",
       "      <td>-0.081144</td>\n",
       "    </tr>\n",
       "  </tbody>\n",
       "</table>\n",
       "</div>"
      ],
      "text/plain": [
       "   num_of_cycles  performance    gain %\n",
       "0              1     0.444396       NaN\n",
       "1              2     0.459634  3.428803\n",
       "2              3     0.460519  0.192527\n",
       "3              4     0.460145 -0.081144"
      ]
     },
     "metadata": {},
     "output_type": "display_data"
    },
    {
     "name": "stdout",
     "output_type": "stream",
     "text": [
      "(48, 4)\n",
      "[1, 2, 3, 4]\n",
      "n 48\n",
      "2 - 1 mean 0.016637875216165905 sem 0.0027657406165490332\n",
      "3 - 2 mean 0.0007409422022727659 sem 0.0017284707289451301\n",
      "4 - 3 mean 0.0017464480496744126 sem 0.0017817053049787898\n",
      "4 - 2 mean 0.0024873902519471787 sem 0.001566967240993125\n"
     ]
    },
    {
     "data": {
      "image/png": "[encoded data removed]",
      "text/plain": [
       "<Figure size 576x216 with 1 Axes>"
      ]
     },
     "metadata": {
      "needs_background": "light"
     },
     "output_type": "display_data"
    },
    {
     "name": "stdout",
     "output_type": "stream",
     "text": [
      "[0.4514507032130985, 0.4680885784292643, 0.4688295206315371, 0.4705759686812115] [3.68542459 0.15829102 0.37251239]\n"
     ]
    },
    {
     "data": {
      "text/html": [
       "<div>\n",
       "<style scoped>\n",
       "    .dataframe tbody tr th:only-of-type {\n",
       "        vertical-align: middle;\n",
       "    }\n",
       "\n",
       "    .dataframe tbody tr th {\n",
       "        vertical-align: top;\n",
       "    }\n",
       "\n",
       "    .dataframe thead th {\n",
       "        text-align: right;\n",
       "    }\n",
       "</style>\n",
       "<table border=\"1\" class=\"dataframe\">\n",
       "  <thead>\n",
       "    <tr style=\"text-align: right;\">\n",
       "      <th></th>\n",
       "      <th>num_of_cycles</th>\n",
       "      <th>performance</th>\n",
       "      <th>gain %</th>\n",
       "    </tr>\n",
       "  </thead>\n",
       "  <tbody>\n",
       "    <tr>\n",
       "      <th>0</th>\n",
       "      <td>1</td>\n",
       "      <td>0.451451</td>\n",
       "      <td>NaN</td>\n",
       "    </tr>\n",
       "    <tr>\n",
       "      <th>1</th>\n",
       "      <td>2</td>\n",
       "      <td>0.468089</td>\n",
       "      <td>3.685425</td>\n",
       "    </tr>\n",
       "    <tr>\n",
       "      <th>2</th>\n",
       "      <td>3</td>\n",
       "      <td>0.468830</td>\n",
       "      <td>0.158291</td>\n",
       "    </tr>\n",
       "    <tr>\n",
       "      <th>3</th>\n",
       "      <td>4</td>\n",
       "      <td>0.470576</td>\n",
       "      <td>0.372512</td>\n",
       "    </tr>\n",
       "  </tbody>\n",
       "</table>\n",
       "</div>"
      ],
      "text/plain": [
       "   num_of_cycles  performance    gain %\n",
       "0              1     0.451451       NaN\n",
       "1              2     0.468089  3.685425\n",
       "2              3     0.468830  0.158291\n",
       "3              4     0.470576  0.372512"
      ]
     },
     "metadata": {},
     "output_type": "display_data"
    },
    {
     "name": "stdout",
     "output_type": "stream",
     "text": [
      "(48, 4)\n",
      "[1, 2, 3, 4]\n",
      "n 48\n",
      "2 - 1 mean 0.013837084165471742 sem 0.0029653515603230976\n",
      "3 - 2 mean 0.0010288951978785741 sem 0.0017446935883372735\n",
      "4 - 3 mean -0.00249381261781883 sem 0.0021038109180573565\n",
      "4 - 2 mean -0.0014649174199402558 sem 0.0025141144081826986\n"
     ]
    },
    {
     "data": {
      "image/png": "[encoded data removed]",
      "text/plain": [
       "<Figure size 576x216 with 1 Axes>"
      ]
     },
     "metadata": {
      "needs_background": "light"
     },
     "output_type": "display_data"
    },
    {
     "name": "stdout",
     "output_type": "stream",
     "text": [
      "[0.43734224339418243, 0.45117932755965406, 0.45220822275753275, 0.4497144101397139] [ 3.16390296  0.22804573 -0.55147441]\n"
     ]
    },
    {
     "data": {
      "text/html": [
       "<div>\n",
       "<style scoped>\n",
       "    .dataframe tbody tr th:only-of-type {\n",
       "        vertical-align: middle;\n",
       "    }\n",
       "\n",
       "    .dataframe tbody tr th {\n",
       "        vertical-align: top;\n",
       "    }\n",
       "\n",
       "    .dataframe thead th {\n",
       "        text-align: right;\n",
       "    }\n",
       "</style>\n",
       "<table border=\"1\" class=\"dataframe\">\n",
       "  <thead>\n",
       "    <tr style=\"text-align: right;\">\n",
       "      <th></th>\n",
       "      <th>num_of_cycles</th>\n",
       "      <th>performance</th>\n",
       "      <th>gain %</th>\n",
       "    </tr>\n",
       "  </thead>\n",
       "  <tbody>\n",
       "    <tr>\n",
       "      <th>0</th>\n",
       "      <td>1</td>\n",
       "      <td>0.437342</td>\n",
       "      <td>NaN</td>\n",
       "    </tr>\n",
       "    <tr>\n",
       "      <th>1</th>\n",
       "      <td>2</td>\n",
       "      <td>0.451179</td>\n",
       "      <td>3.163903</td>\n",
       "    </tr>\n",
       "    <tr>\n",
       "      <th>2</th>\n",
       "      <td>3</td>\n",
       "      <td>0.452208</td>\n",
       "      <td>0.228046</td>\n",
       "    </tr>\n",
       "    <tr>\n",
       "      <th>3</th>\n",
       "      <td>4</td>\n",
       "      <td>0.449714</td>\n",
       "      <td>-0.551474</td>\n",
       "    </tr>\n",
       "  </tbody>\n",
       "</table>\n",
       "</div>"
      ],
      "text/plain": [
       "   num_of_cycles  performance    gain %\n",
       "0              1     0.437342       NaN\n",
       "1              2     0.451179  3.163903\n",
       "2              3     0.452208  0.228046\n",
       "3              4     0.449714 -0.551474"
      ]
     },
     "metadata": {},
     "output_type": "display_data"
    }
   ],
   "source": [
    "plot_step_increase(corr_mean_8k.xs('half', level='train_keep'), [(1,2),(2,3),(3,4),(2,4)], (0.54, 0.60))\n",
    "plot_step_increase(corr_mean_8k.xs('half', level='train_keep').xs(100, level='cb19_px_kept'), [(1,2),(2,3),(3,4),(2,4)], (0.54, 0.60))\n",
    "plot_step_increase(corr_mean_8k.xs('half', level='train_keep').xs(80, level='cb19_px_kept'), [(1,2),(2,3),(3,4),(2,4)], (0.54, 0.60))\n",
    "\n"
   ]
  },
  {
   "cell_type": "code",
   "execution_count": 15,
   "metadata": {
    "scrolled": false
   },
   "outputs": [
    {
     "name": "stdout",
     "output_type": "stream",
     "text": [
      "(96, 4)\n",
      "[1, 2, 3, 4]\n",
      "n 96\n",
      "2 - 1 mean 0.004063156880513649 sem 0.0035149783187716846\n",
      "3 - 2 mean 0.012297761750867433 sem 0.0028352108950529934\n",
      "4 - 3 mean 0.005933113328517341 sem 0.0025838580755868285\n",
      "4 - 2 mean 0.018230875079384774 sem 0.003463060248288423\n"
     ]
    },
    {
     "data": {
      "image/png": "[encoded data removed]",
      "text/plain": [
       "<Figure size 576x216 with 1 Axes>"
      ]
     },
     "metadata": {
      "needs_background": "light"
     },
     "output_type": "display_data"
    },
    {
     "name": "stdout",
     "output_type": "stream",
     "text": [
      "[0.2590886509800537, 0.2631518078605674, 0.2754495696114348, 0.28138268293995217] [1.56824966 4.67325756 2.15397444]\n"
     ]
    },
    {
     "data": {
      "text/html": [
       "<div>\n",
       "<style scoped>\n",
       "    .dataframe tbody tr th:only-of-type {\n",
       "        vertical-align: middle;\n",
       "    }\n",
       "\n",
       "    .dataframe tbody tr th {\n",
       "        vertical-align: top;\n",
       "    }\n",
       "\n",
       "    .dataframe thead th {\n",
       "        text-align: right;\n",
       "    }\n",
       "</style>\n",
       "<table border=\"1\" class=\"dataframe\">\n",
       "  <thead>\n",
       "    <tr style=\"text-align: right;\">\n",
       "      <th></th>\n",
       "      <th>num_of_cycles</th>\n",
       "      <th>performance</th>\n",
       "      <th>gain %</th>\n",
       "    </tr>\n",
       "  </thead>\n",
       "  <tbody>\n",
       "    <tr>\n",
       "      <th>0</th>\n",
       "      <td>1</td>\n",
       "      <td>0.259089</td>\n",
       "      <td>NaN</td>\n",
       "    </tr>\n",
       "    <tr>\n",
       "      <th>1</th>\n",
       "      <td>2</td>\n",
       "      <td>0.263152</td>\n",
       "      <td>1.568250</td>\n",
       "    </tr>\n",
       "    <tr>\n",
       "      <th>2</th>\n",
       "      <td>3</td>\n",
       "      <td>0.275450</td>\n",
       "      <td>4.673258</td>\n",
       "    </tr>\n",
       "    <tr>\n",
       "      <th>3</th>\n",
       "      <td>4</td>\n",
       "      <td>0.281383</td>\n",
       "      <td>2.153974</td>\n",
       "    </tr>\n",
       "  </tbody>\n",
       "</table>\n",
       "</div>"
      ],
      "text/plain": [
       "   num_of_cycles  performance    gain %\n",
       "0              1     0.259089       NaN\n",
       "1              2     0.263152  1.568250\n",
       "2              3     0.275450  4.673258\n",
       "3              4     0.281383  2.153974"
      ]
     },
     "metadata": {},
     "output_type": "display_data"
    },
    {
     "name": "stdout",
     "output_type": "stream",
     "text": [
      "(48, 4)\n",
      "[1, 2, 3, 4]\n",
      "n 48\n",
      "2 - 1 mean 0.002620009472192985 sem 0.00582927687137731\n",
      "3 - 2 mean 0.013577436585202054 sem 0.003901249260759316\n",
      "4 - 3 mean 0.0045248632578495955 sem 0.0030919289103568323\n",
      "4 - 2 mean 0.018102299843051648 sem 0.004079297703840803\n"
     ]
    },
    {
     "data": {
      "image/png": "[encoded data removed]",
      "text/plain": [
       "<Figure size 576x216 with 1 Axes>"
      ]
     },
     "metadata": {
      "needs_background": "light"
     },
     "output_type": "display_data"
    },
    {
     "name": "stdout",
     "output_type": "stream",
     "text": [
      "[0.2586406792988886, 0.2612606887710816, 0.27483812535628366, 0.2793629886141333] [1.01299203 5.19689229 1.64637393]\n"
     ]
    },
    {
     "data": {
      "text/html": [
       "<div>\n",
       "<style scoped>\n",
       "    .dataframe tbody tr th:only-of-type {\n",
       "        vertical-align: middle;\n",
       "    }\n",
       "\n",
       "    .dataframe tbody tr th {\n",
       "        vertical-align: top;\n",
       "    }\n",
       "\n",
       "    .dataframe thead th {\n",
       "        text-align: right;\n",
       "    }\n",
       "</style>\n",
       "<table border=\"1\" class=\"dataframe\">\n",
       "  <thead>\n",
       "    <tr style=\"text-align: right;\">\n",
       "      <th></th>\n",
       "      <th>num_of_cycles</th>\n",
       "      <th>performance</th>\n",
       "      <th>gain %</th>\n",
       "    </tr>\n",
       "  </thead>\n",
       "  <tbody>\n",
       "    <tr>\n",
       "      <th>0</th>\n",
       "      <td>1</td>\n",
       "      <td>0.258641</td>\n",
       "      <td>NaN</td>\n",
       "    </tr>\n",
       "    <tr>\n",
       "      <th>1</th>\n",
       "      <td>2</td>\n",
       "      <td>0.261261</td>\n",
       "      <td>1.012992</td>\n",
       "    </tr>\n",
       "    <tr>\n",
       "      <th>2</th>\n",
       "      <td>3</td>\n",
       "      <td>0.274838</td>\n",
       "      <td>5.196892</td>\n",
       "    </tr>\n",
       "    <tr>\n",
       "      <th>3</th>\n",
       "      <td>4</td>\n",
       "      <td>0.279363</td>\n",
       "      <td>1.646374</td>\n",
       "    </tr>\n",
       "  </tbody>\n",
       "</table>\n",
       "</div>"
      ],
      "text/plain": [
       "   num_of_cycles  performance    gain %\n",
       "0              1     0.258641       NaN\n",
       "1              2     0.261261  1.012992\n",
       "2              3     0.274838  5.196892\n",
       "3              4     0.279363  1.646374"
      ]
     },
     "metadata": {},
     "output_type": "display_data"
    },
    {
     "name": "stdout",
     "output_type": "stream",
     "text": [
      "(48, 4)\n",
      "[1, 2, 3, 4]\n",
      "n 48\n",
      "2 - 1 mean 0.005506304288834313 sem 0.003918295979224859\n",
      "3 - 2 mean 0.011018086916532813 sem 0.004106787734519415\n",
      "4 - 3 mean 0.007341363399185085 sem 0.004130694108924475\n",
      "4 - 2 mean 0.018359450315717896 sem 0.005597301721386187\n"
     ]
    },
    {
     "data": {
      "image/png": "[encoded data removed]",
      "text/plain": [
       "<Figure size 576x216 with 1 Axes>"
      ]
     },
     "metadata": {
      "needs_background": "light"
     },
     "output_type": "display_data"
    },
    {
     "name": "stdout",
     "output_type": "stream",
     "text": [
      "[0.25953662266121885, 0.2650429269500531, 0.27606101386658594, 0.283402377265771] [2.12159048 4.15709525 2.65932639]\n"
     ]
    },
    {
     "data": {
      "text/html": [
       "<div>\n",
       "<style scoped>\n",
       "    .dataframe tbody tr th:only-of-type {\n",
       "        vertical-align: middle;\n",
       "    }\n",
       "\n",
       "    .dataframe tbody tr th {\n",
       "        vertical-align: top;\n",
       "    }\n",
       "\n",
       "    .dataframe thead th {\n",
       "        text-align: right;\n",
       "    }\n",
       "</style>\n",
       "<table border=\"1\" class=\"dataframe\">\n",
       "  <thead>\n",
       "    <tr style=\"text-align: right;\">\n",
       "      <th></th>\n",
       "      <th>num_of_cycles</th>\n",
       "      <th>performance</th>\n",
       "      <th>gain %</th>\n",
       "    </tr>\n",
       "  </thead>\n",
       "  <tbody>\n",
       "    <tr>\n",
       "      <th>0</th>\n",
       "      <td>1</td>\n",
       "      <td>0.259537</td>\n",
       "      <td>NaN</td>\n",
       "    </tr>\n",
       "    <tr>\n",
       "      <th>1</th>\n",
       "      <td>2</td>\n",
       "      <td>0.265043</td>\n",
       "      <td>2.121590</td>\n",
       "    </tr>\n",
       "    <tr>\n",
       "      <th>2</th>\n",
       "      <td>3</td>\n",
       "      <td>0.276061</td>\n",
       "      <td>4.157095</td>\n",
       "    </tr>\n",
       "    <tr>\n",
       "      <th>3</th>\n",
       "      <td>4</td>\n",
       "      <td>0.283402</td>\n",
       "      <td>2.659326</td>\n",
       "    </tr>\n",
       "  </tbody>\n",
       "</table>\n",
       "</div>"
      ],
      "text/plain": [
       "   num_of_cycles  performance    gain %\n",
       "0              1     0.259537       NaN\n",
       "1              2     0.265043  2.121590\n",
       "2              3     0.276061  4.157095\n",
       "3              4     0.283402  2.659326"
      ]
     },
     "metadata": {},
     "output_type": "display_data"
    }
   ],
   "source": [
    "plot_step_increase(corr_mean_8k.xs('quarter', level='train_keep'), [(1,2),(2,3),(3,4),(2,4)], (0.4, 0.5))\n",
    "plot_step_increase(corr_mean_8k.xs('quarter', level='train_keep').xs(100, level='cb19_px_kept'), [(1,2),(2,3),(3,4),(2,4)], (0.4, 0.5))\n",
    "plot_step_increase(corr_mean_8k.xs('quarter', level='train_keep').xs(80, level='cb19_px_kept'), [(1,2),(2,3),(3,4),(2,4)], (0.4, 0.5))"
   ]
  },
  {
   "cell_type": "code",
   "execution_count": 16,
   "metadata": {},
   "outputs": [],
   "source": [
    "# check relationship between num_param and performance, colored for different num_of_cycles."
   ]
  },
  {
   "cell_type": "code",
   "execution_count": 17,
   "metadata": {},
   "outputs": [
    {
     "name": "stdout",
     "output_type": "stream",
     "text": [
      "(96, 4)\n",
      "[1, 2, 3, 4]\n",
      "n 96\n",
      "2 - 1 mean 0.010792412652047481 sem 0.0011044108242064718\n",
      "3 - 2 mean 0.0016585113082303645 sem 0.0008219722668010903\n",
      "4 - 3 mean -0.0009681694745051038 sem 0.000744792392878882\n",
      "4 - 2 mean 0.0006903418337252607 sem 0.0008013561601805311\n"
     ]
    },
    {
     "data": {
      "image/png": "[encoded data removed]",
      "text/plain": [
       "<Figure size 576x216 with 1 Axes>"
      ]
     },
     "metadata": {
      "needs_background": "light"
     },
     "output_type": "display_data"
    },
    {
     "name": "stdout",
     "output_type": "stream",
     "text": [
      "[0.5472008383148222, 0.5579932509668697, 0.5596517622751002, 0.558683592800595] [ 1.97229461  0.29722784 -0.17299498]\n"
     ]
    },
    {
     "data": {
      "text/html": [
       "<div>\n",
       "<style scoped>\n",
       "    .dataframe tbody tr th:only-of-type {\n",
       "        vertical-align: middle;\n",
       "    }\n",
       "\n",
       "    .dataframe tbody tr th {\n",
       "        vertical-align: top;\n",
       "    }\n",
       "\n",
       "    .dataframe thead th {\n",
       "        text-align: right;\n",
       "    }\n",
       "</style>\n",
       "<table border=\"1\" class=\"dataframe\">\n",
       "  <thead>\n",
       "    <tr style=\"text-align: right;\">\n",
       "      <th></th>\n",
       "      <th>num_of_cycles</th>\n",
       "      <th>performance</th>\n",
       "      <th>gain %</th>\n",
       "    </tr>\n",
       "  </thead>\n",
       "  <tbody>\n",
       "    <tr>\n",
       "      <th>0</th>\n",
       "      <td>1</td>\n",
       "      <td>0.547201</td>\n",
       "      <td>NaN</td>\n",
       "    </tr>\n",
       "    <tr>\n",
       "      <th>1</th>\n",
       "      <td>2</td>\n",
       "      <td>0.557993</td>\n",
       "      <td>1.972295</td>\n",
       "    </tr>\n",
       "    <tr>\n",
       "      <th>2</th>\n",
       "      <td>3</td>\n",
       "      <td>0.559652</td>\n",
       "      <td>0.297228</td>\n",
       "    </tr>\n",
       "    <tr>\n",
       "      <th>3</th>\n",
       "      <td>4</td>\n",
       "      <td>0.558684</td>\n",
       "      <td>-0.172995</td>\n",
       "    </tr>\n",
       "  </tbody>\n",
       "</table>\n",
       "</div>"
      ],
      "text/plain": [
       "   num_of_cycles  performance    gain %\n",
       "0              1     0.547201       NaN\n",
       "1              2     0.557993  1.972295\n",
       "2              3     0.559652  0.297228\n",
       "3              4     0.558684 -0.172995"
      ]
     },
     "metadata": {},
     "output_type": "display_data"
    },
    {
     "name": "stdout",
     "output_type": "stream",
     "text": [
      "(48, 4)\n",
      "[1, 2, 3, 4]\n",
      "n 48\n",
      "2 - 1 mean 0.0097842758150005 sem 0.0016257646609506148\n",
      "3 - 2 mean 0.0025875030607990248 sem 0.001311050565825802\n",
      "4 - 3 mean -0.002665244752521695 sem 0.000994338813048486\n",
      "4 - 2 mean -7.774169172267027e-05 sem 0.0012454196893882663\n"
     ]
    },
    {
     "data": {
      "image/png": "[encoded data removed]",
      "text/plain": [
       "<Figure size 576x216 with 1 Axes>"
      ]
     },
     "metadata": {
      "needs_background": "light"
     },
     "output_type": "display_data"
    },
    {
     "name": "stdout",
     "output_type": "stream",
     "text": [
      "[0.5517267559799682, 0.5615110317949686, 0.5640985348557678, 0.561433290103246] [ 1.77339158  0.46081073 -0.47247858]\n"
     ]
    },
    {
     "data": {
      "text/html": [
       "<div>\n",
       "<style scoped>\n",
       "    .dataframe tbody tr th:only-of-type {\n",
       "        vertical-align: middle;\n",
       "    }\n",
       "\n",
       "    .dataframe tbody tr th {\n",
       "        vertical-align: top;\n",
       "    }\n",
       "\n",
       "    .dataframe thead th {\n",
       "        text-align: right;\n",
       "    }\n",
       "</style>\n",
       "<table border=\"1\" class=\"dataframe\">\n",
       "  <thead>\n",
       "    <tr style=\"text-align: right;\">\n",
       "      <th></th>\n",
       "      <th>num_of_cycles</th>\n",
       "      <th>performance</th>\n",
       "      <th>gain %</th>\n",
       "    </tr>\n",
       "  </thead>\n",
       "  <tbody>\n",
       "    <tr>\n",
       "      <th>0</th>\n",
       "      <td>1</td>\n",
       "      <td>0.551727</td>\n",
       "      <td>NaN</td>\n",
       "    </tr>\n",
       "    <tr>\n",
       "      <th>1</th>\n",
       "      <td>2</td>\n",
       "      <td>0.561511</td>\n",
       "      <td>1.773392</td>\n",
       "    </tr>\n",
       "    <tr>\n",
       "      <th>2</th>\n",
       "      <td>3</td>\n",
       "      <td>0.564099</td>\n",
       "      <td>0.460811</td>\n",
       "    </tr>\n",
       "    <tr>\n",
       "      <th>3</th>\n",
       "      <td>4</td>\n",
       "      <td>0.561433</td>\n",
       "      <td>-0.472479</td>\n",
       "    </tr>\n",
       "  </tbody>\n",
       "</table>\n",
       "</div>"
      ],
      "text/plain": [
       "   num_of_cycles  performance    gain %\n",
       "0              1     0.551727       NaN\n",
       "1              2     0.561511  1.773392\n",
       "2              3     0.564099  0.460811\n",
       "3              4     0.561433 -0.472479"
      ]
     },
     "metadata": {},
     "output_type": "display_data"
    },
    {
     "name": "stdout",
     "output_type": "stream",
     "text": [
      "(48, 4)\n",
      "[1, 2, 3, 4]\n",
      "n 48\n",
      "2 - 1 mean 0.011800549489094465 sem 0.0014810249311236047\n",
      "3 - 2 mean 0.0007295195556617043 sem 0.0009735197174312786\n",
      "4 - 3 mean 0.0007289058035114872 sem 0.0010536367834113282\n",
      "4 - 2 mean 0.0014584253591731916 sem 0.0009965115318960535\n"
     ]
    },
    {
     "data": {
      "image/png": "[encoded data removed]",
      "text/plain": [
       "<Figure size 576x216 with 1 Axes>"
      ]
     },
     "metadata": {
      "needs_background": "light"
     },
     "output_type": "display_data"
    },
    {
     "name": "stdout",
     "output_type": "stream",
     "text": [
      "[0.5426749206496763, 0.5544754701387707, 0.5552049896944324, 0.5559338954979439] [2.17451536 0.13156931 0.13128589]\n"
     ]
    },
    {
     "data": {
      "text/html": [
       "<div>\n",
       "<style scoped>\n",
       "    .dataframe tbody tr th:only-of-type {\n",
       "        vertical-align: middle;\n",
       "    }\n",
       "\n",
       "    .dataframe tbody tr th {\n",
       "        vertical-align: top;\n",
       "    }\n",
       "\n",
       "    .dataframe thead th {\n",
       "        text-align: right;\n",
       "    }\n",
       "</style>\n",
       "<table border=\"1\" class=\"dataframe\">\n",
       "  <thead>\n",
       "    <tr style=\"text-align: right;\">\n",
       "      <th></th>\n",
       "      <th>num_of_cycles</th>\n",
       "      <th>performance</th>\n",
       "      <th>gain %</th>\n",
       "    </tr>\n",
       "  </thead>\n",
       "  <tbody>\n",
       "    <tr>\n",
       "      <th>0</th>\n",
       "      <td>1</td>\n",
       "      <td>0.542675</td>\n",
       "      <td>NaN</td>\n",
       "    </tr>\n",
       "    <tr>\n",
       "      <th>1</th>\n",
       "      <td>2</td>\n",
       "      <td>0.554475</td>\n",
       "      <td>2.174515</td>\n",
       "    </tr>\n",
       "    <tr>\n",
       "      <th>2</th>\n",
       "      <td>3</td>\n",
       "      <td>0.555205</td>\n",
       "      <td>0.131569</td>\n",
       "    </tr>\n",
       "    <tr>\n",
       "      <th>3</th>\n",
       "      <td>4</td>\n",
       "      <td>0.555934</td>\n",
       "      <td>0.131286</td>\n",
       "    </tr>\n",
       "  </tbody>\n",
       "</table>\n",
       "</div>"
      ],
      "text/plain": [
       "   num_of_cycles  performance    gain %\n",
       "0              1     0.542675       NaN\n",
       "1              2     0.554475  2.174515\n",
       "2              3     0.555205  0.131569\n",
       "3              4     0.555934  0.131286"
      ]
     },
     "metadata": {},
     "output_type": "display_data"
    }
   ],
   "source": [
    "plot_step_increase(corr_mean_cb19.xs('full', level='train_keep'), [(1,2),(2,3),(3,4),(2,4)], (0.54, 0.56))\n",
    "plot_step_increase(corr_mean_cb19.xs('full', level='train_keep').xs(100, level='cb19_px_kept'), [(1,2),(2,3),(3,4),(2,4)], (0.54, 0.56))\n",
    "plot_step_increase(corr_mean_cb19.xs('full', level='train_keep').xs(80, level='cb19_px_kept'), [(1,2),(2,3),(3,4),(2,4)], (0.54, 0.56))"
   ]
  },
  {
   "cell_type": "code",
   "execution_count": 18,
   "metadata": {},
   "outputs": [
    {
     "name": "stdout",
     "output_type": "stream",
     "text": [
      "(96, 4)\n",
      "[1, 2, 3, 4]\n",
      "n 96\n",
      "2 - 1 mean 0.01688876755807643 sem 0.002057310257414483\n",
      "3 - 2 mean 0.004753346176082575 sem 0.0013377988197450206\n",
      "4 - 3 mean 0.0019430408570522747 sem 0.0012086502380151871\n",
      "4 - 2 mean 0.00669638703313485 sem 0.0018018925282820492\n"
     ]
    },
    {
     "data": {
      "image/png": "[encoded data removed]",
      "text/plain": [
       "<Figure size 576x216 with 1 Axes>"
      ]
     },
     "metadata": {
      "needs_background": "light"
     },
     "output_type": "display_data"
    },
    {
     "name": "stdout",
     "output_type": "stream",
     "text": [
      "[0.474138823147396, 0.4910275907054724, 0.49578093688155506, 0.4977239777386073] [3.56198791 0.96804055 0.3919152 ]\n"
     ]
    },
    {
     "data": {
      "text/html": [
       "<div>\n",
       "<style scoped>\n",
       "    .dataframe tbody tr th:only-of-type {\n",
       "        vertical-align: middle;\n",
       "    }\n",
       "\n",
       "    .dataframe tbody tr th {\n",
       "        vertical-align: top;\n",
       "    }\n",
       "\n",
       "    .dataframe thead th {\n",
       "        text-align: right;\n",
       "    }\n",
       "</style>\n",
       "<table border=\"1\" class=\"dataframe\">\n",
       "  <thead>\n",
       "    <tr style=\"text-align: right;\">\n",
       "      <th></th>\n",
       "      <th>num_of_cycles</th>\n",
       "      <th>performance</th>\n",
       "      <th>gain %</th>\n",
       "    </tr>\n",
       "  </thead>\n",
       "  <tbody>\n",
       "    <tr>\n",
       "      <th>0</th>\n",
       "      <td>1</td>\n",
       "      <td>0.474139</td>\n",
       "      <td>NaN</td>\n",
       "    </tr>\n",
       "    <tr>\n",
       "      <th>1</th>\n",
       "      <td>2</td>\n",
       "      <td>0.491028</td>\n",
       "      <td>3.561988</td>\n",
       "    </tr>\n",
       "    <tr>\n",
       "      <th>2</th>\n",
       "      <td>3</td>\n",
       "      <td>0.495781</td>\n",
       "      <td>0.968041</td>\n",
       "    </tr>\n",
       "    <tr>\n",
       "      <th>3</th>\n",
       "      <td>4</td>\n",
       "      <td>0.497724</td>\n",
       "      <td>0.391915</td>\n",
       "    </tr>\n",
       "  </tbody>\n",
       "</table>\n",
       "</div>"
      ],
      "text/plain": [
       "   num_of_cycles  performance    gain %\n",
       "0              1     0.474139       NaN\n",
       "1              2     0.491028  3.561988\n",
       "2              3     0.495781  0.968041\n",
       "3              4     0.497724  0.391915"
      ]
     },
     "metadata": {},
     "output_type": "display_data"
    },
    {
     "name": "stdout",
     "output_type": "stream",
     "text": [
      "(48, 4)\n",
      "[1, 2, 3, 4]\n",
      "n 48\n",
      "2 - 1 mean 0.017046756725591052 sem 0.0025165745268436505\n",
      "3 - 2 mean 0.003965601587510189 sem 0.0017040341541174255\n",
      "4 - 3 mean 0.0025436477721019397 sem 0.001576812866082505\n",
      "4 - 2 mean 0.006509249359612129 sem 0.0019586999695014717\n"
     ]
    },
    {
     "data": {
      "image/png": "[encoded data removed]",
      "text/plain": [
       "<Figure size 576x216 with 1 Axes>"
      ]
     },
     "metadata": {
      "needs_background": "light"
     },
     "output_type": "display_data"
    },
    {
     "name": "stdout",
     "output_type": "stream",
     "text": [
      "[0.47769324375459626, 0.49474000048018724, 0.4987056020676975, 0.5012492498397995] [3.56855722 0.80155265 0.51004997]\n"
     ]
    },
    {
     "data": {
      "text/html": [
       "<div>\n",
       "<style scoped>\n",
       "    .dataframe tbody tr th:only-of-type {\n",
       "        vertical-align: middle;\n",
       "    }\n",
       "\n",
       "    .dataframe tbody tr th {\n",
       "        vertical-align: top;\n",
       "    }\n",
       "\n",
       "    .dataframe thead th {\n",
       "        text-align: right;\n",
       "    }\n",
       "</style>\n",
       "<table border=\"1\" class=\"dataframe\">\n",
       "  <thead>\n",
       "    <tr style=\"text-align: right;\">\n",
       "      <th></th>\n",
       "      <th>num_of_cycles</th>\n",
       "      <th>performance</th>\n",
       "      <th>gain %</th>\n",
       "    </tr>\n",
       "  </thead>\n",
       "  <tbody>\n",
       "    <tr>\n",
       "      <th>0</th>\n",
       "      <td>1</td>\n",
       "      <td>0.477693</td>\n",
       "      <td>NaN</td>\n",
       "    </tr>\n",
       "    <tr>\n",
       "      <th>1</th>\n",
       "      <td>2</td>\n",
       "      <td>0.494740</td>\n",
       "      <td>3.568557</td>\n",
       "    </tr>\n",
       "    <tr>\n",
       "      <th>2</th>\n",
       "      <td>3</td>\n",
       "      <td>0.498706</td>\n",
       "      <td>0.801553</td>\n",
       "    </tr>\n",
       "    <tr>\n",
       "      <th>3</th>\n",
       "      <td>4</td>\n",
       "      <td>0.501249</td>\n",
       "      <td>0.510050</td>\n",
       "    </tr>\n",
       "  </tbody>\n",
       "</table>\n",
       "</div>"
      ],
      "text/plain": [
       "   num_of_cycles  performance    gain %\n",
       "0              1     0.477693       NaN\n",
       "1              2     0.494740  3.568557\n",
       "2              3     0.498706  0.801553\n",
       "3              4     0.501249  0.510050"
      ]
     },
     "metadata": {},
     "output_type": "display_data"
    },
    {
     "name": "stdout",
     "output_type": "stream",
     "text": [
      "(48, 4)\n",
      "[1, 2, 3, 4]\n",
      "n 48\n",
      "2 - 1 mean 0.01673077839056181 sem 0.0032551366496430243\n",
      "3 - 2 mean 0.00554109076465496 sem 0.0020565102559137113\n",
      "4 - 3 mean 0.0013424339420026095 sem 0.0018281062375237176\n",
      "4 - 2 mean 0.00688352470665757 sem 0.003024781310362919\n"
     ]
    },
    {
     "data": {
      "image/png": "[encoded data removed]",
      "text/plain": [
       "<Figure size 576x216 with 1 Axes>"
      ]
     },
     "metadata": {
      "needs_background": "light"
     },
     "output_type": "display_data"
    },
    {
     "name": "stdout",
     "output_type": "stream",
     "text": [
      "[0.4705844025401958, 0.48731518093075765, 0.4928562716954126, 0.49419870563741514] [3.55531936 1.13706508 0.27237838]\n"
     ]
    },
    {
     "data": {
      "text/html": [
       "<div>\n",
       "<style scoped>\n",
       "    .dataframe tbody tr th:only-of-type {\n",
       "        vertical-align: middle;\n",
       "    }\n",
       "\n",
       "    .dataframe tbody tr th {\n",
       "        vertical-align: top;\n",
       "    }\n",
       "\n",
       "    .dataframe thead th {\n",
       "        text-align: right;\n",
       "    }\n",
       "</style>\n",
       "<table border=\"1\" class=\"dataframe\">\n",
       "  <thead>\n",
       "    <tr style=\"text-align: right;\">\n",
       "      <th></th>\n",
       "      <th>num_of_cycles</th>\n",
       "      <th>performance</th>\n",
       "      <th>gain %</th>\n",
       "    </tr>\n",
       "  </thead>\n",
       "  <tbody>\n",
       "    <tr>\n",
       "      <th>0</th>\n",
       "      <td>1</td>\n",
       "      <td>0.470584</td>\n",
       "      <td>NaN</td>\n",
       "    </tr>\n",
       "    <tr>\n",
       "      <th>1</th>\n",
       "      <td>2</td>\n",
       "      <td>0.487315</td>\n",
       "      <td>3.555319</td>\n",
       "    </tr>\n",
       "    <tr>\n",
       "      <th>2</th>\n",
       "      <td>3</td>\n",
       "      <td>0.492856</td>\n",
       "      <td>1.137065</td>\n",
       "    </tr>\n",
       "    <tr>\n",
       "      <th>3</th>\n",
       "      <td>4</td>\n",
       "      <td>0.494199</td>\n",
       "      <td>0.272378</td>\n",
       "    </tr>\n",
       "  </tbody>\n",
       "</table>\n",
       "</div>"
      ],
      "text/plain": [
       "   num_of_cycles  performance    gain %\n",
       "0              1     0.470584       NaN\n",
       "1              2     0.487315  3.555319\n",
       "2              3     0.492856  1.137065\n",
       "3              4     0.494199  0.272378"
      ]
     },
     "metadata": {},
     "output_type": "display_data"
    }
   ],
   "source": [
    "plot_step_increase(corr_mean_cb19.xs('half', level='train_keep'), [(1,2),(2,3),(3,4),(2,4)], (0.47, 0.495))\n",
    "plot_step_increase(corr_mean_cb19.xs('half', level='train_keep').xs(100, level='cb19_px_kept'), [(1,2),(2,3),(3,4),(2,4)], (0.47, 0.495))\n",
    "plot_step_increase(corr_mean_cb19.xs('half', level='train_keep').xs(80, level='cb19_px_kept'), [(1,2),(2,3),(3,4),(2,4)], (0.47, 0.495))"
   ]
  },
  {
   "cell_type": "code",
   "execution_count": 20,
   "metadata": {
    "scrolled": false
   },
   "outputs": [
    {
     "name": "stdout",
     "output_type": "stream",
     "text": [
      "(96, 4)\n",
      "[1, 2, 3, 4]\n",
      "n 96\n",
      "2 - 1 mean 0.0021227990738076226 sem 0.004507594981304108\n",
      "3 - 2 mean 0.010707427872747888 sem 0.002361848505894802\n",
      "4 - 3 mean 0.0067355149065054356 sem 0.002453435840750117\n",
      "4 - 2 mean 0.017442942779253325 sem 0.002935496721959018\n"
     ]
    },
    {
     "data": {
      "image/png": "[encoded data removed]",
      "text/plain": [
       "<Figure size 576x216 with 1 Axes>"
      ]
     },
     "metadata": {
      "needs_background": "light"
     },
     "output_type": "display_data"
    },
    {
     "name": "stdout",
     "output_type": "stream",
     "text": [
      "[0.30298710756673175, 0.30510990664053933, 0.31581733451328725, 0.3225528494197927] [0.70062356 3.50936749 2.13272489]\n"
     ]
    },
    {
     "data": {
      "text/html": [
       "<div>\n",
       "<style scoped>\n",
       "    .dataframe tbody tr th:only-of-type {\n",
       "        vertical-align: middle;\n",
       "    }\n",
       "\n",
       "    .dataframe tbody tr th {\n",
       "        vertical-align: top;\n",
       "    }\n",
       "\n",
       "    .dataframe thead th {\n",
       "        text-align: right;\n",
       "    }\n",
       "</style>\n",
       "<table border=\"1\" class=\"dataframe\">\n",
       "  <thead>\n",
       "    <tr style=\"text-align: right;\">\n",
       "      <th></th>\n",
       "      <th>num_of_cycles</th>\n",
       "      <th>performance</th>\n",
       "      <th>gain %</th>\n",
       "    </tr>\n",
       "  </thead>\n",
       "  <tbody>\n",
       "    <tr>\n",
       "      <th>0</th>\n",
       "      <td>1</td>\n",
       "      <td>0.302987</td>\n",
       "      <td>NaN</td>\n",
       "    </tr>\n",
       "    <tr>\n",
       "      <th>1</th>\n",
       "      <td>2</td>\n",
       "      <td>0.305110</td>\n",
       "      <td>0.700624</td>\n",
       "    </tr>\n",
       "    <tr>\n",
       "      <th>2</th>\n",
       "      <td>3</td>\n",
       "      <td>0.315817</td>\n",
       "      <td>3.509367</td>\n",
       "    </tr>\n",
       "    <tr>\n",
       "      <th>3</th>\n",
       "      <td>4</td>\n",
       "      <td>0.322553</td>\n",
       "      <td>2.132725</td>\n",
       "    </tr>\n",
       "  </tbody>\n",
       "</table>\n",
       "</div>"
      ],
      "text/plain": [
       "   num_of_cycles  performance    gain %\n",
       "0              1     0.302987       NaN\n",
       "1              2     0.305110  0.700624\n",
       "2              3     0.315817  3.509367\n",
       "3              4     0.322553  2.132725"
      ]
     },
     "metadata": {},
     "output_type": "display_data"
    },
    {
     "name": "stdout",
     "output_type": "stream",
     "text": [
      "(48, 4)\n",
      "[1, 2, 3, 4]\n",
      "n 48\n",
      "2 - 1 mean 0.0008892731206620723 sem 0.007158248253645265\n",
      "3 - 2 mean 0.00812138017130301 sem 0.0030711925018624517\n",
      "4 - 3 mean 0.006907383410716429 sem 0.0028236016625681312\n",
      "4 - 2 mean 0.015028763582019438 sem 0.0032142363394340196\n"
     ]
    },
    {
     "data": {
      "image/png": "[encoded data removed]",
      "text/plain": [
       "<Figure size 576x216 with 1 Axes>"
      ]
     },
     "metadata": {
      "needs_background": "light"
     },
     "output_type": "display_data"
    },
    {
     "name": "stdout",
     "output_type": "stream",
     "text": [
      "[0.2965056596969824, 0.29739493281764456, 0.3055163129889475, 0.312423696399664] [0.29991776 2.73084013 2.26088857]\n"
     ]
    },
    {
     "data": {
      "text/html": [
       "<div>\n",
       "<style scoped>\n",
       "    .dataframe tbody tr th:only-of-type {\n",
       "        vertical-align: middle;\n",
       "    }\n",
       "\n",
       "    .dataframe tbody tr th {\n",
       "        vertical-align: top;\n",
       "    }\n",
       "\n",
       "    .dataframe thead th {\n",
       "        text-align: right;\n",
       "    }\n",
       "</style>\n",
       "<table border=\"1\" class=\"dataframe\">\n",
       "  <thead>\n",
       "    <tr style=\"text-align: right;\">\n",
       "      <th></th>\n",
       "      <th>num_of_cycles</th>\n",
       "      <th>performance</th>\n",
       "      <th>gain %</th>\n",
       "    </tr>\n",
       "  </thead>\n",
       "  <tbody>\n",
       "    <tr>\n",
       "      <th>0</th>\n",
       "      <td>1</td>\n",
       "      <td>0.296506</td>\n",
       "      <td>NaN</td>\n",
       "    </tr>\n",
       "    <tr>\n",
       "      <th>1</th>\n",
       "      <td>2</td>\n",
       "      <td>0.297395</td>\n",
       "      <td>0.299918</td>\n",
       "    </tr>\n",
       "    <tr>\n",
       "      <th>2</th>\n",
       "      <td>3</td>\n",
       "      <td>0.305516</td>\n",
       "      <td>2.730840</td>\n",
       "    </tr>\n",
       "    <tr>\n",
       "      <th>3</th>\n",
       "      <td>4</td>\n",
       "      <td>0.312424</td>\n",
       "      <td>2.260889</td>\n",
       "    </tr>\n",
       "  </tbody>\n",
       "</table>\n",
       "</div>"
      ],
      "text/plain": [
       "   num_of_cycles  performance    gain %\n",
       "0              1     0.296506       NaN\n",
       "1              2     0.297395  0.299918\n",
       "2              3     0.305516  2.730840\n",
       "3              4     0.312424  2.260889"
      ]
     },
     "metadata": {},
     "output_type": "display_data"
    },
    {
     "name": "stdout",
     "output_type": "stream",
     "text": [
      "(48, 4)\n",
      "[1, 2, 3, 4]\n",
      "n 48\n",
      "2 - 1 mean 0.003356325026953172 sem 0.0054744618523544925\n",
      "3 - 2 mean 0.013293475574192767 sem 0.0035499913092763625\n",
      "4 - 3 mean 0.0065636464022944445 sem 0.004012908243062289\n",
      "4 - 2 mean 0.019857121976487212 sem 0.004888190315062975\n"
     ]
    },
    {
     "data": {
      "image/png": "[encoded data removed]",
      "text/plain": [
       "<Figure size 576x216 with 1 Axes>"
      ]
     },
     "metadata": {
      "needs_background": "light"
     },
     "output_type": "display_data"
    },
    {
     "name": "stdout",
     "output_type": "stream",
     "text": [
      "[0.30946855543648105, 0.3128248804634342, 0.326118356037627, 0.33268200243992135] [1.08454477 4.24949434 2.01265776]\n"
     ]
    },
    {
     "data": {
      "text/html": [
       "<div>\n",
       "<style scoped>\n",
       "    .dataframe tbody tr th:only-of-type {\n",
       "        vertical-align: middle;\n",
       "    }\n",
       "\n",
       "    .dataframe tbody tr th {\n",
       "        vertical-align: top;\n",
       "    }\n",
       "\n",
       "    .dataframe thead th {\n",
       "        text-align: right;\n",
       "    }\n",
       "</style>\n",
       "<table border=\"1\" class=\"dataframe\">\n",
       "  <thead>\n",
       "    <tr style=\"text-align: right;\">\n",
       "      <th></th>\n",
       "      <th>num_of_cycles</th>\n",
       "      <th>performance</th>\n",
       "      <th>gain %</th>\n",
       "    </tr>\n",
       "  </thead>\n",
       "  <tbody>\n",
       "    <tr>\n",
       "      <th>0</th>\n",
       "      <td>1</td>\n",
       "      <td>0.309469</td>\n",
       "      <td>NaN</td>\n",
       "    </tr>\n",
       "    <tr>\n",
       "      <th>1</th>\n",
       "      <td>2</td>\n",
       "      <td>0.312825</td>\n",
       "      <td>1.084545</td>\n",
       "    </tr>\n",
       "    <tr>\n",
       "      <th>2</th>\n",
       "      <td>3</td>\n",
       "      <td>0.326118</td>\n",
       "      <td>4.249494</td>\n",
       "    </tr>\n",
       "    <tr>\n",
       "      <th>3</th>\n",
       "      <td>4</td>\n",
       "      <td>0.332682</td>\n",
       "      <td>2.012658</td>\n",
       "    </tr>\n",
       "  </tbody>\n",
       "</table>\n",
       "</div>"
      ],
      "text/plain": [
       "   num_of_cycles  performance    gain %\n",
       "0              1     0.309469       NaN\n",
       "1              2     0.312825  1.084545\n",
       "2              3     0.326118  4.249494\n",
       "3              4     0.332682  2.012658"
      ]
     },
     "metadata": {},
     "output_type": "display_data"
    }
   ],
   "source": [
    "plot_step_increase(corr_mean_cb19.xs('quarter', level='train_keep'), [(1,2),(2,3),(3,4),(2,4)], (0.3, 0.35))\n",
    "plot_step_increase(corr_mean_cb19.xs('quarter', level='train_keep').xs(100, level='cb19_px_kept'), [(1,2),(2,3),(3,4),(2,4)], (0.3, 0.35))\n",
    "plot_step_increase(corr_mean_cb19.xs('quarter', level='train_keep').xs(80, level='cb19_px_kept'), [(1,2),(2,3),(3,4),(2,4)], (0.3, 0.35))"
   ]
  }
 ],
 "metadata": {
  "kernelspec": {
   "display_name": "Python 3",
   "language": "python",
   "name": "python3"
  },
  "language_info": {
   "codemirror_mode": {
    "name": "ipython",
    "version": 3
   },
   "file_extension": ".py",
   "mimetype": "text/x-python",
   "name": "python",
   "nbconvert_exporter": "python",
   "pygments_lexer": "ipython3",
   "version": "3.7.6"
  }
 },
 "nbformat": 4,
 "nbformat_minor": 2
}

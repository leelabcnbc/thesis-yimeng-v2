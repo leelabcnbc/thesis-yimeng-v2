{
 "cells": [
  {
   "cell_type": "markdown",
   "metadata": {},
   "source": [
    "overall, using K's architecture instead of local PCN, we can achieve same type qualitative conclusions: more cycles -> better performance."
   ]
  },
  {
   "cell_type": "code",
   "execution_count": 1,
   "metadata": {},
   "outputs": [],
   "source": [
    "from sys import path\n",
    "from os.path import relpath, realpath, abspath, join, exists\n",
    "from itertools import product, chain\n",
    "\n",
    "%matplotlib inline\n",
    "import matplotlib.pyplot as plt\n",
    "import numpy as np\n",
    "import pandas as pd\n",
    "import h5py\n",
    "from IPython.display import display\n",
    "\n",
    "pd.set_option('display.max_rows', 999)"
   ]
  },
  {
   "cell_type": "code",
   "execution_count": 2,
   "metadata": {},
   "outputs": [],
   "source": [
    "from torchnetjson.builder import build_net"
   ]
  },
  {
   "cell_type": "code",
   "execution_count": 3,
   "metadata": {},
   "outputs": [],
   "source": [
    "from thesis_v2 import dir_dict\n",
    "from thesis_v2.data import load_data_helper\n",
    "from thesis_v2.training.training_aux import load_training_results\n",
    "# I forgot how this count_params handles BN buffer parameters (running mean and std) looks like it's ignored.\n",
    "from thesis_v2.training_extra.misc import count_params\n",
    "from thesis_v2.models.maskcnn_polished_with_rcnn_k_bl.builder import load_modules\n",
    "\n",
    "load_modules()"
   ]
  },
  {
   "cell_type": "code",
   "execution_count": 4,
   "metadata": {},
   "outputs": [],
   "source": [
    "from thesis_v2.configs.model.maskcnn_polished_with_rcnn_k_bl import (\n",
    "    explored_models_20200515 as param_iterator_obj,\n",
    "    keygen,\n",
    "    encode_transfer_learning_cb19_params\n",
    ")"
   ]
  },
  {
   "cell_type": "code",
   "execution_count": 5,
   "metadata": {},
   "outputs": [],
   "source": [
    "# compute ccmax\n",
    "from strflab.stats import cc_max\n",
    "\n",
    "def get_cc_max_8k():\n",
    "    from thesis_v2.data.prepared.yuanyuan_8k import get_neural_data_per_trial\n",
    "\n",
    "    cc_max_all_neurons = cc_max(get_neural_data_per_trial(\n",
    "        ('042318', '043018','051018',))\n",
    "                               )\n",
    "    assert cc_max_all_neurons.shape == (79,)\n",
    "    \n",
    "    return cc_max_all_neurons\n",
    "\n",
    "def get_cc_max_cb19():\n",
    "    from thesis_v2.data.prepared.cadena_plos_cb19 import get_neural_data_per_trial\n",
    "\n",
    "    cc_max_all_neurons = cc_max(get_neural_data_per_trial(fill_value='zero'))\n",
    "    assert cc_max_all_neurons.shape == (115,)\n",
    "    \n",
    "    return cc_max_all_neurons"
   ]
  },
  {
   "cell_type": "code",
   "execution_count": 6,
   "metadata": {},
   "outputs": [],
   "source": [
    "def load_everything():\n",
    "    \n",
    "    cc_max_all_8k = get_cc_max_8k()\n",
    "    cc_max_all_cb19 = get_cc_max_cb19()\n",
    "    \n",
    "    _df_collect = []\n",
    "    for idx, param in enumerate(\n",
    "        chain(\n",
    "            param_iterator_obj().generate(),\n",
    "        )\n",
    "    ):\n",
    "        if idx % 100 == 0:\n",
    "            print(idx)\n",
    "            \n",
    "#         if idx >= 100:\n",
    "#             break\n",
    "            \n",
    "#         print(len(param))\n",
    "#         print(len(param))\n",
    "\n",
    "        if param['kernel_size_l23'] != 3:\n",
    "            continue\n",
    "\n",
    "#         if len(param) == 22:\n",
    "#             param['train_keep'] = None\n",
    "        assert len(param) == 26\n",
    "        \n",
    "        assert param['kernel_size_l1'] == 9\n",
    "        assert param['ff_1st_block']\n",
    "        \n",
    "        \n",
    "        \n",
    "        assert param['split_seed'] == 'legacy'\n",
    "        assert param['pooling_ksize'] == 3\n",
    "        assert param['pooling_type'] == 'avg'\n",
    "        assert not param['bn_after_fc']\n",
    "        assert param['rcnn_bl_psize'] == 1\n",
    "        assert param['rcnn_bl_ptype'] is None\n",
    "        assert param['input_size'] == 50\n",
    "        \n",
    "        # 12 to go\n",
    "        # remove smoothness_name and scale_name, 10 to go\n",
    "        \n",
    "#         assert param['model_seed'] == 0\n",
    "        \n",
    "        \n",
    "        params_encoded = encode_transfer_learning_cb19_params(param)\n",
    "        key = keygen(**{k: v for k, v in params_encoded.items() if k not in {'scale', 'smoothness'}})\n",
    "        # 10 to go.\n",
    "        result = load_training_results(key, return_model=False)\n",
    "        # load twice, first time to get the model.\n",
    "        result = load_training_results(key, return_model=True, model=build_net(result['config_extra']['model']))\n",
    "        num_epochs = [len(x) for x in result['stats_all']]\n",
    "        \n",
    "        cc_raw = np.asarray(result['stats_best']['stats']['test']['corr'])\n",
    "        assert cc_raw.shape == (79 + 115,)\n",
    "        cc_raw_8k = cc_raw[:79]\n",
    "        cc_raw_cb19 = cc_raw[79:]\n",
    "        \n",
    "#         if param['train_keep'] is None:\n",
    "#             param['train_keep'] = 5120\n",
    "        \n",
    "        _df_collect.append(\n",
    "            {\n",
    "                'train_keep': param['train_keep'],\n",
    "                'act_fn': param['act_fn'],\n",
    "                'loss_type': param['loss_type'],\n",
    "                'scale': float(param['scale']),\n",
    "                'smoothness': float(param['smoothness']),\n",
    "                'num_layer': param['num_layer'],\n",
    "                'out_channel': param['out_channel'],\n",
    "                # 4 to go.\n",
    "                '1st_bn_before_act': param['ff_1st_bn_before_act'],\n",
    "                'rcnn_bl_cls': param['rcnn_bl_cls'],\n",
    "                'rcnn_acc_type': param['rcnn_acc_type'],\n",
    "\n",
    "                'model_seed': param['model_seed'],\n",
    "                'cb19_px_kept': param['cb19_px_kept'],\n",
    "                # done,\n",
    "                'corr_test_8k': ((cc_raw_8k/cc_max_all_8k)**2).mean(),\n",
    "                'corr_test_cb19': ((cc_raw_cb19/cc_max_all_cb19)**2).mean(),\n",
    "                'max_epoch': max(num_epochs),\n",
    "                'num_param': count_params(result['model']),\n",
    "            }\n",
    "        )\n",
    "    _df =  pd.DataFrame(_df_collect, columns=[\n",
    "#             'split_seed',\n",
    "        'train_keep',\n",
    "        'act_fn',\n",
    "        'loss_type', 'scale', 'smoothness', 'num_layer',\n",
    "        'out_channel', '1st_bn_before_act',\n",
    "\n",
    "        'rcnn_bl_cls',\n",
    "#         'rcnn_acc_type',\n",
    "        'model_seed',\n",
    "        'cb19_px_kept',\n",
    "\n",
    "        'corr_test_8k',\n",
    "        'corr_test_cb19',\n",
    "        'num_param',\n",
    "        'max_epoch',\n",
    "    ])\n",
    "#     print(_df)\n",
    "    _df = _df.set_index([\n",
    "        'train_keep',\n",
    "        'act_fn',\n",
    "        'loss_type', 'scale', 'smoothness', 'num_layer',\n",
    "        'out_channel', '1st_bn_before_act',\n",
    "        'rcnn_bl_cls',\n",
    "#         'rcnn_acc_type',\n",
    "        'model_seed',\n",
    "        'cb19_px_kept',\n",
    "    ], verify_integrity=True)\n",
    "    return _df"
   ]
  },
  {
   "cell_type": "code",
   "execution_count": 7,
   "metadata": {
    "scrolled": false
   },
   "outputs": [
    {
     "name": "stdout",
     "output_type": "stream",
     "text": [
      "0\n",
      "100\n",
      "200\n",
      "300\n",
      "400\n",
      "500\n",
      "600\n",
      "700\n",
      "800\n",
      "900\n",
      "1000\n",
      "1100\n",
      "1200\n",
      "1300\n",
      "1400\n",
      "1500\n",
      "1600\n",
      "1700\n",
      "1800\n",
      "1900\n",
      "2000\n",
      "2100\n",
      "2200\n",
      "2300\n"
     ]
    }
   ],
   "source": [
    "df = load_everything()"
   ]
  },
  {
   "cell_type": "code",
   "execution_count": 8,
   "metadata": {},
   "outputs": [],
   "source": [
    "corr_mean_8k = df['corr_test_8k'].unstack('model_seed').mean(axis=1)\n",
    "corr_mean_cb19 = df['corr_test_cb19'].unstack('model_seed').mean(axis=1)\n",
    "\n",
    "# mean, max, min, all the same. for num_param\n",
    "num_param = df['num_param'].unstack('model_seed').mean(axis=1)"
   ]
  },
  {
   "cell_type": "code",
   "execution_count": 9,
   "metadata": {},
   "outputs": [],
   "source": [
    "# let's try to quickly eliminate bad configs, just like before, by plotting scatter plots.\n",
    "def scatter(x, y, xlabel, ylabel, title):\n",
    "    plt.close('all')\n",
    "    plt.figure(figsize=(6, 5))\n",
    "    plt.scatter(x, y, s=1)\n",
    "    plt.xlabel(xlabel)\n",
    "    plt.ylabel(ylabel)\n",
    "    plt.axis('equal')\n",
    "    plt.xlim(0,1)\n",
    "    plt.ylim(0,1)\n",
    "    plt.plot([0,1],[0,1],linestyle='--')\n",
    "    plt.title(title)\n",
    "    plt.show()\n",
    "    print('y-x mean', (y-x).mean(), 'y-x>0 mean', ((y-x)>0).mean())\n",
    "    print('y top', y.max(), 'x top', x.max())"
   ]
  },
  {
   "cell_type": "code",
   "execution_count": 10,
   "metadata": {},
   "outputs": [],
   "source": [
    "# here, I need to check the effective ness of act_fn, bn_before_act, bn_after_fc, loss_type\n",
    "def check_compare_one_case(series_in, label_to_unstack, values_to_check=None):\n",
    "    df_unstacked = series_in.unstack(label_to_unstack)\n",
    "#     assert df_unstacked.shape[1] == 2\n",
    "    if values_to_check is None:\n",
    "        values_to_check = df_unstacked.columns.values[:2].tolist()\n",
    "    else:\n",
    "        pass\n",
    "    \n",
    "    assert len(values_to_check) == 2\n",
    "    label_x = values_to_check[0]\n",
    "    label_y = values_to_check[1]\n",
    "        \n",
    "    data_x = df_unstacked.loc[:,label_x].values\n",
    "    data_y = df_unstacked.loc[:,label_y].values\n",
    "    \n",
    "    \n",
    "    \n",
    "    scatter(data_x, data_y, str(label_x), str(label_y), f'{label_to_unstack}: {label_y} vs {label_x}')"
   ]
  },
  {
   "cell_type": "code",
   "execution_count": 11,
   "metadata": {},
   "outputs": [
    {
     "name": "stdout",
     "output_type": "stream",
     "text": [
      "(96, 4)\n",
      "[1, 2, 3, 4]\n",
      "n 96\n",
      "2 - 1 mean 0.012607635508101461 sem 0.0013206857648434657\n",
      "3 - 2 mean 0.0016547975042063544 sem 0.0009702739478616754\n",
      "4 - 3 mean -0.001266330667226364 sem 0.0009259932977107658\n",
      "4 - 2 mean 0.00038846683697999043 sem 0.0009874492010626538\n"
     ]
    },
    {
     "data": {
      "image/png": "[encoded data removed]",
      "text/plain": [
       "<Figure size 576x216 with 1 Axes>"
      ]
     },
     "metadata": {
      "needs_background": "light"
     },
     "output_type": "display_data"
    },
    {
     "name": "stdout",
     "output_type": "stream",
     "text": [
      "[0.7034711516952687, 0.7160787872033704, 0.7177335847075765, 0.7164672540403503] [ 1.79220363  0.23109154 -0.17643464]\n"
     ]
    },
    {
     "data": {
      "text/html": [
       "<div>\n",
       "<style scoped>\n",
       "    .dataframe tbody tr th:only-of-type {\n",
       "        vertical-align: middle;\n",
       "    }\n",
       "\n",
       "    .dataframe tbody tr th {\n",
       "        vertical-align: top;\n",
       "    }\n",
       "\n",
       "    .dataframe thead th {\n",
       "        text-align: right;\n",
       "    }\n",
       "</style>\n",
       "<table border=\"1\" class=\"dataframe\">\n",
       "  <thead>\n",
       "    <tr style=\"text-align: right;\">\n",
       "      <th></th>\n",
       "      <th>num_of_cycles</th>\n",
       "      <th>performance</th>\n",
       "      <th>gain %</th>\n",
       "    </tr>\n",
       "  </thead>\n",
       "  <tbody>\n",
       "    <tr>\n",
       "      <th>0</th>\n",
       "      <td>1</td>\n",
       "      <td>0.703471</td>\n",
       "      <td>NaN</td>\n",
       "    </tr>\n",
       "    <tr>\n",
       "      <th>1</th>\n",
       "      <td>2</td>\n",
       "      <td>0.716079</td>\n",
       "      <td>1.792204</td>\n",
       "    </tr>\n",
       "    <tr>\n",
       "      <th>2</th>\n",
       "      <td>3</td>\n",
       "      <td>0.717734</td>\n",
       "      <td>0.231092</td>\n",
       "    </tr>\n",
       "    <tr>\n",
       "      <th>3</th>\n",
       "      <td>4</td>\n",
       "      <td>0.716467</td>\n",
       "      <td>-0.176435</td>\n",
       "    </tr>\n",
       "  </tbody>\n",
       "</table>\n",
       "</div>"
      ],
      "text/plain": [
       "   num_of_cycles  performance    gain %\n",
       "0              1     0.703471       NaN\n",
       "1              2     0.716079  1.792204\n",
       "2              3     0.717734  0.231092\n",
       "3              4     0.716467 -0.176435"
      ]
     },
     "metadata": {},
     "output_type": "display_data"
    },
    {
     "name": "stdout",
     "output_type": "stream",
     "text": [
      "(48, 4)\n",
      "[1, 2, 3, 4]\n",
      "n 48\n",
      "2 - 1 mean 0.01141418217566615 sem 0.002001285033573137\n",
      "3 - 2 mean 0.002807236221986057 sem 0.001577594019512398\n",
      "4 - 3 mean -0.00321748829193357 sem 0.0012571893487194695\n",
      "4 - 2 mean -0.0004102520699475129 sem 0.0015205806706098779\n"
     ]
    },
    {
     "data": {
      "image/png": "[encoded data removed]",
      "text/plain": [
       "<Figure size 576x216 with 1 Axes>"
      ]
     },
     "metadata": {
      "needs_background": "light"
     },
     "output_type": "display_data"
    },
    {
     "name": "stdout",
     "output_type": "stream",
     "text": [
      "[0.7109495645523918, 0.722363746728058, 0.725170982950044, 0.7219534946581104] [ 1.60548409  0.38861809 -0.44368685]\n"
     ]
    },
    {
     "data": {
      "text/html": [
       "<div>\n",
       "<style scoped>\n",
       "    .dataframe tbody tr th:only-of-type {\n",
       "        vertical-align: middle;\n",
       "    }\n",
       "\n",
       "    .dataframe tbody tr th {\n",
       "        vertical-align: top;\n",
       "    }\n",
       "\n",
       "    .dataframe thead th {\n",
       "        text-align: right;\n",
       "    }\n",
       "</style>\n",
       "<table border=\"1\" class=\"dataframe\">\n",
       "  <thead>\n",
       "    <tr style=\"text-align: right;\">\n",
       "      <th></th>\n",
       "      <th>num_of_cycles</th>\n",
       "      <th>performance</th>\n",
       "      <th>gain %</th>\n",
       "    </tr>\n",
       "  </thead>\n",
       "  <tbody>\n",
       "    <tr>\n",
       "      <th>0</th>\n",
       "      <td>1</td>\n",
       "      <td>0.710950</td>\n",
       "      <td>NaN</td>\n",
       "    </tr>\n",
       "    <tr>\n",
       "      <th>1</th>\n",
       "      <td>2</td>\n",
       "      <td>0.722364</td>\n",
       "      <td>1.605484</td>\n",
       "    </tr>\n",
       "    <tr>\n",
       "      <th>2</th>\n",
       "      <td>3</td>\n",
       "      <td>0.725171</td>\n",
       "      <td>0.388618</td>\n",
       "    </tr>\n",
       "    <tr>\n",
       "      <th>3</th>\n",
       "      <td>4</td>\n",
       "      <td>0.721953</td>\n",
       "      <td>-0.443687</td>\n",
       "    </tr>\n",
       "  </tbody>\n",
       "</table>\n",
       "</div>"
      ],
      "text/plain": [
       "   num_of_cycles  performance    gain %\n",
       "0              1     0.710950       NaN\n",
       "1              2     0.722364  1.605484\n",
       "2              3     0.725171  0.388618\n",
       "3              4     0.721953 -0.443687"
      ]
     },
     "metadata": {},
     "output_type": "display_data"
    },
    {
     "name": "stdout",
     "output_type": "stream",
     "text": [
      "(48, 4)\n",
      "[1, 2, 3, 4]\n",
      "n 48\n",
      "2 - 1 mean 0.01380108884053677 sem 0.0017065622324449938\n",
      "3 - 2 mean 0.000502358786426652 sem 0.001105253419025912\n",
      "4 - 3 mean 0.0006848269574808418 sem 0.0013002705953897213\n",
      "4 - 2 mean 0.0011871857439074939 sem 0.0012495906505890489\n"
     ]
    },
    {
     "data": {
      "image/png": "[encoded data removed]",
      "text/plain": [
       "<Figure size 576x216 with 1 Axes>"
      ]
     },
     "metadata": {
      "needs_background": "light"
     },
     "output_type": "display_data"
    },
    {
     "name": "stdout",
     "output_type": "stream",
     "text": [
      "[0.6959927388381457, 0.7097938276786824, 0.7102961864651091, 0.7109810134225899] [1.98293575 0.07077531 0.09641428]\n"
     ]
    },
    {
     "data": {
      "text/html": [
       "<div>\n",
       "<style scoped>\n",
       "    .dataframe tbody tr th:only-of-type {\n",
       "        vertical-align: middle;\n",
       "    }\n",
       "\n",
       "    .dataframe tbody tr th {\n",
       "        vertical-align: top;\n",
       "    }\n",
       "\n",
       "    .dataframe thead th {\n",
       "        text-align: right;\n",
       "    }\n",
       "</style>\n",
       "<table border=\"1\" class=\"dataframe\">\n",
       "  <thead>\n",
       "    <tr style=\"text-align: right;\">\n",
       "      <th></th>\n",
       "      <th>num_of_cycles</th>\n",
       "      <th>performance</th>\n",
       "      <th>gain %</th>\n",
       "    </tr>\n",
       "  </thead>\n",
       "  <tbody>\n",
       "    <tr>\n",
       "      <th>0</th>\n",
       "      <td>1</td>\n",
       "      <td>0.695993</td>\n",
       "      <td>NaN</td>\n",
       "    </tr>\n",
       "    <tr>\n",
       "      <th>1</th>\n",
       "      <td>2</td>\n",
       "      <td>0.709794</td>\n",
       "      <td>1.982936</td>\n",
       "    </tr>\n",
       "    <tr>\n",
       "      <th>2</th>\n",
       "      <td>3</td>\n",
       "      <td>0.710296</td>\n",
       "      <td>0.070775</td>\n",
       "    </tr>\n",
       "    <tr>\n",
       "      <th>3</th>\n",
       "      <td>4</td>\n",
       "      <td>0.710981</td>\n",
       "      <td>0.096414</td>\n",
       "    </tr>\n",
       "  </tbody>\n",
       "</table>\n",
       "</div>"
      ],
      "text/plain": [
       "   num_of_cycles  performance    gain %\n",
       "0              1     0.695993       NaN\n",
       "1              2     0.709794  1.982936\n",
       "2              3     0.710296  0.070775\n",
       "3              4     0.710981  0.096414"
      ]
     },
     "metadata": {},
     "output_type": "display_data"
    }
   ],
   "source": [
    "def plot_step_increase(df_this, pairs_to_check, ylim):\n",
    "    # remove those no innner act ones.\n",
    "    df_unstacked = df_this.unstack('rcnn_bl_cls')\n",
    "#     df_unstacked = corr_mean.unstack('pcn_cls')\n",
    "    print(df_unstacked.shape)\n",
    "    \n",
    "#     selector = df_unstacked.values[:,0] >= 0.50\n",
    "    selector = ()\n",
    "#     print(selector.mean())\n",
    "    \n",
    "    cls_values = df_unstacked.columns.values.tolist()\n",
    "    print(cls_values)\n",
    "    assert cls_values == list(range(1,len(cls_values)+1))\n",
    "    \n",
    "    n = df_unstacked.shape[0]\n",
    "    \n",
    "#     n = selector.sum()\n",
    "    print('n', n)\n",
    "    \n",
    "    \n",
    "    for p1, p2 in pairs_to_check:\n",
    "        val0 = df_unstacked.values[:,p1-1][selector]\n",
    "        val1 = df_unstacked.values[:,p2-1][selector]\n",
    "\n",
    "        # selection\n",
    "        print(\n",
    "            f'{p2} - {p1}',\n",
    "            'mean', (val1-val0).mean(),\n",
    "            'sem', (val1-val0).std()/np.sqrt(n)\n",
    "        )\n",
    "        \n",
    "    # time to plot.\n",
    "    # show results for cls_values[0] through cls_values[-1]\n",
    "    # for the first one, just show mean,\n",
    "    # for others show mean and s.e.m. of increase.\n",
    "    \n",
    "    mean_performance = []\n",
    "    sem_increase = []\n",
    "    labels = []\n",
    "    \n",
    "    for idx, cls_name in enumerate(cls_values):\n",
    "        assert idx == cls_name - 1\n",
    "        mean_performance.append(df_unstacked.values[:,idx][selector].mean())\n",
    "        if idx == 0:\n",
    "            sem_increase.append(0.0)\n",
    "        else:\n",
    "            sem_increase.append((df_unstacked.values[:,idx][selector]-df_unstacked.values[:,idx-1][selector]).std()/np.sqrt(n))\n",
    "        labels.append(str(cls_name))\n",
    "        \n",
    "    \n",
    "    plt.close('all')\n",
    "    fig = plt.figure(figsize=(8,3))\n",
    "    plt.bar(np.arange(len(cls_values)), mean_performance, 0.5, yerr=sem_increase)\n",
    "#     plt.ylabel('neural prediction performance')\n",
    "    plt.ylim(*ylim)\n",
    "    plt.xlabel('number of iterations in the BL block')\n",
    "    plt.xticks(np.arange(len(cls_values)), labels)\n",
    "    \n",
    "    \n",
    "    plt.text(0.1, 0.8, f'{n} variants', verticalalignment='center', horizontalalignment='left', transform=plt.gca().transAxes)\n",
    "    fig.subplots_adjust(bottom=0.2)\n",
    "\n",
    "    plt.show()\n",
    "    \n",
    "    print(mean_performance, np.diff(mean_performance)/mean_performance[:-1]*100)\n",
    "    \n",
    "    display(pd.DataFrame(\n",
    "        data = {\n",
    "            'num_of_cycles': cls_values,\n",
    "            'performance': mean_performance,\n",
    "            'gain %': np.concatenate([np.asarray([np.nan]),  np.diff(mean_performance)/mean_performance[:-1]*100])\n",
    "        },\n",
    "        columns = ['num_of_cycles', 'performance', 'gain %']\n",
    "    ))\n",
    "    \n",
    "    \n",
    "    \n",
    "# trend for 0-1-2 is good. then bad.\n",
    "plot_step_increase(corr_mean_8k.xs('full', level='train_keep'), [(1,2),(2,3),(3,4),(2,4)], (0.595, 0.64))\n",
    "plot_step_increase(corr_mean_8k.xs('full', level='train_keep').xs(100, level='cb19_px_kept'), [(1,2),(2,3),(3,4),(2,4)], (0.595, 0.64))\n",
    "plot_step_increase(corr_mean_8k.xs('full', level='train_keep').xs(80, level='cb19_px_kept'), [(1,2),(2,3),(3,4),(2,4)], (0.595, 0.64))"
   ]
  },
  {
   "cell_type": "code",
   "execution_count": 12,
   "metadata": {},
   "outputs": [
    {
     "name": "stdout",
     "output_type": "stream",
     "text": [
      "(96, 4)\n",
      "[1, 2, 3, 4]\n",
      "n 96\n",
      "2 - 1 mean 0.021696636300327365 sem 0.0029535548413114217\n",
      "3 - 2 mean 0.005925670126987169 sem 0.0017291405166484685\n",
      "4 - 3 mean 0.0019587590260761374 sem 0.0016407012551313694\n",
      "4 - 2 mean 0.007884429153063305 sem 0.002287753553537248\n"
     ]
    },
    {
     "data": {
      "image/png": "[encoded data removed]",
      "text/plain": [
       "<Figure size 576x216 with 1 Axes>"
      ]
     },
     "metadata": {
      "needs_background": "light"
     },
     "output_type": "display_data"
    },
    {
     "name": "stdout",
     "output_type": "stream",
     "text": [
      "[0.6215937573762588, 0.643290393676586, 0.6492160638035732, 0.6511748228296493] [3.49048491 0.9211501  0.30171142]\n"
     ]
    },
    {
     "data": {
      "text/html": [
       "<div>\n",
       "<style scoped>\n",
       "    .dataframe tbody tr th:only-of-type {\n",
       "        vertical-align: middle;\n",
       "    }\n",
       "\n",
       "    .dataframe tbody tr th {\n",
       "        vertical-align: top;\n",
       "    }\n",
       "\n",
       "    .dataframe thead th {\n",
       "        text-align: right;\n",
       "    }\n",
       "</style>\n",
       "<table border=\"1\" class=\"dataframe\">\n",
       "  <thead>\n",
       "    <tr style=\"text-align: right;\">\n",
       "      <th></th>\n",
       "      <th>num_of_cycles</th>\n",
       "      <th>performance</th>\n",
       "      <th>gain %</th>\n",
       "    </tr>\n",
       "  </thead>\n",
       "  <tbody>\n",
       "    <tr>\n",
       "      <th>0</th>\n",
       "      <td>1</td>\n",
       "      <td>0.621594</td>\n",
       "      <td>NaN</td>\n",
       "    </tr>\n",
       "    <tr>\n",
       "      <th>1</th>\n",
       "      <td>2</td>\n",
       "      <td>0.643290</td>\n",
       "      <td>3.490485</td>\n",
       "    </tr>\n",
       "    <tr>\n",
       "      <th>2</th>\n",
       "      <td>3</td>\n",
       "      <td>0.649216</td>\n",
       "      <td>0.921150</td>\n",
       "    </tr>\n",
       "    <tr>\n",
       "      <th>3</th>\n",
       "      <td>4</td>\n",
       "      <td>0.651175</td>\n",
       "      <td>0.301711</td>\n",
       "    </tr>\n",
       "  </tbody>\n",
       "</table>\n",
       "</div>"
      ],
      "text/plain": [
       "   num_of_cycles  performance    gain %\n",
       "0              1     0.621594       NaN\n",
       "1              2     0.643290  3.490485\n",
       "2              3     0.649216  0.921150\n",
       "3              4     0.651175  0.301711"
      ]
     },
     "metadata": {},
     "output_type": "display_data"
    },
    {
     "name": "stdout",
     "output_type": "stream",
     "text": [
      "(48, 4)\n",
      "[1, 2, 3, 4]\n",
      "n 48\n",
      "2 - 1 mean 0.022719475290936708 sem 0.0035934247960254487\n",
      "3 - 2 mean 0.005065654286227453 sem 0.0022842420806429074\n",
      "4 - 3 mean 0.0027223443399760072 sem 0.0022381781523724063\n",
      "4 - 2 mean 0.007787998626203461 sem 0.0025480641156480806\n"
     ]
    },
    {
     "data": {
      "image/png": "[encoded data removed]",
      "text/plain": [
       "<Figure size 576x216 with 1 Axes>"
      ]
     },
     "metadata": {
      "needs_background": "light"
     },
     "output_type": "display_data"
    },
    {
     "name": "stdout",
     "output_type": "stream",
     "text": [
      "[0.6285569241954991, 0.6512763994864359, 0.6563420537726633, 0.6590643981126393] [3.61454538 0.77780406 0.41477524]\n"
     ]
    },
    {
     "data": {
      "text/html": [
       "<div>\n",
       "<style scoped>\n",
       "    .dataframe tbody tr th:only-of-type {\n",
       "        vertical-align: middle;\n",
       "    }\n",
       "\n",
       "    .dataframe tbody tr th {\n",
       "        vertical-align: top;\n",
       "    }\n",
       "\n",
       "    .dataframe thead th {\n",
       "        text-align: right;\n",
       "    }\n",
       "</style>\n",
       "<table border=\"1\" class=\"dataframe\">\n",
       "  <thead>\n",
       "    <tr style=\"text-align: right;\">\n",
       "      <th></th>\n",
       "      <th>num_of_cycles</th>\n",
       "      <th>performance</th>\n",
       "      <th>gain %</th>\n",
       "    </tr>\n",
       "  </thead>\n",
       "  <tbody>\n",
       "    <tr>\n",
       "      <th>0</th>\n",
       "      <td>1</td>\n",
       "      <td>0.628557</td>\n",
       "      <td>NaN</td>\n",
       "    </tr>\n",
       "    <tr>\n",
       "      <th>1</th>\n",
       "      <td>2</td>\n",
       "      <td>0.651276</td>\n",
       "      <td>3.614545</td>\n",
       "    </tr>\n",
       "    <tr>\n",
       "      <th>2</th>\n",
       "      <td>3</td>\n",
       "      <td>0.656342</td>\n",
       "      <td>0.777804</td>\n",
       "    </tr>\n",
       "    <tr>\n",
       "      <th>3</th>\n",
       "      <td>4</td>\n",
       "      <td>0.659064</td>\n",
       "      <td>0.414775</td>\n",
       "    </tr>\n",
       "  </tbody>\n",
       "</table>\n",
       "</div>"
      ],
      "text/plain": [
       "   num_of_cycles  performance    gain %\n",
       "0              1     0.628557       NaN\n",
       "1              2     0.651276  3.614545\n",
       "2              3     0.656342  0.777804\n",
       "3              4     0.659064  0.414775"
      ]
     },
     "metadata": {},
     "output_type": "display_data"
    },
    {
     "name": "stdout",
     "output_type": "stream",
     "text": [
      "(48, 4)\n",
      "[1, 2, 3, 4]\n",
      "n 48\n",
      "2 - 1 mean 0.020673797309718026 sem 0.004683764659738615\n",
      "3 - 2 mean 0.006785685967746885 sem 0.002590584493960759\n",
      "4 - 3 mean 0.0011951737121762677 sem 0.0023945493773257836\n",
      "4 - 2 mean 0.007980859679923152 sem 0.003800295659221511\n"
     ]
    },
    {
     "data": {
      "image/png": "[encoded data removed]",
      "text/plain": [
       "<Figure size 576x216 with 1 Axes>"
      ]
     },
     "metadata": {
      "needs_background": "light"
     },
     "output_type": "display_data"
    },
    {
     "name": "stdout",
     "output_type": "stream",
     "text": [
      "[0.6146305905570183, 0.6353043878667364, 0.6420900738344831, 0.6432852475466595] [3.36361347 1.06809997 0.18613801]\n"
     ]
    },
    {
     "data": {
      "text/html": [
       "<div>\n",
       "<style scoped>\n",
       "    .dataframe tbody tr th:only-of-type {\n",
       "        vertical-align: middle;\n",
       "    }\n",
       "\n",
       "    .dataframe tbody tr th {\n",
       "        vertical-align: top;\n",
       "    }\n",
       "\n",
       "    .dataframe thead th {\n",
       "        text-align: right;\n",
       "    }\n",
       "</style>\n",
       "<table border=\"1\" class=\"dataframe\">\n",
       "  <thead>\n",
       "    <tr style=\"text-align: right;\">\n",
       "      <th></th>\n",
       "      <th>num_of_cycles</th>\n",
       "      <th>performance</th>\n",
       "      <th>gain %</th>\n",
       "    </tr>\n",
       "  </thead>\n",
       "  <tbody>\n",
       "    <tr>\n",
       "      <th>0</th>\n",
       "      <td>1</td>\n",
       "      <td>0.614631</td>\n",
       "      <td>NaN</td>\n",
       "    </tr>\n",
       "    <tr>\n",
       "      <th>1</th>\n",
       "      <td>2</td>\n",
       "      <td>0.635304</td>\n",
       "      <td>3.363613</td>\n",
       "    </tr>\n",
       "    <tr>\n",
       "      <th>2</th>\n",
       "      <td>3</td>\n",
       "      <td>0.642090</td>\n",
       "      <td>1.068100</td>\n",
       "    </tr>\n",
       "    <tr>\n",
       "      <th>3</th>\n",
       "      <td>4</td>\n",
       "      <td>0.643285</td>\n",
       "      <td>0.186138</td>\n",
       "    </tr>\n",
       "  </tbody>\n",
       "</table>\n",
       "</div>"
      ],
      "text/plain": [
       "   num_of_cycles  performance    gain %\n",
       "0              1     0.614631       NaN\n",
       "1              2     0.635304  3.363613\n",
       "2              3     0.642090  1.068100\n",
       "3              4     0.643285  0.186138"
      ]
     },
     "metadata": {},
     "output_type": "display_data"
    }
   ],
   "source": [
    "plot_step_increase(corr_mean_8k.xs('half', level='train_keep'), [(1,2),(2,3),(3,4),(2,4)], (0.54, 0.60))\n",
    "plot_step_increase(corr_mean_8k.xs('half', level='train_keep').xs(100, level='cb19_px_kept'), [(1,2),(2,3),(3,4),(2,4)], (0.54, 0.60))\n",
    "plot_step_increase(corr_mean_8k.xs('half', level='train_keep').xs(80, level='cb19_px_kept'), [(1,2),(2,3),(3,4),(2,4)], (0.54, 0.60))\n",
    "\n"
   ]
  },
  {
   "cell_type": "code",
   "execution_count": 13,
   "metadata": {
    "scrolled": false
   },
   "outputs": [
    {
     "name": "stdout",
     "output_type": "stream",
     "text": [
      "(96, 4)\n",
      "[1, 2, 3, 4]\n",
      "n 96\n",
      "2 - 1 mean 0.002735319296652433 sem 0.0066084774707918\n",
      "3 - 2 mean 0.0151942422778537 sem 0.0037004697626531573\n",
      "4 - 3 mean 0.009234303070473836 sem 0.0037876646199374846\n",
      "4 - 2 mean 0.024428545348327533 sem 0.004392692115727919\n"
     ]
    },
    {
     "data": {
      "image/png": "[encoded data removed]",
      "text/plain": [
       "<Figure size 576x216 with 1 Axes>"
      ]
     },
     "metadata": {
      "needs_background": "light"
     },
     "output_type": "display_data"
    },
    {
     "name": "stdout",
     "output_type": "stream",
     "text": [
      "[0.38731961852056473, 0.3900549378172172, 0.4052491800950708, 0.4144834831655448] [0.7062176  3.89541083 2.27867286]\n"
     ]
    },
    {
     "data": {
      "text/html": [
       "<div>\n",
       "<style scoped>\n",
       "    .dataframe tbody tr th:only-of-type {\n",
       "        vertical-align: middle;\n",
       "    }\n",
       "\n",
       "    .dataframe tbody tr th {\n",
       "        vertical-align: top;\n",
       "    }\n",
       "\n",
       "    .dataframe thead th {\n",
       "        text-align: right;\n",
       "    }\n",
       "</style>\n",
       "<table border=\"1\" class=\"dataframe\">\n",
       "  <thead>\n",
       "    <tr style=\"text-align: right;\">\n",
       "      <th></th>\n",
       "      <th>num_of_cycles</th>\n",
       "      <th>performance</th>\n",
       "      <th>gain %</th>\n",
       "    </tr>\n",
       "  </thead>\n",
       "  <tbody>\n",
       "    <tr>\n",
       "      <th>0</th>\n",
       "      <td>1</td>\n",
       "      <td>0.387320</td>\n",
       "      <td>NaN</td>\n",
       "    </tr>\n",
       "    <tr>\n",
       "      <th>1</th>\n",
       "      <td>2</td>\n",
       "      <td>0.390055</td>\n",
       "      <td>0.706218</td>\n",
       "    </tr>\n",
       "    <tr>\n",
       "      <th>2</th>\n",
       "      <td>3</td>\n",
       "      <td>0.405249</td>\n",
       "      <td>3.895411</td>\n",
       "    </tr>\n",
       "    <tr>\n",
       "      <th>3</th>\n",
       "      <td>4</td>\n",
       "      <td>0.414483</td>\n",
       "      <td>2.278673</td>\n",
       "    </tr>\n",
       "  </tbody>\n",
       "</table>\n",
       "</div>"
      ],
      "text/plain": [
       "   num_of_cycles  performance    gain %\n",
       "0              1     0.387320       NaN\n",
       "1              2     0.390055  0.706218\n",
       "2              3     0.405249  3.895411\n",
       "3              4     0.414483  2.278673"
      ]
     },
     "metadata": {},
     "output_type": "display_data"
    },
    {
     "name": "stdout",
     "output_type": "stream",
     "text": [
      "(48, 4)\n",
      "[1, 2, 3, 4]\n",
      "n 48\n",
      "2 - 1 mean 0.0018180692037607145 sem 0.010487138185867793\n",
      "3 - 2 mean 0.012449744335558488 sem 0.004823602412856439\n",
      "4 - 3 mean 0.009114353708673872 sem 0.004346025655538903\n",
      "4 - 2 mean 0.021564098044232354 sem 0.005147681791430994\n"
     ]
    },
    {
     "data": {
      "image/png": "[encoded data removed]",
      "text/plain": [
       "<Figure size 576x216 with 1 Axes>"
      ]
     },
     "metadata": {
      "needs_background": "light"
     },
     "output_type": "display_data"
    },
    {
     "name": "stdout",
     "output_type": "stream",
     "text": [
      "[0.37796532959696716, 0.3797833988007279, 0.39223314313628643, 0.40134749684496035] [0.48101481 3.27811705 2.3237082 ]\n"
     ]
    },
    {
     "data": {
      "text/html": [
       "<div>\n",
       "<style scoped>\n",
       "    .dataframe tbody tr th:only-of-type {\n",
       "        vertical-align: middle;\n",
       "    }\n",
       "\n",
       "    .dataframe tbody tr th {\n",
       "        vertical-align: top;\n",
       "    }\n",
       "\n",
       "    .dataframe thead th {\n",
       "        text-align: right;\n",
       "    }\n",
       "</style>\n",
       "<table border=\"1\" class=\"dataframe\">\n",
       "  <thead>\n",
       "    <tr style=\"text-align: right;\">\n",
       "      <th></th>\n",
       "      <th>num_of_cycles</th>\n",
       "      <th>performance</th>\n",
       "      <th>gain %</th>\n",
       "    </tr>\n",
       "  </thead>\n",
       "  <tbody>\n",
       "    <tr>\n",
       "      <th>0</th>\n",
       "      <td>1</td>\n",
       "      <td>0.377965</td>\n",
       "      <td>NaN</td>\n",
       "    </tr>\n",
       "    <tr>\n",
       "      <th>1</th>\n",
       "      <td>2</td>\n",
       "      <td>0.379783</td>\n",
       "      <td>0.481015</td>\n",
       "    </tr>\n",
       "    <tr>\n",
       "      <th>2</th>\n",
       "      <td>3</td>\n",
       "      <td>0.392233</td>\n",
       "      <td>3.278117</td>\n",
       "    </tr>\n",
       "    <tr>\n",
       "      <th>3</th>\n",
       "      <td>4</td>\n",
       "      <td>0.401347</td>\n",
       "      <td>2.323708</td>\n",
       "    </tr>\n",
       "  </tbody>\n",
       "</table>\n",
       "</div>"
      ],
      "text/plain": [
       "   num_of_cycles  performance    gain %\n",
       "0              1     0.377965       NaN\n",
       "1              2     0.379783  0.481015\n",
       "2              3     0.392233  3.278117\n",
       "3              4     0.401347  2.323708"
      ]
     },
     "metadata": {},
     "output_type": "display_data"
    },
    {
     "name": "stdout",
     "output_type": "stream",
     "text": [
      "(48, 4)\n",
      "[1, 2, 3, 4]\n",
      "n 48\n",
      "2 - 1 mean 0.0036525693895441535 sem 0.008041938475444014\n",
      "3 - 2 mean 0.01793874022014891 sem 0.005585062316583781\n",
      "4 - 3 mean 0.0093542524322738 sem 0.006204601083081609\n",
      "4 - 2 mean 0.02729299265242271 sem 0.007095242831425993\n"
     ]
    },
    {
     "data": {
      "image/png": "[encoded data removed]",
      "text/plain": [
       "<Figure size 576x216 with 1 Axes>"
      ]
     },
     "metadata": {
      "needs_background": "light"
     },
     "output_type": "display_data"
    },
    {
     "name": "stdout",
     "output_type": "stream",
     "text": [
      "[0.3966739074441623, 0.4003264768337064, 0.4182652170538554, 0.4276194694861291] [0.920799   4.48102768 2.23644043]\n"
     ]
    },
    {
     "data": {
      "text/html": [
       "<div>\n",
       "<style scoped>\n",
       "    .dataframe tbody tr th:only-of-type {\n",
       "        vertical-align: middle;\n",
       "    }\n",
       "\n",
       "    .dataframe tbody tr th {\n",
       "        vertical-align: top;\n",
       "    }\n",
       "\n",
       "    .dataframe thead th {\n",
       "        text-align: right;\n",
       "    }\n",
       "</style>\n",
       "<table border=\"1\" class=\"dataframe\">\n",
       "  <thead>\n",
       "    <tr style=\"text-align: right;\">\n",
       "      <th></th>\n",
       "      <th>num_of_cycles</th>\n",
       "      <th>performance</th>\n",
       "      <th>gain %</th>\n",
       "    </tr>\n",
       "  </thead>\n",
       "  <tbody>\n",
       "    <tr>\n",
       "      <th>0</th>\n",
       "      <td>1</td>\n",
       "      <td>0.396674</td>\n",
       "      <td>NaN</td>\n",
       "    </tr>\n",
       "    <tr>\n",
       "      <th>1</th>\n",
       "      <td>2</td>\n",
       "      <td>0.400326</td>\n",
       "      <td>0.920799</td>\n",
       "    </tr>\n",
       "    <tr>\n",
       "      <th>2</th>\n",
       "      <td>3</td>\n",
       "      <td>0.418265</td>\n",
       "      <td>4.481028</td>\n",
       "    </tr>\n",
       "    <tr>\n",
       "      <th>3</th>\n",
       "      <td>4</td>\n",
       "      <td>0.427619</td>\n",
       "      <td>2.236440</td>\n",
       "    </tr>\n",
       "  </tbody>\n",
       "</table>\n",
       "</div>"
      ],
      "text/plain": [
       "   num_of_cycles  performance    gain %\n",
       "0              1     0.396674       NaN\n",
       "1              2     0.400326  0.920799\n",
       "2              3     0.418265  4.481028\n",
       "3              4     0.427619  2.236440"
      ]
     },
     "metadata": {},
     "output_type": "display_data"
    }
   ],
   "source": [
    "plot_step_increase(corr_mean_8k.xs('quarter', level='train_keep'), [(1,2),(2,3),(3,4),(2,4)], (0.4, 0.5))\n",
    "plot_step_increase(corr_mean_8k.xs('quarter', level='train_keep').xs(100, level='cb19_px_kept'), [(1,2),(2,3),(3,4),(2,4)], (0.4, 0.5))\n",
    "plot_step_increase(corr_mean_8k.xs('quarter', level='train_keep').xs(80, level='cb19_px_kept'), [(1,2),(2,3),(3,4),(2,4)], (0.4, 0.5))"
   ]
  },
  {
   "cell_type": "code",
   "execution_count": 14,
   "metadata": {},
   "outputs": [],
   "source": [
    "# check relationship between num_param and performance, colored for different num_of_cycles."
   ]
  },
  {
   "cell_type": "code",
   "execution_count": 15,
   "metadata": {},
   "outputs": [
    {
     "name": "stdout",
     "output_type": "stream",
     "text": [
      "(96, 4)\n",
      "[1, 2, 3, 4]\n",
      "n 96\n",
      "2 - 1 mean 0.01253188274780565 sem 0.0016086548378870893\n",
      "3 - 2 mean 0.0025635024777472173 sem 0.0013153070581148098\n",
      "4 - 3 mean -0.0018413596576098777 sem 0.0011779561532522383\n",
      "4 - 2 mean 0.0007221428201373397 sem 0.001389272842429456\n"
     ]
    },
    {
     "data": {
      "image/png": "[encoded data removed]",
      "text/plain": [
       "<Figure size 576x216 with 1 Axes>"
      ]
     },
     "metadata": {
      "needs_background": "light"
     },
     "output_type": "display_data"
    },
    {
     "name": "stdout",
     "output_type": "stream",
     "text": [
      "[0.5996301585918495, 0.6121620413396551, 0.6147255438174024, 0.6128841841597925] [ 2.08993537  0.41876208 -0.29954175]\n"
     ]
    },
    {
     "data": {
      "text/html": [
       "<div>\n",
       "<style scoped>\n",
       "    .dataframe tbody tr th:only-of-type {\n",
       "        vertical-align: middle;\n",
       "    }\n",
       "\n",
       "    .dataframe tbody tr th {\n",
       "        vertical-align: top;\n",
       "    }\n",
       "\n",
       "    .dataframe thead th {\n",
       "        text-align: right;\n",
       "    }\n",
       "</style>\n",
       "<table border=\"1\" class=\"dataframe\">\n",
       "  <thead>\n",
       "    <tr style=\"text-align: right;\">\n",
       "      <th></th>\n",
       "      <th>num_of_cycles</th>\n",
       "      <th>performance</th>\n",
       "      <th>gain %</th>\n",
       "    </tr>\n",
       "  </thead>\n",
       "  <tbody>\n",
       "    <tr>\n",
       "      <th>0</th>\n",
       "      <td>1</td>\n",
       "      <td>0.599630</td>\n",
       "      <td>NaN</td>\n",
       "    </tr>\n",
       "    <tr>\n",
       "      <th>1</th>\n",
       "      <td>2</td>\n",
       "      <td>0.612162</td>\n",
       "      <td>2.089935</td>\n",
       "    </tr>\n",
       "    <tr>\n",
       "      <th>2</th>\n",
       "      <td>3</td>\n",
       "      <td>0.614726</td>\n",
       "      <td>0.418762</td>\n",
       "    </tr>\n",
       "    <tr>\n",
       "      <th>3</th>\n",
       "      <td>4</td>\n",
       "      <td>0.612884</td>\n",
       "      <td>-0.299542</td>\n",
       "    </tr>\n",
       "  </tbody>\n",
       "</table>\n",
       "</div>"
      ],
      "text/plain": [
       "   num_of_cycles  performance    gain %\n",
       "0              1     0.599630       NaN\n",
       "1              2     0.612162  2.089935\n",
       "2              3     0.614726  0.418762\n",
       "3              4     0.612884 -0.299542"
      ]
     },
     "metadata": {},
     "output_type": "display_data"
    },
    {
     "name": "stdout",
     "output_type": "stream",
     "text": [
      "(48, 4)\n",
      "[1, 2, 3, 4]\n",
      "n 48\n",
      "2 - 1 mean 0.012763010059733126 sem 0.002459410967272909\n",
      "3 - 2 mean 0.004581743747505587 sem 0.00188247053328063\n",
      "4 - 3 mean -0.0035991524851915133 sem 0.0014326652144912196\n",
      "4 - 2 mean 0.0009825912623140736 sem 0.0016392496945018442\n"
     ]
    },
    {
     "data": {
      "image/png": "[encoded data removed]",
      "text/plain": [
       "<Figure size 576x216 with 1 Axes>"
      ]
     },
     "metadata": {
      "needs_background": "light"
     },
     "output_type": "display_data"
    },
    {
     "name": "stdout",
     "output_type": "stream",
     "text": [
      "[0.6049215030020111, 0.6176845130617442, 0.6222662568092497, 0.6186671043240582] [ 2.10986219  0.74176115 -0.57839429]\n"
     ]
    },
    {
     "data": {
      "text/html": [
       "<div>\n",
       "<style scoped>\n",
       "    .dataframe tbody tr th:only-of-type {\n",
       "        vertical-align: middle;\n",
       "    }\n",
       "\n",
       "    .dataframe tbody tr th {\n",
       "        vertical-align: top;\n",
       "    }\n",
       "\n",
       "    .dataframe thead th {\n",
       "        text-align: right;\n",
       "    }\n",
       "</style>\n",
       "<table border=\"1\" class=\"dataframe\">\n",
       "  <thead>\n",
       "    <tr style=\"text-align: right;\">\n",
       "      <th></th>\n",
       "      <th>num_of_cycles</th>\n",
       "      <th>performance</th>\n",
       "      <th>gain %</th>\n",
       "    </tr>\n",
       "  </thead>\n",
       "  <tbody>\n",
       "    <tr>\n",
       "      <th>0</th>\n",
       "      <td>1</td>\n",
       "      <td>0.604922</td>\n",
       "      <td>NaN</td>\n",
       "    </tr>\n",
       "    <tr>\n",
       "      <th>1</th>\n",
       "      <td>2</td>\n",
       "      <td>0.617685</td>\n",
       "      <td>2.109862</td>\n",
       "    </tr>\n",
       "    <tr>\n",
       "      <th>2</th>\n",
       "      <td>3</td>\n",
       "      <td>0.622266</td>\n",
       "      <td>0.741761</td>\n",
       "    </tr>\n",
       "    <tr>\n",
       "      <th>3</th>\n",
       "      <td>4</td>\n",
       "      <td>0.618667</td>\n",
       "      <td>-0.578394</td>\n",
       "    </tr>\n",
       "  </tbody>\n",
       "</table>\n",
       "</div>"
      ],
      "text/plain": [
       "   num_of_cycles  performance    gain %\n",
       "0              1     0.604922       NaN\n",
       "1              2     0.617685  2.109862\n",
       "2              3     0.622266  0.741761\n",
       "3              4     0.618667 -0.578394"
      ]
     },
     "metadata": {},
     "output_type": "display_data"
    },
    {
     "name": "stdout",
     "output_type": "stream",
     "text": [
      "(48, 4)\n",
      "[1, 2, 3, 4]\n",
      "n 48\n",
      "2 - 1 mean 0.012300755435878169 sem 0.0020736811272367628\n",
      "3 - 2 mean 0.0005452612079888478 sem 0.0017907301799024676\n",
      "4 - 3 mean -8.356683002824193e-05 sem 0.0018354972154969377\n",
      "4 - 2 mean 0.00046169437796060586 sem 0.0022428442145255383\n"
     ]
    },
    {
     "data": {
      "image/png": "[encoded data removed]",
      "text/plain": [
       "<Figure size 576x216 with 1 Axes>"
      ]
     },
     "metadata": {
      "needs_background": "light"
     },
     "output_type": "display_data"
    },
    {
     "name": "stdout",
     "output_type": "stream",
     "text": [
      "[0.5943388141816879, 0.606639569617566, 0.6071848308255549, 0.6071012639955268] [ 2.06965373  0.08988224 -0.013763  ]\n"
     ]
    },
    {
     "data": {
      "text/html": [
       "<div>\n",
       "<style scoped>\n",
       "    .dataframe tbody tr th:only-of-type {\n",
       "        vertical-align: middle;\n",
       "    }\n",
       "\n",
       "    .dataframe tbody tr th {\n",
       "        vertical-align: top;\n",
       "    }\n",
       "\n",
       "    .dataframe thead th {\n",
       "        text-align: right;\n",
       "    }\n",
       "</style>\n",
       "<table border=\"1\" class=\"dataframe\">\n",
       "  <thead>\n",
       "    <tr style=\"text-align: right;\">\n",
       "      <th></th>\n",
       "      <th>num_of_cycles</th>\n",
       "      <th>performance</th>\n",
       "      <th>gain %</th>\n",
       "    </tr>\n",
       "  </thead>\n",
       "  <tbody>\n",
       "    <tr>\n",
       "      <th>0</th>\n",
       "      <td>1</td>\n",
       "      <td>0.594339</td>\n",
       "      <td>NaN</td>\n",
       "    </tr>\n",
       "    <tr>\n",
       "      <th>1</th>\n",
       "      <td>2</td>\n",
       "      <td>0.606640</td>\n",
       "      <td>2.069654</td>\n",
       "    </tr>\n",
       "    <tr>\n",
       "      <th>2</th>\n",
       "      <td>3</td>\n",
       "      <td>0.607185</td>\n",
       "      <td>0.089882</td>\n",
       "    </tr>\n",
       "    <tr>\n",
       "      <th>3</th>\n",
       "      <td>4</td>\n",
       "      <td>0.607101</td>\n",
       "      <td>-0.013763</td>\n",
       "    </tr>\n",
       "  </tbody>\n",
       "</table>\n",
       "</div>"
      ],
      "text/plain": [
       "   num_of_cycles  performance    gain %\n",
       "0              1     0.594339       NaN\n",
       "1              2     0.606640  2.069654\n",
       "2              3     0.607185  0.089882\n",
       "3              4     0.607101 -0.013763"
      ]
     },
     "metadata": {},
     "output_type": "display_data"
    }
   ],
   "source": [
    "plot_step_increase(corr_mean_cb19.xs('full', level='train_keep'), [(1,2),(2,3),(3,4),(2,4)], (0.54, 0.56))\n",
    "plot_step_increase(corr_mean_cb19.xs('full', level='train_keep').xs(100, level='cb19_px_kept'), [(1,2),(2,3),(3,4),(2,4)], (0.54, 0.56))\n",
    "plot_step_increase(corr_mean_cb19.xs('full', level='train_keep').xs(80, level='cb19_px_kept'), [(1,2),(2,3),(3,4),(2,4)], (0.54, 0.56))"
   ]
  },
  {
   "cell_type": "code",
   "execution_count": 16,
   "metadata": {},
   "outputs": [
    {
     "name": "stdout",
     "output_type": "stream",
     "text": [
      "(96, 4)\n",
      "[1, 2, 3, 4]\n",
      "n 96\n",
      "2 - 1 mean 0.01697610987795998 sem 0.0021715241590964667\n",
      "3 - 2 mean 0.0018527258034633936 sem 0.001349943786840867\n",
      "4 - 3 mean -0.00021319181630968334 sem 0.0014658167777841745\n",
      "4 - 2 mean 0.0016395339871537104 sem 0.0016633662256614397\n"
     ]
    },
    {
     "data": {
      "image/png": "[encoded data removed]",
      "text/plain": [
       "<Figure size 576x216 with 1 Axes>"
      ]
     },
     "metadata": {
      "needs_background": "light"
     },
     "output_type": "display_data"
    },
    {
     "name": "stdout",
     "output_type": "stream",
     "text": [
      "[0.5138598223672716, 0.5308359322452315, 0.532688658048695, 0.5324754662323853] [ 3.30364608  0.34902042 -0.04002184]\n"
     ]
    },
    {
     "data": {
      "text/html": [
       "<div>\n",
       "<style scoped>\n",
       "    .dataframe tbody tr th:only-of-type {\n",
       "        vertical-align: middle;\n",
       "    }\n",
       "\n",
       "    .dataframe tbody tr th {\n",
       "        vertical-align: top;\n",
       "    }\n",
       "\n",
       "    .dataframe thead th {\n",
       "        text-align: right;\n",
       "    }\n",
       "</style>\n",
       "<table border=\"1\" class=\"dataframe\">\n",
       "  <thead>\n",
       "    <tr style=\"text-align: right;\">\n",
       "      <th></th>\n",
       "      <th>num_of_cycles</th>\n",
       "      <th>performance</th>\n",
       "      <th>gain %</th>\n",
       "    </tr>\n",
       "  </thead>\n",
       "  <tbody>\n",
       "    <tr>\n",
       "      <th>0</th>\n",
       "      <td>1</td>\n",
       "      <td>0.513860</td>\n",
       "      <td>NaN</td>\n",
       "    </tr>\n",
       "    <tr>\n",
       "      <th>1</th>\n",
       "      <td>2</td>\n",
       "      <td>0.530836</td>\n",
       "      <td>3.303646</td>\n",
       "    </tr>\n",
       "    <tr>\n",
       "      <th>2</th>\n",
       "      <td>3</td>\n",
       "      <td>0.532689</td>\n",
       "      <td>0.349020</td>\n",
       "    </tr>\n",
       "    <tr>\n",
       "      <th>3</th>\n",
       "      <td>4</td>\n",
       "      <td>0.532475</td>\n",
       "      <td>-0.040022</td>\n",
       "    </tr>\n",
       "  </tbody>\n",
       "</table>\n",
       "</div>"
      ],
      "text/plain": [
       "   num_of_cycles  performance    gain %\n",
       "0              1     0.513860       NaN\n",
       "1              2     0.530836  3.303646\n",
       "2              3     0.532689  0.349020\n",
       "3              4     0.532475 -0.040022"
      ]
     },
     "metadata": {},
     "output_type": "display_data"
    },
    {
     "name": "stdout",
     "output_type": "stream",
     "text": [
      "(48, 4)\n",
      "[1, 2, 3, 4]\n",
      "n 48\n",
      "2 - 1 mean 0.018339399065005983 sem 0.002968002792699996\n",
      "3 - 2 mean 0.0013116941794934153 sem 0.0018977602568291479\n",
      "4 - 3 mean 0.0017188448473546617 sem 0.0018499164587291882\n",
      "4 - 2 mean 0.0030305390268480768 sem 0.0017863841207304558\n"
     ]
    },
    {
     "data": {
      "image/png": "[encoded data removed]",
      "text/plain": [
       "<Figure size 576x216 with 1 Axes>"
      ]
     },
     "metadata": {
      "needs_background": "light"
     },
     "output_type": "display_data"
    },
    {
     "name": "stdout",
     "output_type": "stream",
     "text": [
      "[0.5214167046693533, 0.5397561037343592, 0.5410677979138527, 0.5427866427612074] [3.51722507 0.24301609 0.31767643]\n"
     ]
    },
    {
     "data": {
      "text/html": [
       "<div>\n",
       "<style scoped>\n",
       "    .dataframe tbody tr th:only-of-type {\n",
       "        vertical-align: middle;\n",
       "    }\n",
       "\n",
       "    .dataframe tbody tr th {\n",
       "        vertical-align: top;\n",
       "    }\n",
       "\n",
       "    .dataframe thead th {\n",
       "        text-align: right;\n",
       "    }\n",
       "</style>\n",
       "<table border=\"1\" class=\"dataframe\">\n",
       "  <thead>\n",
       "    <tr style=\"text-align: right;\">\n",
       "      <th></th>\n",
       "      <th>num_of_cycles</th>\n",
       "      <th>performance</th>\n",
       "      <th>gain %</th>\n",
       "    </tr>\n",
       "  </thead>\n",
       "  <tbody>\n",
       "    <tr>\n",
       "      <th>0</th>\n",
       "      <td>1</td>\n",
       "      <td>0.521417</td>\n",
       "      <td>NaN</td>\n",
       "    </tr>\n",
       "    <tr>\n",
       "      <th>1</th>\n",
       "      <td>2</td>\n",
       "      <td>0.539756</td>\n",
       "      <td>3.517225</td>\n",
       "    </tr>\n",
       "    <tr>\n",
       "      <th>2</th>\n",
       "      <td>3</td>\n",
       "      <td>0.541068</td>\n",
       "      <td>0.243016</td>\n",
       "    </tr>\n",
       "    <tr>\n",
       "      <th>3</th>\n",
       "      <td>4</td>\n",
       "      <td>0.542787</td>\n",
       "      <td>0.317676</td>\n",
       "    </tr>\n",
       "  </tbody>\n",
       "</table>\n",
       "</div>"
      ],
      "text/plain": [
       "   num_of_cycles  performance    gain %\n",
       "0              1     0.521417       NaN\n",
       "1              2     0.539756  3.517225\n",
       "2              3     0.541068  0.243016\n",
       "3              4     0.542787  0.317676"
      ]
     },
     "metadata": {},
     "output_type": "display_data"
    },
    {
     "name": "stdout",
     "output_type": "stream",
     "text": [
      "(48, 4)\n",
      "[1, 2, 3, 4]\n",
      "n 48\n",
      "2 - 1 mean 0.015612820690913973 sem 0.0031584154610664558\n",
      "3 - 2 mean 0.002393757427433372 sem 0.0019172121558915932\n",
      "4 - 3 mean -0.0021452284799740283 sem 0.0022398108172234565\n",
      "4 - 2 mean 0.0002485289474593438 sem 0.0027920171829762287\n"
     ]
    },
    {
     "data": {
      "image/png": "[encoded data removed]",
      "text/plain": [
       "<Figure size 576x216 with 1 Axes>"
      ]
     },
     "metadata": {
      "needs_background": "light"
     },
     "output_type": "display_data"
    },
    {
     "name": "stdout",
     "output_type": "stream",
     "text": [
      "[0.5063029400651898, 0.5219157607561039, 0.5243095181835372, 0.5221642897035632] [ 3.08369149  0.45864824 -0.40915307]\n"
     ]
    },
    {
     "data": {
      "text/html": [
       "<div>\n",
       "<style scoped>\n",
       "    .dataframe tbody tr th:only-of-type {\n",
       "        vertical-align: middle;\n",
       "    }\n",
       "\n",
       "    .dataframe tbody tr th {\n",
       "        vertical-align: top;\n",
       "    }\n",
       "\n",
       "    .dataframe thead th {\n",
       "        text-align: right;\n",
       "    }\n",
       "</style>\n",
       "<table border=\"1\" class=\"dataframe\">\n",
       "  <thead>\n",
       "    <tr style=\"text-align: right;\">\n",
       "      <th></th>\n",
       "      <th>num_of_cycles</th>\n",
       "      <th>performance</th>\n",
       "      <th>gain %</th>\n",
       "    </tr>\n",
       "  </thead>\n",
       "  <tbody>\n",
       "    <tr>\n",
       "      <th>0</th>\n",
       "      <td>1</td>\n",
       "      <td>0.506303</td>\n",
       "      <td>NaN</td>\n",
       "    </tr>\n",
       "    <tr>\n",
       "      <th>1</th>\n",
       "      <td>2</td>\n",
       "      <td>0.521916</td>\n",
       "      <td>3.083691</td>\n",
       "    </tr>\n",
       "    <tr>\n",
       "      <th>2</th>\n",
       "      <td>3</td>\n",
       "      <td>0.524310</td>\n",
       "      <td>0.458648</td>\n",
       "    </tr>\n",
       "    <tr>\n",
       "      <th>3</th>\n",
       "      <td>4</td>\n",
       "      <td>0.522164</td>\n",
       "      <td>-0.409153</td>\n",
       "    </tr>\n",
       "  </tbody>\n",
       "</table>\n",
       "</div>"
      ],
      "text/plain": [
       "   num_of_cycles  performance    gain %\n",
       "0              1     0.506303       NaN\n",
       "1              2     0.521916  3.083691\n",
       "2              3     0.524310  0.458648\n",
       "3              4     0.522164 -0.409153"
      ]
     },
     "metadata": {},
     "output_type": "display_data"
    }
   ],
   "source": [
    "plot_step_increase(corr_mean_cb19.xs('half', level='train_keep'), [(1,2),(2,3),(3,4),(2,4)], (0.47, 0.495))\n",
    "plot_step_increase(corr_mean_cb19.xs('half', level='train_keep').xs(100, level='cb19_px_kept'), [(1,2),(2,3),(3,4),(2,4)], (0.47, 0.495))\n",
    "plot_step_increase(corr_mean_cb19.xs('half', level='train_keep').xs(80, level='cb19_px_kept'), [(1,2),(2,3),(3,4),(2,4)], (0.47, 0.495))"
   ]
  },
  {
   "cell_type": "code",
   "execution_count": 17,
   "metadata": {
    "scrolled": false
   },
   "outputs": [
    {
     "name": "stdout",
     "output_type": "stream",
     "text": [
      "(96, 4)\n",
      "[1, 2, 3, 4]\n",
      "n 96\n",
      "2 - 1 mean 0.0043674800745886685 sem 0.00416922117895608\n",
      "3 - 2 mean 0.014141443942355947 sem 0.0031802110145629572\n",
      "4 - 3 mean 0.0071579949773018054 sem 0.0029248697099110437\n",
      "4 - 2 mean 0.021299438919657753 sem 0.003943733335399551\n"
     ]
    },
    {
     "data": {
      "image/png": "[encoded data removed]",
      "text/plain": [
       "<Figure size 576x216 with 1 Axes>"
      ]
     },
     "metadata": {
      "needs_background": "light"
     },
     "output_type": "display_data"
    },
    {
     "name": "stdout",
     "output_type": "stream",
     "text": [
      "[0.30562594708858126, 0.30999342716316997, 0.3241348711055259, 0.3312928660828277] [1.42902791 4.56185283 2.20833845]\n"
     ]
    },
    {
     "data": {
      "text/html": [
       "<div>\n",
       "<style scoped>\n",
       "    .dataframe tbody tr th:only-of-type {\n",
       "        vertical-align: middle;\n",
       "    }\n",
       "\n",
       "    .dataframe tbody tr th {\n",
       "        vertical-align: top;\n",
       "    }\n",
       "\n",
       "    .dataframe thead th {\n",
       "        text-align: right;\n",
       "    }\n",
       "</style>\n",
       "<table border=\"1\" class=\"dataframe\">\n",
       "  <thead>\n",
       "    <tr style=\"text-align: right;\">\n",
       "      <th></th>\n",
       "      <th>num_of_cycles</th>\n",
       "      <th>performance</th>\n",
       "      <th>gain %</th>\n",
       "    </tr>\n",
       "  </thead>\n",
       "  <tbody>\n",
       "    <tr>\n",
       "      <th>0</th>\n",
       "      <td>1</td>\n",
       "      <td>0.305626</td>\n",
       "      <td>NaN</td>\n",
       "    </tr>\n",
       "    <tr>\n",
       "      <th>1</th>\n",
       "      <td>2</td>\n",
       "      <td>0.309993</td>\n",
       "      <td>1.429028</td>\n",
       "    </tr>\n",
       "    <tr>\n",
       "      <th>2</th>\n",
       "      <td>3</td>\n",
       "      <td>0.324135</td>\n",
       "      <td>4.561853</td>\n",
       "    </tr>\n",
       "    <tr>\n",
       "      <th>3</th>\n",
       "      <td>4</td>\n",
       "      <td>0.331293</td>\n",
       "      <td>2.208338</td>\n",
       "    </tr>\n",
       "  </tbody>\n",
       "</table>\n",
       "</div>"
      ],
      "text/plain": [
       "   num_of_cycles  performance    gain %\n",
       "0              1     0.305626       NaN\n",
       "1              2     0.309993  1.429028\n",
       "2              3     0.324135  4.561853\n",
       "3              4     0.331293  2.208338"
      ]
     },
     "metadata": {},
     "output_type": "display_data"
    },
    {
     "name": "stdout",
     "output_type": "stream",
     "text": [
      "(48, 4)\n",
      "[1, 2, 3, 4]\n",
      "n 48\n",
      "2 - 1 mean 0.0028842630827540486 sem 0.0069198651738998735\n",
      "3 - 2 mean 0.014700863084161625 sem 0.004354955328004099\n",
      "4 - 3 mean 0.005623894877131143 sem 0.003444632717180219\n",
      "4 - 2 mean 0.02032475796129277 sem 0.004544855715510516\n"
     ]
    },
    {
     "data": {
      "image/png": "[encoded data removed]",
      "text/plain": [
       "<Figure size 576x216 with 1 Axes>"
      ]
     },
     "metadata": {
      "needs_background": "light"
     },
     "output_type": "display_data"
    },
    {
     "name": "stdout",
     "output_type": "stream",
     "text": [
      "[0.3042923918407416, 0.3071766549234956, 0.3218775180076572, 0.32750141288478835] [0.94785909 4.78580089 1.74721581]\n"
     ]
    },
    {
     "data": {
      "text/html": [
       "<div>\n",
       "<style scoped>\n",
       "    .dataframe tbody tr th:only-of-type {\n",
       "        vertical-align: middle;\n",
       "    }\n",
       "\n",
       "    .dataframe tbody tr th {\n",
       "        vertical-align: top;\n",
       "    }\n",
       "\n",
       "    .dataframe thead th {\n",
       "        text-align: right;\n",
       "    }\n",
       "</style>\n",
       "<table border=\"1\" class=\"dataframe\">\n",
       "  <thead>\n",
       "    <tr style=\"text-align: right;\">\n",
       "      <th></th>\n",
       "      <th>num_of_cycles</th>\n",
       "      <th>performance</th>\n",
       "      <th>gain %</th>\n",
       "    </tr>\n",
       "  </thead>\n",
       "  <tbody>\n",
       "    <tr>\n",
       "      <th>0</th>\n",
       "      <td>1</td>\n",
       "      <td>0.304292</td>\n",
       "      <td>NaN</td>\n",
       "    </tr>\n",
       "    <tr>\n",
       "      <th>1</th>\n",
       "      <td>2</td>\n",
       "      <td>0.307177</td>\n",
       "      <td>0.947859</td>\n",
       "    </tr>\n",
       "    <tr>\n",
       "      <th>2</th>\n",
       "      <td>3</td>\n",
       "      <td>0.321878</td>\n",
       "      <td>4.785801</td>\n",
       "    </tr>\n",
       "    <tr>\n",
       "      <th>3</th>\n",
       "      <td>4</td>\n",
       "      <td>0.327501</td>\n",
       "      <td>1.747216</td>\n",
       "    </tr>\n",
       "  </tbody>\n",
       "</table>\n",
       "</div>"
      ],
      "text/plain": [
       "   num_of_cycles  performance    gain %\n",
       "0              1     0.304292       NaN\n",
       "1              2     0.307177  0.947859\n",
       "2              3     0.321878  4.785801\n",
       "3              4     0.327501  1.747216"
      ]
     },
     "metadata": {},
     "output_type": "display_data"
    },
    {
     "name": "stdout",
     "output_type": "stream",
     "text": [
      "(48, 4)\n",
      "[1, 2, 3, 4]\n",
      "n 48\n",
      "2 - 1 mean 0.0028842630827540486 sem 0.0069198651738998735\n",
      "3 - 2 mean 0.014700863084161625 sem 0.004354955328004099\n",
      "4 - 3 mean 0.005623894877131143 sem 0.003444632717180219\n",
      "4 - 2 mean 0.02032475796129277 sem 0.004544855715510516\n"
     ]
    },
    {
     "data": {
      "image/png": "[encoded data removed]",
      "text/plain": [
       "<Figure size 576x216 with 1 Axes>"
      ]
     },
     "metadata": {
      "needs_background": "light"
     },
     "output_type": "display_data"
    },
    {
     "name": "stdout",
     "output_type": "stream",
     "text": [
      "[0.3042923918407416, 0.3071766549234956, 0.3218775180076572, 0.32750141288478835] [0.94785909 4.78580089 1.74721581]\n"
     ]
    },
    {
     "data": {
      "text/html": [
       "<div>\n",
       "<style scoped>\n",
       "    .dataframe tbody tr th:only-of-type {\n",
       "        vertical-align: middle;\n",
       "    }\n",
       "\n",
       "    .dataframe tbody tr th {\n",
       "        vertical-align: top;\n",
       "    }\n",
       "\n",
       "    .dataframe thead th {\n",
       "        text-align: right;\n",
       "    }\n",
       "</style>\n",
       "<table border=\"1\" class=\"dataframe\">\n",
       "  <thead>\n",
       "    <tr style=\"text-align: right;\">\n",
       "      <th></th>\n",
       "      <th>num_of_cycles</th>\n",
       "      <th>performance</th>\n",
       "      <th>gain %</th>\n",
       "    </tr>\n",
       "  </thead>\n",
       "  <tbody>\n",
       "    <tr>\n",
       "      <th>0</th>\n",
       "      <td>1</td>\n",
       "      <td>0.304292</td>\n",
       "      <td>NaN</td>\n",
       "    </tr>\n",
       "    <tr>\n",
       "      <th>1</th>\n",
       "      <td>2</td>\n",
       "      <td>0.307177</td>\n",
       "      <td>0.947859</td>\n",
       "    </tr>\n",
       "    <tr>\n",
       "      <th>2</th>\n",
       "      <td>3</td>\n",
       "      <td>0.321878</td>\n",
       "      <td>4.785801</td>\n",
       "    </tr>\n",
       "    <tr>\n",
       "      <th>3</th>\n",
       "      <td>4</td>\n",
       "      <td>0.327501</td>\n",
       "      <td>1.747216</td>\n",
       "    </tr>\n",
       "  </tbody>\n",
       "</table>\n",
       "</div>"
      ],
      "text/plain": [
       "   num_of_cycles  performance    gain %\n",
       "0              1     0.304292       NaN\n",
       "1              2     0.307177  0.947859\n",
       "2              3     0.321878  4.785801\n",
       "3              4     0.327501  1.747216"
      ]
     },
     "metadata": {},
     "output_type": "display_data"
    }
   ],
   "source": [
    "plot_step_increase(corr_mean_cb19.xs('quarter', level='train_keep'), [(1,2),(2,3),(3,4),(2,4)], (0.3, 0.35))\n",
    "plot_step_increase(corr_mean_cb19.xs('quarter', level='train_keep').xs(100, level='cb19_px_kept'), [(1,2),(2,3),(3,4),(2,4)], (0.3, 0.35))\n",
    "plot_step_increase(corr_mean_cb19.xs('quarter', level='train_keep').xs(100, level='cb19_px_kept'), [(1,2),(2,3),(3,4),(2,4)], (0.3, 0.35))"
   ]
  },
  {
   "cell_type": "code",
   "execution_count": null,
   "metadata": {},
   "outputs": [],
   "source": []
  }
 ],
 "metadata": {
  "kernelspec": {
   "display_name": "Python 3",
   "language": "python",
   "name": "python3"
  },
  "language_info": {
   "codemirror_mode": {
    "name": "ipython",
    "version": 3
   },
   "file_extension": ".py",
   "mimetype": "text/x-python",
   "name": "python",
   "nbconvert_exporter": "python",
   "pygments_lexer": "ipython3",
   "version": "3.7.6"
  }
 },
 "nbformat": 4,
 "nbformat_minor": 2
}

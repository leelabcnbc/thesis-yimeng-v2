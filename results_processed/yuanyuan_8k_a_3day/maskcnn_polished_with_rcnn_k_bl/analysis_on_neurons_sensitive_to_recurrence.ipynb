{
 "cells": [
  {
   "cell_type": "code",
   "execution_count": 1,
   "metadata": {},
   "outputs": [],
   "source": [
    "%matplotlib inline\n",
    "from matplotlib import pyplot as plt "
   ]
  },
  {
   "cell_type": "code",
   "execution_count": 2,
   "metadata": {},
   "outputs": [],
   "source": [
    "from thesis_v2 import dir_dict\n",
    "from os.path import join\n",
    "\n",
    "import pandas as pd\n",
    "import numpy as np"
   ]
  },
  {
   "cell_type": "code",
   "execution_count": null,
   "metadata": {},
   "outputs": [],
   "source": [
    "from thesis_v2.configs.model.maskcnn_polished_with_rcnn_k_bl import (\n",
    "    explored_models_20200218 as param_iterator_obj_k_bl,\n",
    "    keygen as keygen_k_bl\n",
    ")\n",
    "\n",
    "from thesis_v2.configs.model.maskcnn_polished_with_local_pcn import (\n",
    "    explored_models_summer_2019_certain as param_iterator_obj_local_pcn,\n",
    "    keygen as keygen_local_pcn\n",
    ")"
   ]
  },
  {
   "cell_type": "code",
   "execution_count": null,
   "metadata": {},
   "outputs": [],
   "source": [
    "# TODO: verify my param_iterator_obj_local_pcn is the same as the original one.\n",
    "# well, you can achieve this by comparing the output of \n",
    "# scripts/training/yuanyuan_8k_a_3day/maskcnn_polished_with_local_pcn/submit_certain_configs_refactored.py\n",
    "# AND\n",
    "# scripts/training/yuanyuan_8k_a_3day/maskcnn_polished_with_local_pcn/submit_certain_configs.py"
   ]
  },
  {
   "cell_type": "code",
   "execution_count": null,
   "metadata": {},
   "outputs": [],
   "source": [
    "global_vars = {\n",
    "    'cases': {\n",
    "        'k_bl': {\n",
    "            'metric_file': join(dir_dict['analyses'],\n",
    "                                'metrics_yuanyuan_8k_a_3day+maskcnn_polished_with_rcnn_k_bl+20200218.pkl'),\n",
    "            'param_iterator': param_iterator_obj_k_bl,\n",
    "            'keygen': keygen_k_bl,\n",
    "            'cls_level': 'rcnn_bl_cls',\n",
    "            'base_key': 2,\n",
    "            'improved_key': 4,\n",
    "        },\n",
    "        'local_pcn': {\n",
    "            'metric_file': join(dir_dict['analyses'],\n",
    "                                'metrics_yuanyuan_8k_a_3day+maskcnn_polished_with_local_pcn+certain_configs.pkl'),\n",
    "            'param_iterator': param_iterator_obj_local_pcn,\n",
    "            'keygen': keygen_local_pcn,\n",
    "            'cls_level': 'pcn_cls',\n",
    "            'base_key': 1,\n",
    "            'improved_key': (2,3,4,5),\n",
    "        }\n",
    "    }\n",
    "}"
   ]
  },
  {
   "cell_type": "code",
   "execution_count": null,
   "metadata": {},
   "outputs": [],
   "source": [
    "def load_ground_truth(case_name, case_config):\n",
    "    # load neural responses\n",
    "    \n",
    "    \n",
    "    # load all 8K images (use the high resolution ones)\n",
    "    # this part can be shared by both cases, but let's ignore that, just for simplicity.\n",
    "    \n",
    "    \n",
    "    # load original indices of train, eval, test\n",
    "    \n",
    "    # load masks for each particular model, modulus recurrence.\n",
    "    "
   ]
  },
  {
   "cell_type": "code",
   "execution_count": 4,
   "metadata": {},
   "outputs": [],
   "source": [
    "def process_one_case(case_name, case_config):\n",
    "    # load data\n",
    "    print(f'process case {case_name}')\n",
    "    df = pd.read_pickle(case_config['metric_file'])\n",
    "    \n",
    "    # only work on test data.\n",
    "    df = df.xs('test', level='subset')\n",
    "    \n",
    "    \n",
    "    # collect neurons top ranked and worst ranked under various measures.\n",
    "    # I will use of two: mse, and avg(mse, cc, cc2)\n",
    "    # this part is easy to config.\n",
    "    \n",
    "    neuron_ranking_info = None\n",
    "    \n",
    "    \n",
    "    \n",
    "    # load relevance ground truth data, such as neural response,\n",
    "    # mask of each network (averaged across different circles),\n",
    "    # (not upsampled yet)\n",
    "    gt_dict = load_ground_truth(case_name, case_config)\n",
    "    \n",
    "    \n",
    "    \n",
    "    # for each ranking mode,\n",
    "    # then plot.\n",
    "    \n",
    "    # I will calculate everything,\n",
    "    # but visualize top 10 neurons, bottom 10 neurons.\n",
    "    #\n",
    "    # for each neuron, I show\n",
    "    #  0) image mask.\n",
    "    #  1) the best responding images over all 8K images\n",
    "    #  2) response distribution over all data\n",
    "    #  3) top 20 images that contribute most to recurrence, and response improvement\n",
    "    #  4) top 20 images that contribute least to recurrence, and response improvement\n",
    "    #  \n",
    "    # all the visualization is done on an area centered around mask and covers 90% of the energy in the mask."
   ]
  }
 ],
 "metadata": {
  "kernelspec": {
   "display_name": "Python 3",
   "language": "python",
   "name": "python3"
  },
  "language_info": {
   "codemirror_mode": {
    "name": "ipython",
    "version": 3
   },
   "file_extension": ".py",
   "mimetype": "text/x-python",
   "name": "python",
   "nbconvert_exporter": "python",
   "pygments_lexer": "ipython3",
   "version": "3.7.6"
  }
 },
 "nbformat": 4,
 "nbformat_minor": 4
}

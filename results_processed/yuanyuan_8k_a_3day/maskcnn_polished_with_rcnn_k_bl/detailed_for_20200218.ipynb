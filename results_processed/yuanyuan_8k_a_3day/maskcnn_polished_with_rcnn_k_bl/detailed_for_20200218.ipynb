{
 "cells": [
  {
   "cell_type": "markdown",
   "metadata": {},
   "source": [
    "relationship between MSE and r2\n",
    "\n",
    "https://stats.stackexchange.com/questions/34033/confusion-regarding-correlation-and-mse\n",
    "\n",
    "https://dsp.stackexchange.com/questions/9491/normalized-square-error-vs-pearson-correlation-as-similarity-measures-of-two-sig\n",
    "\n",
    "note that these two results are not about the same definition of MSE.\n",
    "\n",
    "One is about MSE between `X` and `Y`\n",
    "\n",
    "another is about MSE between `Y` and `Y hat`, which is `a X + b`.\n",
    "\n",
    "Therefore, their end results do not seem consistent, although they are both correct.\n",
    "\n",
    "`S^2` means corrected sample variance, and `S` is sqrt of it."
   ]
  },
  {
   "cell_type": "code",
   "execution_count": 1,
   "metadata": {},
   "outputs": [],
   "source": [
    "%matplotlib inline\n",
    "import matplotlib.pyplot as plt"
   ]
  },
  {
   "cell_type": "code",
   "execution_count": 2,
   "metadata": {},
   "outputs": [],
   "source": [
    "from sys import path\n",
    "from os.path import relpath, realpath, abspath, join, exists, dirname\n",
    "from os import makedirs\n",
    "from itertools import product\n",
    "from functools import partial\n",
    "import numpy as np\n",
    "import pandas as pd"
   ]
  },
  {
   "cell_type": "code",
   "execution_count": 3,
   "metadata": {},
   "outputs": [],
   "source": [
    "from torchnetjson.builder import build_net"
   ]
  },
  {
   "cell_type": "code",
   "execution_count": 4,
   "metadata": {},
   "outputs": [],
   "source": [
    "from thesis_v2 import dir_dict\n",
    "from thesis_v2.data import load_data_helper\n",
    "from thesis_v2.training.training_aux import load_training_results\n",
    "from thesis_v2.training_extra.misc import count_params\n",
    "from thesis_v2.models.maskcnn_polished_with_rcnn_k_bl.builder import load_modules\n",
    "\n",
    "load_modules()"
   ]
  },
  {
   "cell_type": "code",
   "execution_count": 5,
   "metadata": {},
   "outputs": [],
   "source": [
    "from thesis_v2.configs.model.maskcnn_polished_with_rcnn_k_bl import (\n",
    "    explored_models_20200218 as param_iterator_obj,\n",
    "    keygen\n",
    ")"
   ]
  },
  {
   "cell_type": "code",
   "execution_count": 6,
   "metadata": {},
   "outputs": [],
   "source": [
    "from thesis_v2.training_extra.data import generate_datasets\n",
    "from thesis_v2.training_extra.evaluation import eval_fn_wrapper as eval_fn_wrapper_neural\n",
    "from thesis_v2.training.training import eval_wrapper\n",
    "from thesis_v2.data.prepared.yuanyuan_8k import get_data, get_neural_data"
   ]
  },
  {
   "cell_type": "code",
   "execution_count": 7,
   "metadata": {},
   "outputs": [],
   "source": [
    "from torch.backends import cudnn\n",
    "import torch\n",
    "cudnn.enabled = True\n",
    "cudnn.deterministic = True\n",
    "cudnn.benchmark = False\n",
    "\n",
    "_data_cache = dict()\n",
    "\n",
    "def get_data_cached(input_size, seed):\n",
    "    if (input_size, seed) not in _data_cache:\n",
    "        _data_cache[input_size, seed] = get_data('a', 200, input_size,\n",
    "                                                 ('042318', '043018', '051018'),\n",
    "                                                 scale=0.5,\n",
    "                                                 seed=seed)\n",
    "    return _data_cache[input_size, seed]"
   ]
  },
  {
   "cell_type": "code",
   "execution_count": 8,
   "metadata": {},
   "outputs": [],
   "source": [
    "# compute ccmax\n",
    "from strflab.stats import cc_max\n",
    "from thesis_v2.data.prepared.yuanyuan_8k import get_neural_data_per_trial\n",
    "\n",
    "cc_max_all_neurons = cc_max(get_neural_data_per_trial(\n",
    "    ('042318', '043018','051018',))\n",
    "                           )\n",
    "assert cc_max_all_neurons.shape == (79,)"
   ]
  },
  {
   "cell_type": "code",
   "execution_count": 9,
   "metadata": {},
   "outputs": [],
   "source": [
    "from scipy.stats import pearsonr"
   ]
  },
  {
   "cell_type": "code",
   "execution_count": 10,
   "metadata": {},
   "outputs": [],
   "source": [
    "def calculate_cc(responses, label):\n",
    "    assert responses.shape == label.shape\n",
    "    assert responses.ndim == 2\n",
    "    assert responses.shape[1] == 79\n",
    "\n",
    "    corr_each = np.array(\n",
    "        [\n",
    "            pearsonr(yhat, y)[0] if np.std(yhat) > 1e-5 and np.std(y) > 1e-5 else 0 for yhat, y in zip(responses.T, label.T)\n",
    "        ]\n",
    "    )\n",
    "    assert corr_each.shape == (79,)\n",
    "    return corr_each\n",
    "\n",
    "def calculate_cc2(responses, label):\n",
    "    ret = calculate_cc(responses, label)**2\n",
    "    assert ret.shape == (79,)\n",
    "    return ret \n",
    "\n",
    "def calculate_mse(responses, label):\n",
    "    assert responses.shape == label.shape\n",
    "    assert responses.ndim == 2\n",
    "    assert responses.shape[1] == 79\n",
    "    \n",
    "    mse_each = np.mean((responses-label)**2, axis=0)\n",
    "    assert mse_each.shape == (79,)\n",
    "    return mse_each\n",
    "\n",
    "def normalize(raw_each, power, method):\n",
    "    assert raw_each.shape == (79,) == cc_max_all_neurons.shape\n",
    "    assert type(power) is int and power in {1,2}\n",
    "    assert method in {'div', 'mul'}\n",
    "    if method == 'div':\n",
    "        ret = raw_each/(cc_max_all_neurons**power)\n",
    "    elif method == 'mul':\n",
    "        # for mse, intuitively, more inheriently noisy neurons (smaller cc_max) should be discounted for its error.\n",
    "        ret = raw_each*(cc_max_all_neurons**power)\n",
    "    else:\n",
    "        raise ValueError\n",
    "\n",
    "    assert ret.shape == (79,)\n",
    "    return ret\n",
    "    \n",
    "metric_map = {\n",
    "    'mse': calculate_mse,\n",
    "    'cc': calculate_cc,\n",
    "    'cc2': calculate_cc2,\n",
    "}\n",
    "\n",
    "norm_power_map = {\n",
    "    'mse': {\n",
    "        # intuitively, more inheriently noisy neurons (smaller cc_max) should be discounted for its error.\n",
    "        'power': 2,\n",
    "        'method': 'mul',\n",
    "    },\n",
    "    'cc': {\n",
    "        'power': 1,\n",
    "        'method': 'div',\n",
    "    },\n",
    "    'cc2': {\n",
    "        'power': 2,\n",
    "        'method': 'div',\n",
    "    },\n",
    "}"
   ]
  },
  {
   "cell_type": "code",
   "execution_count": 11,
   "metadata": {},
   "outputs": [],
   "source": [
    "\n",
    "def load_everything():\n",
    "    _df_collect = []\n",
    "    dir_to_save = join(dir_dict['analyses'], 'responses_yuanyuan_8k_a_3day+maskcnn_polished_with_rcnn_k_bl+20200218')\n",
    "    for idx, param in enumerate(param_iterator_obj().generate()):\n",
    "        \n",
    "        assert len(param) == 22\n",
    "        \n",
    "        assert param['kernel_size_l1'] == 9\n",
    "        assert param['ff_1st_block']\n",
    "        \n",
    "        \n",
    "        \n",
    "        assert param['split_seed'] == 'legacy'\n",
    "        assert param['pooling_ksize'] == 3\n",
    "        assert param['pooling_type'] == 'avg'\n",
    "        assert not param['bn_after_fc']\n",
    "        assert param['rcnn_bl_psize'] == 1\n",
    "        assert param['rcnn_bl_ptype'] is None\n",
    "        assert param['input_size'] == 50\n",
    "        assert param['rcnn_acc_type'] == 'cummean'\n",
    "        \n",
    "        \n",
    "        key = keygen(**{k: v for k, v in param.items() if k not in {'scale', 'smoothness'}})\n",
    "        \n",
    "        if idx % 100 == 0:\n",
    "            print(idx)\n",
    "            print(key)\n",
    "        # 10 to go.\n",
    "        result = load_training_results(key, return_model=False)\n",
    "        # load twice, first time to get the model.\n",
    "        result = load_training_results(key, return_model=True, model=build_net(result['config_extra']['model']))\n",
    "        num_epochs = [len(x) for x in result['stats_all']]\n",
    "        \n",
    "        param_base = {\n",
    "            'act_fn': param['act_fn'],\n",
    "                'loss_type': param['loss_type'],\n",
    "                'scale': float(param['scale']),\n",
    "                'smoothness': float(param['smoothness']),\n",
    "                'num_layer': param['num_layer'],\n",
    "                'out_channel': param['out_channel'],\n",
    "                'kernel_size_l23': param['kernel_size_l23'],\n",
    "                # 4 to go.\n",
    "                '1st_bn_before_act': param['ff_1st_bn_before_act'],\n",
    "                'rcnn_bl_cls': param['rcnn_bl_cls'],\n",
    "\n",
    "                'model_seed': param['model_seed'],\n",
    "        }\n",
    "        \n",
    "        datasets = get_data_cached(param['input_size'], param['split_seed'])\n",
    "\n",
    "\n",
    "        datasets = {\n",
    "            'X_train': datasets[0].astype(np.float32),\n",
    "            'y_train': datasets[1],\n",
    "            'X_val': datasets[2].astype(np.float32),\n",
    "            'y_val': datasets[3],\n",
    "            'X_test': datasets[4].astype(np.float32),\n",
    "            'y_test': datasets[5],\n",
    "        }\n",
    "        \n",
    "        \n",
    "        \n",
    "        for subset in (\n",
    "#             'train',\n",
    "            'val',\n",
    "            'test',\n",
    "        ):\n",
    "            \n",
    "            file_to_store_this = join(dir_to_save, key, subset + '.npy')\n",
    "            assert exists(file_to_store_this)\n",
    "            responses = np.load(file_to_store_this)\n",
    "        \n",
    "            # save mse, adjusted mse, corr and adjusted corr, corr^2 and adjusted corr^2\n",
    "        \n",
    "            # basically\n",
    "            # mse, mse_normed, cc, cc_normed, cc2, cc2_normed.\n",
    "            \n",
    "            for measure in ('mse', 'cc', 'cc2'):\n",
    "                raw_metric = metric_map[measure](responses, datasets[f'y_{subset}'])\n",
    "            \n",
    "                _df_collect.append({\n",
    "                    **param_base,\n",
    "                    **{\n",
    "                        'subset': subset,\n",
    "                        'measure': measure,\n",
    "                        'val': raw_metric.mean(),\n",
    "                        'val_per': raw_metric,\n",
    "                    }\n",
    "                })\n",
    "                val_per_normed = normalize(raw_metric, **norm_power_map[measure])\n",
    "                _df_collect.append({\n",
    "                    **param_base,\n",
    "                    **{\n",
    "                        'subset': subset,\n",
    "                        'measure': f'{measure}_normed',\n",
    "                        'val': val_per_normed.mean(),\n",
    "                        'val_per': val_per_normed,\n",
    "                    }\n",
    "                })\n",
    "                \n",
    "            \n",
    "    _df =  pd.DataFrame(_df_collect, columns=[\n",
    "#             'split_seed',\n",
    "        'act_fn',\n",
    "        'loss_type', 'scale', 'smoothness', 'num_layer',\n",
    "        'kernel_size_l23', 'out_channel', '1st_bn_before_act',\n",
    "\n",
    "        'rcnn_bl_cls', 'model_seed',\n",
    "        'subset',\n",
    "        'measure', 'val', 'val_per'\n",
    "        \n",
    "    ])\n",
    "    \n",
    "    _df = _df.set_index([\n",
    "        'act_fn',\n",
    "        'loss_type', 'scale', 'smoothness', 'num_layer',\n",
    "        'kernel_size_l23', 'out_channel', '1st_bn_before_act',\n",
    "        \n",
    "        \n",
    "        'rcnn_bl_cls', 'model_seed',\n",
    "        \n",
    "        'subset', 'measure'\n",
    "    ], verify_integrity=True)\n",
    "    \n",
    "    return _df\n",
    "    \n",
    "    "
   ]
  },
  {
   "cell_type": "code",
   "execution_count": 12,
   "metadata": {
    "scrolled": false
   },
   "outputs": [
    {
     "name": "stdout",
     "output_type": "stream",
     "text": [
      "0\n",
      "yuanyuan_8k_a_3day/maskcnn_polished_with_rcnn_k_bl/s_selegacy/in_sz50/out_ch8/num_l2/k_l19/k_p3/ptavg/bn_a_fcFalse/actrelu/r_c1/r_psize1/r_ptypeNone/r_acccummean/ff1st_True/ff1stbba_True/sc0.01/sm0.000005/lmse/m_se0\n",
      "100\n",
      "yuanyuan_8k_a_3day/maskcnn_polished_with_rcnn_k_bl/s_selegacy/in_sz50/out_ch16/num_l3/k_l19/k_p3/ptavg/bn_a_fcFalse/actrelu/r_c3/r_psize1/r_ptypeNone/r_acccummean/ff1st_True/ff1stbba_True/sc0.01/sm0.000005/lmse/m_se0\n",
      "200\n",
      "yuanyuan_8k_a_3day/maskcnn_polished_with_rcnn_k_bl/s_selegacy/in_sz50/out_ch8/num_l2/k_l19/k_p3/ptavg/bn_a_fcFalse/actrelu/r_c1/r_psize1/r_ptypeNone/r_acccummean/ff1st_True/ff1stbba_True/k_l235/sc0.01/sm0.000005/lpoisson/m_se0\n",
      "300\n",
      "yuanyuan_8k_a_3day/maskcnn_polished_with_rcnn_k_bl/s_selegacy/in_sz50/out_ch16/num_l3/k_l19/k_p3/ptavg/bn_a_fcFalse/actrelu/r_c3/r_psize1/r_ptypeNone/r_acccummean/ff1st_True/ff1stbba_True/k_l235/sc0.01/sm0.000005/lpoisson/m_se0\n",
      "400\n",
      "yuanyuan_8k_a_3day/maskcnn_polished_with_rcnn_k_bl/s_selegacy/in_sz50/out_ch8/num_l2/k_l19/k_p3/ptavg/bn_a_fcFalse/actsoftplus/r_c1/r_psize1/r_ptypeNone/r_acccummean/ff1st_True/ff1stbba_True/k_l237/sc0.01/sm0.000005/lmse/m_se0\n",
      "500\n",
      "yuanyuan_8k_a_3day/maskcnn_polished_with_rcnn_k_bl/s_selegacy/in_sz50/out_ch16/num_l3/k_l19/k_p3/ptavg/bn_a_fcFalse/actsoftplus/r_c3/r_psize1/r_ptypeNone/r_acccummean/ff1st_True/ff1stbba_True/k_l237/sc0.01/sm0.000005/lmse/m_se0\n",
      "600\n",
      "yuanyuan_8k_a_3day/maskcnn_polished_with_rcnn_k_bl/s_selegacy/in_sz50/out_ch8/num_l2/k_l19/k_p3/ptavg/bn_a_fcFalse/actsoftplus/r_c1/r_psize1/r_ptypeNone/r_acccummean/ff1st_True/ff1stbba_True/k_l239/sc0.01/sm0.000005/lpoisson/m_se0\n",
      "700\n",
      "yuanyuan_8k_a_3day/maskcnn_polished_with_rcnn_k_bl/s_selegacy/in_sz50/out_ch16/num_l3/k_l19/k_p3/ptavg/bn_a_fcFalse/actsoftplus/r_c3/r_psize1/r_ptypeNone/r_acccummean/ff1st_True/ff1stbba_True/k_l239/sc0.01/sm0.000005/lpoisson/m_se0\n",
      "800\n",
      "yuanyuan_8k_a_3day/maskcnn_polished_with_rcnn_k_bl/s_selegacy/in_sz50/out_ch8/num_l3/k_l19/k_p3/ptavg/bn_a_fcFalse/actrelu/r_c1/r_psize1/r_ptypeNone/r_acccummean/ff1st_True/ff1stbba_True/sc0.01/sm0.000005/lmse/m_se1\n",
      "900\n",
      "yuanyuan_8k_a_3day/maskcnn_polished_with_rcnn_k_bl/s_selegacy/in_sz50/out_ch32/num_l2/k_l19/k_p3/ptavg/bn_a_fcFalse/actrelu/r_c3/r_psize1/r_ptypeNone/r_acccummean/ff1st_True/ff1stbba_True/sc0.01/sm0.000005/lmse/m_se1\n",
      "1000\n",
      "yuanyuan_8k_a_3day/maskcnn_polished_with_rcnn_k_bl/s_selegacy/in_sz50/out_ch8/num_l3/k_l19/k_p3/ptavg/bn_a_fcFalse/actrelu/r_c1/r_psize1/r_ptypeNone/r_acccummean/ff1st_True/ff1stbba_True/k_l235/sc0.01/sm0.000005/lpoisson/m_se1\n",
      "1100\n",
      "yuanyuan_8k_a_3day/maskcnn_polished_with_rcnn_k_bl/s_selegacy/in_sz50/out_ch32/num_l2/k_l19/k_p3/ptavg/bn_a_fcFalse/actrelu/r_c3/r_psize1/r_ptypeNone/r_acccummean/ff1st_True/ff1stbba_True/k_l235/sc0.01/sm0.000005/lpoisson/m_se1\n",
      "1200\n",
      "yuanyuan_8k_a_3day/maskcnn_polished_with_rcnn_k_bl/s_selegacy/in_sz50/out_ch8/num_l3/k_l19/k_p3/ptavg/bn_a_fcFalse/actsoftplus/r_c1/r_psize1/r_ptypeNone/r_acccummean/ff1st_True/ff1stbba_True/k_l237/sc0.01/sm0.000005/lmse/m_se1\n",
      "1300\n",
      "yuanyuan_8k_a_3day/maskcnn_polished_with_rcnn_k_bl/s_selegacy/in_sz50/out_ch32/num_l2/k_l19/k_p3/ptavg/bn_a_fcFalse/actsoftplus/r_c3/r_psize1/r_ptypeNone/r_acccummean/ff1st_True/ff1stbba_True/k_l237/sc0.01/sm0.000005/lmse/m_se1\n",
      "1400\n",
      "yuanyuan_8k_a_3day/maskcnn_polished_with_rcnn_k_bl/s_selegacy/in_sz50/out_ch8/num_l3/k_l19/k_p3/ptavg/bn_a_fcFalse/actsoftplus/r_c1/r_psize1/r_ptypeNone/r_acccummean/ff1st_True/ff1stbba_True/k_l239/sc0.01/sm0.000005/lpoisson/m_se1\n",
      "1500\n",
      "yuanyuan_8k_a_3day/maskcnn_polished_with_rcnn_k_bl/s_selegacy/in_sz50/out_ch32/num_l2/k_l19/k_p3/ptavg/bn_a_fcFalse/actsoftplus/r_c3/r_psize1/r_ptypeNone/r_acccummean/ff1st_True/ff1stbba_True/k_l239/sc0.01/sm0.000005/lpoisson/m_se1\n"
     ]
    }
   ],
   "source": [
    "metric_pkl_loc = join(\n",
    "    dir_dict['analyses'],\n",
    "    'metrics_yuanyuan_8k_a_3day+maskcnn_polished_with_rcnn_k_bl+20200218.pkl'\n",
    ")\n",
    "\n",
    "if not exists(metric_pkl_loc):\n",
    "    load_everything().to_pickle(metric_pkl_loc)\n",
    "\n",
    "df_all = pd.read_pickle(metric_pkl_loc)"
   ]
  },
  {
   "cell_type": "code",
   "execution_count": 13,
   "metadata": {},
   "outputs": [],
   "source": [
    "def plot_step_increase(df_this, pairs_to_check, ylim):\n",
    "    # remove those no innner act ones.\n",
    "    df_unstacked = df_this.unstack('rcnn_bl_cls')\n",
    "#     df_unstacked = corr_mean.unstack('pcn_cls')\n",
    "    print(df_unstacked.shape)\n",
    "    \n",
    "#     selector = df_unstacked.values[:,0] >= 0.50\n",
    "    selector = ()\n",
    "#     print(selector.mean())\n",
    "    \n",
    "    cls_values = df_unstacked.columns.values.tolist()\n",
    "    print(cls_values)\n",
    "    assert cls_values == list(range(1,len(cls_values)+1))\n",
    "    \n",
    "    n = df_unstacked.shape[0]\n",
    "    \n",
    "#     n = selector.sum()\n",
    "    print('n', n)\n",
    "    \n",
    "    \n",
    "    for p1, p2 in pairs_to_check:\n",
    "        val0 = df_unstacked.values[:,p1-1][selector]\n",
    "        val1 = df_unstacked.values[:,p2-1][selector]\n",
    "\n",
    "        # selection\n",
    "        print(\n",
    "            f'{p2} - {p1}',\n",
    "            'mean', (val1-val0).mean(),\n",
    "            'sem', (val1-val0).std()/np.sqrt(n)\n",
    "        )\n",
    "        \n",
    "    # time to plot.\n",
    "    # show results for cls_values[0] through cls_values[-1]\n",
    "    # for the first one, just show mean,\n",
    "    # for others show mean and s.e.m. of increase.\n",
    "    \n",
    "    mean_performance = []\n",
    "    sem_increase = []\n",
    "    labels = []\n",
    "    \n",
    "    for idx, cls_name in enumerate(cls_values):\n",
    "        assert idx == cls_name - 1\n",
    "        mean_performance.append(df_unstacked.values[:,idx][selector].mean())\n",
    "        if idx == 0:\n",
    "            sem_increase.append(0.0)\n",
    "        else:\n",
    "            sem_increase.append((df_unstacked.values[:,idx][selector]-df_unstacked.values[:,idx-1][selector]).std()/np.sqrt(n))\n",
    "        labels.append(str(cls_name))\n",
    "        \n",
    "    \n",
    "    plt.close('all')\n",
    "    fig = plt.figure(figsize=(8,3))\n",
    "    plt.bar(np.arange(len(cls_values)), mean_performance, 0.5, yerr=sem_increase)\n",
    "#     plt.ylabel('neural prediction performance')\n",
    "    plt.ylim(*ylim)\n",
    "    plt.xlabel('number of iterations in the BL block')\n",
    "    plt.xticks(np.arange(len(cls_values)), labels)\n",
    "    \n",
    "    \n",
    "    plt.text(0.1, 0.625, f'{n} variants', verticalalignment='center', horizontalalignment='left', \n",
    "            transform=plt.gca().transAxes)\n",
    "    fig.subplots_adjust(bottom=0.2)\n",
    "\n",
    "    plt.show()\n",
    "    \n",
    "    \n",
    "    \n"
   ]
  },
  {
   "cell_type": "code",
   "execution_count": 14,
   "metadata": {
    "scrolled": true
   },
   "outputs": [
    {
     "name": "stdout",
     "output_type": "stream",
     "text": [
      "(96, 4)\n",
      "[1, 2, 3, 4]\n",
      "n 96\n",
      "2 - 1 mean 0.02958426886131184 sem 0.0017932975739336796\n",
      "3 - 2 mean 0.005058711956794477 sem 0.0010810550509832773\n",
      "4 - 3 mean 0.0028433666591106688 sem 0.0008715343918271258\n",
      "4 - 2 mean 0.007902078615905144 sem 0.0011995438329475932\n"
     ]
    },
    {
     "data": {
      "image/png": "[encoded data removed]",
      "text/plain": [
       "<Figure size 576x216 with 1 Axes>"
      ]
     },
     "metadata": {
      "needs_background": "light"
     },
     "output_type": "display_data"
    }
   ],
   "source": [
    "# this exactly match what's in basic_for_20200218_cc2normed.ipynb\n",
    "\n",
    "\n",
    "# (48, 4)\n",
    "# [1, 2, 3, 4]\n",
    "# n 48\n",
    "# 2 - 1 mean 0.029584268475115222 sem 0.0023691908064684014\n",
    "# 3 - 2 mean 0.005058711595277207 sem 0.0011520950345487745\n",
    "# 4 - 3 mean 0.002843366782809708 sem 0.0008682186522390155\n",
    "# 4 - 2 mean 0.007902078378086916 sem 0.0013188904547508022\n",
    "\n",
    "\n",
    "# they are exactly the same while one\n",
    "\n",
    "plot_step_increase(df_all.xs(key=3, level='kernel_size_l23').xs(\n",
    "    key='test', level='subset'\n",
    ").xs(key='cc2_normed', level='measure')['val'], [(1,2),(2,3),(3,4),(2,4)], (0.595, 0.64))"
   ]
  },
  {
   "cell_type": "code",
   "execution_count": 15,
   "metadata": {},
   "outputs": [
    {
     "name": "stdout",
     "output_type": "stream",
     "text": [
      "(96, 4)\n",
      "[1, 2, 3, 4]\n",
      "n 96\n",
      "2 - 1 mean -0.000875749832584392 sem 5.023901181055234e-05\n",
      "3 - 2 mean -0.00015471463676130877 sem 3.0461592983173983e-05\n",
      "4 - 3 mean -8.488210484790021e-05 sem 2.678937439547173e-05\n",
      "4 - 2 mean -0.00023959674160920898 sem 3.312778497295013e-05\n"
     ]
    },
    {
     "data": {
      "image/png": "[encoded data removed]",
      "text/plain": [
       "<Figure size 576x216 with 1 Axes>"
      ]
     },
     "metadata": {
      "needs_background": "light"
     },
     "output_type": "display_data"
    }
   ],
   "source": [
    "# good\n",
    "plot_step_increase(\n",
    "    df_all.xs(key=3, level='kernel_size_l23').xs(\n",
    "        key='test', level='subset'\n",
    "    ).xs(\n",
    "        key='mse_normed', level='measure'\n",
    "    )['val'],\n",
    "    [(1,2),(2,3),(3,4),(2,4)],\n",
    "    (0.042, 0.046)\n",
    ")"
   ]
  },
  {
   "cell_type": "code",
   "execution_count": 16,
   "metadata": {},
   "outputs": [
    {
     "name": "stdout",
     "output_type": "stream",
     "text": [
      "(384, 4)\n",
      "[1, 2, 3, 4]\n",
      "n 384\n",
      "2 - 1 mean -0.0008849500326724953 sem 2.8709855430180002e-05\n",
      "3 - 2 mean -0.00013282937613884904 sem 1.638433569383591e-05\n",
      "4 - 3 mean -1.820565955557467e-05 sem 1.500478062289092e-05\n",
      "4 - 2 mean -0.00015103503569442373 sem 1.848807846958609e-05\n"
     ]
    },
    {
     "data": {
      "image/png": "[encoded data removed]",
      "text/plain": [
       "<Figure size 576x216 with 1 Axes>"
      ]
     },
     "metadata": {
      "needs_background": "light"
     },
     "output_type": "display_data"
    }
   ],
   "source": [
    "plot_step_increase(\n",
    "    df_all.xs(\n",
    "        key='test', level='subset'\n",
    "    ).xs(\n",
    "        key='mse_normed', level='measure'\n",
    "    )['val'],\n",
    "    [(1,2),(2,3),(3,4),(2,4)],\n",
    "    (0.042, 0.046)\n",
    ")"
   ]
  },
  {
   "cell_type": "code",
   "execution_count": 17,
   "metadata": {
    "scrolled": true
   },
   "outputs": [
    {
     "name": "stdout",
     "output_type": "stream",
     "text": [
      "(96, 4)\n",
      "[1, 2, 3, 4]\n",
      "n 96\n",
      "2 - 1 mean -0.0018810686224730352 sem 0.00011085701285520217\n",
      "3 - 2 mean -0.0003477266984786183 sem 6.602624019883166e-05\n",
      "4 - 3 mean -0.00018347688544928563 sem 5.578203845594446e-05\n",
      "4 - 2 mean -0.0005312035839279039 sem 7.307161140836516e-05\n"
     ]
    },
    {
     "data": {
      "image/png": "[encoded data removed]",
      "text/plain": [
       "<Figure size 576x216 with 1 Axes>"
      ]
     },
     "metadata": {
      "needs_background": "light"
     },
     "output_type": "display_data"
    }
   ],
   "source": [
    "# good\n",
    "plot_step_increase(\n",
    "    df_all.xs(key=3, level='kernel_size_l23').xs(\n",
    "        key='test', level='subset'\n",
    "    ).xs(\n",
    "        key='mse', level='measure'\n",
    "    )['val'],\n",
    "    [(1,2),(2,3),(3,4),(2,4)],\n",
    "    (0.106, 0.111)\n",
    ")"
   ]
  },
  {
   "cell_type": "code",
   "execution_count": 18,
   "metadata": {},
   "outputs": [
    {
     "name": "stdout",
     "output_type": "stream",
     "text": [
      "(384, 4)\n",
      "[1, 2, 3, 4]\n",
      "n 384\n",
      "2 - 1 mean -0.001929832852825438 sem 6.268362597837845e-05\n",
      "3 - 2 mean -0.00030453311867603293 sem 3.635117540879588e-05\n",
      "4 - 3 mean -5.897279281330258e-05 sem 3.249862684806291e-05\n",
      "4 - 2 mean -0.0003635059114893355 sem 4.0417145224322466e-05\n"
     ]
    },
    {
     "data": {
      "image/png": "[encoded data removed]",
      "text/plain": [
       "<Figure size 576x216 with 1 Axes>"
      ]
     },
     "metadata": {
      "needs_background": "light"
     },
     "output_type": "display_data"
    }
   ],
   "source": [
    "plot_step_increase(\n",
    "    df_all.xs(\n",
    "        key='test', level='subset'\n",
    "    ).xs(\n",
    "        key='mse', level='measure'\n",
    "    )['val'],\n",
    "    [(1,2),(2,3),(3,4),(2,4)],\n",
    "    (0.106, 0.111)\n",
    ")"
   ]
  }
 ],
 "metadata": {
  "kernelspec": {
   "display_name": "Python 3",
   "language": "python",
   "name": "python3"
  },
  "language_info": {
   "codemirror_mode": {
    "name": "ipython",
    "version": 3
   },
   "file_extension": ".py",
   "mimetype": "text/x-python",
   "name": "python",
   "nbconvert_exporter": "python",
   "pygments_lexer": "ipython3",
   "version": "3.7.6"
  }
 },
 "nbformat": 4,
 "nbformat_minor": 4
}

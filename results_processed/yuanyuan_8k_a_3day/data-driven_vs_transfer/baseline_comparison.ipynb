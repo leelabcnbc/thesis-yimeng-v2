{
 "cells": [
  {
   "cell_type": "markdown",
   "metadata": {},
   "source": [
    "this notebooks shows neuron by neuron comparison of standard data-driven vs. transfer learning.\n",
    "\n",
    "The hope is to have some picture as in my thesis proposal, showing the potential to combine the two.\n",
    "\n",
    "in the thesis proposal, data-driven was better; now seems that transfer learning takes over, due to larger data set (not 540-image CRCNS PVC-8 data any more).\n",
    "\n",
    "SHIT. In the proposal, I suppose I see different neurons getting fitted differently by two methods (low correlation), probably due to fluctuation in the CRCNS PVC-8 data. Here, it seems two methods get quite similar fitting performance (high correlation). Therefore, that \"combing two\" stuff seems useless.\n",
    "\n",
    "To completely make sure I failed, I need to\n",
    "\n",
    "1. wait for ReLU based transfer learning to get a final word on transfer learning.\n",
    "2. redo these experiments on CRCNS PVC-8 to double check."
   ]
  },
  {
   "cell_type": "code",
   "execution_count": 1,
   "metadata": {},
   "outputs": [],
   "source": [
    "from sys import path\n",
    "from os.path import join\n",
    "\n",
    "from thesis_v2 import dir_dict\n",
    "\n",
    "folder_to_check = 'scripts/training/yuanyuan_8k_a_3day'\n",
    "path.insert(0, join(dir_dict['root'], folder_to_check))\n",
    "from transfer_learning_factorized_vgg.submit import sparse_list\n",
    "from transfer_learning_factorized_vgg.key_utils import keygen as keygen_vgg\n",
    "from maskcnn_polished.key_utils import keygen as keygen_maskcnn"
   ]
  },
  {
   "cell_type": "code",
   "execution_count": 2,
   "metadata": {},
   "outputs": [],
   "source": [
    "# now let's load vgg's best ones, one for 50x50, one for 100x100.\n",
    "\n",
    "from thesis_v2.training_extra.transfer_learning.analysis import collect_one_setting\n",
    "\n",
    "def load_vgg_result(param):\n",
    "    # vgg11_bn's conv3_1 seems to be the best for 100x100.\n",
    "    # vgg11_bn's conv2_1 seems to be the best for 50x50.\n",
    "    # probably this is due to input scaling issue.\n",
    "    return collect_one_setting(\n",
    "        sparse_list=sparse_list,\n",
    "        keygen=keygen_vgg,\n",
    "        param=param,\n",
    "    )\n",
    "\n",
    "vgg_best_50 = load_vgg_result(\n",
    "{\n",
    "    'suffix': 'vgg11_bn/quarter/2.0',\n",
    "    'split_seed': 'legacy',\n",
    "    'model_seed': 0,\n",
    "    'act_fn': 'softplus',\n",
    "    'loss_type': 'mse',\n",
    "}\n",
    ")['test_best']\n",
    "\n",
    "vgg_best_100 = load_vgg_result(\n",
    "{\n",
    "    'suffix': 'vgg11_bn/half/4.0',\n",
    "    'split_seed': 'legacy',\n",
    "    'model_seed': 0,\n",
    "    'act_fn': 'softplus',\n",
    "    'loss_type': 'mse',\n",
    "}\n",
    ")['test_best']\n",
    "\n",
    "vgg_best_100_another = load_vgg_result(\n",
    "{\n",
    "    'suffix': 'vgg11_bn/half/2.0',\n",
    "    'split_seed': 'legacy',\n",
    "    'model_seed': 0,\n",
    "    'act_fn': 'softplus',\n",
    "    'loss_type': 'mse',\n",
    "}\n",
    ")['test_best']"
   ]
  },
  {
   "cell_type": "code",
   "execution_count": 3,
   "metadata": {},
   "outputs": [
    {
     "data": {
      "text/plain": [
       "(0.5224815948477274, 0.5604767105247401, 0.5541569005839432)"
      ]
     },
     "execution_count": 3,
     "metadata": {},
     "output_type": "execute_result"
    }
   ],
   "source": [
    "vgg_best_50.mean(), vgg_best_100.mean(), vgg_best_100_another.mean()\n",
    "# match those in the ipynb notebook (`vgg.ipynb`)."
   ]
  },
  {
   "cell_type": "code",
   "execution_count": 4,
   "metadata": {},
   "outputs": [],
   "source": [
    "# now let's load maskcnn_polished's best ones, one for 50x50, one for 100x100."
   ]
  },
  {
   "cell_type": "code",
   "execution_count": 5,
   "metadata": {},
   "outputs": [
    {
     "name": "stdout",
     "output_type": "stream",
     "text": [
      "0.5374951362609863 0.5374951362609863 0.5374951260753825\n"
     ]
    }
   ],
   "source": [
    "from thesis_v2.training.training_aux import load_training_results\n",
    "from thesis_v2.data.prepared.yuanyuan_8k import get_data\n",
    "from thesis_v2.training_extra.data import generate_datasets\n",
    "from thesis_v2.models.maskcnn_polished.builder import load_modules\n",
    "\n",
    "\n",
    "from thesis_v2.training_extra.evaluation import eval_fn_wrapper as eval_fn_wrapper_neural\n",
    "\n",
    "from thesis_v2.training.training import eval_wrapper\n",
    "from functools import partial\n",
    "from torchnetjson.builder import build_net\n",
    "import numpy as np\n",
    "from torch.backends import cudnn\n",
    "import torch\n",
    "cudnn.enabled = True\n",
    "cudnn.deterministic = True\n",
    "cudnn.benchmark = False\n",
    "\n",
    "load_modules()\n",
    "\n",
    "def load_maskcnn_result(param):\n",
    "    # this is tricky, because I did not save per neuron corr during training.\n",
    "    # shit.\n",
    "    #\n",
    "    # afterwards, I will simply save thoese perneuron corr.\n",
    "    # \n",
    "    # right now, let's load the data set and do the evaluation again.\n",
    "    assert param['out_channel'] == 16\n",
    "    assert param['num_layer'] == 2\n",
    "    assert param['kernel_size_l1'] == 9\n",
    "    assert param['pooling_ksize'] == 3\n",
    "    assert param['pooling_type'] == 'avg'\n",
    "\n",
    "    assert param['model_seed'] == 0\n",
    "\n",
    "    key = keygen_maskcnn(**{k: v for k, v in param.items() if k not in {'scale', 'smoothness'}})\n",
    "    result = load_training_results(key, return_model=False)\n",
    "        # load twice, first time to get the model.\n",
    "    result = load_training_results(key, return_model=True, model=build_net(result['config_extra']['model']))\n",
    "    \n",
    "    # then create data set.\n",
    "    datasets = get_data('a', 200, param['input_size'], ('042318', '043018', '051018'), scale=0.5,\n",
    "                        seed=param['split_seed'])\n",
    "    datasets = {\n",
    "        'X_train': datasets[0].astype(np.float32),\n",
    "        'y_train': datasets[1],\n",
    "        'X_val': datasets[2].astype(np.float32),\n",
    "        'y_val': datasets[3],\n",
    "        'X_test': datasets[4].astype(np.float32),\n",
    "        'y_test': datasets[5],\n",
    "    }\n",
    "    \n",
    "    # only the test one is needed.\n",
    "    datasets = generate_datasets(\n",
    "        **datasets,\n",
    "        per_epoch_train=True, shuffle_train=True,\n",
    "    )['test']\n",
    "    \n",
    "    result_on_the_go = eval_wrapper(result['model'].cuda(),\n",
    "                                    datasets,\n",
    "                                    'cuda',\n",
    "                                    1,\n",
    "                                    partial(eval_fn_wrapper_neural, loss_type=param['loss_type']),\n",
    "                                        lambda dummy1,dummy2,dummy3: torch.tensor(0.0)\n",
    "                                   )\n",
    "    ret = np.asarray(result_on_the_go['corr'])\n",
    "    print(result_on_the_go['corr_mean'], result['stats_best']['stats']['test']['corr_mean'],\n",
    "         ret.mean())\n",
    "    return ret\n",
    "    \n",
    "\n",
    "maskcnn_param_template = {\n",
    "    'out_channel': 16,\n",
    "    'num_layer': 2,\n",
    "    'kernel_size_l1': 9,\n",
    "    'pooling_ksize': 3,\n",
    "    'pooling_type': 'avg',\n",
    "    'model_seed': 0,\n",
    "    'split_seed': 'legacy',\n",
    "}\n",
    "maskcnn_best_100 = load_maskcnn_result(\n",
    "    # 0.537495 in `basic.ipynb`.\n",
    "    {\n",
    "        **maskcnn_param_template,\n",
    "        **{\n",
    "            'act_fn': 'relu',\n",
    "            'bn_before_act': True,\n",
    "            'loss_type': 'mse',\n",
    "            'smoothness': '0.000005',\n",
    "            'smoothness_name': '0.000005',\n",
    "            'scale': '0.01',\n",
    "            'scale_name': '0.01',\n",
    "            'bn_after_fc': False,\n",
    "            'input_size': 100,\n",
    "        }\n",
    "    }\n",
    ")"
   ]
  },
  {
   "cell_type": "code",
   "execution_count": 6,
   "metadata": {},
   "outputs": [],
   "source": [
    "%matplotlib inline\n",
    "import matplotlib.pyplot as plt\n",
    "from scipy.stats import pearsonr\n",
    "\n",
    "from thesis_v2.plots.basic import scatter\n",
    "from thesis_v2.plots.util import savefig\n",
    "\n",
    "def plot_scatter(x, y, xlabel, ylabel, key):\n",
    "    plt.close('all')\n",
    "    fig, ax = plt.subplots(figsize=(3,3))\n",
    "    \n",
    "    scatter(ax, x, y, xlabel, ylabel, xlim=(0.0, 1.0), ylim=(0.0,1.0))\n",
    "    # TODO set tick labels.\n",
    "    ax.text(0.5, 0.95, f'N={x.size}' + '\\n' + 'r={:.4f}'.format(pearsonr(x, y)[0]),\n",
    "            horizontalalignment='center',\n",
    "            verticalalignment='top', transform=ax.transAxes)\n",
    "    \n",
    "    ax.text(0.05, 0.95, '{:.4f}'.format(y.mean()),\n",
    "            horizontalalignment='left',\n",
    "            verticalalignment='top', transform=ax.transAxes)\n",
    "    \n",
    "    ax.text(0.95, 0.05, '{:.4f}'.format(x.mean()),\n",
    "            horizontalalignment='right',\n",
    "            verticalalignment='bottom', transform=ax.transAxes)\n",
    "    \n",
    "    # adjust figure size to make sure the aspect ratio is correct.\n",
    "    fig.subplots_adjust(left=0.2,bottom=0.2,right=0.9,top=0.9)\n",
    "    \n",
    "    # save fig.\n",
    "    savefig(fig, f'yuanyuan_8k_a_3day/data-driven_vs_transfer/baseline_comparison/{key}.pdf')\n",
    "    \n",
    "    plt.show()"
   ]
  },
  {
   "cell_type": "code",
   "execution_count": 7,
   "metadata": {
    "scrolled": false
   },
   "outputs": [
    {
     "data": {
      "image/png": "[encoded data removed]",
      "text/plain": [
       "<Figure size 216x216 with 1 Axes>"
      ]
     },
     "metadata": {
      "needs_background": "light"
     },
     "output_type": "display_data"
    }
   ],
   "source": [
    "plot_scatter(maskcnn_best_100, vgg_best_100, 'data-driven', 'goal-driven', '8k_100')"
   ]
  },
  {
   "cell_type": "code",
   "execution_count": 8,
   "metadata": {},
   "outputs": [
    {
     "data": {
      "image/png": "[encoded data removed]",
      "text/plain": [
       "<Figure size 216x216 with 1 Axes>"
      ]
     },
     "metadata": {
      "needs_background": "light"
     },
     "output_type": "display_data"
    }
   ],
   "source": [
    "plot_scatter(maskcnn_best_100, vgg_best_100_another, 'data-driven', 'goal-driven', '8k_100_another')"
   ]
  },
  {
   "cell_type": "code",
   "execution_count": 9,
   "metadata": {},
   "outputs": [
    {
     "name": "stdout",
     "output_type": "stream",
     "text": [
      "0.5196224451065063 0.5196224451065063 0.5196224688729153\n"
     ]
    }
   ],
   "source": [
    "maskcnn_best_50 = load_maskcnn_result(\n",
    "    # 0.519622 in `basic.ipynb`.\n",
    "    {\n",
    "        **maskcnn_param_template,\n",
    "        **{\n",
    "            'act_fn': 'relu',\n",
    "            'bn_before_act': True,\n",
    "            'loss_type': 'mse',\n",
    "            'smoothness': '0.000005',\n",
    "            'smoothness_name': '0.000005',\n",
    "            'scale': '0.01',\n",
    "            'scale_name': '0.01',\n",
    "            'bn_after_fc': False,\n",
    "            'input_size': 50,\n",
    "        }\n",
    "    }\n",
    ")"
   ]
  },
  {
   "cell_type": "code",
   "execution_count": 10,
   "metadata": {},
   "outputs": [
    {
     "data": {
      "image/png": "[encoded data removed]",
      "text/plain": [
       "<Figure size 216x216 with 1 Axes>"
      ]
     },
     "metadata": {
      "needs_background": "light"
     },
     "output_type": "display_data"
    }
   ],
   "source": [
    "plot_scatter(maskcnn_best_50, vgg_best_50, 'data-driven', 'goal-driven', '8k_50')"
   ]
  }
 ],
 "metadata": {
  "kernelspec": {
   "display_name": "Python 3",
   "language": "python",
   "name": "python3"
  },
  "language_info": {
   "codemirror_mode": {
    "name": "ipython",
    "version": 3
   },
   "file_extension": ".py",
   "mimetype": "text/x-python",
   "name": "python",
   "nbconvert_exporter": "python",
   "pygments_lexer": "ipython3",
   "version": "3.7.3"
  }
 },
 "nbformat": 4,
 "nbformat_minor": 2
}

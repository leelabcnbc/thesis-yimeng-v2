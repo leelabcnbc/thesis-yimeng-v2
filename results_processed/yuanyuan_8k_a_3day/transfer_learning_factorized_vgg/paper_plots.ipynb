{
 "cells": [
  {
   "cell_type": "code",
   "execution_count": 1,
   "metadata": {},
   "outputs": [],
   "source": [
    "from sys import path\n",
    "from os.path import relpath, realpath, abspath, join, exists\n",
    "from itertools import product\n",
    "\n",
    "%matplotlib inline\n",
    "import matplotlib.pyplot as plt\n",
    "import numpy as np\n",
    "import pandas as pd\n",
    "import h5py\n",
    "\n",
    "pd.set_option('display.max_rows', 999)"
   ]
  },
  {
   "cell_type": "code",
   "execution_count": 2,
   "metadata": {},
   "outputs": [],
   "source": [
    "from thesis_v2 import dir_dict\n",
    "from thesis_v2.data import load_data_helper\n",
    "from thesis_v2.training_extra.transfer_learning.meta import fetch_meta\n",
    "from thesis_v2.training_extra.transfer_learning.analysis import collect_one_setting"
   ]
  },
  {
   "cell_type": "code",
   "execution_count": 3,
   "metadata": {},
   "outputs": [],
   "source": [
    "folder_to_check = 'scripts/training/yuanyuan_8k_a_3day/transfer_learning_factorized_vgg'\n",
    "path.insert(0, join(dir_dict['root'], folder_to_check))\n",
    "from submit import param_iterator, sparse_list, feature_file_name\n",
    "from key_utils import keygen\n",
    "\n",
    "num_sparse = len(sparse_list)"
   ]
  },
  {
   "cell_type": "code",
   "execution_count": 4,
   "metadata": {},
   "outputs": [],
   "source": [
    "def load_everything():\n",
    "    _df_collect = []\n",
    "    argmax_all = []\n",
    "    for idx, param in enumerate(param_iterator(include_sparse=False)):\n",
    "        if idx % 5 == 0:\n",
    "            print(idx)\n",
    "        \n",
    "        assert param['split_seed'] == 'legacy' and param['model_seed'] == 0\n",
    "        \n",
    "        # get meta\n",
    "        with h5py.File(feature_file_name, 'r') as f_feature:\n",
    "            meta_this = fetch_meta(f_feature['a/' + param['suffix']], 'a/' + param['suffix'])\n",
    "        assert meta_this['dataset'] == 'a'\n",
    "        assert meta_this['layer_unroll'] == 0\n",
    "        \n",
    "        performance_result = collect_one_setting(\n",
    "            sparse_list = sparse_list,\n",
    "            keygen=keygen,\n",
    "            param=param,\n",
    "            num_neuron=79,\n",
    "        )\n",
    "       \n",
    "    \n",
    "        bn = meta_this['network'].endswith('_bn')\n",
    "        if bn:\n",
    "            network_proper = meta_this['network'][:-3]\n",
    "        else:\n",
    "            network_proper = meta_this['network']\n",
    "        _df_collect.append({\n",
    "            'network': network_proper,\n",
    "            'scale': meta_this['setting'],\n",
    "            'loss_type': param['loss_type'],\n",
    "            'act_fn': param['act_fn'],\n",
    "            'layer': '{:02d}.{}'.format(meta_this['layer_idx'], meta_this['layer_name']),\n",
    "            'BN': bn,\n",
    "            'corr_test': performance_result['test_best'].mean(),\n",
    "        })\n",
    "        \n",
    "        # which sparsity setting is used.\n",
    "        argmax_all.append(performance_result['argmax'])\n",
    "        \n",
    "    argmax_all = np.concatenate(argmax_all, axis=0)\n",
    "    # looks good. most neurons select middle ones.\n",
    "    \n",
    "    # remove -1 ones.\n",
    "    argmax_all = argmax_all[argmax_all!=-1]\n",
    "    print(np.bincount(argmax_all)/argmax_all.size)\n",
    "\n",
    "    _df =  pd.DataFrame(_df_collect, columns=['network', 'BN', 'scale', 'loss_type', 'act_fn', 'layer', 'corr_test'])\n",
    "    _df = _df.set_index(['network', 'BN', 'scale', 'loss_type', 'act_fn', 'layer'], verify_integrity=True)\n",
    "    return _df['corr_test']"
   ]
  },
  {
   "cell_type": "code",
   "execution_count": 5,
   "metadata": {
    "scrolled": false
   },
   "outputs": [
    {
     "name": "stdout",
     "output_type": "stream",
     "text": [
      "['vgg11/half/1.0', 'vgg11/half/2.0', 'vgg11/half/3.0', 'vgg11/half/4.0', 'vgg11/half/5.0', 'vgg11/half/6.0', 'vgg11/quarter/1.0', 'vgg11/quarter/2.0', 'vgg11/quarter/3.0', 'vgg11/quarter/4.0', 'vgg11/quarter/5.0', 'vgg11/quarter/6.0', 'vgg11_bn/half/1.0', 'vgg11_bn/half/2.0', 'vgg11_bn/half/3.0', 'vgg11_bn/half/4.0', 'vgg11_bn/half/5.0', 'vgg11_bn/half/6.0', 'vgg11_bn/quarter/1.0', 'vgg11_bn/quarter/2.0', 'vgg11_bn/quarter/3.0', 'vgg11_bn/quarter/4.0', 'vgg11_bn/quarter/5.0', 'vgg11_bn/quarter/6.0', 'vgg16/half/2.0', 'vgg16/half/3.0', 'vgg16/half/4.0', 'vgg16/half/5.0', 'vgg16/half/6.0', 'vgg16/half/7.0', 'vgg16/half/8.0', 'vgg16/half/9.0', 'vgg16/quarter/2.0', 'vgg16/quarter/3.0', 'vgg16/quarter/4.0', 'vgg16/quarter/5.0', 'vgg16/quarter/6.0', 'vgg16/quarter/7.0', 'vgg16/quarter/8.0', 'vgg16/quarter/9.0', 'vgg16_bn/half/2.0', 'vgg16_bn/half/3.0', 'vgg16_bn/half/4.0', 'vgg16_bn/half/5.0', 'vgg16_bn/half/6.0', 'vgg16_bn/half/7.0', 'vgg16_bn/half/8.0', 'vgg16_bn/half/9.0', 'vgg16_bn/quarter/2.0', 'vgg16_bn/quarter/3.0', 'vgg16_bn/quarter/4.0', 'vgg16_bn/quarter/5.0', 'vgg16_bn/quarter/6.0', 'vgg16_bn/quarter/7.0', 'vgg16_bn/quarter/8.0', 'vgg16_bn/quarter/9.0']\n",
      "0\n",
      "5\n",
      "10\n",
      "15\n",
      "20\n",
      "25\n",
      "30\n",
      "35\n",
      "40\n",
      "45\n",
      "50\n",
      "55\n",
      "60\n",
      "65\n",
      "70\n",
      "75\n",
      "80\n",
      "85\n",
      "90\n",
      "95\n",
      "100\n",
      "105\n",
      "110\n",
      "115\n",
      "120\n",
      "125\n",
      "130\n",
      "135\n",
      "140\n",
      "145\n",
      "150\n",
      "155\n",
      "160\n",
      "165\n",
      "170\n",
      "175\n",
      "180\n",
      "185\n",
      "190\n",
      "195\n",
      "200\n",
      "205\n",
      "210\n",
      "215\n",
      "220\n",
      "[2.35501913e-04 2.63173388e-01 6.83956432e-01 4.43332352e-02\n",
      " 8.30144245e-03]\n"
     ]
    }
   ],
   "source": [
    "# collect all data.\n",
    "# it's a series.\n",
    "df = load_everything()"
   ]
  },
  {
   "cell_type": "code",
   "execution_count": 6,
   "metadata": {
    "scrolled": false
   },
   "outputs": [],
   "source": [
    "# only focus on the split seed == 'legacy' part."
   ]
  },
  {
   "cell_type": "code",
   "execution_count": 7,
   "metadata": {},
   "outputs": [],
   "source": [
    "# df_to_use = df.xs('legacy', level='split_seed')\n",
    "df_to_use = df"
   ]
  },
  {
   "cell_type": "code",
   "execution_count": 8,
   "metadata": {
    "scrolled": false
   },
   "outputs": [
    {
     "data": {
      "text/plain": [
       "network  BN     scale    loss_type  act_fn    layer     \n",
       "vgg11    False  half     poisson    softplus  01.pool1      0.487056\n",
       "                         mse        softplus  01.pool1      0.486747\n",
       "                         poisson    relu      01.pool1      0.495672\n",
       "                         mse        relu      01.pool1      0.499613\n",
       "                         poisson    softplus  02.conv2_1         NaN\n",
       "                         mse        softplus  02.conv2_1         NaN\n",
       "                         poisson    relu      02.conv2_1    0.547048\n",
       "                         mse        relu      02.conv2_1    0.549416\n",
       "                         poisson    softplus  03.pool2      0.550874\n",
       "                         mse        softplus  03.pool2      0.548774\n",
       "                         poisson    relu      03.pool2      0.551418\n",
       "                         mse        relu      03.pool2      0.552948\n",
       "                         poisson    softplus  04.conv3_1    0.559793\n",
       "                         mse        softplus  04.conv3_1    0.558721\n",
       "                         poisson    relu      04.conv3_1    0.554440\n",
       "                         mse        relu      04.conv3_1    0.556666\n",
       "                         poisson    softplus  05.conv3_2    0.546895\n",
       "                         mse        softplus  05.conv3_2    0.545067\n",
       "                         poisson    relu      05.conv3_2    0.537460\n",
       "                         mse        relu      05.conv3_2    0.540512\n",
       "                         poisson    softplus  06.pool3      0.537138\n",
       "                         mse        softplus  06.pool3      0.536402\n",
       "                         poisson    relu      06.pool3      0.531764\n",
       "                         mse        relu      06.pool3      0.535140\n",
       "                quarter  poisson    softplus  01.pool1      0.491367\n",
       "                         mse        softplus  01.pool1      0.489221\n",
       "                         poisson    relu      01.pool1      0.496453\n",
       "                         mse        relu      01.pool1      0.500102\n",
       "                         poisson    softplus  02.conv2_1    0.521204\n",
       "                         mse        softplus  02.conv2_1    0.520795\n",
       "                         poisson    relu      02.conv2_1    0.519370\n",
       "                         mse        relu      02.conv2_1    0.521722\n",
       "                         poisson    softplus  03.pool2      0.515791\n",
       "                         mse        softplus  03.pool2      0.515407\n",
       "                         poisson    relu      03.pool2      0.515503\n",
       "                         mse        relu      03.pool2      0.518430\n",
       "                         poisson    softplus  04.conv3_1    0.509031\n",
       "                         mse        softplus  04.conv3_1    0.508399\n",
       "                         poisson    relu      04.conv3_1    0.500894\n",
       "                         mse        relu      04.conv3_1    0.505672\n",
       "                         poisson    softplus  05.conv3_2    0.480944\n",
       "                         mse        softplus  05.conv3_2    0.480686\n",
       "                         poisson    relu      05.conv3_2    0.473115\n",
       "                         mse        relu      05.conv3_2    0.477790\n",
       "                         poisson    softplus  06.pool3      0.453635\n",
       "                         mse        softplus  06.pool3      0.452101\n",
       "                         poisson    relu      06.pool3      0.447102\n",
       "                         mse        relu      06.pool3      0.449822\n",
       "         True   half     poisson    softplus  01.pool1      0.480526\n",
       "                         mse        softplus  01.pool1      0.479741\n",
       "                         poisson    relu      01.pool1      0.487949\n",
       "                         mse        relu      01.pool1      0.491950\n",
       "                         poisson    softplus  02.conv2_1    0.555827\n",
       "                         mse        softplus  02.conv2_1    0.554157\n",
       "                         poisson    relu      02.conv2_1    0.546180\n",
       "                         mse        relu      02.conv2_1         NaN\n",
       "                         poisson    softplus  03.pool2      0.556711\n",
       "                         mse        softplus  03.pool2      0.556281\n",
       "                         poisson    relu      03.pool2      0.552297\n",
       "                         mse        relu      03.pool2      0.555376\n",
       "                         poisson    softplus  04.conv3_1    0.561210\n",
       "                         mse        softplus  04.conv3_1    0.560477\n",
       "                         poisson    relu      04.conv3_1    0.551201\n",
       "                         mse        relu      04.conv3_1    0.555222\n",
       "                         poisson    softplus  05.conv3_2    0.548151\n",
       "                         mse        softplus  05.conv3_2    0.548001\n",
       "                         poisson    relu      05.conv3_2    0.537043\n",
       "                         mse        relu      05.conv3_2    0.540680\n",
       "                         poisson    softplus  06.pool3      0.540125\n",
       "                         mse        softplus  06.pool3      0.538920\n",
       "                         poisson    relu      06.pool3      0.530150\n",
       "                         mse        relu      06.pool3      0.533134\n",
       "                quarter  poisson    softplus  01.pool1      0.489165\n",
       "                         mse        softplus  01.pool1      0.485629\n",
       "                         poisson    relu      01.pool1      0.489497\n",
       "                         mse        relu      01.pool1      0.495985\n",
       "                         poisson    softplus  02.conv2_1    0.524572\n",
       "                         mse        softplus  02.conv2_1    0.522482\n",
       "                         poisson    relu      02.conv2_1    0.516990\n",
       "                         mse        relu      02.conv2_1    0.520119\n",
       "                         poisson    softplus  03.pool2      0.517411\n",
       "                         mse        softplus  03.pool2      0.517262\n",
       "                         poisson    relu      03.pool2      0.514268\n",
       "                         mse        relu      03.pool2      0.517176\n",
       "                         poisson    softplus  04.conv3_1    0.508259\n",
       "                         mse        softplus  04.conv3_1    0.508212\n",
       "                         poisson    relu      04.conv3_1    0.497684\n",
       "                         mse        relu      04.conv3_1    0.502519\n",
       "                         poisson    softplus  05.conv3_2    0.476419\n",
       "                         mse        softplus  05.conv3_2    0.476460\n",
       "                         poisson    relu      05.conv3_2    0.467113\n",
       "                         mse        relu      05.conv3_2    0.470024\n",
       "                         poisson    softplus  06.pool3      0.448924\n",
       "                         mse        softplus  06.pool3      0.447924\n",
       "                         poisson    relu      06.pool3      0.442737\n",
       "                         mse        relu      06.pool3      0.445286\n",
       "vgg16    False  half     poisson    softplus  02.pool1      0.519152\n",
       "                         mse        softplus  02.pool1      0.516585\n",
       "                         poisson    relu      02.pool1      0.521585\n",
       "                         mse        relu      02.pool1      0.525438\n",
       "                         poisson    softplus  03.conv2_1    0.534611\n",
       "                         mse        softplus  03.conv2_1         NaN\n",
       "                         poisson    relu      03.conv2_1    0.535369\n",
       "                         mse        relu      03.conv2_1    0.537361\n",
       "                         poisson    softplus  04.conv2_2         NaN\n",
       "                         mse        softplus  04.conv2_2    0.538309\n",
       "                         poisson    relu      04.conv2_2    0.535317\n",
       "                         mse        relu      04.conv2_2    0.538059\n",
       "                         poisson    softplus  05.pool2      0.543787\n",
       "                         mse        softplus  05.pool2      0.542854\n",
       "                         poisson    relu      05.pool2      0.540868\n",
       "                         mse        relu      05.pool2      0.543495\n",
       "                         poisson    softplus  06.conv3_1    0.552532\n",
       "                         mse        softplus  06.conv3_1    0.551735\n",
       "                         poisson    relu      06.conv3_1    0.546279\n",
       "                         mse        relu      06.conv3_1    0.548510\n",
       "                         poisson    softplus  07.conv3_2    0.536725\n",
       "                         mse        softplus  07.conv3_2    0.536084\n",
       "                         poisson    relu      07.conv3_2    0.530934\n",
       "                         mse        relu      07.conv3_2    0.534026\n",
       "                         poisson    softplus  08.conv3_3    0.516580\n",
       "                         mse        softplus  08.conv3_3    0.515082\n",
       "                         poisson    relu      08.conv3_3    0.510950\n",
       "                         mse        relu      08.conv3_3    0.512648\n",
       "                         poisson    softplus  09.pool3      0.506767\n",
       "                         mse        softplus  09.pool3      0.506004\n",
       "                         poisson    relu      09.pool3      0.501157\n",
       "                         mse        relu      09.pool3      0.504849\n",
       "                quarter  poisson    softplus  02.pool1      0.507177\n",
       "                         mse        softplus  02.pool1      0.504880\n",
       "                         poisson    relu      02.pool1      0.508527\n",
       "                         mse        relu      02.pool1      0.510148\n",
       "                         poisson    softplus  03.conv2_1    0.515001\n",
       "                         mse        softplus  03.conv2_1    0.514624\n",
       "                         poisson    relu      03.conv2_1    0.509696\n",
       "                         mse        relu      03.conv2_1    0.512830\n",
       "                         poisson    softplus  04.conv2_2    0.514938\n",
       "                         mse        softplus  04.conv2_2    0.512587\n",
       "                         poisson    relu      04.conv2_2    0.507827\n",
       "                         mse        relu      04.conv2_2    0.510176\n",
       "                         poisson    softplus  05.pool2      0.505164\n",
       "                         mse        softplus  05.pool2      0.504475\n",
       "                         poisson    relu      05.pool2      0.500595\n",
       "                         mse        relu      05.pool2      0.504189\n",
       "                         poisson    softplus  06.conv3_1    0.501924\n",
       "                         mse        softplus  06.conv3_1    0.501602\n",
       "                         poisson    relu      06.conv3_1    0.494559\n",
       "                         mse        relu      06.conv3_1    0.497892\n",
       "                         poisson    softplus  07.conv3_2    0.465453\n",
       "                         mse        softplus  07.conv3_2    0.464926\n",
       "                         poisson    relu      07.conv3_2    0.458215\n",
       "                         mse        relu      07.conv3_2    0.460914\n",
       "                         poisson    softplus  08.conv3_3    0.407498\n",
       "                         mse        softplus  08.conv3_3    0.405456\n",
       "                         poisson    relu      08.conv3_3    0.401833\n",
       "                         mse        relu      08.conv3_3    0.404633\n",
       "                         poisson    softplus  09.pool3      0.383824\n",
       "                         mse        softplus  09.pool3      0.383889\n",
       "                         poisson    relu      09.pool3      0.381395\n",
       "                         mse        relu      09.pool3      0.382757\n",
       "         True   half     poisson    softplus  02.pool1      0.518712\n",
       "                         mse        softplus  02.pool1      0.521288\n",
       "                         poisson    relu      02.pool1      0.517571\n",
       "                         mse        relu      02.pool1      0.522791\n",
       "                         poisson    softplus  03.conv2_1    0.534201\n",
       "                         mse        softplus  03.conv2_1    0.532366\n",
       "                         poisson    relu      03.conv2_1         NaN\n",
       "                         mse        relu      03.conv2_1         NaN\n",
       "                         poisson    softplus  04.conv2_2    0.542779\n",
       "                         mse        softplus  04.conv2_2    0.540383\n",
       "                         poisson    relu      04.conv2_2         NaN\n",
       "                         mse        relu      04.conv2_2         NaN\n",
       "                         poisson    softplus  05.pool2      0.550461\n",
       "                         mse        softplus  05.pool2      0.548332\n",
       "                         poisson    relu      05.pool2      0.539202\n",
       "                         mse        relu      05.pool2      0.542174\n",
       "                         poisson    softplus  06.conv3_1    0.557826\n",
       "                         mse        softplus  06.conv3_1    0.556911\n",
       "                         poisson    relu      06.conv3_1    0.546320\n",
       "                         mse        relu      06.conv3_1    0.549811\n",
       "                         poisson    softplus  07.conv3_2    0.541003\n",
       "                         mse        softplus  07.conv3_2    0.540107\n",
       "                         poisson    relu      07.conv3_2    0.528313\n",
       "                         mse        relu      07.conv3_2    0.532473\n",
       "                         poisson    softplus  08.conv3_3    0.517424\n",
       "                         mse        softplus  08.conv3_3    0.516067\n",
       "                         poisson    relu      08.conv3_3    0.506516\n",
       "                         mse        relu      08.conv3_3    0.509281\n",
       "                         poisson    softplus  09.pool3      0.507086\n",
       "                         mse        softplus  09.pool3      0.507104\n",
       "                         poisson    relu      09.pool3      0.501101\n",
       "                         mse        relu      09.pool3      0.503192\n",
       "                quarter  poisson    softplus  02.pool1      0.514708\n",
       "                         mse        softplus  02.pool1      0.513166\n",
       "                         poisson    relu      02.pool1      0.510412\n",
       "                         mse        relu      02.pool1      0.512621\n",
       "                         poisson    softplus  03.conv2_1    0.515901\n",
       "                         mse        softplus  03.conv2_1    0.513665\n",
       "                         poisson    relu      03.conv2_1    0.506762\n",
       "                         mse        relu      03.conv2_1    0.508987\n",
       "                         poisson    softplus  04.conv2_2    0.517923\n",
       "                         mse        softplus  04.conv2_2    0.517505\n",
       "                         poisson    relu      04.conv2_2    0.507190\n",
       "                         mse        relu      04.conv2_2    0.510950\n",
       "                         poisson    softplus  05.pool2      0.509166\n",
       "                         mse        softplus  05.pool2      0.508834\n",
       "                         poisson    relu      05.pool2      0.498904\n",
       "                         mse        relu      05.pool2      0.502258\n",
       "                         poisson    softplus  06.conv3_1    0.503260\n",
       "                         mse        softplus  06.conv3_1    0.502020\n",
       "                         poisson    relu      06.conv3_1    0.494076\n",
       "                         mse        relu      06.conv3_1    0.497412\n",
       "                         poisson    softplus  07.conv3_2    0.467215\n",
       "                         mse        softplus  07.conv3_2    0.467278\n",
       "                         poisson    relu      07.conv3_2    0.458103\n",
       "                         mse        relu      07.conv3_2    0.462098\n",
       "                         poisson    softplus  08.conv3_3    0.407681\n",
       "                         mse        softplus  08.conv3_3    0.407929\n",
       "                         poisson    relu      08.conv3_3    0.401597\n",
       "                         mse        relu      08.conv3_3    0.404094\n",
       "                         poisson    softplus  09.pool3      0.384548\n",
       "                         mse        softplus  09.pool3      0.384160\n",
       "                         poisson    relu      09.pool3      0.380808\n",
       "                         mse        relu      09.pool3      0.382662\n",
       "Name: corr_test, dtype: float64"
      ]
     },
     "execution_count": 8,
     "metadata": {},
     "output_type": "execute_result"
    }
   ],
   "source": [
    "df_to_use"
   ]
  },
  {
   "cell_type": "code",
   "execution_count": 9,
   "metadata": {},
   "outputs": [],
   "source": [
    "%matplotlib inline\n",
    "import matplotlib.pyplot as plt\n",
    "\n",
    "from thesis_v2.plots.basic import scatter\n",
    "from thesis_v2.plots.util import savefig"
   ]
  },
  {
   "cell_type": "code",
   "execution_count": 10,
   "metadata": {},
   "outputs": [],
   "source": [
    "def plot_scatter(df_this, key1, key2, level, xlabel, ylabel, key):\n",
    "    plt.close('all')\n",
    "    fig, ax = plt.subplots(figsize=(3,3))\n",
    "    \n",
    "    x = df_this.xs(key1, level=level).sort_index().values\n",
    "    y = df_this.xs(key2, level=level).sort_index().values\n",
    "    \n",
    "    selector = np.logical_and(np.isfinite(x), np.isfinite(y))\n",
    "    n = selector.sum()\n",
    "    assert n > 0\n",
    "    \n",
    "    scatter(ax, x[selector], y[selector], xlabel, ylabel, xlim=(0.3, 0.6), ylim=(0.3,0.6))\n",
    "    # TODO set tick labels.\n",
    "    ax.text(0.05, 0.95, f'N={n}',\n",
    "            horizontalalignment='left',\n",
    "            verticalalignment='top', transform=ax.transAxes)\n",
    "    \n",
    "    # adjust figure size to make sure the aspect ratio is correct.\n",
    "    fig.subplots_adjust(left=0.2,bottom=0.2,right=0.9,top=0.9)\n",
    "    \n",
    "    # save fig.\n",
    "    savefig(fig, f'yuanyuan_8k_a_3day/transfer_learning_factorized_vgg/hyperparameter_no_size_change/{key}.pdf')\n",
    "    \n",
    "    plt.show()"
   ]
  },
  {
   "cell_type": "code",
   "execution_count": 11,
   "metadata": {},
   "outputs": [],
   "source": [
    "# df_to_use = df_to_use.xs('relu', level='act_fn')\n",
    "# if you uncomment this and replot, you can see all those outliers disappear.\n",
    "# remember to comment out `plot_scatter(df_to_use, 'softplus', 'relu', 'act_fn', 'softplus', 'relu', 'act')`, as act_fn column disappears then."
   ]
  },
  {
   "cell_type": "code",
   "execution_count": 12,
   "metadata": {},
   "outputs": [
    {
     "data": {
      "image/png": "[encoded data removed]",
      "text/plain": [
       "<Figure size 216x216 with 1 Axes>"
      ]
     },
     "metadata": {
      "needs_background": "light"
     },
     "output_type": "display_data"
    }
   ],
   "source": [
    "plot_scatter(df_to_use, 'quarter', 'half', 'scale', 'quarter', 'half', 'input_size')"
   ]
  },
  {
   "cell_type": "code",
   "execution_count": 13,
   "metadata": {},
   "outputs": [
    {
     "data": {
      "image/png": "[encoded data removed]",
      "text/plain": [
       "<Figure size 216x216 with 1 Axes>"
      ]
     },
     "metadata": {
      "needs_background": "light"
     },
     "output_type": "display_data"
    }
   ],
   "source": [
    "plot_scatter(df_to_use, 'softplus', 'relu', 'act_fn', 'softplus', 'relu', 'act')"
   ]
  },
  {
   "cell_type": "code",
   "execution_count": 14,
   "metadata": {},
   "outputs": [
    {
     "data": {
      "image/png": "[encoded data removed]",
      "text/plain": [
       "<Figure size 216x216 with 1 Axes>"
      ]
     },
     "metadata": {
      "needs_background": "light"
     },
     "output_type": "display_data"
    }
   ],
   "source": [
    "# loss_type\n",
    "plot_scatter(df_to_use, 'poisson', 'mse', 'loss_type', 'poisson', 'mse', 'loss_type')\n",
    "# outliers (those with ~0 performance points) are all due to softplus. check line `df_to_use = df_to_use.xs('relu', level='act_fn')`."
   ]
  },
  {
   "cell_type": "code",
   "execution_count": 15,
   "metadata": {},
   "outputs": [],
   "source": [
    "from thesis_v2.plots.basic import labeled_line"
   ]
  },
  {
   "cell_type": "code",
   "execution_count": 16,
   "metadata": {},
   "outputs": [],
   "source": [
    "# then plot corr. vs. layer stuff.\n",
    "def visualize():\n",
    "    for net in df_to_use.index.get_level_values('network').unique():\n",
    "        print(net)\n",
    "        \n",
    "        df_this = df_to_use.xs(net, level='network')\n",
    "        df_this_shaped = df_this.xs('mse', level='loss_type').xs('softplus', level='act_fn').xs('half', level='scale').unstack('BN').sort_index().sort_index(axis=1)\n",
    "        \n",
    "        \n",
    "        df_this_shaped.plot(rot=45, marker='x')\n",
    "        \n",
    "        \n",
    "        print(df_this_shaped)\n",
    "        assert df_this_shaped.columns.values.tolist() == [False, True]\n",
    "        \n",
    "        plt.close('all')\n",
    "        \n",
    "        fig, ax = plt.subplots(figsize=(6,4))\n",
    "        \n",
    "        labeled_line(ax,\n",
    "                     [\n",
    "                         ('no BN', df_this_shaped.values[:,0]),\n",
    "                         ('BN', df_this_shaped.values[:,1]),\n",
    "                     ],\n",
    "                     [s[3:] for s in df_this_shaped.index.values],\n",
    "                     xlabel='layer',\n",
    "                     ylabel='mean corr on test set',\n",
    "                     ylim=(0.47, 0.57),\n",
    "                     plot_kwargs={'marker': 'x'},\n",
    "                     xticklabels_kwargs={'rotation': 45},\n",
    "                    )\n",
    "        \n",
    "        fig.subplots_adjust(bottom=0.225,right=0.975,top=0.975)\n",
    "        \n",
    "        savefig(fig,\n",
    "                f'yuanyuan_8k_a_3day/transfer_learning_factorized_vgg/per_layer_performance/{net}.pdf'\n",
    "               )\n",
    "        plt.show()"
   ]
  },
  {
   "cell_type": "code",
   "execution_count": 17,
   "metadata": {},
   "outputs": [
    {
     "name": "stdout",
     "output_type": "stream",
     "text": [
      "vgg11\n",
      "BN             False     True \n",
      "layer                         \n",
      "01.pool1    0.486747  0.479741\n",
      "02.conv2_1       NaN  0.554157\n",
      "03.pool2    0.548774  0.556281\n",
      "04.conv3_1  0.558721  0.560477\n",
      "05.conv3_2  0.545067  0.548001\n",
      "06.pool3    0.536402  0.538920\n"
     ]
    },
    {
     "data": {
      "image/png": "[encoded data removed]",
      "text/plain": [
       "<Figure size 432x288 with 1 Axes>"
      ]
     },
     "metadata": {
      "needs_background": "light"
     },
     "output_type": "display_data"
    },
    {
     "name": "stdout",
     "output_type": "stream",
     "text": [
      "vgg16\n",
      "BN             False     True \n",
      "layer                         \n",
      "02.pool1    0.516585  0.521288\n",
      "03.conv2_1       NaN  0.532366\n",
      "04.conv2_2  0.538309  0.540383\n",
      "05.pool2    0.542854  0.548332\n",
      "06.conv3_1  0.551735  0.556911\n",
      "07.conv3_2  0.536084  0.540107\n",
      "08.conv3_3  0.515082  0.516067\n",
      "09.pool3    0.506004  0.507104\n"
     ]
    },
    {
     "data": {
      "image/png": "[encoded data removed]",
      "text/plain": [
       "<Figure size 432x288 with 1 Axes>"
      ]
     },
     "metadata": {
      "needs_background": "light"
     },
     "output_type": "display_data"
    }
   ],
   "source": [
    "visualize()\n",
    "# combine BN."
   ]
  }
 ],
 "metadata": {
  "kernelspec": {
   "display_name": "Python 3",
   "language": "python",
   "name": "python3"
  },
  "language_info": {
   "codemirror_mode": {
    "name": "ipython",
    "version": 3
   },
   "file_extension": ".py",
   "mimetype": "text/x-python",
   "name": "python",
   "nbconvert_exporter": "python",
   "pygments_lexer": "ipython3",
   "version": "3.7.3"
  }
 },
 "nbformat": 4,
 "nbformat_minor": 2
}

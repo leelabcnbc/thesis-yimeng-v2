{
 "cells": [
  {
   "cell_type": "markdown",
   "metadata": {},
   "source": [
    "compared to the 8k version, the results look more promising --- there are some wins and loses between goal-driven (transfer learning) and data-driven. Still, the result is much less significant visually, compared to what I have in the thesis proposal."
   ]
  },
  {
   "cell_type": "code",
   "execution_count": 1,
   "metadata": {},
   "outputs": [],
   "source": [
    "from sys import path\n",
    "from os.path import join\n",
    "\n",
    "from thesis_v2 import dir_dict\n",
    "\n",
    "folder_to_check = 'scripts/training/crcns_pvc8_large'\n",
    "path.insert(0, join(dir_dict['root'], folder_to_check))\n",
    "from transfer_learning_factorized_vgg.submit import sparse_list\n",
    "from transfer_learning_factorized_vgg.key_utils import keygen as keygen_vgg\n",
    "from maskcnn_polished.key_utils import keygen as keygen_maskcnn"
   ]
  },
  {
   "cell_type": "code",
   "execution_count": 2,
   "metadata": {},
   "outputs": [],
   "source": [
    "# now let's load vgg's best ones, one for 50x50, one for 100x100.\n",
    "\n",
    "from thesis_v2.training_extra.transfer_learning.analysis import collect_one_setting\n",
    "\n",
    "def load_vgg_result(param):\n",
    "    # vgg11_bn's conv3_1 seems to be the best for 100x100.\n",
    "    # vgg11_bn's conv2_1 seems to be the best for 50x50.\n",
    "    # probably this is due to input scaling issue.\n",
    "    return collect_one_setting(\n",
    "        sparse_list=sparse_list,\n",
    "        keygen=keygen_vgg,\n",
    "        param=param,\n",
    "    )\n",
    "\n",
    "vgg_result_template = {\n",
    "    'suffix': 'vgg16_bn/half_full/6.0',\n",
    "    'split_seed': 0,\n",
    "    'model_seed': 0,\n",
    "    'act_fn': 'softplus',\n",
    "    # use softplus, to be consistent with my writing.\n",
    "    # although softplus not that good on crcns, but it's good for transfer learning on 8K. maybe just some small-size effect.\n",
    "    'loss_type': 'mse',  # use mse to be simple. it performed similarly to poisson in most cases (for 8K at least)\n",
    "}\n",
    "\n",
    "vgg_best_legacy = load_vgg_result(\n",
    "{\n",
    "    **vgg_result_template,\n",
    "    'shuffle_type': 'legacy',\n",
    "}\n",
    ")['test_best']\n",
    "\n",
    "# by using this one (rather than mse + relu, which performed best for legacy), we can use same setup for both results.\n",
    "\n",
    "vgg_best_paired = load_vgg_result(\n",
    "{\n",
    "    **vgg_result_template,\n",
    "    'shuffle_type': 'paired',\n",
    "}\n",
    ")['test_best']"
   ]
  },
  {
   "cell_type": "code",
   "execution_count": 3,
   "metadata": {},
   "outputs": [
    {
     "data": {
      "text/plain": [
       "(0.6823872097207411, 0.6408477397256307)"
      ]
     },
     "execution_count": 3,
     "metadata": {},
     "output_type": "execute_result"
    }
   ],
   "source": [
    "vgg_best_legacy.mean(), vgg_best_paired.mean()\n",
    "# match those in the ipynb notebook (`vgg.ipynb`)."
   ]
  },
  {
   "cell_type": "code",
   "execution_count": 4,
   "metadata": {},
   "outputs": [],
   "source": [
    "# now let's load maskcnn_polished's best ones, one for 50x50, one for 100x100."
   ]
  },
  {
   "cell_type": "code",
   "execution_count": 5,
   "metadata": {},
   "outputs": [
    {
     "name": "stdout",
     "output_type": "stream",
     "text": [
      "(3, 221)\n",
      "(3, 221)\n"
     ]
    }
   ],
   "source": [
    "from thesis_v2.training.training_aux import load_training_results\n",
    "import numpy as np\n",
    "def load_maskcnn_result(param):\n",
    "    results = [\n",
    "        load_maskcnn_result_inner(\n",
    "            {\n",
    "                **param,\n",
    "                **{\n",
    "                     'model_seed': x,\n",
    "                }\n",
    "            }\n",
    "        ) for x in range(3)\n",
    "    ]\n",
    "    results = np.asarray(results)\n",
    "    print(results.shape)\n",
    "    return results.mean(axis=0)\n",
    "\n",
    "def load_maskcnn_result_inner(param):\n",
    "    # this is tricky, because I did not save per neuron corr during training.\n",
    "    # shit.\n",
    "    #\n",
    "    # afterwards, I will simply save thoese perneuron corr.\n",
    "    # \n",
    "    # right now, let's load the data set and do the evaluation again.\n",
    "    assert param['out_channel'] == 16\n",
    "    assert param['num_layer'] == 2\n",
    "    assert param['kernel_size_l1'] == 7\n",
    "    assert param['pooling_ksize'] == 3\n",
    "    assert param['pooling_type'] == 'avg'\n",
    "\n",
    "    key = keygen_maskcnn(**{k: v for k, v in param.items() if k not in {'scale', 'smoothness'}})\n",
    "    result = load_training_results(key, return_model=False)['stats_best']['stats']['test']['corr']\n",
    "    result = np.asarray(result)\n",
    "    return result\n",
    "    \n",
    "\n",
    "maskcnn_param_template = {\n",
    "    'out_channel': 16,\n",
    "    'num_layer': 2,\n",
    "    'kernel_size_l1': 7,\n",
    "    'pooling_ksize': 3,\n",
    "    'pooling_type': 'avg',\n",
    "    'split_seed': 0,\n",
    "    \n",
    "    'act_fn': 'relu',\n",
    "    'bn_before_act': True,\n",
    "    # use poisson to be consistent with my writing.\n",
    "    'loss_type': 'mse',\n",
    "    'smoothness_name': '0.00002',\n",
    "    'scale_name': '0.01105',\n",
    "    'bn_after_fc': False,\n",
    "    \n",
    "}\n",
    "maskcnn_best_legacy = load_maskcnn_result(\n",
    "    # 0.537495 in `basic.ipynb`.\n",
    "    {\n",
    "        **maskcnn_param_template,\n",
    "        'shuffle_type': 'legacy',\n",
    "    }\n",
    ")\n",
    "\n",
    "maskcnn_best_paired = load_maskcnn_result(\n",
    "    # 0.537495 in `basic.ipynb`.\n",
    "    {\n",
    "        **maskcnn_param_template,\n",
    "        'shuffle_type': 'paired',\n",
    "    }\n",
    ")"
   ]
  },
  {
   "cell_type": "code",
   "execution_count": 6,
   "metadata": {},
   "outputs": [
    {
     "data": {
      "text/plain": [
       "(0.7291439185944438, 0.6951750037941639)"
      ]
     },
     "execution_count": 6,
     "metadata": {},
     "output_type": "execute_result"
    }
   ],
   "source": [
    "maskcnn_best_legacy.mean(), maskcnn_best_paired.mean()"
   ]
  },
  {
   "cell_type": "code",
   "execution_count": 7,
   "metadata": {},
   "outputs": [],
   "source": [
    "%matplotlib inline\n",
    "import matplotlib.pyplot as plt\n",
    "from scipy.stats import pearsonr\n",
    "\n",
    "from thesis_v2.plots.basic import scatter\n",
    "from thesis_v2.plots.util import savefig\n",
    "\n",
    "def plot_scatter(x, y, xlabel, ylabel, key):\n",
    "    plt.close('all')\n",
    "    fig, ax = plt.subplots(figsize=(3,3))\n",
    "    \n",
    "    scatter(ax, x, y, xlabel, ylabel, xlim=(0.0, 1.0), ylim=(0.0,1.0))\n",
    "    # TODO set tick labels.\n",
    "    ax.text(0.5, 0.95, f'N={x.size}' + '\\n' + 'r={:.4f}'.format(pearsonr(x, y)[0]),\n",
    "            horizontalalignment='center',\n",
    "            verticalalignment='top', transform=ax.transAxes)\n",
    "    \n",
    "    ax.text(0.05, 0.95, '{:.4f}'.format(y.mean()),\n",
    "            horizontalalignment='left',\n",
    "            verticalalignment='top', transform=ax.transAxes)\n",
    "    \n",
    "    ax.text(0.95, 0.05, '{:.4f}'.format(x.mean()),\n",
    "            horizontalalignment='right',\n",
    "            verticalalignment='bottom', transform=ax.transAxes)\n",
    "    \n",
    "    # adjust figure size to make sure the aspect ratio is correct.\n",
    "    fig.subplots_adjust(left=0.2,bottom=0.2,right=0.9,top=0.9)\n",
    "    \n",
    "    # save fig.\n",
    "    savefig(fig, f'crcns_pvc8_large/data-driven_vs_transfer/baseline_comparison/{key}.pdf')\n",
    "    \n",
    "    plt.show()"
   ]
  },
  {
   "cell_type": "code",
   "execution_count": 8,
   "metadata": {
    "scrolled": true
   },
   "outputs": [
    {
     "data": {
      "image/png": "[encoded data removed]",
      "text/plain": [
       "<Figure size 216x216 with 1 Axes>"
      ]
     },
     "metadata": {
      "needs_background": "light"
     },
     "output_type": "display_data"
    }
   ],
   "source": [
    "plot_scatter(maskcnn_best_legacy, vgg_best_legacy, 'data-driven', 'goal-driven', 'legacy')"
   ]
  },
  {
   "cell_type": "code",
   "execution_count": 9,
   "metadata": {},
   "outputs": [
    {
     "data": {
      "image/png": "[encoded data removed]",
      "text/plain": [
       "<Figure size 216x216 with 1 Axes>"
      ]
     },
     "metadata": {
      "needs_background": "light"
     },
     "output_type": "display_data"
    }
   ],
   "source": [
    "plot_scatter(maskcnn_best_paired, vgg_best_paired, 'data-driven', 'goal-driven', 'paired')"
   ]
  }
 ],
 "metadata": {
  "kernelspec": {
   "display_name": "Python 3",
   "language": "python",
   "name": "python3"
  },
  "language_info": {
   "codemirror_mode": {
    "name": "ipython",
    "version": 3
   },
   "file_extension": ".py",
   "mimetype": "text/x-python",
   "name": "python",
   "nbconvert_exporter": "python",
   "pygments_lexer": "ipython3",
   "version": "3.7.3"
  }
 },
 "nbformat": 4,
 "nbformat_minor": 2
}

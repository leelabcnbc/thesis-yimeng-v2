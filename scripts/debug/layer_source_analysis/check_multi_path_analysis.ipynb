{
 "cells": [
  {
   "cell_type": "code",
   "execution_count": 1,
   "metadata": {},
   "outputs": [],
   "source": [
    "from thesis_v2.analysis.utils import LayerSourceAnalysis, get_source_analysis_for_one_model_spec"
   ]
  },
  {
   "cell_type": "code",
   "execution_count": 2,
   "metadata": {},
   "outputs": [
    {
     "name": "stdout",
     "output_type": "stream",
     "text": [
      "original\n",
      "[{'conv': ('I', 'B1', 's1,1'), 'scale': (1.0,)}]\n",
      "[{'conv': ('I', 'B1', 's1,2'), 'scale': (1.0,)}, {'conv': ('I', 'B1', 's1,1', 'R1', 's1,2'), 'scale': (1.0,)}]\n",
      "[{'conv': ('I', 'B1', 's1,3'), 'scale': (1.0,)}, {'conv': ('I', 'B1', 's1,2', 'R1', 's1,3'), 'scale': (1.0,)}, {'conv': ('I', 'B1', 's1,1', 'R1', 's1,2', 'R1', 's1,3'), 'scale': (1.0,)}]\n",
      "separate bn, bn in conv\n",
      "[{'conv': ('I', 'B1', 's1,1'), 'scale': (1.0,)}]\n",
      "[{'conv': ('I', 'B1', 's1,2'), 'scale': (1.0,)}, {'conv': ('I', 'B1', 's1,1,1', 'R1', 's1,2,1'), 'scale': (1.0,)}]\n",
      "[{'conv': ('I', 'B1', 's1,3'), 'scale': (1.0,)}, {'conv': ('I', 'B1', 's1,2,2', 'R1', 's1,3,1'), 'scale': (1.0,)}, {'conv': ('I', 'B1', 's1,1,2', 'R1', 's1,2,3', 'R1', 's1,3,2'), 'scale': (1.0,)}]\n",
      "separate bn, bn in scale\n",
      "[{'conv': ('I', 'B1'), 'scale': (1.0, 's1,1')}]\n",
      "[{'conv': ('I', 'B1'), 'scale': (1.0, 's1,2')}, {'conv': ('I', 'B1', 'R1'), 'scale': (1.0, 's1,1,1', 's1,2,1')}]\n",
      "[{'conv': ('I', 'B1'), 'scale': (1.0, 's1,3')}, {'conv': ('I', 'B1', 'R1'), 'scale': (1.0, 's1,2,2', 's1,3,1')}, {'conv': ('I', 'B1', 'R1', 'R1'), 'scale': (1.0, 's1,1,2', 's1,2,3', 's1,3,2')}]\n",
      "original\n",
      "[{'conv': ('I', 'B1', 's1,1', 'B2', 's2,1'), 'scale': (1.0,)}]\n",
      "[{'conv': ('I', 'B1', 's1,2', 'B2', 's2,2'), 'scale': (1.0,)}, {'conv': ('I', 'B1', 's1,1', 'R1', 's1,2', 'B2', 's2,2'), 'scale': (1.0,)}, {'conv': ('I', 'B1', 's1,1', 'B2', 's2,1', 'R2', 's2,2'), 'scale': (1.0,)}]\n",
      "separate bn, bn in conv\n",
      "[{'conv': ('I', 'B1', 's1,1', 'B2', 's2,1'), 'scale': (1.0,)}]\n",
      "[{'conv': ('I', 'B1', 's1,2', 'B2', 's2,2'), 'scale': (1.0,)}, {'conv': ('I', 'B1', 's1,1,1', 'R1', 's1,2,1', 'B2', 's2,2,1'), 'scale': (1.0,)}, {'conv': ('I', 'B1', 's1,1,2', 'B2', 's2,1,1', 'R2', 's2,2,2'), 'scale': (1.0,)}]\n",
      "separate bn, bn in scale\n",
      "[{'conv': ('I', 'B1', 'B2'), 'scale': (1.0, 's1,1', 's2,1')}]\n",
      "[{'conv': ('I', 'B1', 'B2'), 'scale': (1.0, 's1,2', 's2,2')}, {'conv': ('I', 'B1', 'R1', 'B2'), 'scale': (1.0, 's1,1,1', 's1,2,1', 's2,2,1')}, {'conv': ('I', 'B1', 'B2', 'R2'), 'scale': (1.0, 's1,1,2', 's2,1,1', 's2,2,2')}]\n"
     ]
    }
   ],
   "source": [
    "# check results in schema.pdf that explains multi path idea\n",
    "\n",
    "def check_schema_figure():\n",
    "    for config in [(1,3), (2,2)]:\n",
    "        num_l, num_t = config\n",
    "        \n",
    "        print('original')\n",
    "        \n",
    "        aaaaaa = get_source_analysis_for_one_model_spec(\n",
    "            num_recurrent_layer=num_l, num_cls=num_t,\n",
    "            readout_type='inst-last', return_raw=True, add_bn_in_chain=True\n",
    "        )[-1]\n",
    "        for zzz in aaaaaa:\n",
    "            print(zzz.source_list)\n",
    "            \n",
    "        \n",
    "        print('separate bn, bn in conv')\n",
    "        \n",
    "        aaaaaa = get_source_analysis_for_one_model_spec(\n",
    "            num_recurrent_layer=num_l, num_cls=num_t,\n",
    "            readout_type='inst-last', return_raw=True, add_bn_in_chain=True, separate_bn=True\n",
    "        )[-1]\n",
    "        for zzz in aaaaaa:\n",
    "            print(zzz.source_list)\n",
    "            \n",
    "        print('separate bn, bn in scale')\n",
    "        \n",
    "        aaaaaa = get_source_analysis_for_one_model_spec(\n",
    "            num_recurrent_layer=num_l, num_cls=num_t,\n",
    "            readout_type='inst-last', return_raw=True, add_bn_in_chain=False, separate_bn=True\n",
    "        )[-1]\n",
    "        for zzz in aaaaaa:\n",
    "            print(zzz.source_list)\n",
    "            \n",
    "                \n",
    "check_schema_figure()"
   ]
  }
 ],
 "metadata": {
  "kernelspec": {
   "display_name": "Python 3",
   "language": "python",
   "name": "python3"
  },
  "language_info": {
   "codemirror_mode": {
    "name": "ipython",
    "version": 3
   },
   "file_extension": ".py",
   "mimetype": "text/x-python",
   "name": "python",
   "nbconvert_exporter": "python",
   "pygments_lexer": "ipython3",
   "version": "3.7.6"
  }
 },
 "nbformat": 4,
 "nbformat_minor": 4
}

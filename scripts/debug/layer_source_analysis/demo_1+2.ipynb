{
 "cells": [
  {
   "cell_type": "code",
   "execution_count": 1,
   "metadata": {},
   "outputs": [],
   "source": [
    "from thesis_v2.analysis.utils import LayerSourceAnalysis, get_source_analysis_for_one_model_spec"
   ]
  },
  {
   "cell_type": "code",
   "execution_count": 2,
   "metadata": {},
   "outputs": [],
   "source": [
    "# use my util function to achieve the same"
   ]
  },
  {
   "cell_type": "code",
   "execution_count": 3,
   "metadata": {},
   "outputs": [],
   "source": [
    "### let's see different readout types\n",
    "\n",
    "def check_different_readout_type():\n",
    "    scale_map = {\n",
    "        # a default dict won't work!!! because .get() in defaultdict is the same is regular dict.\n",
    "        f's1,{t}': 1.0 for t in range(1, 3+1)\n",
    "    }\n",
    "    \n",
    "    for readout_type in ('inst-last', 'cm-last', 'inst-avg', 'cm-avg'):\n",
    "        src_this = get_source_analysis_for_one_model_spec(\n",
    "            num_recurrent_layer=1, num_cls=3, readout_type=readout_type\n",
    "        )\n",
    "        print(readout_type)\n",
    "        print(src_this.unique_convs)\n",
    "        print(src_this.source_list)\n",
    "        print(src_this.evaluate(scale_map))"
   ]
  },
  {
   "cell_type": "code",
   "execution_count": 4,
   "metadata": {
    "scrolled": false
   },
   "outputs": [
    {
     "name": "stdout",
     "output_type": "stream",
     "text": [
      "inst-last\n",
      "{('I', 'B1', 'R1', 'R1'), ('I', 'B1'), ('I', 'B1', 'R1')}\n",
      "[{'conv': ('I', 'B1'), 'scale': (1.0, 's1,3')}, {'conv': ('I', 'B1', 'R1'), 'scale': (1.0, 's1,2', 's1,3')}, {'conv': ('I', 'B1', 'R1', 'R1'), 'scale': (1.0, 's1,1', 's1,2', 's1,3')}]\n",
      "{('I', 'B1'): 1.0, ('I', 'B1', 'R1'): 1.0, ('I', 'B1', 'R1', 'R1'): 1.0}\n",
      "cm-last\n",
      "{('I', 'B1', 'R1', 'R1'), ('I', 'B1'), ('I', 'B1', 'R1')}\n",
      "[{'conv': ('I', 'B1'), 'scale': (1.0, 's1,1', 0.3333333333333333)}, {'conv': ('I', 'B1'), 'scale': (1.0, 's1,2', 0.3333333333333333)}, {'conv': ('I', 'B1', 'R1'), 'scale': (1.0, 's1,1', 's1,2', 0.3333333333333333)}, {'conv': ('I', 'B1'), 'scale': (1.0, 's1,3', 0.3333333333333333)}, {'conv': ('I', 'B1', 'R1'), 'scale': (1.0, 's1,2', 's1,3', 0.3333333333333333)}, {'conv': ('I', 'B1', 'R1', 'R1'), 'scale': (1.0, 's1,1', 's1,2', 's1,3', 0.3333333333333333)}]\n",
      "{('I', 'B1'): 1.0, ('I', 'B1', 'R1'): 0.6666666666666666, ('I', 'B1', 'R1', 'R1'): 0.3333333333333333}\n",
      "inst-avg\n",
      "{('I', 'B1', 'R1', 'R1'), ('I', 'B1'), ('I', 'B1', 'R1')}\n",
      "[{'conv': ('I', 'B1'), 'scale': (1.0, 's1,1', 0.3333333333333333)}, {'conv': ('I', 'B1'), 'scale': (1.0, 's1,2', 0.3333333333333333)}, {'conv': ('I', 'B1', 'R1'), 'scale': (1.0, 's1,1', 's1,2', 0.3333333333333333)}, {'conv': ('I', 'B1'), 'scale': (1.0, 's1,3', 0.3333333333333333)}, {'conv': ('I', 'B1', 'R1'), 'scale': (1.0, 's1,2', 's1,3', 0.3333333333333333)}, {'conv': ('I', 'B1', 'R1', 'R1'), 'scale': (1.0, 's1,1', 's1,2', 's1,3', 0.3333333333333333)}]\n",
      "{('I', 'B1'): 1.0, ('I', 'B1', 'R1'): 0.6666666666666666, ('I', 'B1', 'R1', 'R1'): 0.3333333333333333}\n",
      "cm-avg\n",
      "{('I', 'B1', 'R1', 'R1'), ('I', 'B1'), ('I', 'B1', 'R1')}\n",
      "[{'conv': ('I', 'B1'), 'scale': (1.0, 's1,1', 1.0, 0.3333333333333333)}, {'conv': ('I', 'B1'), 'scale': (1.0, 's1,1', 0.5, 0.3333333333333333)}, {'conv': ('I', 'B1'), 'scale': (1.0, 's1,2', 0.5, 0.3333333333333333)}, {'conv': ('I', 'B1', 'R1'), 'scale': (1.0, 's1,1', 's1,2', 0.5, 0.3333333333333333)}, {'conv': ('I', 'B1'), 'scale': (1.0, 's1,1', 0.3333333333333333, 0.3333333333333333)}, {'conv': ('I', 'B1'), 'scale': (1.0, 's1,2', 0.3333333333333333, 0.3333333333333333)}, {'conv': ('I', 'B1', 'R1'), 'scale': (1.0, 's1,1', 's1,2', 0.3333333333333333, 0.3333333333333333)}, {'conv': ('I', 'B1'), 'scale': (1.0, 's1,3', 0.3333333333333333, 0.3333333333333333)}, {'conv': ('I', 'B1', 'R1'), 'scale': (1.0, 's1,2', 's1,3', 0.3333333333333333, 0.3333333333333333)}, {'conv': ('I', 'B1', 'R1', 'R1'), 'scale': (1.0, 's1,1', 's1,2', 's1,3', 0.3333333333333333, 0.3333333333333333)}]\n",
      "{('I', 'B1'): 1.0, ('I', 'B1', 'R1'): 0.3888888888888889, ('I', 'B1', 'R1', 'R1'): 0.1111111111111111}\n"
     ]
    }
   ],
   "source": [
    "check_different_readout_type()\n",
    "# looks good!"
   ]
  },
  {
   "cell_type": "code",
   "execution_count": 5,
   "metadata": {},
   "outputs": [],
   "source": [
    "### let's see different readout types\n",
    "\n",
    "def check_different_readout_type_2layer():\n",
    "    scale_map = {\n",
    "        # a default dict won't work!!! because .get() in defaultdict is the same is regular dict.\n",
    "        f's1,{t}': 1.0 for t in range(1, 3+1)\n",
    "    }\n",
    "    \n",
    "    scale_map.update({\n",
    "        f's2,{t}': 1.0 for t in range(1, 3+1)\n",
    "    })\n",
    "    \n",
    "    for readout_type in ('inst-last', 'cm-last', 'inst-avg', 'cm-avg'):\n",
    "        src_this = get_source_analysis_for_one_model_spec(\n",
    "            num_recurrent_layer=2, num_cls=2, readout_type=readout_type\n",
    "        )\n",
    "        print(readout_type)\n",
    "        print(src_this.unique_convs)\n",
    "        print(src_this.source_list)\n",
    "        print(src_this.evaluate(scale_map))"
   ]
  },
  {
   "cell_type": "code",
   "execution_count": 6,
   "metadata": {},
   "outputs": [
    {
     "name": "stdout",
     "output_type": "stream",
     "text": [
      "inst-last\n",
      "{('I', 'B1', 'B2'), ('I', 'B1', 'R1', 'B2'), ('I', 'B1', 'B2', 'R2')}\n",
      "[{'conv': ('I', 'B1', 'B2'), 'scale': (1.0, 's1,2', 's2,2')}, {'conv': ('I', 'B1', 'R1', 'B2'), 'scale': (1.0, 's1,1', 's1,2', 's2,2')}, {'conv': ('I', 'B1', 'B2', 'R2'), 'scale': (1.0, 's1,1', 's2,1', 's2,2')}]\n",
      "{('I', 'B1', 'B2'): 1.0, ('I', 'B1', 'R1', 'B2'): 1.0, ('I', 'B1', 'B2', 'R2'): 1.0}\n",
      "cm-last\n",
      "{('I', 'B1', 'B2'), ('I', 'B1', 'R1', 'B2'), ('I', 'B1', 'B2', 'R2')}\n",
      "[{'conv': ('I', 'B1', 'B2'), 'scale': (1.0, 's1,1', 's2,1', 0.5)}, {'conv': ('I', 'B1', 'B2'), 'scale': (1.0, 's1,2', 's2,2', 0.5)}, {'conv': ('I', 'B1', 'R1', 'B2'), 'scale': (1.0, 's1,1', 's1,2', 's2,2', 0.5)}, {'conv': ('I', 'B1', 'B2', 'R2'), 'scale': (1.0, 's1,1', 's2,1', 's2,2', 0.5)}]\n",
      "{('I', 'B1', 'B2'): 1.0, ('I', 'B1', 'R1', 'B2'): 0.5, ('I', 'B1', 'B2', 'R2'): 0.5}\n",
      "inst-avg\n",
      "{('I', 'B1', 'B2'), ('I', 'B1', 'R1', 'B2'), ('I', 'B1', 'B2', 'R2')}\n",
      "[{'conv': ('I', 'B1', 'B2'), 'scale': (1.0, 's1,1', 's2,1', 0.5)}, {'conv': ('I', 'B1', 'B2'), 'scale': (1.0, 's1,2', 's2,2', 0.5)}, {'conv': ('I', 'B1', 'R1', 'B2'), 'scale': (1.0, 's1,1', 's1,2', 's2,2', 0.5)}, {'conv': ('I', 'B1', 'B2', 'R2'), 'scale': (1.0, 's1,1', 's2,1', 's2,2', 0.5)}]\n",
      "{('I', 'B1', 'B2'): 1.0, ('I', 'B1', 'R1', 'B2'): 0.5, ('I', 'B1', 'B2', 'R2'): 0.5}\n",
      "cm-avg\n",
      "{('I', 'B1', 'B2'), ('I', 'B1', 'R1', 'B2'), ('I', 'B1', 'B2', 'R2')}\n",
      "[{'conv': ('I', 'B1', 'B2'), 'scale': (1.0, 's1,1', 's2,1', 1.0, 0.5)}, {'conv': ('I', 'B1', 'B2'), 'scale': (1.0, 's1,1', 's2,1', 0.5, 0.5)}, {'conv': ('I', 'B1', 'B2'), 'scale': (1.0, 's1,2', 's2,2', 0.5, 0.5)}, {'conv': ('I', 'B1', 'R1', 'B2'), 'scale': (1.0, 's1,1', 's1,2', 's2,2', 0.5, 0.5)}, {'conv': ('I', 'B1', 'B2', 'R2'), 'scale': (1.0, 's1,1', 's2,1', 's2,2', 0.5, 0.5)}]\n",
      "{('I', 'B1', 'B2'): 1.0, ('I', 'B1', 'R1', 'B2'): 0.25, ('I', 'B1', 'B2', 'R2'): 0.25}\n"
     ]
    }
   ],
   "source": [
    "check_different_readout_type_2layer()\n",
    "# verified some of them. looks correct. it's so complicated.\n",
    "# note that we can have multiple instances with same depth, such as \n",
    "# ('I', 'B1', 'R1', 'B2') vs ('I', 'B1', 'B2', 'R2').\n",
    "# it will be try to analyze this."
   ]
  }
 ],
 "metadata": {
  "kernelspec": {
   "display_name": "Python 3",
   "language": "python",
   "name": "python3"
  },
  "language_info": {
   "codemirror_mode": {
    "name": "ipython",
    "version": 3
   },
   "file_extension": ".py",
   "mimetype": "text/x-python",
   "name": "python",
   "nbconvert_exporter": "python",
   "pygments_lexer": "ipython3",
   "version": "3.7.6"
  }
 },
 "nbformat": 4,
 "nbformat_minor": 4
}

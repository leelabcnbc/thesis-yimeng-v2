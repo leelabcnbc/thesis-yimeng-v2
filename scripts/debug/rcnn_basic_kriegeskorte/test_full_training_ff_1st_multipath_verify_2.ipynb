{
 "cells": [
  {
   "cell_type": "code",
   "execution_count": 1,
   "metadata": {},
   "outputs": [],
   "source": [
    "# check that when number of iteration is 1, multipath give same result"
   ]
  },
  {
   "cell_type": "code",
   "execution_count": 2,
   "metadata": {},
   "outputs": [],
   "source": [
    "# test full training of maskcnn_polished_with_rcnn_k_bl\n",
    "from os.path import join\n",
    "\n",
    "import numpy as np\n",
    "\n",
    "import torch\n",
    "\n",
    "from thesis_v2 import dir_dict\n",
    "\n",
    "from thesis_v2.data.prepared.yuanyuan_8k import get_data\n",
    "\n",
    "from thesis_v2.training_extra.maskcnn_like.opt import get_maskcnn_v1_opt_config\n",
    "from thesis_v2.training_extra.maskcnn_like.training import (train_one,\n",
    "                                                            partial)\n",
    "\n",
    "from thesis_v2.models.maskcnn_polished_with_rcnn_k_bl.builder import (\n",
    "    gen_maskcnn_polished_with_rcnn_k_bl,\n",
    "    load_modules\n",
    ")\n",
    "\n"
   ]
  },
  {
   "cell_type": "code",
   "execution_count": 3,
   "metadata": {},
   "outputs": [],
   "source": [
    "def train_one_maskcnn_polished_with_rcnn_k_bl(\n",
    "    split_seed,\n",
    "    model_seed,\n",
    "    act_fn,\n",
    "    loss_type,\n",
    "    input_size,\n",
    "    out_channel,\n",
    "    num_layer,\n",
    "    kernel_size_l1,\n",
    "    pooling_ksize,\n",
    "    scale, scale_name,\n",
    "    smoothness, smoothness_name,\n",
    "    pooling_type,\n",
    "    n_timesteps,\n",
    "):\n",
    "    \n",
    "    load_modules()\n",
    "    datasets = get_data('a', 200, input_size, ('042318', '043018', '051018'), scale=0.5,\n",
    "                        seed=split_seed)\n",
    "\n",
    "    datasets = {\n",
    "        'X_train': datasets[0].astype(np.float32),\n",
    "        'y_train': datasets[1],\n",
    "        'X_val': datasets[2].astype(np.float32),\n",
    "        'y_val': datasets[3],\n",
    "        'X_test': datasets[4].astype(np.float32),\n",
    "        'y_test': datasets[5],\n",
    "    }\n",
    "\n",
    "    def gen_cnn_partial(input_size_cnn, n):\n",
    "        return gen_maskcnn_polished_with_rcnn_k_bl(\n",
    "                                    input_size=input_size_cnn,\n",
    "                                    num_neuron=n,\n",
    "                                    out_channel=out_channel,\n",
    "                                    kernel_size_l1=kernel_size_l1,  # (try 5,9,13)\n",
    "                                    kernel_size_l23=3,\n",
    "                                    act_fn=act_fn,\n",
    "                                    pooling_ksize=pooling_ksize,  # (try, 1,3,5,7)\n",
    "                                    pooling_type=pooling_type,  # try (avg, max)  # looks that max works well here?\n",
    "                                    num_layer=num_layer,\n",
    "                                    n_timesteps=n_timesteps,\n",
    "                                    factored_constraint=None,\n",
    "                                    blstack_pool_ksize=1,\n",
    "                                    blstack_pool_type=None,\n",
    "                                    acc_mode='cummean',\n",
    "                                    bn_after_fc=False,\n",
    "                                    ff_1st_block=True,\n",
    "                                    )\n",
    "\n",
    "    opt_config_partial = partial(get_maskcnn_v1_opt_config,\n",
    "                                 scale=scale,\n",
    "                                 smoothness=smoothness,\n",
    "                                 group=0.0,\n",
    "                                 loss_type=loss_type,\n",
    "                                 )\n",
    "    \n",
    "    result = train_one(\n",
    "        arch_json_partial=gen_cnn_partial,\n",
    "        opt_config_partial=opt_config_partial,\n",
    "        datasets=datasets,\n",
    "        key=f'debug/test_full_training_maskcnn_polished_with_rcnn_k_bl/ff_1st_block_multipath_verify2/{model_seed}',\n",
    "        show_every=100,\n",
    "        max_epoch=1000,\n",
    "        model_seed=model_seed,\n",
    "        return_model=False,\n",
    "        extra_params={\n",
    "            # reduce on batch axis\n",
    "            'eval_fn': {\n",
    "                'yhat_reduce_axis': 1,\n",
    "            }\n",
    "        },\n",
    "        print_model=True\n",
    "    )\n",
    "    \n",
    "    return result['stats_best']['stats']['test']['corr_mean']"
   ]
  },
  {
   "cell_type": "code",
   "execution_count": 4,
   "metadata": {
    "scrolled": false
   },
   "outputs": [
    {
     "name": "stdout",
     "output_type": "stream",
     "text": [
      "{'pooling', 'fc', 'bn_output', 'final_act'}\n",
      "['conv0', 'bl_stack.layer_list.0.b_conv', 'bl_stack.layer_list.1.b_conv']\n",
      "num_param 22829\n",
      "JSONNet(\n",
      "  (moduledict): ModuleDict(\n",
      "    (accumulator): RecurrentAccumulator()\n",
      "    (act0): ReLU()\n",
      "    (bl_stack): BLConvLayerStack(\n",
      "      (layer_list): ModuleList(\n",
      "        (0): BLConvLayer(\n",
      "          (b_conv): Conv2d(16, 16, kernel_size=(3, 3), stride=(1, 1), padding=(1, 1), bias=False)\n",
      "        )\n",
      "        (1): BLConvLayer(\n",
      "          (b_conv): Conv2d(16, 16, kernel_size=(3, 3), stride=(1, 1), padding=(1, 1), bias=False)\n",
      "        )\n",
      "      )\n",
      "      (bn_layer_list): ModuleList(\n",
      "        (0): BatchNorm2d(16, eps=0.001, momentum=0.1, affine=True, track_running_stats=True)\n",
      "        (1): BatchNorm2d(16, eps=0.001, momentum=0.1, affine=True, track_running_stats=True)\n",
      "      )\n",
      "      (capture_list): ModuleList(\n",
      "        (0): Identity()\n",
      "        (1): Identity()\n",
      "      )\n",
      "      (input_capture): Identity()\n",
      "      (act_fn): ReLU(inplace=True)\n",
      "      (pool): Identity()\n",
      "    )\n",
      "    (bn0): BatchNorm2d(16, eps=0.001, momentum=0.1, affine=True, track_running_stats=True)\n",
      "    (bn_input): BatchNorm2d(1, eps=0.001, momentum=0.1, affine=True, track_running_stats=True)\n",
      "    (conv0): Conv2d(1, 16, kernel_size=(9, 9), stride=(1, 1), bias=False)\n",
      "    (fc): FactoredLinear2D(map_size=(14, 14), out_features=79, weight_feature_constraint=None, weight_spatial_constraint=None, bias=True)\n",
      "    (final_act): ReLU()\n",
      "    (pooling): AvgPool2d(kernel_size=3, stride=3, padding=0)\n",
      "  )\n",
      ")\n",
      "num of phase:  3\n",
      "0.5183819041627831\n"
     ]
    }
   ],
   "source": [
    "maskcnn_param_template = {\n",
    "    'out_channel': 16,\n",
    "    'num_layer': 3,\n",
    "    'kernel_size_l1': 9,\n",
    "    'pooling_ksize': 3,\n",
    "    'pooling_type': 'avg',\n",
    "    'model_seed': 0,\n",
    "    'split_seed': 'legacy',\n",
    "}\n",
    "\n",
    "maskcnn_param_regular = {\n",
    "    **maskcnn_param_template,\n",
    "    **{\n",
    "        'act_fn': 'relu',\n",
    "        'loss_type': 'mse',\n",
    "        'smoothness': 0.000005,\n",
    "        'smoothness_name': '0.000005',\n",
    "        'scale': 0.01,\n",
    "        'scale_name': '0.01',\n",
    "        'input_size': 50,\n",
    "        'n_timesteps': 1,\n",
    "    }\n",
    "}\n",
    "\n",
    "print(train_one_maskcnn_polished_with_rcnn_k_bl(**maskcnn_param_regular))\n",
    "\n",
    "# 27629 = 1*2 + 16*1*9*9 + 16*2 + 2*(16*16*3*3+16*16*3*3+4*16*2) + 79*(14*14 + 16 + 1) \n",
    "\n",
    "# results here are exactly the same as those in `scripts/debug/rcnn_basic_kriegeskorte/test_full_training_ff_1st.ipynb`"
   ]
  },
  {
   "cell_type": "code",
   "execution_count": 5,
   "metadata": {},
   "outputs": [],
   "source": [
    "from torch import nn, no_grad, float32, tensor"
   ]
  },
  {
   "cell_type": "code",
   "execution_count": 6,
   "metadata": {},
   "outputs": [],
   "source": [
    "# then let's make sure that my multi-path ensemble is implemented correctly.\n",
    "\n",
    "# at least, when all bias is zero, and there is NO activation function, and there is no duplication of BN layer,\n",
    "# multi path should give exactly the same result as original model\n",
    "\n",
    "def check_result(multi_path):\n",
    "    \n",
    "    \n",
    "    \n",
    "    key = 'debug/test_full_training_maskcnn_polished_with_rcnn_k_bl/ff_1st_block_multipath_verify2/0'\n",
    "    def gen_cnn_partial(input_size_cnn, n):\n",
    "        return gen_maskcnn_polished_with_rcnn_k_bl(\n",
    "                                    input_size=input_size_cnn,\n",
    "                                    num_neuron=n,\n",
    "                                    out_channel=maskcnn_param_regular['out_channel'],\n",
    "                                    kernel_size_l1=maskcnn_param_regular['kernel_size_l1'],  # (try 5,9,13)\n",
    "                                    kernel_size_l23=3,\n",
    "                                    act_fn=maskcnn_param_regular['act_fn'],\n",
    "                                    pooling_ksize=maskcnn_param_regular['pooling_ksize'],  # (try, 1,3,5,7)\n",
    "                                    pooling_type=maskcnn_param_regular['pooling_type'],  # try (avg, max)  # looks that max works well here?\n",
    "                                    num_layer=maskcnn_param_regular['num_layer'],\n",
    "                                    n_timesteps=maskcnn_param_regular['n_timesteps'],\n",
    "                                    factored_constraint=None,\n",
    "                                    blstack_pool_ksize=1,\n",
    "                                    blstack_pool_type=None,\n",
    "                                    acc_mode='cummean',\n",
    "                                    bn_after_fc=False,\n",
    "                                    ff_1st_block=True,\n",
    "            act_fn_inner='relu',\n",
    "            multi_path=multi_path,\n",
    "            # True or False does not matter\n",
    "            multi_path_separate_bn=True if multi_path else None\n",
    "                                    )\n",
    "    model_json = gen_cnn_partial(50, 79)\n",
    "    model_this = load_training_results(key, return_model=True, model=build_net(model_json))['model']\n",
    "    model_this.eval()\n",
    "    print(model_this)\n",
    "    print(model_this.get_module('bl_stack').multi_path, model_this.get_module('bl_stack').multi_path_separate_bn)\n",
    "    \n",
    "    \n",
    "    for name, mod in model_this.named_modules():\n",
    "        # all bias parameters will duplicate their effects in the multi chain analysis.\n",
    "        if isinstance(mod, nn.BatchNorm2d):\n",
    "            print(name)\n",
    "            with no_grad():\n",
    "                mod.bias.zero_()\n",
    "                mod.running_mean.zero_()\n",
    "    \n",
    "    # pass in some images and see the response\n",
    "    rng_state = np.random.RandomState(seed=0)\n",
    "    with no_grad():\n",
    "        images = tensor(rng_state.rand(10, 1, 50, 50)*255, dtype=float32)\n",
    "        responses = model_this(images)\n",
    "        assert len(responses) == 1\n",
    "        responses = responses[0].numpy()\n",
    "    \n",
    "    return responses\n",
    "        "
   ]
  },
  {
   "cell_type": "code",
   "execution_count": 7,
   "metadata": {},
   "outputs": [
    {
     "name": "stdout",
     "output_type": "stream",
     "text": [
      "{'pooling', 'fc', 'bn_output', 'final_act'}\n",
      "JSONNet(\n",
      "  (moduledict): ModuleDict(\n",
      "    (accumulator): RecurrentAccumulator()\n",
      "    (act0): ReLU()\n",
      "    (bl_stack): BLConvLayerStack(\n",
      "      (layer_list): ModuleList(\n",
      "        (0): BLConvLayer(\n",
      "          (b_conv): Conv2d(16, 16, kernel_size=(3, 3), stride=(1, 1), padding=(1, 1), bias=False)\n",
      "        )\n",
      "        (1): BLConvLayer(\n",
      "          (b_conv): Conv2d(16, 16, kernel_size=(3, 3), stride=(1, 1), padding=(1, 1), bias=False)\n",
      "        )\n",
      "      )\n",
      "      (bn_layer_list): ModuleList(\n",
      "        (0): BatchNorm2d(16, eps=0.001, momentum=0.1, affine=True, track_running_stats=True)\n",
      "        (1): BatchNorm2d(16, eps=0.001, momentum=0.1, affine=True, track_running_stats=True)\n",
      "      )\n",
      "      (capture_list): ModuleList(\n",
      "        (0): Identity()\n",
      "        (1): Identity()\n",
      "      )\n",
      "      (input_capture): Identity()\n",
      "      (act_fn): ReLU(inplace=True)\n",
      "      (pool): Identity()\n",
      "    )\n",
      "    (bn0): BatchNorm2d(16, eps=0.001, momentum=0.1, affine=True, track_running_stats=True)\n",
      "    (bn_input): BatchNorm2d(1, eps=0.001, momentum=0.1, affine=True, track_running_stats=True)\n",
      "    (conv0): Conv2d(1, 16, kernel_size=(9, 9), stride=(1, 1), bias=False)\n",
      "    (fc): FactoredLinear2D(map_size=(14, 14), out_features=79, weight_feature_constraint=None, weight_spatial_constraint=None, bias=True)\n",
      "    (final_act): ReLU()\n",
      "    (pooling): AvgPool2d(kernel_size=3, stride=3, padding=0)\n",
      "  )\n",
      ")\n",
      "False None\n",
      "moduledict.bl_stack.bn_layer_list.0\n",
      "moduledict.bl_stack.bn_layer_list.1\n",
      "moduledict.bn0\n",
      "moduledict.bn_input\n"
     ]
    }
   ],
   "source": [
    "from thesis_v2.training.training_aux import load_training_results\n",
    "from torchnetjson.builder import build_net\n",
    "\n",
    "resp_old = check_result(False)"
   ]
  },
  {
   "cell_type": "code",
   "execution_count": 8,
   "metadata": {
    "scrolled": false
   },
   "outputs": [
    {
     "name": "stdout",
     "output_type": "stream",
     "text": [
      "{'pooling', 'fc', 'bn_output', 'final_act'}\n",
      "JSONNet(\n",
      "  (moduledict): ModuleDict(\n",
      "    (accumulator): RecurrentAccumulator()\n",
      "    (act0): ReLU()\n",
      "    (bl_stack): BLConvLayerStack(\n",
      "      (layer_list): ModuleList(\n",
      "        (0): BLConvLayer(\n",
      "          (b_conv): Conv2d(16, 16, kernel_size=(3, 3), stride=(1, 1), padding=(1, 1), bias=False)\n",
      "        )\n",
      "        (1): BLConvLayer(\n",
      "          (b_conv): Conv2d(16, 16, kernel_size=(3, 3), stride=(1, 1), padding=(1, 1), bias=False)\n",
      "        )\n",
      "      )\n",
      "      (bn_layer_list): ModuleList(\n",
      "        (0): BatchNorm2d(16, eps=0.001, momentum=0.1, affine=True, track_running_stats=True)\n",
      "        (1): BatchNorm2d(16, eps=0.001, momentum=0.1, affine=True, track_running_stats=True)\n",
      "      )\n",
      "      (capture_list): ModuleList(\n",
      "        (0): Identity()\n",
      "        (1): Identity()\n",
      "      )\n",
      "      (input_capture): Identity()\n",
      "      (act_fn): ReLU(inplace=True)\n",
      "      (pool): Identity()\n",
      "    )\n",
      "    (bn0): BatchNorm2d(16, eps=0.001, momentum=0.1, affine=True, track_running_stats=True)\n",
      "    (bn_input): BatchNorm2d(1, eps=0.001, momentum=0.1, affine=True, track_running_stats=True)\n",
      "    (conv0): Conv2d(1, 16, kernel_size=(9, 9), stride=(1, 1), bias=False)\n",
      "    (fc): FactoredLinear2D(map_size=(14, 14), out_features=79, weight_feature_constraint=None, weight_spatial_constraint=None, bias=True)\n",
      "    (final_act): ReLU()\n",
      "    (pooling): AvgPool2d(kernel_size=3, stride=3, padding=0)\n",
      "  )\n",
      ")\n",
      "True True\n",
      "moduledict.bl_stack.bn_layer_list.0\n",
      "moduledict.bl_stack.bn_layer_list.1\n",
      "moduledict.bn0\n",
      "moduledict.bn_input\n"
     ]
    }
   ],
   "source": [
    "resp_new = check_result(True)"
   ]
  },
  {
   "cell_type": "code",
   "execution_count": 9,
   "metadata": {},
   "outputs": [
    {
     "data": {
      "text/plain": [
       "(1, 10, 79)"
      ]
     },
     "execution_count": 9,
     "metadata": {},
     "output_type": "execute_result"
    }
   ],
   "source": [
    "resp_new.shape"
   ]
  },
  {
   "cell_type": "code",
   "execution_count": 10,
   "metadata": {},
   "outputs": [
    {
     "data": {
      "text/plain": [
       "(1, 10, 79)"
      ]
     },
     "execution_count": 10,
     "metadata": {},
     "output_type": "execute_result"
    }
   ],
   "source": [
    "resp_old.shape"
   ]
  },
  {
   "cell_type": "code",
   "execution_count": 11,
   "metadata": {},
   "outputs": [],
   "source": [
    "assert resp_new.shape == resp_old.shape\n",
    "assert np.allclose(resp_new, resp_old, atol=1e-5)"
   ]
  },
  {
   "cell_type": "code",
   "execution_count": 12,
   "metadata": {
    "scrolled": false
   },
   "outputs": [
    {
     "data": {
      "image/png": "[encoded data removed]",
      "text/plain": [
       "<Figure size 432x288 with 1 Axes>"
      ]
     },
     "metadata": {
      "needs_background": "light"
     },
     "output_type": "display_data"
    }
   ],
   "source": [
    "%matplotlib inline\n",
    "import matplotlib.pyplot as plt\n",
    "plt.close('all')\n",
    "plt.hist(resp_old.ravel()-resp_new.ravel(), bins=20)\n",
    "plt.show()"
   ]
  }
 ],
 "metadata": {
  "kernelspec": {
   "display_name": "Python 3",
   "language": "python",
   "name": "python3"
  },
  "language_info": {
   "codemirror_mode": {
    "name": "ipython",
    "version": 3
   },
   "file_extension": ".py",
   "mimetype": "text/x-python",
   "name": "python",
   "nbconvert_exporter": "python",
   "pygments_lexer": "ipython3",
   "version": "3.7.6"
  }
 },
 "nbformat": 4,
 "nbformat_minor": 2
}

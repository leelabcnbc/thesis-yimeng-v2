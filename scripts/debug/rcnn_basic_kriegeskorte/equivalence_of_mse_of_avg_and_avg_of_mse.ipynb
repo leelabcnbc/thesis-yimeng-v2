{
 "cells": [
  {
   "cell_type": "code",
   "execution_count": 1,
   "metadata": {},
   "outputs": [],
   "source": [
    "import numpy as np"
   ]
  },
  {
   "cell_type": "code",
   "execution_count": 2,
   "metadata": {},
   "outputs": [],
   "source": [
    "# c is output of neural net,\n",
    "# x1,x2,x3 are the raw per-trial responses, which are constant w.r.t. loss.\n",
    "\n",
    "# this notebook shows that there is no meaning in computing per trial loss, at least for MSE loss.\n",
    "def fn1(c,x1,x2,x3):\n",
    "    return ((c-x1)**2 + (c-x2)**2 + (c-x3)**2 )/3\n",
    "def fn2(c,x1,x2,x3):\n",
    "    return (c-(x1+x2+x3)/3)**2"
   ]
  },
  {
   "cell_type": "code",
   "execution_count": 3,
   "metadata": {},
   "outputs": [],
   "source": [
    "rng_state = np.random.RandomState(seed=0)"
   ]
  },
  {
   "cell_type": "code",
   "execution_count": 4,
   "metadata": {},
   "outputs": [],
   "source": [
    "numbers = rng_state.randn(100)\n",
    "xs = rng_state.randn(3)"
   ]
  },
  {
   "cell_type": "code",
   "execution_count": 5,
   "metadata": {},
   "outputs": [],
   "source": [
    "fn1_list = np.asarray([fn1(c, *xs) for c in numbers])\n",
    "fn2_list = np.asarray([fn2(c, *xs) for c in numbers])"
   ]
  },
  {
   "cell_type": "code",
   "execution_count": 6,
   "metadata": {},
   "outputs": [],
   "source": [
    "from scipy.stats import pearsonr"
   ]
  },
  {
   "cell_type": "code",
   "execution_count": 7,
   "metadata": {
    "scrolled": true
   },
   "outputs": [
    {
     "data": {
      "text/plain": [
       "(0.9999999999999998, 0.0)"
      ]
     },
     "execution_count": 7,
     "metadata": {},
     "output_type": "execute_result"
    }
   ],
   "source": [
    "pearsonr(fn1_list,fn2_list)"
   ]
  },
  {
   "cell_type": "code",
   "execution_count": 8,
   "metadata": {},
   "outputs": [
    {
     "data": {
      "text/plain": [
       "array([2.26557414, 2.26557414, 2.26557414, 2.26557414, 2.26557414,\n",
       "       2.26557414, 2.26557414, 2.26557414, 2.26557414, 2.26557414,\n",
       "       2.26557414, 2.26557414, 2.26557414, 2.26557414, 2.26557414,\n",
       "       2.26557414, 2.26557414, 2.26557414, 2.26557414, 2.26557414,\n",
       "       2.26557414, 2.26557414, 2.26557414, 2.26557414, 2.26557414,\n",
       "       2.26557414, 2.26557414, 2.26557414, 2.26557414, 2.26557414,\n",
       "       2.26557414, 2.26557414, 2.26557414, 2.26557414, 2.26557414,\n",
       "       2.26557414, 2.26557414, 2.26557414, 2.26557414, 2.26557414,\n",
       "       2.26557414, 2.26557414, 2.26557414, 2.26557414, 2.26557414,\n",
       "       2.26557414, 2.26557414, 2.26557414, 2.26557414, 2.26557414,\n",
       "       2.26557414, 2.26557414, 2.26557414, 2.26557414, 2.26557414,\n",
       "       2.26557414, 2.26557414, 2.26557414, 2.26557414, 2.26557414,\n",
       "       2.26557414, 2.26557414, 2.26557414, 2.26557414, 2.26557414,\n",
       "       2.26557414, 2.26557414, 2.26557414, 2.26557414, 2.26557414,\n",
       "       2.26557414, 2.26557414, 2.26557414, 2.26557414, 2.26557414,\n",
       "       2.26557414, 2.26557414, 2.26557414, 2.26557414, 2.26557414,\n",
       "       2.26557414, 2.26557414, 2.26557414, 2.26557414, 2.26557414,\n",
       "       2.26557414, 2.26557414, 2.26557414, 2.26557414, 2.26557414,\n",
       "       2.26557414, 2.26557414, 2.26557414, 2.26557414, 2.26557414,\n",
       "       2.26557414, 2.26557414, 2.26557414, 2.26557414, 2.26557414])"
      ]
     },
     "execution_count": 8,
     "metadata": {},
     "output_type": "execute_result"
    }
   ],
   "source": [
    "fn1_list-fn2_list"
   ]
  },
  {
   "cell_type": "code",
   "execution_count": 9,
   "metadata": {},
   "outputs": [],
   "source": [
    "%matplotlib inline\n",
    "import matplotlib.pyplot as plt"
   ]
  },
  {
   "cell_type": "code",
   "execution_count": 10,
   "metadata": {},
   "outputs": [
    {
     "data": {
      "text/plain": [
       "(-0.5, 10.5, -0.503087132630982, 10.50014700631576)"
      ]
     },
     "execution_count": 10,
     "metadata": {},
     "output_type": "execute_result"
    },
    {
     "data": {
      "image/png": "[encoded data removed]",
      "text/plain": [
       "<Figure size 432x288 with 1 Axes>"
      ]
     },
     "metadata": {
      "needs_background": "light"
     },
     "output_type": "display_data"
    }
   ],
   "source": [
    "plt.scatter(fn1_list, fn2_list, 3)\n",
    "plt.plot([0, 10], [0, 10])\n",
    "plt.axis('equal')"
   ]
  }
 ],
 "metadata": {
  "kernelspec": {
   "display_name": "Python 3",
   "language": "python",
   "name": "python3"
  },
  "language_info": {
   "codemirror_mode": {
    "name": "ipython",
    "version": 3
   },
   "file_extension": ".py",
   "mimetype": "text/x-python",
   "name": "python",
   "nbconvert_exporter": "python",
   "pygments_lexer": "ipython3",
   "version": "3.7.6"
  }
 },
 "nbformat": 4,
 "nbformat_minor": 4
}

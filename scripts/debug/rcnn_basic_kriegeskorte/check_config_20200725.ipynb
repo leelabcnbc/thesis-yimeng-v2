{
 "cells": [
  {
   "cell_type": "code",
   "execution_count": 1,
   "metadata": {},
   "outputs": [],
   "source": [
    "from thesis_v2.configs.model.maskcnn_polished_with_rcnn_k_bl import explored_models_20200725_generator, keygen"
   ]
  },
  {
   "cell_type": "code",
   "execution_count": 2,
   "metadata": {},
   "outputs": [],
   "source": [
    "from collections import defaultdict\n",
    "from thesis_v2.training.training_aux import load_training_results"
   ]
  },
  {
   "cell_type": "code",
   "execution_count": 3,
   "metadata": {},
   "outputs": [],
   "source": [
    "unique_counter = defaultdict(set)"
   ]
  },
  {
   "cell_type": "code",
   "execution_count": 4,
   "metadata": {
    "scrolled": false
   },
   "outputs": [
    {
     "name": "stdout",
     "output_type": "stream",
     "text": [
      "0\n",
      "100\n",
      "200\n",
      "300\n",
      "400\n",
      "500\n",
      "600\n",
      "700\n",
      "800\n",
      "900\n",
      "1000\n",
      "1100\n",
      "1200\n",
      "1300\n",
      "1400\n",
      "1500\n",
      "1600\n",
      "1700\n",
      "1800\n",
      "1900\n",
      "2000\n",
      "2100\n",
      "2200\n",
      "2300\n",
      "2400\n",
      "2500\n",
      "2600\n",
      "2700\n",
      "2800\n",
      "2900\n",
      "3000\n",
      "3100\n",
      "3200\n",
      "3300\n",
      "3400\n",
      "3500\n",
      "3600\n",
      "3700\n",
      "3800\n",
      "3900\n",
      "4000\n",
      "4100\n",
      "4200\n",
      "4300\n",
      "4400\n",
      "4500\n",
      "4600\n",
      "4700\n",
      "4800\n",
      "4900\n",
      "5000\n",
      "5100\n",
      "5200\n",
      "5300\n",
      "5400\n",
      "5500\n",
      "5600\n"
     ]
    }
   ],
   "source": [
    "for idx, x in enumerate(explored_models_20200725_generator()):\n",
    "    assert len(x) == 26\n",
    "    if idx % 100 == 0:\n",
    "        print(idx)\n",
    "    for k, v in x.items():\n",
    "        unique_counter[k].add(v)\n",
    "    \n",
    "    # check everything can load.    \n",
    "    key = keygen(**{kk: vv for kk, vv in x.items() if kk not in {'scale', 'smoothness'}})\n",
    "    result = load_training_results(key, return_model=False)"
   ]
  },
  {
   "cell_type": "code",
   "execution_count": 5,
   "metadata": {},
   "outputs": [
    {
     "name": "stdout",
     "output_type": "stream",
     "text": [
      "defaultdict(<class 'set'>, {'dataset_prefix': {'yuanyuan_8k_a_3day'}, 'model_prefix': {'maskcnn_polished_with_rcnn_k_bl'}, 'yhat_reduce_pick': {-1, 'none'}, 'train_keep': {1280, 2560, None}, 'split_seed': {'legacy'}, 'model_seed': {0, 1}, 'act_fn': {'softplus', 'relu'}, 'loss_type': {'poisson', 'mse'}, 'input_size': {50}, 'out_channel': {32, 2, 4, 8, 16}, 'num_layer': {2, 3, 4, 5, 6}, 'kernel_size_l1': {9}, 'kernel_size_l23': {3}, 'pooling_ksize': {3}, 'pooling_type': {'avg'}, 'bn_after_fc': {False}, 'scale_name': {'0.01'}, 'scale': {'0.01'}, 'smoothness_name': {'0.000005'}, 'smoothness': {'0.000005'}, 'rcnn_bl_cls': {1, 2, 3, 4, 5, 6, 7, 8, 9, 10}, 'rcnn_bl_psize': {1}, 'rcnn_bl_ptype': {None}, 'rcnn_acc_type': {'cummean_last', 'cummean'}, 'ff_1st_block': {True}, 'ff_1st_bn_before_act': {False, True}})\n"
     ]
    }
   ],
   "source": [
    "print(unique_counter)\n",
    "# look good to me."
   ]
  },
  {
   "cell_type": "code",
   "execution_count": 6,
   "metadata": {},
   "outputs": [
    {
     "data": {
      "text/plain": [
       "5616"
      ]
     },
     "execution_count": 6,
     "metadata": {},
     "output_type": "execute_result"
    }
   ],
   "source": [
    "idx + 1"
   ]
  },
  {
   "cell_type": "code",
   "execution_count": 7,
   "metadata": {},
   "outputs": [],
   "source": [
    "# this number (5616) is correct.\n",
    "# the base is 0430, which has \n",
    "# 2 (model seed) x 2 (act fn) x 2 (loss) x 3 (channel) x 2 (layer) x 2 (BN/act order in first layer) = 96 variations. except for cls and acc type\n",
    "# \n",
    "\n",
    "# the cm-avg one has 96*10 = 960 variants\n",
    "# the cm-last one has 96*7 = 672 variants\n",
    "# the deep one \n",
    "# 2 (model seed) x 2 (act fn) x 2 (loss) x 5 (channel) x 3 (layer) x 2 (BN/act order in first layer) = 240 variations.\n",
    "\n",
    "# so in total 960+672+240=1872\n",
    "\n",
    "# 1872 * 3 (training size) = 5616"
   ]
  }
 ],
 "metadata": {
  "kernelspec": {
   "display_name": "Python 3",
   "language": "python",
   "name": "python3"
  },
  "language_info": {
   "codemirror_mode": {
    "name": "ipython",
    "version": 3
   },
   "file_extension": ".py",
   "mimetype": "text/x-python",
   "name": "python",
   "nbconvert_exporter": "python",
   "pygments_lexer": "ipython3",
   "version": "3.7.6"
  }
 },
 "nbformat": 4,
 "nbformat_minor": 4
}

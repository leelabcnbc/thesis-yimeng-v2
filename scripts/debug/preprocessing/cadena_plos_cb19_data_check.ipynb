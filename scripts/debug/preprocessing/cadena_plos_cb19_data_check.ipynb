{
 "cells": [
  {
   "cell_type": "code",
   "execution_count": 1,
   "metadata": {},
   "outputs": [],
   "source": [
    "from thesis_v2.data.prepared import cadena_plos_cb19"
   ]
  },
  {
   "cell_type": "code",
   "execution_count": 2,
   "metadata": {},
   "outputs": [],
   "source": [
    "imgs = cadena_plos_cb19.images()"
   ]
  },
  {
   "cell_type": "code",
   "execution_count": 3,
   "metadata": {},
   "outputs": [],
   "source": [
    "data = cadena_plos_cb19.get_raw_pkl()"
   ]
  },
  {
   "cell_type": "code",
   "execution_count": 4,
   "metadata": {},
   "outputs": [
    {
     "data": {
      "text/plain": [
       "(7250,)"
      ]
     },
     "execution_count": 4,
     "metadata": {},
     "output_type": "execute_result"
    }
   ],
   "source": [
    "data['image_numbers'].ravel().shape"
   ]
  },
  {
   "cell_type": "code",
   "execution_count": 5,
   "metadata": {},
   "outputs": [
    {
     "data": {
      "text/plain": [
       "True"
      ]
     },
     "execution_count": 5,
     "metadata": {},
     "output_type": "execute_result"
    }
   ],
   "source": [
    "import numpy as np\n",
    "np.array_equal(data['image_ids'].ravel(), np.arange(1,7251))"
   ]
  },
  {
   "cell_type": "code",
   "execution_count": 6,
   "metadata": {},
   "outputs": [
    {
     "data": {
      "text/plain": [
       "(7250, 1, 40, 40)"
      ]
     },
     "execution_count": 6,
     "metadata": {},
     "output_type": "execute_result"
    }
   ],
   "source": [
    "imgs.shape"
   ]
  },
  {
   "cell_type": "code",
   "execution_count": 7,
   "metadata": {},
   "outputs": [],
   "source": [
    "%matplotlib inline\n",
    "\n",
    "import matplotlib.pyplot as plt"
   ]
  },
  {
   "cell_type": "code",
   "execution_count": 8,
   "metadata": {},
   "outputs": [
    {
     "data": {
      "text/plain": [
       "<matplotlib.image.AxesImage at 0x7f3535e31e50>"
      ]
     },
     "execution_count": 8,
     "metadata": {},
     "output_type": "execute_result"
    },
    {
     "data": {
      "image/png": "[encoded data removed]",
      "text/plain": [
       "<Figure size 432x288 with 1 Axes>"
      ]
     },
     "metadata": {
      "needs_background": "light"
     },
     "output_type": "display_data"
    }
   ],
   "source": [
    "plt.imshow(imgs[0][0], vmin=0,vmax=255, cmap='gray')"
   ]
  },
  {
   "cell_type": "code",
   "execution_count": 9,
   "metadata": {},
   "outputs": [
    {
     "data": {
      "text/plain": [
       "<matplotlib.image.AxesImage at 0x7f353599b410>"
      ]
     },
     "execution_count": 9,
     "metadata": {},
     "output_type": "execute_result"
    },
    {
     "data": {
      "image/png": "[encoded data removed]",
      "text/plain": [
       "<Figure size 432x288 with 1 Axes>"
      ]
     },
     "metadata": {
      "needs_background": "light"
     },
     "output_type": "display_data"
    }
   ],
   "source": [
    "plt.imshow(imgs[1][0], vmin=0,vmax=255, cmap='gray')"
   ]
  },
  {
   "cell_type": "code",
   "execution_count": 10,
   "metadata": {},
   "outputs": [],
   "source": [
    "b=cadena_plos_cb19.get_neural_data()"
   ]
  },
  {
   "cell_type": "code",
   "execution_count": 11,
   "metadata": {},
   "outputs": [
    {
     "data": {
      "text/plain": [
       "(7250, 115)"
      ]
     },
     "execution_count": 11,
     "metadata": {},
     "output_type": "execute_result"
    }
   ],
   "source": [
    "b.shape"
   ]
  },
  {
   "cell_type": "code",
   "execution_count": 12,
   "metadata": {},
   "outputs": [
    {
     "data": {
      "text/plain": [
       "array([1., 1., 1., 1., 1., 1., 1., 1., 1., 1., 1., 1., 1., 1., 1., 1., 1.,\n",
       "       1., 1., 1., 1., 1., 1., 1., 1., 1., 1., 1., 1., 1., 1., 1., 1., 1.,\n",
       "       1., 1., 1., 1., 1., 1., 1., 1., 1., 1., 1., 1., 1., 1., 1., 1., 1.,\n",
       "       1., 1., 1., 1., 1., 1., 1., 1., 1., 1., 1., 1., 1., 1., 1., 1., 1.,\n",
       "       1., 1., 1., 1., 1., 1., 1., 1., 1., 1., 1., 1., 1., 1., 1., 1., 1.,\n",
       "       1., 1., 1., 1., 1., 1., 1., 1., 1., 1., 1., 1., 1., 1., 1., 1., 1.,\n",
       "       1., 1., 1., 1., 1., 1., 1., 1., 1., 1., 1., 1., 1.])"
      ]
     },
     "execution_count": 12,
     "metadata": {},
     "output_type": "execute_result"
    }
   ],
   "source": [
    "b.mean(axis=0)"
   ]
  },
  {
   "cell_type": "code",
   "execution_count": 13,
   "metadata": {},
   "outputs": [
    {
     "data": {
      "text/plain": [
       "0.0"
      ]
     },
     "execution_count": 13,
     "metadata": {},
     "output_type": "execute_result"
    }
   ],
   "source": [
    "b.min()"
   ]
  },
  {
   "cell_type": "code",
   "execution_count": 14,
   "metadata": {},
   "outputs": [
    {
     "data": {
      "text/plain": [
       "43.355481727574755"
      ]
     },
     "execution_count": 14,
     "metadata": {},
     "output_type": "execute_result"
    }
   ],
   "source": [
    "b.max()"
   ]
  },
  {
   "cell_type": "code",
   "execution_count": 15,
   "metadata": {},
   "outputs": [
    {
     "data": {
      "text/plain": [
       "0.20256431784107945"
      ]
     },
     "execution_count": 15,
     "metadata": {},
     "output_type": "execute_result"
    }
   ],
   "source": [
    "(b==0).mean()"
   ]
  },
  {
   "cell_type": "code",
   "execution_count": 16,
   "metadata": {},
   "outputs": [
    {
     "data": {
      "text/plain": [
       "(array([2.63583e+05, 1.80386e+05, 1.56135e+05, 1.01747e+05, 5.79010e+04,\n",
       "        2.87860e+04, 1.36800e+04, 8.74500e+03, 7.09200e+03, 3.36200e+03,\n",
       "        1.95600e+03, 2.92600e+03, 1.71400e+03, 1.08400e+03, 6.61000e+02,\n",
       "        6.21000e+02, 5.78000e+02, 3.61000e+02, 2.95000e+02, 2.09000e+02,\n",
       "        2.46000e+02, 1.83000e+02, 3.55000e+02, 2.16000e+02, 1.27000e+02,\n",
       "        6.30000e+01, 7.40000e+01, 5.30000e+01, 7.10000e+01, 2.60000e+01,\n",
       "        3.60000e+01, 4.10000e+01, 1.90000e+01, 8.60000e+01, 1.60000e+01,\n",
       "        7.50000e+01, 2.40000e+01, 1.10000e+01, 6.00000e+00, 4.00000e+00,\n",
       "        9.00000e+00, 6.00000e+00, 1.10000e+01, 1.00000e+00, 4.60000e+01,\n",
       "        1.20000e+01, 1.00000e+00, 2.90000e+01, 3.00000e+00, 3.00000e+00,\n",
       "        5.00000e+00, 0.00000e+00, 2.00000e+00, 1.00000e+00, 1.00000e+00,\n",
       "        1.20000e+01, 2.00000e+00, 1.00000e+00, 0.00000e+00, 2.20000e+01,\n",
       "        0.00000e+00, 0.00000e+00, 1.00000e+00, 1.00000e+00, 0.00000e+00,\n",
       "        2.00000e+00, 4.00000e+00, 0.00000e+00, 1.00000e+00, 0.00000e+00,\n",
       "        0.00000e+00, 5.00000e+00, 1.00000e+00, 1.00000e+00, 0.00000e+00,\n",
       "        0.00000e+00, 1.00000e+00, 2.00000e+00, 0.00000e+00, 0.00000e+00,\n",
       "        0.00000e+00, 0.00000e+00, 0.00000e+00, 5.00000e+00, 0.00000e+00,\n",
       "        0.00000e+00, 0.00000e+00, 0.00000e+00, 0.00000e+00, 0.00000e+00,\n",
       "        0.00000e+00, 0.00000e+00, 0.00000e+00, 0.00000e+00, 0.00000e+00,\n",
       "        2.00000e+00, 0.00000e+00, 0.00000e+00, 0.00000e+00, 3.00000e+00]),\n",
       " array([ 0.        ,  0.43355482,  0.86710963,  1.30066445,  1.73421927,\n",
       "         2.16777409,  2.6013289 ,  3.03488372,  3.46843854,  3.90199336,\n",
       "         4.33554817,  4.76910299,  5.20265781,  5.63621262,  6.06976744,\n",
       "         6.50332226,  6.93687708,  7.37043189,  7.80398671,  8.23754153,\n",
       "         8.67109635,  9.10465116,  9.53820598,  9.9717608 , 10.40531561,\n",
       "        10.83887043, 11.27242525, 11.70598007, 12.13953488, 12.5730897 ,\n",
       "        13.00664452, 13.44019934, 13.87375415, 14.30730897, 14.74086379,\n",
       "        15.1744186 , 15.60797342, 16.04152824, 16.47508306, 16.90863787,\n",
       "        17.34219269, 17.77574751, 18.20930233, 18.64285714, 19.07641196,\n",
       "        19.50996678, 19.94352159, 20.37707641, 20.81063123, 21.24418605,\n",
       "        21.67774086, 22.11129568, 22.5448505 , 22.97840532, 23.41196013,\n",
       "        23.84551495, 24.27906977, 24.71262458, 25.1461794 , 25.57973422,\n",
       "        26.01328904, 26.44684385, 26.88039867, 27.31395349, 27.74750831,\n",
       "        28.18106312, 28.61461794, 29.04817276, 29.48172757, 29.91528239,\n",
       "        30.34883721, 30.78239203, 31.21594684, 31.64950166, 32.08305648,\n",
       "        32.5166113 , 32.95016611, 33.38372093, 33.81727575, 34.25083056,\n",
       "        34.68438538, 35.1179402 , 35.55149502, 35.98504983, 36.41860465,\n",
       "        36.85215947, 37.28571429, 37.7192691 , 38.15282392, 38.58637874,\n",
       "        39.01993355, 39.45348837, 39.88704319, 40.32059801, 40.75415282,\n",
       "        41.18770764, 41.62126246, 42.05481728, 42.48837209, 42.92192691,\n",
       "        43.35548173]),\n",
       " <a list of 100 Patch objects>)"
      ]
     },
     "execution_count": 16,
     "metadata": {},
     "output_type": "execute_result"
    },
    {
     "data": {
      "image/png": "[encoded data removed]",
      "text/plain": [
       "<Figure size 432x288 with 1 Axes>"
      ]
     },
     "metadata": {
      "needs_background": "light"
     },
     "output_type": "display_data"
    }
   ],
   "source": [
    "plt.hist(b.ravel(), bins=100)"
   ]
  },
  {
   "cell_type": "code",
   "execution_count": 17,
   "metadata": {},
   "outputs": [],
   "source": [
    "c = cadena_plos_cb19.get_indices(seed=0)"
   ]
  },
  {
   "cell_type": "code",
   "execution_count": 18,
   "metadata": {},
   "outputs": [
    {
     "name": "stdout",
     "output_type": "stream",
     "text": [
      "labels (7250,)\n",
      "groups (7250,)\n",
      "idx_train (4640,)\n",
      "idx_val (1160,)\n",
      "idx_test (1450,)\n"
     ]
    }
   ],
   "source": [
    "for z in c:\n",
    "    print(z, c[z].shape)"
   ]
  },
  {
   "cell_type": "code",
   "execution_count": 19,
   "metadata": {},
   "outputs": [],
   "source": [
    "s1=set(c['groups'][c['idx_train']])\n",
    "s2=set(c['groups'][c['idx_val']])\n",
    "s3=set(c['groups'][c['idx_test']])"
   ]
  },
  {
   "cell_type": "code",
   "execution_count": 20,
   "metadata": {},
   "outputs": [],
   "source": [
    "assert (s1 | s2 | s3) == set(range(1,1450+1))\n",
    "assert (s1 & s2) == set()\n",
    "assert (s2 & s3) == set()\n",
    "assert (s1 & s3) == set()"
   ]
  },
  {
   "cell_type": "code",
   "execution_count": 21,
   "metadata": {},
   "outputs": [],
   "source": [
    "data_all = cadena_plos_cb19.get_data(px_kept=80,final_size=40,seed=0)"
   ]
  },
  {
   "cell_type": "code",
   "execution_count": 22,
   "metadata": {
    "scrolled": true
   },
   "outputs": [
    {
     "name": "stdout",
     "output_type": "stream",
     "text": [
      "float32 (4640, 1, 40, 40) 112.3707 41.85086 0.0 255.0\n",
      "float64 (4640, 115) 0.9997886347847456 1.1200904471614856 0.0 43.355481727574755\n",
      "float32 (1160, 1, 40, 40) 112.594635 42.224922 0.0 255.0\n",
      "float64 (1160, 115) 0.9958200794879527 1.1349541115933623 0.0 43.355481727574755\n",
      "float32 (1450, 1, 40, 40) 112.25153 41.926292 0.0 255.0\n",
      "float64 (1450, 115) 1.0040203050984517 1.1187814728153749 0.0 36.40602582496413\n"
     ]
    }
   ],
   "source": [
    "for zzzz in data_all:\n",
    "    print(zzzz.dtype, zzzz.shape, zzzz.mean(), zzzz.std(), zzzz.min(), zzzz.max())"
   ]
  },
  {
   "cell_type": "code",
   "execution_count": 23,
   "metadata": {},
   "outputs": [],
   "source": [
    "data_all_scaled = cadena_plos_cb19.get_data(px_kept=80,final_size=40,seed=0,scale=0.5)"
   ]
  },
  {
   "cell_type": "code",
   "execution_count": 24,
   "metadata": {},
   "outputs": [
    {
     "name": "stdout",
     "output_type": "stream",
     "text": [
      "float32 (4640, 1, 40, 40) 112.3707 41.85086 0.0 255.0\n",
      "float64 (4640, 115) 0.4998943173923728 0.5600452235807428 0.0 21.677740863787378\n",
      "float32 (1160, 1, 40, 40) 112.594635 42.224922 0.0 255.0\n",
      "float64 (1160, 115) 0.49791003974397635 0.5674770557966812 0.0 21.677740863787378\n",
      "float32 (1450, 1, 40, 40) 112.25153 41.926292 0.0 255.0\n",
      "float64 (1450, 115) 0.5020101525492259 0.5593907364076874 0.0 18.203012912482066\n"
     ]
    }
   ],
   "source": [
    "for zzzz2 in data_all_scaled:\n",
    "    print(zzzz2.dtype, zzzz2.shape, zzzz2.mean(), zzzz2.std(), zzzz2.min(), zzzz2.max())"
   ]
  }
 ],
 "metadata": {
  "kernelspec": {
   "display_name": "Python 3",
   "language": "python",
   "name": "python3"
  },
  "language_info": {
   "codemirror_mode": {
    "name": "ipython",
    "version": 3
   },
   "file_extension": ".py",
   "mimetype": "text/x-python",
   "name": "python",
   "nbconvert_exporter": "python",
   "pygments_lexer": "ipython3",
   "version": "3.7.6"
  }
 },
 "nbformat": 4,
 "nbformat_minor": 4
}

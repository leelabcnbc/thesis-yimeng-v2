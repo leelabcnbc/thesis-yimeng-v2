{
 "cells": [
  {
   "cell_type": "code",
   "execution_count": 3,
   "metadata": {},
   "outputs": [],
   "source": [
    "from thesis_v2.data.prepared.gaya import get_data, get_neural_data"
   ]
  },
  {
   "cell_type": "code",
   "execution_count": 3,
   "metadata": {},
   "outputs": [],
   "source": [
    "datasets_normalized = get_data(dataset='tang', seed='legacy', scale=0.5)"
   ]
  },
  {
   "cell_type": "code",
   "execution_count": 4,
   "metadata": {},
   "outputs": [
    {
     "name": "stdout",
     "output_type": "stream",
     "text": [
      "(1400, 1, 63, 63) 152.42932096515855 59.39081689579247 float64\n",
      "(1400, 34) 0.50143474 0.26509464 float32\n",
      "(350, 1, 63, 63) 153.54668272864703 59.90782143836179 float64\n",
      "(350, 34) 0.49884257 0.26741716 float32\n",
      "(500, 1, 63, 63) 151.93320770345176 59.7123005792028 float64\n",
      "(500, 34) 0.49679273 0.25853887 float32\n"
     ]
    }
   ],
   "source": [
    "for kkk in datasets_normalized:\n",
    "    print(kkk.shape, kkk.mean(), kkk.std(), kkk.dtype)"
   ]
  },
  {
   "cell_type": "code",
   "execution_count": 4,
   "metadata": {},
   "outputs": [],
   "source": [
    "raw_data = get_neural_data(dataset='tang', return_raw=True, start_offset=0, end_offset=500)"
   ]
  },
  {
   "cell_type": "code",
   "execution_count": 10,
   "metadata": {},
   "outputs": [
    {
     "name": "stdout",
     "output_type": "stream",
     "text": [
      "(6, 8, 2250)\n"
     ]
    },
    {
     "data": {
      "text/plain": [
       "(6,)"
      ]
     },
     "execution_count": 10,
     "metadata": {},
     "output_type": "execute_result"
    }
   ],
   "source": [
    "import numpy as np\n",
    "from strflab.stats import cc_max\n",
    "a = np.asarray([x[:8] for x in raw_data]).T\n",
    "v1_ind = np.array([2, 6, 9, 22, 25, 31])\n",
    "a = a[v1_ind, :, :]\n",
    "print(a.shape)\n",
    "cc_max_all_neurons = cc_max(a)\n",
    "cc_max_all_neurons.shape"
   ]
  }
 ],
 "metadata": {
  "kernelspec": {
   "display_name": "Python 3",
   "language": "python",
   "name": "python3"
  },
  "language_info": {
   "codemirror_mode": {
    "name": "ipython",
    "version": 3
   },
   "file_extension": ".py",
   "mimetype": "text/x-python",
   "name": "python",
   "nbconvert_exporter": "python",
   "pygments_lexer": "ipython3",
   "version": "3.7.6"
  }
 },
 "nbformat": 4,
 "nbformat_minor": 4
}

{
 "cells": [
  {
   "cell_type": "code",
   "execution_count": 1,
   "metadata": {},
   "outputs": [],
   "source": [
    "# copied from https://github.com/leelabcnbc/gaya-data/blob/61f21849db0b195d95dda95b224b908206533026/modeling/scripts/train_data_driven_cnn.py\n",
    "from modeling import LOG_DIR, SAVE_DIR\n",
    "from modeling.data_utils import get_images, train_val_test_split\n",
    "from analysis.data_utils import get_all_neural_data, spike_counts, trial_average\n",
    "\n",
    "DATASET = 'both'\n",
    "CORR_THRESHOLD = 0.7\n",
    "\n",
    "# get and setup the data\n",
    "downsample = 4\n",
    "images = get_images(DATASET, downsample=downsample, torch_format=True,\n",
    "        normalize=False)\n",
    "\n",
    "data = get_all_neural_data(corr_threshold=CORR_THRESHOLD,\n",
    "        elecs=False)\n",
    "# early response, for all the course project stuff\n",
    "data = spike_counts(data, start=540, end=640)\n",
    "# noises = sigma_noise(data)\n",
    "data = trial_average(data)\n",
    "\n",
    "# for all the course project stuff\n",
    "train_idx, val_idx, test_idx = train_val_test_split(\n",
    "        total_size=5850, train_size=3800, val_size=1000,\n",
    "        deterministic=True)\n",
    "\n",
    "train_x = images[train_idx]\n",
    "val_x = images[val_idx]\n",
    "test_x = images[test_idx]\n",
    "\n",
    "train_y = data[train_idx]\n",
    "val_y = data[val_idx]\n",
    "test_y = data[test_idx]\n"
   ]
  },
  {
   "cell_type": "code",
   "execution_count": 2,
   "metadata": {},
   "outputs": [],
   "source": [
    "import numpy as np"
   ]
  },
  {
   "cell_type": "code",
   "execution_count": 3,
   "metadata": {},
   "outputs": [
    {
     "data": {
      "text/plain": [
       "True"
      ]
     },
     "execution_count": 3,
     "metadata": {},
     "output_type": "execute_result"
    }
   ],
   "source": [
    "np.array_equal(np.sort(np.concatenate([train_idx, val_idx, test_idx])), np.arange(5850))"
   ]
  },
  {
   "cell_type": "code",
   "execution_count": 4,
   "metadata": {},
   "outputs": [
    {
     "data": {
      "text/plain": [
       "(5850, 14)"
      ]
     },
     "execution_count": 4,
     "metadata": {},
     "output_type": "execute_result"
    }
   ],
   "source": [
    "data.shape"
   ]
  },
  {
   "cell_type": "code",
   "execution_count": 5,
   "metadata": {},
   "outputs": [
    {
     "data": {
      "text/plain": [
       "array([ 8.621851 ,  8.65621  ,  5.306978 ,  4.18564  ,  4.7096677,\n",
       "        4.267036 ,  3.5083404,  7.0061345,  6.248241 ,  2.8942654,\n",
       "        8.896051 ,  2.8091207, 10.824743 ,  4.067927 ], dtype=float32)"
      ]
     },
     "execution_count": 5,
     "metadata": {},
     "output_type": "execute_result"
    }
   ],
   "source": [
    "data.mean(axis=0)"
   ]
  },
  {
   "cell_type": "code",
   "execution_count": 6,
   "metadata": {},
   "outputs": [],
   "source": [
    "from thesis_v2.data.prepared.gaya import get_data"
   ]
  },
  {
   "cell_type": "code",
   "execution_count": 7,
   "metadata": {},
   "outputs": [],
   "source": [
    "datasets_normalized = get_data(seed='legacy', scale=0.5)"
   ]
  },
  {
   "cell_type": "code",
   "execution_count": 8,
   "metadata": {},
   "outputs": [
    {
     "name": "stdout",
     "output_type": "stream",
     "text": [
      "(3800, 1, 63, 63) 133.30030819442786 50.71179027603968 float64\n",
      "(3800, 14) 0.4999049 0.3367269 float32\n",
      "(1000, 1, 63, 63) 133.02702163643235 49.72129512382994 float64\n",
      "(1000, 14) 0.5002614 0.3350704 float32\n",
      "(1050, 1, 63, 63) 133.22455635340555 50.46836845654078 float64\n",
      "(1050, 14) 0.5000943 0.33939916 float32\n"
     ]
    }
   ],
   "source": [
    "for kkk in datasets_normalized:\n",
    "    print(kkk.shape, kkk.mean(), kkk.std(), kkk.dtype)"
   ]
  }
 ],
 "metadata": {
  "kernelspec": {
   "display_name": "Python 3",
   "language": "python",
   "name": "python3"
  },
  "language_info": {
   "codemirror_mode": {
    "name": "ipython",
    "version": 3
   },
   "file_extension": ".py",
   "mimetype": "text/x-python",
   "name": "python",
   "nbconvert_exporter": "python",
   "pygments_lexer": "ipython3",
   "version": "3.7.6"
  }
 },
 "nbformat": 4,
 "nbformat_minor": 4
}

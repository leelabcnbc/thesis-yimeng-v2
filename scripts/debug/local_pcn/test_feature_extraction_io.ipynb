{
 "cells": [
  {
   "cell_type": "code",
   "execution_count": 1,
   "metadata": {},
   "outputs": [],
   "source": [
    "import numpy as np\n",
    "\n",
    "from torch.backends import cudnn\n",
    "import torch.utils.data\n",
    "import torchvision.transforms as transforms\n",
    "import torchvision.datasets as datasets\n",
    "\n",
    "from thesis_v2.models.pcn_local.feature_extraction import (\n",
    "    process_one_case_wrapper\n",
    ")\n",
    "\n",
    "from thesis_v2.models.pcn_local.reference.loader import get_pretrained_network\n",
    "\n",
    "from thesis_v2 import dir_dict, join\n",
    "\n",
    "# this can save memory error.\n",
    "# See <https://github.com/pytorch/pytorch/issues/1230>\n",
    "cudnn.benchmark = False\n",
    "cudnn.enabled = True\n",
    "\n",
    "\n",
    "def load_image_dataset(image_dataset_key):\n",
    "    assert image_dataset_key == 'first1000'\n",
    "    torch.manual_seed(0)\n",
    "    valdir = join('/my_data_2/standard_datasets/ILSVRC2015/Data/CLS-LOC', 'val')\n",
    "    normalize = transforms.Normalize(mean=[0.485, 0.456, 0.406],\n",
    "                                     std=[0.229, 0.224, 0.225])\n",
    "    val_loader = torch.utils.data.DataLoader(\n",
    "        datasets.ImageFolder(valdir, transforms.Compose([\n",
    "            transforms.Resize(256),\n",
    "            transforms.CenterCrop(224),\n",
    "            transforms.ToTensor(),\n",
    "            normalize,\n",
    "        ])),\n",
    "        # this batch size should be safe regardless of network type (3CLS or 5CLS)\n",
    "\n",
    "        # shuffle to make sure we do not get images from the same class.\n",
    "        batch_size=100, shuffle=True)\n",
    "\n",
    "    # get data in numpy\n",
    "    data = []\n",
    "\n",
    "    for i, (x, _) in enumerate(val_loader):\n",
    "        data.append(x.numpy())\n",
    "        if i >= 9:\n",
    "            break\n",
    "\n",
    "    data = np.concatenate(data)\n",
    "    assert data.shape == (1000, 3, 224, 224)\n",
    "    return data"
   ]
  },
  {
   "cell_type": "code",
   "execution_count": 2,
   "metadata": {},
   "outputs": [],
   "source": [
    "a = load_image_dataset('first1000')"
   ]
  },
  {
   "cell_type": "code",
   "execution_count": 3,
   "metadata": {
    "scrolled": true
   },
   "outputs": [
    {
     "name": "stdout",
     "output_type": "stream",
     "text": [
      "=> creating model 'PredNetBpE_3CLS'\n"
     ]
    }
   ],
   "source": [
    "model = get_pretrained_network(\n",
    "    'PredNetBpE_3CLS',\n",
    "    root_dir=join(\n",
    "        dir_dict['root'], '..', 'thesis-yimeng-v1', '3rdparty', 'PCN-with-Local-Recurrent-Processing', 'checkpoint'\n",
    "    )\n",
    ")"
   ]
  },
  {
   "cell_type": "code",
   "execution_count": 4,
   "metadata": {},
   "outputs": [],
   "source": [
    "# pass through first 100 images\n",
    "cudnn.benchmark = False\n",
    "cudnn.deterministic = True\n",
    "\n",
    "from torch import tensor, no_grad\n",
    "\n",
    "input_test = torch.tensor(a[:100]).cuda()\n",
    "model.cuda().eval()\n",
    "\n",
    "with no_grad():\n",
    "    validate_data_debug = model(input_test).cpu().numpy()"
   ]
  },
  {
   "cell_type": "code",
   "execution_count": 5,
   "metadata": {},
   "outputs": [],
   "source": [
    "validate_data = np.load('./check_pcn_loading_first100.npy')"
   ]
  },
  {
   "cell_type": "code",
   "execution_count": 6,
   "metadata": {},
   "outputs": [],
   "source": [
    "assert np.array_equal(validate_data, validate_data_debug)"
   ]
  }
 ],
 "metadata": {
  "kernelspec": {
   "display_name": "Python 3",
   "language": "python",
   "name": "python3"
  },
  "language_info": {
   "codemirror_mode": {
    "name": "ipython",
    "version": 3
   },
   "file_extension": ".py",
   "mimetype": "text/x-python",
   "name": "python",
   "nbconvert_exporter": "python",
   "pygments_lexer": "ipython3",
   "version": "3.7.6"
  }
 },
 "nbformat": 4,
 "nbformat_minor": 4
}

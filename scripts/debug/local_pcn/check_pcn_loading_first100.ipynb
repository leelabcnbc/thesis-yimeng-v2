{
 "cells": [
  {
   "cell_type": "markdown",
   "metadata": {},
   "source": [
    "this notebook checks that model trained in <https://github.com/leelabcnbc/thesis-yimeng-v1/blob/25471e6e80f7acd0f2ec82bb9c577c58bfdd7171/3rdparty/PCN-with-Local-Recurrent-Processing/main_imagenet_fp16.py> can be loaded back from its checkpoints."
   ]
  },
  {
   "cell_type": "code",
   "execution_count": 1,
   "metadata": {},
   "outputs": [],
   "source": [
    "import numpy as np\n",
    "\n",
    "import time\n",
    "\n",
    "import torch.utils.data\n",
    "import torchvision.transforms as transforms \n",
    "import torchvision.datasets as datasets\n",
    "import torch.backends.cudnn as cudnn\n",
    "\n",
    "from thesis_v2 import dir_dict, join\n",
    "from thesis_v2.models.pcn_local.reference import loader"
   ]
  },
  {
   "cell_type": "code",
   "execution_count": 2,
   "metadata": {},
   "outputs": [
    {
     "data": {
      "text/plain": [
       "{'root': '/my_data/thesis-yimeng-v2',\n",
       " 'results': '/my_data/thesis-yimeng-v2/results',\n",
       " 'datasets': '/my_data/thesis-yimeng-v2/results/datasets',\n",
       " 'features': '/my_data/thesis-yimeng-v2/results/features',\n",
       " 'models': '/my_data/thesis-yimeng-v2/results/models',\n",
       " 'analyses': '/my_data/thesis-yimeng-v2/results/analyses',\n",
       " 'plots': '/my_data/thesis-yimeng-v2/results/plots',\n",
       " 'visualization': '/my_data/thesis-yimeng-v2/results/visualization',\n",
       " 'private_data': '/my_data/thesis-yimeng-v2/private_data',\n",
       " 'private_data_supp': '/my_data/thesis-yimeng-v2/private_data_supp',\n",
       " 'debug_data': '/my_data/thesis-yimeng-v2/debug_data',\n",
       " 'trash': '/my_data/thesis-yimeng-v2/trash'}"
      ]
     },
     "execution_count": 2,
     "metadata": {},
     "output_type": "execute_result"
    }
   ],
   "source": [
    "dir_dict"
   ]
  },
  {
   "cell_type": "code",
   "execution_count": 3,
   "metadata": {
    "scrolled": false
   },
   "outputs": [
    {
     "name": "stdout",
     "output_type": "stream",
     "text": [
      "=> creating model 'PredNetBpE_3CLS'\n"
     ]
    }
   ],
   "source": [
    "best_file = join(dir_dict['root'], '..', 'thesis-yimeng-v1', '3rdparty', 'PCN-with-Local-Recurrent-Processing', 'checkpoint', 'model_best.pth.tar.3CLS')\n",
    "trained_model, checkpoint = loader.load_pcn_imagenet('PredNetBpE', 3, checkpoint_path=best_file)"
   ]
  },
  {
   "cell_type": "code",
   "execution_count": 4,
   "metadata": {
    "scrolled": false
   },
   "outputs": [
    {
     "data": {
      "text/plain": [
       "PredNetBpE(\n",
       "  (baseconv): features2(\n",
       "    (conv): Conv2d(3, 64, kernel_size=(7, 7), stride=(2, 2), padding=(3, 3), bias=False)\n",
       "    (featBN): BatchNorm2d(64, eps=1e-05, momentum=0.1, affine=True, track_running_stats=True)\n",
       "    (relu): ReLU(inplace=True)\n",
       "  )\n",
       "  (PcConvs): ModuleList(\n",
       "    (0): PcConvBp(\n",
       "      (FFconv): Conv2d(64, 64, kernel_size=(3, 3), stride=(1, 1), padding=(1, 1), bias=False)\n",
       "      (FBconv): ConvTranspose2d(64, 64, kernel_size=(3, 3), stride=(1, 1), padding=(1, 1), bias=False)\n",
       "      (b0): ParameterList(  (0): Parameter containing: [torch.FloatTensor of size 1x64x1x1])\n",
       "      (relu): ReLU(inplace=True)\n",
       "      (bypass): Conv2d(64, 64, kernel_size=(1, 1), stride=(1, 1), bias=False)\n",
       "      (resp_init): Lambda()\n",
       "      (resp_loop): Lambda()\n",
       "    )\n",
       "    (1): PcConvBp(\n",
       "      (FFconv): Conv2d(64, 128, kernel_size=(3, 3), stride=(1, 1), padding=(1, 1), bias=False)\n",
       "      (FBconv): ConvTranspose2d(128, 64, kernel_size=(3, 3), stride=(1, 1), padding=(1, 1), bias=False)\n",
       "      (b0): ParameterList(  (0): Parameter containing: [torch.FloatTensor of size 1x128x1x1])\n",
       "      (relu): ReLU(inplace=True)\n",
       "      (bypass): Conv2d(64, 128, kernel_size=(1, 1), stride=(1, 1), bias=False)\n",
       "      (resp_init): Lambda()\n",
       "      (resp_loop): Lambda()\n",
       "    )\n",
       "    (2): PcConvBp(\n",
       "      (FFconv): Conv2d(128, 128, kernel_size=(3, 3), stride=(1, 1), padding=(1, 1), bias=False)\n",
       "      (FBconv): ConvTranspose2d(128, 128, kernel_size=(3, 3), stride=(1, 1), padding=(1, 1), bias=False)\n",
       "      (b0): ParameterList(  (0): Parameter containing: [torch.FloatTensor of size 1x128x1x1])\n",
       "      (relu): ReLU(inplace=True)\n",
       "      (bypass): Conv2d(128, 128, kernel_size=(1, 1), stride=(1, 1), bias=False)\n",
       "      (resp_init): Lambda()\n",
       "      (resp_loop): Lambda()\n",
       "    )\n",
       "    (3): PcConvBp(\n",
       "      (FFconv): Conv2d(128, 128, kernel_size=(3, 3), stride=(1, 1), padding=(1, 1), bias=False)\n",
       "      (FBconv): ConvTranspose2d(128, 128, kernel_size=(3, 3), stride=(1, 1), padding=(1, 1), bias=False)\n",
       "      (b0): ParameterList(  (0): Parameter containing: [torch.FloatTensor of size 1x128x1x1])\n",
       "      (relu): ReLU(inplace=True)\n",
       "      (bypass): Conv2d(128, 128, kernel_size=(1, 1), stride=(1, 1), bias=False)\n",
       "      (resp_init): Lambda()\n",
       "      (resp_loop): Lambda()\n",
       "    )\n",
       "    (4): PcConvBp(\n",
       "      (FFconv): Conv2d(128, 128, kernel_size=(3, 3), stride=(1, 1), padding=(1, 1), bias=False)\n",
       "      (FBconv): ConvTranspose2d(128, 128, kernel_size=(3, 3), stride=(1, 1), padding=(1, 1), bias=False)\n",
       "      (b0): ParameterList(  (0): Parameter containing: [torch.FloatTensor of size 1x128x1x1])\n",
       "      (relu): ReLU(inplace=True)\n",
       "      (bypass): Conv2d(128, 128, kernel_size=(1, 1), stride=(1, 1), bias=False)\n",
       "      (resp_init): Lambda()\n",
       "      (resp_loop): Lambda()\n",
       "    )\n",
       "    (5): PcConvBp(\n",
       "      (FFconv): Conv2d(128, 256, kernel_size=(3, 3), stride=(1, 1), padding=(1, 1), bias=False)\n",
       "      (FBconv): ConvTranspose2d(256, 128, kernel_size=(3, 3), stride=(1, 1), padding=(1, 1), bias=False)\n",
       "      (b0): ParameterList(  (0): Parameter containing: [torch.FloatTensor of size 1x256x1x1])\n",
       "      (relu): ReLU(inplace=True)\n",
       "      (bypass): Conv2d(128, 256, kernel_size=(1, 1), stride=(1, 1), bias=False)\n",
       "      (resp_init): Lambda()\n",
       "      (resp_loop): Lambda()\n",
       "    )\n",
       "    (6): PcConvBp(\n",
       "      (FFconv): Conv2d(256, 256, kernel_size=(3, 3), stride=(1, 1), padding=(1, 1), bias=False)\n",
       "      (FBconv): ConvTranspose2d(256, 256, kernel_size=(3, 3), stride=(1, 1), padding=(1, 1), bias=False)\n",
       "      (b0): ParameterList(  (0): Parameter containing: [torch.FloatTensor of size 1x256x1x1])\n",
       "      (relu): ReLU(inplace=True)\n",
       "      (bypass): Conv2d(256, 256, kernel_size=(1, 1), stride=(1, 1), bias=False)\n",
       "      (resp_init): Lambda()\n",
       "      (resp_loop): Lambda()\n",
       "    )\n",
       "    (7): PcConvBp(\n",
       "      (FFconv): Conv2d(256, 256, kernel_size=(3, 3), stride=(1, 1), padding=(1, 1), bias=False)\n",
       "      (FBconv): ConvTranspose2d(256, 256, kernel_size=(3, 3), stride=(1, 1), padding=(1, 1), bias=False)\n",
       "      (b0): ParameterList(  (0): Parameter containing: [torch.FloatTensor of size 1x256x1x1])\n",
       "      (relu): ReLU(inplace=True)\n",
       "      (bypass): Conv2d(256, 256, kernel_size=(1, 1), stride=(1, 1), bias=False)\n",
       "      (resp_init): Lambda()\n",
       "      (resp_loop): Lambda()\n",
       "    )\n",
       "    (8): PcConvBp(\n",
       "      (FFconv): Conv2d(256, 512, kernel_size=(3, 3), stride=(1, 1), padding=(1, 1), bias=False)\n",
       "      (FBconv): ConvTranspose2d(512, 256, kernel_size=(3, 3), stride=(1, 1), padding=(1, 1), bias=False)\n",
       "      (b0): ParameterList(  (0): Parameter containing: [torch.FloatTensor of size 1x512x1x1])\n",
       "      (relu): ReLU(inplace=True)\n",
       "      (bypass): Conv2d(256, 512, kernel_size=(1, 1), stride=(1, 1), bias=False)\n",
       "      (resp_init): Lambda()\n",
       "      (resp_loop): Lambda()\n",
       "    )\n",
       "    (9): PcConvBp(\n",
       "      (FFconv): Conv2d(512, 512, kernel_size=(3, 3), stride=(1, 1), padding=(1, 1), bias=False)\n",
       "      (FBconv): ConvTranspose2d(512, 512, kernel_size=(3, 3), stride=(1, 1), padding=(1, 1), bias=False)\n",
       "      (b0): ParameterList(  (0): Parameter containing: [torch.FloatTensor of size 1x512x1x1])\n",
       "      (relu): ReLU(inplace=True)\n",
       "      (bypass): Conv2d(512, 512, kernel_size=(1, 1), stride=(1, 1), bias=False)\n",
       "      (resp_init): Lambda()\n",
       "      (resp_loop): Lambda()\n",
       "    )\n",
       "    (10): PcConvBp(\n",
       "      (FFconv): Conv2d(512, 512, kernel_size=(3, 3), stride=(1, 1), padding=(1, 1), bias=False)\n",
       "      (FBconv): ConvTranspose2d(512, 512, kernel_size=(3, 3), stride=(1, 1), padding=(1, 1), bias=False)\n",
       "      (b0): ParameterList(  (0): Parameter containing: [torch.FloatTensor of size 1x512x1x1])\n",
       "      (relu): ReLU(inplace=True)\n",
       "      (bypass): Conv2d(512, 512, kernel_size=(1, 1), stride=(1, 1), bias=False)\n",
       "      (resp_init): Lambda()\n",
       "      (resp_loop): Lambda()\n",
       "    )\n",
       "  )\n",
       "  (BNs): ModuleList(\n",
       "    (0): BatchNorm2d(64, eps=1e-05, momentum=0.1, affine=True, track_running_stats=True)\n",
       "    (1): BatchNorm2d(64, eps=1e-05, momentum=0.1, affine=True, track_running_stats=True)\n",
       "    (2): BatchNorm2d(128, eps=1e-05, momentum=0.1, affine=True, track_running_stats=True)\n",
       "    (3): BatchNorm2d(128, eps=1e-05, momentum=0.1, affine=True, track_running_stats=True)\n",
       "    (4): BatchNorm2d(128, eps=1e-05, momentum=0.1, affine=True, track_running_stats=True)\n",
       "    (5): BatchNorm2d(128, eps=1e-05, momentum=0.1, affine=True, track_running_stats=True)\n",
       "    (6): BatchNorm2d(256, eps=1e-05, momentum=0.1, affine=True, track_running_stats=True)\n",
       "    (7): BatchNorm2d(256, eps=1e-05, momentum=0.1, affine=True, track_running_stats=True)\n",
       "    (8): BatchNorm2d(256, eps=1e-05, momentum=0.1, affine=True, track_running_stats=True)\n",
       "    (9): BatchNorm2d(512, eps=1e-05, momentum=0.1, affine=True, track_running_stats=True)\n",
       "    (10): BatchNorm2d(512, eps=1e-05, momentum=0.1, affine=True, track_running_stats=True)\n",
       "  )\n",
       "  (linear): Linear(in_features=512, out_features=1000, bias=True)\n",
       "  (maxpool2d): MaxPool2d(kernel_size=2, stride=2, padding=0, dilation=1, ceil_mode=False)\n",
       "  (maxpool_dict): ModuleDict(\n",
       "    (2): Lambda()\n",
       "    (4): Lambda()\n",
       "    (6): Lambda()\n",
       "    (9): Lambda()\n",
       "  )\n",
       "  (relu): ReLU(inplace=True)\n",
       "  (BNend): BatchNorm2d(512, eps=1e-05, momentum=0.1, affine=True, track_running_stats=True)\n",
       "  (fc): Lambda()\n",
       ")"
      ]
     },
     "execution_count": 4,
     "metadata": {},
     "output_type": "execute_result"
    }
   ],
   "source": [
    "trained_model"
   ]
  },
  {
   "cell_type": "code",
   "execution_count": 5,
   "metadata": {},
   "outputs": [],
   "source": [
    "# ok. let's create a validation set data loader, making sure we can get back that validation accuracy from\n",
    "# `checkpoint`."
   ]
  },
  {
   "cell_type": "code",
   "execution_count": 6,
   "metadata": {},
   "outputs": [
    {
     "data": {
      "text/plain": [
       "dict_keys(['epoch', 'name', 'state_dict', 'best_prec1', 'prec1', 'prec5', 'optimizer'])"
      ]
     },
     "execution_count": 6,
     "metadata": {},
     "output_type": "execute_result"
    }
   ],
   "source": [
    "checkpoint.keys()"
   ]
  },
  {
   "cell_type": "code",
   "execution_count": 7,
   "metadata": {},
   "outputs": [
    {
     "data": {
      "text/plain": [
       "(92, 74.838, 74.838, 92.232)"
      ]
     },
     "execution_count": 7,
     "metadata": {},
     "output_type": "execute_result"
    }
   ],
   "source": [
    "checkpoint['epoch'], checkpoint['best_prec1'], checkpoint['prec1'], checkpoint['prec5']"
   ]
  },
  {
   "cell_type": "code",
   "execution_count": 8,
   "metadata": {},
   "outputs": [],
   "source": [
    "def get_val_loader():\n",
    "    valdir = join('/my_data_2/standard_datasets/ILSVRC2015/Data/CLS-LOC', 'val')\n",
    "    normalize = transforms.Normalize(mean=[0.485, 0.456, 0.406],\n",
    "                                     std=[0.229, 0.224, 0.225])\n",
    "\n",
    "    val_loader = torch.utils.data.DataLoader(\n",
    "        datasets.ImageFolder(valdir, transforms.Compose([\n",
    "            transforms.Resize(256),\n",
    "            transforms.CenterCrop(224),\n",
    "            transforms.ToTensor(),\n",
    "            normalize,\n",
    "        ])),\n",
    "        # this batch size should be safe regardless of network type (3CLS or 5CLS)\n",
    "        batch_size=100, shuffle=False)\n",
    "    return val_loader"
   ]
  },
  {
   "cell_type": "code",
   "execution_count": 9,
   "metadata": {},
   "outputs": [],
   "source": [
    "def validate(val_loader, model, crop_num = 1):\n",
    "    # switch to evaluate mode\n",
    "    model.eval()\n",
    "    \n",
    "    end = time.time()\n",
    "    with torch.no_grad():\n",
    "        for i, (input, target) in enumerate(val_loader):\n",
    "            input = input.cuda(non_blocking=True)\n",
    "            return model(input).cpu().numpy()"
   ]
  },
  {
   "cell_type": "code",
   "execution_count": 10,
   "metadata": {},
   "outputs": [],
   "source": [
    "# # deterministic setting.\n",
    "cudnn.benchmark = False\n",
    "cudnn.deterministic = True"
   ]
  },
  {
   "cell_type": "code",
   "execution_count": 11,
   "metadata": {
    "scrolled": false
   },
   "outputs": [],
   "source": [
    "# cool, even higher.\n",
    "trained_model.cuda()\n",
    "validate_data = validate(get_val_loader(), trained_model)\n",
    "\n",
    "np.save('check_pcn_loading_first100.npy', validate_data)"
   ]
  },
  {
   "cell_type": "code",
   "execution_count": 12,
   "metadata": {},
   "outputs": [
    {
     "name": "stdout",
     "output_type": "stream",
     "text": [
      "(100, 1000)\n"
     ]
    }
   ],
   "source": [
    "print(validate_data.shape)"
   ]
  }
 ],
 "metadata": {
  "kernelspec": {
   "display_name": "Python 3",
   "language": "python",
   "name": "python3"
  },
  "language_info": {
   "codemirror_mode": {
    "name": "ipython",
    "version": 3
   },
   "file_extension": ".py",
   "mimetype": "text/x-python",
   "name": "python",
   "nbconvert_exporter": "python",
   "pygments_lexer": "ipython3",
   "version": "3.7.6"
  }
 },
 "nbformat": 4,
 "nbformat_minor": 2
}
